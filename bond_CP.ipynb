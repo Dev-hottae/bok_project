{
 "cells": [
  {
   "cell_type": "markdown",
   "metadata": {},
   "source": [
    "# 채권 분석 보고서 크롤링"
   ]
  },
  {
   "cell_type": "code",
   "execution_count": null,
   "metadata": {
    "scrolled": true
   },
   "outputs": [],
   "source": [
    "# 채권 분석자료 Crawling\n",
    "\n",
    "import requests\n",
    "from bs4 import BeautifulSoup\n",
    "from tika import parser\n",
    "import pandas as pd\n",
    "from IPython.display import clear_output\n",
    "    \n",
    "start_page = 1\n",
    "current_page = start_page\n",
    "end_page = 126\n",
    "\n",
    "result_df = pd.DataFrame(columns=['date', 'text'])\n",
    "\n",
    "while True:\n",
    "    URL = 'https://finance.naver.com/research/debenture_list.nhn?&page={}'.format(current_page)\n",
    "    r = requests.get(URL)\n",
    "    sp = BeautifulSoup(r.text, 'html.parser')\n",
    "    results = sp.select('table.type_1 td.file')\n",
    "\n",
    "    for i, result in enumerate(results):\n",
    "        pdf_date = sp.select('table.type_1 td.date')[i*2].text\n",
    "        pdf_temp = requests.get(result.select_one('a').attrs['href'])\n",
    "\n",
    "        with open('bond.pdf', 'wb') as f:\n",
    "            f.write(pdf_temp.content)\n",
    "        \n",
    "        parsed = parser.from_file('bond.pdf')\n",
    "        temp_text = str(parsed['content']).strip()\n",
    "        temp_df = pd.DataFrame([{'date':pdf_date, 'text':temp_text}])\n",
    "        result_df = pd.concat([result_df, temp_df]) \n",
    "        \n",
    "    clear_output(wait=True)\n",
    "    print('크롤링 {}% 진행 중...'.format(int((current_page/end_page)*100)))\n",
    "        \n",
    "    if current_page == end_page:\n",
    "        clear_output(wait=True)\n",
    "        print('데이터 크롤링 완료 ! bond_datas.csv에서 확인 가능')\n",
    "        result_df.to_csv('bond_datas.csv')\n",
    "        break\n",
    "    current_page += 1"
   ]
  },
  {
   "cell_type": "code",
   "execution_count": null,
   "metadata": {
    "scrolled": true
   },
   "outputs": [],
   "source": [
    "# result_df['text'][0]"
   ]
  },
  {
   "cell_type": "markdown",
   "metadata": {},
   "source": [
    "# 데이터 전처리"
   ]
  },
  {
   "cell_type": "code",
   "execution_count": 1,
   "metadata": {},
   "outputs": [],
   "source": [
    "import pandas as pd\n",
    "bond_df = pd.read_csv('bond_datas.csv')\n",
    "bond_df = bond_df[['date', 'text']]"
   ]
  },
  {
   "cell_type": "markdown",
   "metadata": {},
   "source": [
    "# 전처리한 것\n",
    "------------------------\n",
    "### Header  \n",
    "Microsoft[^\\[\\!n\\]]* # Header 1  \n",
    ".*키움증권 리서치센터 투자전략팀 # Header 2 (추가확인필요)  \n",
    "\n",
    "------------------------\n",
    "### Footer  \n",
    "본사·서울시.* # Footer 1  \n",
    "성명 직급.* # Footer 2  \n",
    "\n",
    "------------------------\n",
    "### Notice  \n",
    "Compliance Notice # Notice  \n",
    "'(당사는)? ?(동|본) ?(조사|자료).*(없습니다|않습니다|됩니다|바랍니다)\\.? # Notice  \n",
    "\n",
    "------------------------\n",
    "### etc  \n",
    "\\<[^\\<\\>]*\\> # <>사이의 내용  \n",
    "그림 [0-9]{1,2}\\. # 그림  \n",
    "표 [0-9]{1,2}\\. # 표  \n",
    "월간채권투자  [0-9]{1,2}월. # page 나누는 기준  \n",
    "자료: [가-힣a-zA-Z, ]* ? # 자료 출처  \n",
    "[a-zA-Z0-9\\.]*\\@[a-zA-Z0-9\\.]* # 이메일  "
   ]
  },
  {
   "cell_type": "code",
   "execution_count": 3,
   "metadata": {},
   "outputs": [
    {
     "output_type": "execute_result",
     "data": {
      "text/plain": "            date                                               text\n0     2020-07-15  Microsoft Word - 2020071416393691.docx\\n\\n\\n \\...\n1     2020-07-15  2013년 0월 0일\\n\\n\\n \\n\\n \\n\\n \\n\\n \\n\\n \\n\\n \\n\\...\n2     2020-07-14  (Microsoft Word - 20200714_Market Inside_\\277\\...\n3     2020-07-13  Compliance Notice \\n\\n \\n\\n \\n\\n당사는 동 자료를 기관투...\n4     2020-07-10  Microsoft Word - 2020070919412559.docx\\n\\n\\n \\...\n...          ...                                                ...\n3747  2008-04-21  Microsoft Word - 920_0421_Fixed Income Weekly....\n3748  2008-04-14  Microsoft Word - Fixedincome0414.doc\\n\\n\\n \\n\\...\n3749  2008-04-07  Microsoft Word - 0407.doc\\n\\n\\nFixed Income We...\n3750  2008-04-07  Microsoft Word - 0407.doc\\n\\n\\nFixed Income We...\n3751  2008-04-01  ㅎㅎㅎ\\n\\n\\n2008_04  \\n\\n월간채권투자\\n\\n채 권 시 장 전 망\\n\\...\n\n[3752 rows x 2 columns]",
      "text/html": "<div>\n<style scoped>\n    .dataframe tbody tr th:only-of-type {\n        vertical-align: middle;\n    }\n\n    .dataframe tbody tr th {\n        vertical-align: top;\n    }\n\n    .dataframe thead th {\n        text-align: right;\n    }\n</style>\n<table border=\"1\" class=\"dataframe\">\n  <thead>\n    <tr style=\"text-align: right;\">\n      <th></th>\n      <th>date</th>\n      <th>text</th>\n    </tr>\n  </thead>\n  <tbody>\n    <tr>\n      <th>0</th>\n      <td>2020-07-15</td>\n      <td>Microsoft Word - 2020071416393691.docx\\n\\n\\n \\...</td>\n    </tr>\n    <tr>\n      <th>1</th>\n      <td>2020-07-15</td>\n      <td>2013년 0월 0일\\n\\n\\n \\n\\n \\n\\n \\n\\n \\n\\n \\n\\n \\n\\...</td>\n    </tr>\n    <tr>\n      <th>2</th>\n      <td>2020-07-14</td>\n      <td>(Microsoft Word - 20200714_Market Inside_\\277\\...</td>\n    </tr>\n    <tr>\n      <th>3</th>\n      <td>2020-07-13</td>\n      <td>Compliance Notice \\n\\n \\n\\n \\n\\n당사는 동 자료를 기관투...</td>\n    </tr>\n    <tr>\n      <th>4</th>\n      <td>2020-07-10</td>\n      <td>Microsoft Word - 2020070919412559.docx\\n\\n\\n \\...</td>\n    </tr>\n    <tr>\n      <th>...</th>\n      <td>...</td>\n      <td>...</td>\n    </tr>\n    <tr>\n      <th>3747</th>\n      <td>2008-04-21</td>\n      <td>Microsoft Word - 920_0421_Fixed Income Weekly....</td>\n    </tr>\n    <tr>\n      <th>3748</th>\n      <td>2008-04-14</td>\n      <td>Microsoft Word - Fixedincome0414.doc\\n\\n\\n \\n\\...</td>\n    </tr>\n    <tr>\n      <th>3749</th>\n      <td>2008-04-07</td>\n      <td>Microsoft Word - 0407.doc\\n\\n\\nFixed Income We...</td>\n    </tr>\n    <tr>\n      <th>3750</th>\n      <td>2008-04-07</td>\n      <td>Microsoft Word - 0407.doc\\n\\n\\nFixed Income We...</td>\n    </tr>\n    <tr>\n      <th>3751</th>\n      <td>2008-04-01</td>\n      <td>ㅎㅎㅎ\\n\\n\\n2008_04  \\n\\n월간채권투자\\n\\n채 권 시 장 전 망\\n\\...</td>\n    </tr>\n  </tbody>\n</table>\n<p>3752 rows × 2 columns</p>\n</div>"
     },
     "metadata": {},
     "execution_count": 3
    }
   ],
   "source": [
    "from datetime import date\n",
    "import datetime\n",
    "bond_df['date'] = list(map(lambda i : datetime.datetime.strptime(i, \"%y.%m.%d\").date(), bond_df['date']))\n",
    "\n",
    "bond_df"
   ]
  },
  {
   "cell_type": "code",
   "execution_count": 4,
   "metadata": {},
   "outputs": [],
   "source": [
    "import re\n",
    "\n",
    "def pp(x):\n",
    "    x = x.replace('\\n','[!n]')\n",
    "    x = re.sub('Microsoft[^\\[\\!n\\]]*', '', x) # Header 1\n",
    "    x = re.sub('.*키움증권 리서치센터 투자전략팀', '', x) # Header 2 (추가확인필요)\n",
    "    x = re.sub('본사·서울시.*', '', x) # Footer 1\n",
    "    x = re.sub('성명 직급.*', '', x) # Footer 2\n",
    "    x = re.sub('Compliance Notice', '', x) # Notice\n",
    "    x = re.sub('(당사는)? ?(동|본) ?(조사|자료).*(없습니다|않습니다|됩니다|바랍니다)\\.?', '', x) # Notice\n",
    "    x = re.sub('\\<[^\\<\\>]*\\>', '', x) # <>사이의 내용\n",
    "    x = re.sub('그림 [0-9]{1,2}\\.', '', x) # 그림\n",
    "    x = re.sub('표 [0-9]{1,2}\\.', '', x) # 표\n",
    "    x = re.sub('월간채권투자  [0-9]{1,2}월.', '', x) # page 나누는 기준\n",
    "    x = re.sub('자료: [가-힣a-zA-Z, ]* ?', '', x) # 자료 출처\n",
    "    x = re.sub('[a-zA-Z0-9\\.]*\\@[a-zA-Z0-9\\.]*', '', x) # 이메일\n",
    "    x = x.replace('[!n]', ' ')\n",
    "    return x\n",
    "\n",
    "bond_df['doc'] = list(map(pp, bond_df['text']))"
   ]
  },
  {
   "cell_type": "code",
   "execution_count": 5,
   "metadata": {},
   "outputs": [],
   "source": [
    "bond_df[bond_df['date'] < datetime.date(2018,1,1)].sort_values(by='date')[['date','doc']].to_json('bond_0517.json')\n",
    "bond_df[bond_df['date'] > datetime.date(2017,12,31)].sort_values(by='date')[['date','doc']].to_json('bond_1820.json')"
   ]
  }
 ],
 "metadata": {
  "kernelspec": {
   "display_name": "Python 3",
   "language": "python",
   "name": "python3"
  },
  "language_info": {
   "codemirror_mode": {
    "name": "ipython",
    "version": 3
   },
   "file_extension": ".py",
   "mimetype": "text/x-python",
   "name": "python",
   "nbconvert_exporter": "python",
   "pygments_lexer": "ipython3",
   "version": "3.7.6"
  }
 },
 "nbformat": 4,
 "nbformat_minor": 4
}