{
 "metadata": {
  "language_info": {
   "codemirror_mode": {
    "name": "ipython",
    "version": 3
   },
   "file_extension": ".py",
   "mimetype": "text/x-python",
   "name": "python",
   "nbconvert_exporter": "python",
   "pygments_lexer": "ipython3",
   "version": 3
  },
  "orig_nbformat": 2,
  "kernelspec": {
   "name": "python_defaultSpec_1596431340937",
   "display_name": "Python 3.7.6 64-bit ('base': conda)"
  }
 },
 "nbformat": 4,
 "nbformat_minor": 2,
 "cells": [
  {
   "cell_type": "code",
   "execution_count": 1,
   "metadata": {},
   "outputs": [],
   "source": [
    "import pandas as pd"
   ]
  },
  {
   "cell_type": "code",
   "execution_count": 3,
   "metadata": {},
   "outputs": [],
   "source": [
    "result = pd.read_json('sent_doc_call_corr.json')"
   ]
  },
  {
   "cell_type": "code",
   "execution_count": 8,
   "metadata": {},
   "outputs": [
    {
     "output_type": "execute_result",
     "data": {
      "text/plain": "     Date_Range  Rate_Limit      Corr\n108          23        0.04  0.482439\n113          24        0.04  0.477216\n107          23        0.03  0.456634\n126          27        0.02  0.451896\n3             2        0.04  0.450948\n..          ...         ...       ...\n25            7        0.01  0.016236\n40           10        0.01  0.010508\n20            6        0.01 -0.011344\n15            5        0.01 -0.016172\n50           12        0.01 -0.074774\n\n[145 rows x 3 columns]",
      "text/html": "<div>\n<style scoped>\n    .dataframe tbody tr th:only-of-type {\n        vertical-align: middle;\n    }\n\n    .dataframe tbody tr th {\n        vertical-align: top;\n    }\n\n    .dataframe thead th {\n        text-align: right;\n    }\n</style>\n<table border=\"1\" class=\"dataframe\">\n  <thead>\n    <tr style=\"text-align: right;\">\n      <th></th>\n      <th>Date_Range</th>\n      <th>Rate_Limit</th>\n      <th>Corr</th>\n    </tr>\n  </thead>\n  <tbody>\n    <tr>\n      <th>108</th>\n      <td>23</td>\n      <td>0.04</td>\n      <td>0.482439</td>\n    </tr>\n    <tr>\n      <th>113</th>\n      <td>24</td>\n      <td>0.04</td>\n      <td>0.477216</td>\n    </tr>\n    <tr>\n      <th>107</th>\n      <td>23</td>\n      <td>0.03</td>\n      <td>0.456634</td>\n    </tr>\n    <tr>\n      <th>126</th>\n      <td>27</td>\n      <td>0.02</td>\n      <td>0.451896</td>\n    </tr>\n    <tr>\n      <th>3</th>\n      <td>2</td>\n      <td>0.04</td>\n      <td>0.450948</td>\n    </tr>\n    <tr>\n      <th>...</th>\n      <td>...</td>\n      <td>...</td>\n      <td>...</td>\n    </tr>\n    <tr>\n      <th>25</th>\n      <td>7</td>\n      <td>0.01</td>\n      <td>0.016236</td>\n    </tr>\n    <tr>\n      <th>40</th>\n      <td>10</td>\n      <td>0.01</td>\n      <td>0.010508</td>\n    </tr>\n    <tr>\n      <th>20</th>\n      <td>6</td>\n      <td>0.01</td>\n      <td>-0.011344</td>\n    </tr>\n    <tr>\n      <th>15</th>\n      <td>5</td>\n      <td>0.01</td>\n      <td>-0.016172</td>\n    </tr>\n    <tr>\n      <th>50</th>\n      <td>12</td>\n      <td>0.01</td>\n      <td>-0.074774</td>\n    </tr>\n  </tbody>\n</table>\n<p>145 rows × 3 columns</p>\n</div>"
     },
     "metadata": {},
     "execution_count": 8
    }
   ],
   "source": [
    "result.sort_values(by = 'Corr', ascending=False)"
   ]
  },
  {
   "cell_type": "code",
   "execution_count": 15,
   "metadata": {},
   "outputs": [
    {
     "output_type": "execute_result",
     "data": {
      "text/plain": "     Date_Range  Rate_Limit      Corr\n0             2        0.01  0.180782\n1             2        0.02  0.270794\n2             2        0.03  0.324945\n3             2        0.04  0.450948\n4             2        0.05  0.375988\n..          ...         ...       ...\n140          30        0.01  0.217536\n141          30        0.02  0.256113\n142          30        0.03  0.308536\n143          30        0.04  0.360333\n144          30        0.05  0.378040\n\n[145 rows x 3 columns]",
      "text/html": "<div>\n<style scoped>\n    .dataframe tbody tr th:only-of-type {\n        vertical-align: middle;\n    }\n\n    .dataframe tbody tr th {\n        vertical-align: top;\n    }\n\n    .dataframe thead th {\n        text-align: right;\n    }\n</style>\n<table border=\"1\" class=\"dataframe\">\n  <thead>\n    <tr style=\"text-align: right;\">\n      <th></th>\n      <th>Date_Range</th>\n      <th>Rate_Limit</th>\n      <th>Corr</th>\n    </tr>\n  </thead>\n  <tbody>\n    <tr>\n      <th>0</th>\n      <td>2</td>\n      <td>0.01</td>\n      <td>0.180782</td>\n    </tr>\n    <tr>\n      <th>1</th>\n      <td>2</td>\n      <td>0.02</td>\n      <td>0.270794</td>\n    </tr>\n    <tr>\n      <th>2</th>\n      <td>2</td>\n      <td>0.03</td>\n      <td>0.324945</td>\n    </tr>\n    <tr>\n      <th>3</th>\n      <td>2</td>\n      <td>0.04</td>\n      <td>0.450948</td>\n    </tr>\n    <tr>\n      <th>4</th>\n      <td>2</td>\n      <td>0.05</td>\n      <td>0.375988</td>\n    </tr>\n    <tr>\n      <th>...</th>\n      <td>...</td>\n      <td>...</td>\n      <td>...</td>\n    </tr>\n    <tr>\n      <th>140</th>\n      <td>30</td>\n      <td>0.01</td>\n      <td>0.217536</td>\n    </tr>\n    <tr>\n      <th>141</th>\n      <td>30</td>\n      <td>0.02</td>\n      <td>0.256113</td>\n    </tr>\n    <tr>\n      <th>142</th>\n      <td>30</td>\n      <td>0.03</td>\n      <td>0.308536</td>\n    </tr>\n    <tr>\n      <th>143</th>\n      <td>30</td>\n      <td>0.04</td>\n      <td>0.360333</td>\n    </tr>\n    <tr>\n      <th>144</th>\n      <td>30</td>\n      <td>0.05</td>\n      <td>0.378040</td>\n    </tr>\n  </tbody>\n</table>\n<p>145 rows × 3 columns</p>\n</div>"
     },
     "metadata": {},
     "execution_count": 15
    }
   ],
   "source": [
    "result"
   ]
  },
  {
   "cell_type": "code",
   "execution_count": 14,
   "metadata": {},
   "outputs": [
    {
     "output_type": "execute_result",
     "data": {
      "text/plain": "              date                                              ngram\n0       2005-05-12  부진/NNG;글로벌/NNG;경기/NNG;둔화/NNG;우려/NNG,소비/NNG;설비/...\n1       2005-06-09  경상/NNG;수지/NNG;적자/NNG;재정/NNG;적자/NNG,국제/NNG;금융시장...\n2       2005-06-23                       대출/NNG;촉진/NNG,걸림돌/NNG,개선/NNG\n3       2005-07-07  자산/NNG;가격/NNG;상승/NNG;물가/NNG;상승/NNG,물가/NNG;안정/N...\n4       2005-08-11  부동산/NNG;가격/NNG;상승/NNG;금리/NNG;인상/NNG,국채/NNG;수익률...\n...            ...                                                ...\n284006  2017-12-31  수출/NNG;경쟁력/NNG;약화/NNG;우려/NNG,외환시장/NNG;개입/NNG;자...\n284007  2017-12-31                           주택담보대출/NNG;금리/NNG;최대/NNG\n284008  2017-12-31  가계/NNG;대출/NNG;상환/NNG;부담/NNG,gdp/NNG;성장률/NNG;하락...\n284009  2017-12-31  금융시장/NNG;변동성/NNG;크/VV,거시/NNG;건전성/NNG;강화/NNG,통화...\n284010  2017-12-31  fed/NNG;금리/NNG;인상/NNG,금리/NNG;인상/NNG;걸림돌/NNG,fe...\n\n[243973 rows x 2 columns]",
      "text/html": "<div>\n<style scoped>\n    .dataframe tbody tr th:only-of-type {\n        vertical-align: middle;\n    }\n\n    .dataframe tbody tr th {\n        vertical-align: top;\n    }\n\n    .dataframe thead th {\n        text-align: right;\n    }\n</style>\n<table border=\"1\" class=\"dataframe\">\n  <thead>\n    <tr style=\"text-align: right;\">\n      <th></th>\n      <th>date</th>\n      <th>ngram</th>\n    </tr>\n  </thead>\n  <tbody>\n    <tr>\n      <th>0</th>\n      <td>2005-05-12</td>\n      <td>부진/NNG;글로벌/NNG;경기/NNG;둔화/NNG;우려/NNG,소비/NNG;설비/...</td>\n    </tr>\n    <tr>\n      <th>1</th>\n      <td>2005-06-09</td>\n      <td>경상/NNG;수지/NNG;적자/NNG;재정/NNG;적자/NNG,국제/NNG;금융시장...</td>\n    </tr>\n    <tr>\n      <th>2</th>\n      <td>2005-06-23</td>\n      <td>대출/NNG;촉진/NNG,걸림돌/NNG,개선/NNG</td>\n    </tr>\n    <tr>\n      <th>3</th>\n      <td>2005-07-07</td>\n      <td>자산/NNG;가격/NNG;상승/NNG;물가/NNG;상승/NNG,물가/NNG;안정/N...</td>\n    </tr>\n    <tr>\n      <th>4</th>\n      <td>2005-08-11</td>\n      <td>부동산/NNG;가격/NNG;상승/NNG;금리/NNG;인상/NNG,국채/NNG;수익률...</td>\n    </tr>\n    <tr>\n      <th>...</th>\n      <td>...</td>\n      <td>...</td>\n    </tr>\n    <tr>\n      <th>284006</th>\n      <td>2017-12-31</td>\n      <td>수출/NNG;경쟁력/NNG;약화/NNG;우려/NNG,외환시장/NNG;개입/NNG;자...</td>\n    </tr>\n    <tr>\n      <th>284007</th>\n      <td>2017-12-31</td>\n      <td>주택담보대출/NNG;금리/NNG;최대/NNG</td>\n    </tr>\n    <tr>\n      <th>284008</th>\n      <td>2017-12-31</td>\n      <td>가계/NNG;대출/NNG;상환/NNG;부담/NNG,gdp/NNG;성장률/NNG;하락...</td>\n    </tr>\n    <tr>\n      <th>284009</th>\n      <td>2017-12-31</td>\n      <td>금융시장/NNG;변동성/NNG;크/VV,거시/NNG;건전성/NNG;강화/NNG,통화...</td>\n    </tr>\n    <tr>\n      <th>284010</th>\n      <td>2017-12-31</td>\n      <td>fed/NNG;금리/NNG;인상/NNG,금리/NNG;인상/NNG;걸림돌/NNG,fe...</td>\n    </tr>\n  </tbody>\n</table>\n<p>243973 rows × 2 columns</p>\n</div>"
     },
     "metadata": {},
     "execution_count": 14
    }
   ],
   "source": [
    "import datetime\n",
    "test = pd.read_json('testing/final_ngram_comma.json')\n",
    "test['date'] = list(map(lambda i: i.date(), test['date']))\n",
    "test[(test['date'] >= datetime.date(2005,5,1)) & (test['date'] <=datetime.date(2017,12,31))]"
   ]
  },
  {
   "cell_type": "code",
   "execution_count": 41,
   "metadata": {},
   "outputs": [],
   "source": [
    "train_data['ud'] = "
   ]
  },
  {
   "cell_type": "code",
   "execution_count": 34,
   "metadata": {},
   "outputs": [],
   "source": [
    "from testing import BOK\n",
    "call_datas = pd.read_json('testing/rate_data/call_raw.json')\n",
    "train_data = pd.read_json('testing/final_ngram_comma.json')\n",
    "# train_data['ud'] = "
   ]
  },
  {
   "cell_type": "code",
   "execution_count": 59,
   "metadata": {},
   "outputs": [],
   "source": [
    "# train_data.set_index('date',inplace=True)\n",
    "train_data['ud'] = BOK.rate_label(call_datas, 25, 0.02)['ud']"
   ]
  },
  {
   "cell_type": "code",
   "execution_count": 60,
   "metadata": {},
   "outputs": [],
   "source": [
    "train_data.reset_index().to_json('bok6.json')"
   ]
  },
  {
   "cell_type": "code",
   "execution_count": 64,
   "metadata": {},
   "outputs": [
    {
     "output_type": "execute_result",
     "data": {
      "text/plain": "                                                        ngram   ud\ndate                                                              \n2005-05-12  부진/NNG;글로벌/NNG;경기/NNG;둔화/NNG;우려/NNG,소비/NNG;설비/... -1.0\n2005-06-09  경상/NNG;수지/NNG;적자/NNG;재정/NNG;적자/NNG,국제/NNG;금융시장... -1.0\n2005-06-23                       대출/NNG;촉진/NNG,걸림돌/NNG,개선/NNG  0.0\n2005-07-07  자산/NNG;가격/NNG;상승/NNG;물가/NNG;상승/NNG,물가/NNG;안정/N...  1.0\n2005-08-11  부동산/NNG;가격/NNG;상승/NNG;금리/NNG;인상/NNG,국채/NNG;수익률...  0.0\n...                                                       ...  ...\n2020-07-15                                      실망/NNG,중단/NNG  NaN\n2020-07-15                               경기/NNG;침체/NNG,완화/NNG  NaN\n2020-07-15           코픽스/NNG;떨어/VV,돈/NNG;확보/NNG,하락/NNG,내림/NNG  NaN\n2020-07-15  저축성/NNG;예금/NNG;늘/VV,경기/NNG;악화/NNG,통화/NNG;급증/NN...  NaN\n2020-07-15                                      최대/NNG,충족/NNG  NaN\n\n[293111 rows x 2 columns]",
      "text/html": "<div>\n<style scoped>\n    .dataframe tbody tr th:only-of-type {\n        vertical-align: middle;\n    }\n\n    .dataframe tbody tr th {\n        vertical-align: top;\n    }\n\n    .dataframe thead th {\n        text-align: right;\n    }\n</style>\n<table border=\"1\" class=\"dataframe\">\n  <thead>\n    <tr style=\"text-align: right;\">\n      <th></th>\n      <th>ngram</th>\n      <th>ud</th>\n    </tr>\n    <tr>\n      <th>date</th>\n      <th></th>\n      <th></th>\n    </tr>\n  </thead>\n  <tbody>\n    <tr>\n      <th>2005-05-12</th>\n      <td>부진/NNG;글로벌/NNG;경기/NNG;둔화/NNG;우려/NNG,소비/NNG;설비/...</td>\n      <td>-1.0</td>\n    </tr>\n    <tr>\n      <th>2005-06-09</th>\n      <td>경상/NNG;수지/NNG;적자/NNG;재정/NNG;적자/NNG,국제/NNG;금융시장...</td>\n      <td>-1.0</td>\n    </tr>\n    <tr>\n      <th>2005-06-23</th>\n      <td>대출/NNG;촉진/NNG,걸림돌/NNG,개선/NNG</td>\n      <td>0.0</td>\n    </tr>\n    <tr>\n      <th>2005-07-07</th>\n      <td>자산/NNG;가격/NNG;상승/NNG;물가/NNG;상승/NNG,물가/NNG;안정/N...</td>\n      <td>1.0</td>\n    </tr>\n    <tr>\n      <th>2005-08-11</th>\n      <td>부동산/NNG;가격/NNG;상승/NNG;금리/NNG;인상/NNG,국채/NNG;수익률...</td>\n      <td>0.0</td>\n    </tr>\n    <tr>\n      <th>...</th>\n      <td>...</td>\n      <td>...</td>\n    </tr>\n    <tr>\n      <th>2020-07-15</th>\n      <td>실망/NNG,중단/NNG</td>\n      <td>NaN</td>\n    </tr>\n    <tr>\n      <th>2020-07-15</th>\n      <td>경기/NNG;침체/NNG,완화/NNG</td>\n      <td>NaN</td>\n    </tr>\n    <tr>\n      <th>2020-07-15</th>\n      <td>코픽스/NNG;떨어/VV,돈/NNG;확보/NNG,하락/NNG,내림/NNG</td>\n      <td>NaN</td>\n    </tr>\n    <tr>\n      <th>2020-07-15</th>\n      <td>저축성/NNG;예금/NNG;늘/VV,경기/NNG;악화/NNG,통화/NNG;급증/NN...</td>\n      <td>NaN</td>\n    </tr>\n    <tr>\n      <th>2020-07-15</th>\n      <td>최대/NNG,충족/NNG</td>\n      <td>NaN</td>\n    </tr>\n  </tbody>\n</table>\n<p>293111 rows × 2 columns</p>\n</div>"
     },
     "metadata": {},
     "execution_count": 64
    }
   ],
   "source": [
    "train_data[train_data['ud']==1]"
   ]
  },
  {
   "cell_type": "code",
   "execution_count": 67,
   "metadata": {},
   "outputs": [],
   "source": [
    "test_data = train_data.dropna()"
   ]
  },
  {
   "cell_type": "code",
   "execution_count": 68,
   "metadata": {},
   "outputs": [
    {
     "output_type": "execute_result",
     "data": {
      "text/plain": "                                                        ngram   ud\ndate                                                              \n2005-05-12  부진/NNG;글로벌/NNG;경기/NNG;둔화/NNG;우려/NNG,소비/NNG;설비/... -1.0\n2005-06-09  경상/NNG;수지/NNG;적자/NNG;재정/NNG;적자/NNG,국제/NNG;금융시장... -1.0\n2005-06-23                       대출/NNG;촉진/NNG,걸림돌/NNG,개선/NNG  0.0\n2005-07-07  자산/NNG;가격/NNG;상승/NNG;물가/NNG;상승/NNG,물가/NNG;안정/N...  1.0\n2005-08-11  부동산/NNG;가격/NNG;상승/NNG;금리/NNG;인상/NNG,국채/NNG;수익률...  0.0\n...                                                       ...  ...\n2020-07-03                                             성장/NNG -1.0\n2020-07-03  경제/NNG;성장률/NNG;플러스/NNG,금리/NNG;지준율/NNG;인하/NNG,대... -1.0\n2020-07-03  소비자/NNG;물가/NNG;상승/NNG,정치/NNG;압력/NNG,정치/NNG;압박/... -1.0\n2020-07-03  경제/NNG;성장률/NNG;플러스/NNG,금리/NNG;지준율/NNG;인하/NNG,대... -1.0\n2020-07-04  수출/NNG;활성화/NNG,소비/NNG;촉진/NNG,불안/NNG;해소/NNG,자금/... -1.0\n\n[292764 rows x 2 columns]",
      "text/html": "<div>\n<style scoped>\n    .dataframe tbody tr th:only-of-type {\n        vertical-align: middle;\n    }\n\n    .dataframe tbody tr th {\n        vertical-align: top;\n    }\n\n    .dataframe thead th {\n        text-align: right;\n    }\n</style>\n<table border=\"1\" class=\"dataframe\">\n  <thead>\n    <tr style=\"text-align: right;\">\n      <th></th>\n      <th>ngram</th>\n      <th>ud</th>\n    </tr>\n    <tr>\n      <th>date</th>\n      <th></th>\n      <th></th>\n    </tr>\n  </thead>\n  <tbody>\n    <tr>\n      <th>2005-05-12</th>\n      <td>부진/NNG;글로벌/NNG;경기/NNG;둔화/NNG;우려/NNG,소비/NNG;설비/...</td>\n      <td>-1.0</td>\n    </tr>\n    <tr>\n      <th>2005-06-09</th>\n      <td>경상/NNG;수지/NNG;적자/NNG;재정/NNG;적자/NNG,국제/NNG;금융시장...</td>\n      <td>-1.0</td>\n    </tr>\n    <tr>\n      <th>2005-06-23</th>\n      <td>대출/NNG;촉진/NNG,걸림돌/NNG,개선/NNG</td>\n      <td>0.0</td>\n    </tr>\n    <tr>\n      <th>2005-07-07</th>\n      <td>자산/NNG;가격/NNG;상승/NNG;물가/NNG;상승/NNG,물가/NNG;안정/N...</td>\n      <td>1.0</td>\n    </tr>\n    <tr>\n      <th>2005-08-11</th>\n      <td>부동산/NNG;가격/NNG;상승/NNG;금리/NNG;인상/NNG,국채/NNG;수익률...</td>\n      <td>0.0</td>\n    </tr>\n    <tr>\n      <th>...</th>\n      <td>...</td>\n      <td>...</td>\n    </tr>\n    <tr>\n      <th>2020-07-03</th>\n      <td>성장/NNG</td>\n      <td>-1.0</td>\n    </tr>\n    <tr>\n      <th>2020-07-03</th>\n      <td>경제/NNG;성장률/NNG;플러스/NNG,금리/NNG;지준율/NNG;인하/NNG,대...</td>\n      <td>-1.0</td>\n    </tr>\n    <tr>\n      <th>2020-07-03</th>\n      <td>소비자/NNG;물가/NNG;상승/NNG,정치/NNG;압력/NNG,정치/NNG;압박/...</td>\n      <td>-1.0</td>\n    </tr>\n    <tr>\n      <th>2020-07-03</th>\n      <td>경제/NNG;성장률/NNG;플러스/NNG,금리/NNG;지준율/NNG;인하/NNG,대...</td>\n      <td>-1.0</td>\n    </tr>\n    <tr>\n      <th>2020-07-04</th>\n      <td>수출/NNG;활성화/NNG,소비/NNG;촉진/NNG,불안/NNG;해소/NNG,자금/...</td>\n      <td>-1.0</td>\n    </tr>\n  </tbody>\n</table>\n<p>292764 rows × 2 columns</p>\n</div>"
     },
     "metadata": {},
     "execution_count": 68
    }
   ],
   "source": [
    "test_data"
   ]
  },
  {
   "cell_type": "code",
   "execution_count": 70,
   "metadata": {},
   "outputs": [],
   "source": [
    "call_datas = pd.read_json('testing/rate_data/labeled_cd_rate.json')"
   ]
  },
  {
   "cell_type": "code",
   "execution_count": 72,
   "metadata": {},
   "outputs": [
    {
     "output_type": "execute_result",
     "data": {
      "text/plain": "           date  rate  ud\n0    2005-04-01  3.54  -1\n1    2005-04-02  3.54  -1\n2    2005-04-03  3.54  -1\n3    2005-04-04  3.54  -1\n4    2005-04-05  3.54  -1\n...         ...   ...  ..\n5538 2020-05-30  0.81   0\n5539 2020-05-31  0.81   0\n5540 2020-06-01  0.81   0\n5541 2020-06-02  0.81   0\n5542 2020-06-03  0.81   0\n\n[5543 rows x 3 columns]",
      "text/html": "<div>\n<style scoped>\n    .dataframe tbody tr th:only-of-type {\n        vertical-align: middle;\n    }\n\n    .dataframe tbody tr th {\n        vertical-align: top;\n    }\n\n    .dataframe thead th {\n        text-align: right;\n    }\n</style>\n<table border=\"1\" class=\"dataframe\">\n  <thead>\n    <tr style=\"text-align: right;\">\n      <th></th>\n      <th>date</th>\n      <th>rate</th>\n      <th>ud</th>\n    </tr>\n  </thead>\n  <tbody>\n    <tr>\n      <th>0</th>\n      <td>2005-04-01</td>\n      <td>3.54</td>\n      <td>-1</td>\n    </tr>\n    <tr>\n      <th>1</th>\n      <td>2005-04-02</td>\n      <td>3.54</td>\n      <td>-1</td>\n    </tr>\n    <tr>\n      <th>2</th>\n      <td>2005-04-03</td>\n      <td>3.54</td>\n      <td>-1</td>\n    </tr>\n    <tr>\n      <th>3</th>\n      <td>2005-04-04</td>\n      <td>3.54</td>\n      <td>-1</td>\n    </tr>\n    <tr>\n      <th>4</th>\n      <td>2005-04-05</td>\n      <td>3.54</td>\n      <td>-1</td>\n    </tr>\n    <tr>\n      <th>...</th>\n      <td>...</td>\n      <td>...</td>\n      <td>...</td>\n    </tr>\n    <tr>\n      <th>5538</th>\n      <td>2020-05-30</td>\n      <td>0.81</td>\n      <td>0</td>\n    </tr>\n    <tr>\n      <th>5539</th>\n      <td>2020-05-31</td>\n      <td>0.81</td>\n      <td>0</td>\n    </tr>\n    <tr>\n      <th>5540</th>\n      <td>2020-06-01</td>\n      <td>0.81</td>\n      <td>0</td>\n    </tr>\n    <tr>\n      <th>5541</th>\n      <td>2020-06-02</td>\n      <td>0.81</td>\n      <td>0</td>\n    </tr>\n    <tr>\n      <th>5542</th>\n      <td>2020-06-03</td>\n      <td>0.81</td>\n      <td>0</td>\n    </tr>\n  </tbody>\n</table>\n<p>5543 rows × 3 columns</p>\n</div>"
     },
     "metadata": {},
     "execution_count": 72
    }
   ],
   "source": [
    "call_datas"
   ]
  },
  {
   "cell_type": "code",
   "execution_count": 74,
   "metadata": {},
   "outputs": [],
   "source": [
    "date_count = [i for i in range(-30,31) if i not in [-1,0,1]]"
   ]
  },
  {
   "cell_type": "code",
   "execution_count": 75,
   "metadata": {},
   "outputs": [
    {
     "output_type": "execute_result",
     "data": {
      "text/plain": "[-30,\n -29,\n -28,\n -27,\n -26,\n -25,\n -24,\n -23,\n -22,\n -21,\n -20,\n -19,\n -18,\n -17,\n -16,\n -15,\n -14,\n -13,\n -12,\n -11,\n -10,\n -9,\n -8,\n -7,\n -6,\n -5,\n -4,\n -3,\n -2,\n 2,\n 3,\n 4,\n 5,\n 6,\n 7,\n 8,\n 9,\n 10,\n 11,\n 12,\n 13,\n 14,\n 15,\n 16,\n 17,\n 18,\n 19,\n 20,\n 21,\n 22,\n 23,\n 24,\n 25,\n 26,\n 27,\n 28,\n 29,\n 30]"
     },
     "metadata": {},
     "execution_count": 75
    }
   ],
   "source": [
    "date_count"
   ]
  },
  {
   "cell_type": "code",
   "execution_count": 76,
   "metadata": {},
   "outputs": [
    {
     "output_type": "execute_result",
     "data": {
      "text/plain": "   Date_Range  Rate_Limit  doc_count      Corr\n0          -2        0.01        169  0.614729",
      "text/html": "<div>\n<style scoped>\n    .dataframe tbody tr th:only-of-type {\n        vertical-align: middle;\n    }\n\n    .dataframe tbody tr th {\n        vertical-align: top;\n    }\n\n    .dataframe thead th {\n        text-align: right;\n    }\n</style>\n<table border=\"1\" class=\"dataframe\">\n  <thead>\n    <tr style=\"text-align: right;\">\n      <th></th>\n      <th>Date_Range</th>\n      <th>Rate_Limit</th>\n      <th>doc_count</th>\n      <th>Corr</th>\n    </tr>\n  </thead>\n  <tbody>\n    <tr>\n      <th>0</th>\n      <td>-2</td>\n      <td>0.01</td>\n      <td>169</td>\n      <td>0.614729</td>\n    </tr>\n  </tbody>\n</table>\n</div>"
     },
     "metadata": {},
     "execution_count": 76
    }
   ],
   "source": [
    "pd.read_json('sent_doc_call_corr.json')"
   ]
  },
  {
   "cell_type": "code",
   "execution_count": null,
   "metadata": {},
   "outputs": [],
   "source": []
  }
 ]
}