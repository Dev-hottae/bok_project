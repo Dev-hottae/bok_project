{
 "metadata": {
  "language_info": {
   "codemirror_mode": {
    "name": "ipython",
    "version": 3
   },
   "file_extension": ".py",
   "mimetype": "text/x-python",
   "name": "python",
   "nbconvert_exporter": "python",
   "pygments_lexer": "ipython3",
   "version": 3
  },
  "orig_nbformat": 2,
  "kernelspec": {
   "name": "python_defaultSpec_1595979122940",
   "display_name": "Python 3.7.6 64-bit ('base': conda)"
  }
 },
 "nbformat": 4,
 "nbformat_minor": 2,
 "cells": [
  {
   "cell_type": "code",
   "execution_count": 2,
   "metadata": {},
   "outputs": [],
   "source": [
    "import pandas as pd"
   ]
  },
  {
   "cell_type": "code",
   "execution_count": 6,
   "metadata": {},
   "outputs": [],
   "source": [
    "datas = pd.read_json('ngram/datas/bond_0517dirty.json')"
   ]
  },
  {
   "cell_type": "code",
   "execution_count": 7,
   "metadata": {},
   "outputs": [
    {
     "output_type": "execute_result",
     "data": {
      "text/plain": "date    0\ndoc     0\ndtype: int64"
     },
     "metadata": {},
     "execution_count": 7
    }
   ],
   "source": [
    "datas.isnull().sum()"
   ]
  },
  {
   "cell_type": "code",
   "execution_count": 1,
   "metadata": {
    "tags": []
   },
   "outputs": [],
   "source": [
    "# Call Rate Crawling\n",
    "\n",
    "import requests\n",
    "from bs4 import BeautifulSoup\n",
    "import pandas as pd\n",
    "\n",
    "start_page = 1\n",
    "end_page = 544\n",
    "\n",
    "page_number = 1\n",
    "\n",
    "date_list = []\n",
    "rate_list = []\n",
    "\n",
    "while True:\n",
    "    URL = 'https://finance.naver.com/marketindex/interestDailyQuote.nhn?marketindexCd=IRR_CALL&page={}'.format(page_number)\n",
    "    r = requests.get(URL)\n",
    "    sp = BeautifulSoup(r.text,'html.parser')\n",
    "    results = sp.select('tr')[1:]\n",
    "    for result in results:\n",
    "        date_list.append(result.select_one('td.date').text.strip())\n",
    "        rate_list.append(result.select_one('td.num').text.strip())\n",
    "\n",
    "    page_number += 1\n",
    "    if page_number > end_page:\n",
    "        break\n",
    "\n",
    "call_df = pd.DataFrame(list(zip(date_list,rate_list)))"
   ]
  },
  {
   "cell_type": "code",
   "execution_count": null,
   "metadata": {},
   "outputs": [],
   "source": [
    "call_df.columns = ['date','rate']"
   ]
  },
  {
   "cell_type": "code",
   "execution_count": 61,
   "metadata": {},
   "outputs": [
    {
     "output_type": "execute_result",
     "data": {
      "text/plain": "            rate\ndate            \n2020-07-27  0.49\n2020-07-24  0.48\n2020-07-23  0.46\n2020-07-22  0.45\n2020-07-21  0.46\n...          ...\n2005-03-30  3.25\n2005-03-29  3.24\n2005-03-28  3.25\n2005-03-25  3.26\n2005-03-24  3.23\n\n[3808 rows x 1 columns]",
      "text/html": "<div>\n<style scoped>\n    .dataframe tbody tr th:only-of-type {\n        vertical-align: middle;\n    }\n\n    .dataframe tbody tr th {\n        vertical-align: top;\n    }\n\n    .dataframe thead th {\n        text-align: right;\n    }\n</style>\n<table border=\"1\" class=\"dataframe\">\n  <thead>\n    <tr style=\"text-align: right;\">\n      <th></th>\n      <th>rate</th>\n    </tr>\n    <tr>\n      <th>date</th>\n      <th></th>\n    </tr>\n  </thead>\n  <tbody>\n    <tr>\n      <th>2020-07-27</th>\n      <td>0.49</td>\n    </tr>\n    <tr>\n      <th>2020-07-24</th>\n      <td>0.48</td>\n    </tr>\n    <tr>\n      <th>2020-07-23</th>\n      <td>0.46</td>\n    </tr>\n    <tr>\n      <th>2020-07-22</th>\n      <td>0.45</td>\n    </tr>\n    <tr>\n      <th>2020-07-21</th>\n      <td>0.46</td>\n    </tr>\n    <tr>\n      <th>...</th>\n      <td>...</td>\n    </tr>\n    <tr>\n      <th>2005-03-30</th>\n      <td>3.25</td>\n    </tr>\n    <tr>\n      <th>2005-03-29</th>\n      <td>3.24</td>\n    </tr>\n    <tr>\n      <th>2005-03-28</th>\n      <td>3.25</td>\n    </tr>\n    <tr>\n      <th>2005-03-25</th>\n      <td>3.26</td>\n    </tr>\n    <tr>\n      <th>2005-03-24</th>\n      <td>3.23</td>\n    </tr>\n  </tbody>\n</table>\n<p>3808 rows × 1 columns</p>\n</div>"
     },
     "metadata": {},
     "execution_count": 61
    }
   ],
   "source": [
    "call_df"
   ]
  },
  {
   "cell_type": "code",
   "execution_count": 7,
   "metadata": {},
   "outputs": [],
   "source": [
    "import datetime"
   ]
  },
  {
   "cell_type": "code",
   "execution_count": 9,
   "metadata": {},
   "outputs": [],
   "source": [
    "call_df['date'] = list(map(lambda i : datetime.datetime.strptime(i, '%Y.%m.%d'), list(call_df['date'])))"
   ]
  },
  {
   "cell_type": "code",
   "execution_count": 11,
   "metadata": {
    "tags": []
   },
   "outputs": [
    {
     "output_type": "stream",
     "name": "stdout",
     "text": "2005-03-24 00:00:00 2020-07-27 00:00:00\n"
    }
   ],
   "source": [
    "start_date = call_df['date'][len(call_df)-1]\n",
    "end_date = call_df['date'][0]\n",
    "\n",
    "print(start_date, end_date)\n"
   ]
  },
  {
   "cell_type": "code",
   "execution_count": 16,
   "metadata": {},
   "outputs": [
    {
     "output_type": "execute_result",
     "data": {
      "text/plain": "5604"
     },
     "metadata": {},
     "execution_count": 16
    }
   ],
   "source": []
  },
  {
   "cell_type": "code",
   "execution_count": 64,
   "metadata": {},
   "outputs": [
    {
     "output_type": "execute_result",
     "data": {
      "text/plain": "            rate\ndate            \n2020-07-27  0.49\n2020-07-24  0.48\n2020-07-23  0.46\n2020-07-22  0.45\n2020-07-21  0.46\n...          ...\n2005-03-30  3.25\n2005-03-29  3.24\n2005-03-28  3.25\n2005-03-25  3.26\n2005-03-24  3.23\n\n[3808 rows x 1 columns]",
      "text/html": "<div>\n<style scoped>\n    .dataframe tbody tr th:only-of-type {\n        vertical-align: middle;\n    }\n\n    .dataframe tbody tr th {\n        vertical-align: top;\n    }\n\n    .dataframe thead th {\n        text-align: right;\n    }\n</style>\n<table border=\"1\" class=\"dataframe\">\n  <thead>\n    <tr style=\"text-align: right;\">\n      <th></th>\n      <th>rate</th>\n    </tr>\n    <tr>\n      <th>date</th>\n      <th></th>\n    </tr>\n  </thead>\n  <tbody>\n    <tr>\n      <th>2020-07-27</th>\n      <td>0.49</td>\n    </tr>\n    <tr>\n      <th>2020-07-24</th>\n      <td>0.48</td>\n    </tr>\n    <tr>\n      <th>2020-07-23</th>\n      <td>0.46</td>\n    </tr>\n    <tr>\n      <th>2020-07-22</th>\n      <td>0.45</td>\n    </tr>\n    <tr>\n      <th>2020-07-21</th>\n      <td>0.46</td>\n    </tr>\n    <tr>\n      <th>...</th>\n      <td>...</td>\n    </tr>\n    <tr>\n      <th>2005-03-30</th>\n      <td>3.25</td>\n    </tr>\n    <tr>\n      <th>2005-03-29</th>\n      <td>3.24</td>\n    </tr>\n    <tr>\n      <th>2005-03-28</th>\n      <td>3.25</td>\n    </tr>\n    <tr>\n      <th>2005-03-25</th>\n      <td>3.26</td>\n    </tr>\n    <tr>\n      <th>2005-03-24</th>\n      <td>3.23</td>\n    </tr>\n  </tbody>\n</table>\n<p>3808 rows × 1 columns</p>\n</div>"
     },
     "metadata": {},
     "execution_count": 64
    }
   ],
   "source": [
    "call_df"
   ]
  },
  {
   "cell_type": "code",
   "execution_count": 62,
   "metadata": {},
   "outputs": [],
   "source": [
    "day_range = (end_date - start_date).days\n",
    "\n",
    "temp = []\n",
    "for i in range(day_range):\n",
    "    temp.append((start_date + datetime.timedelta(i)).date())\n",
    "\n",
    "call_final = pd.DataFrame(temp, columns = ['date'])"
   ]
  },
  {
   "cell_type": "code",
   "execution_count": 76,
   "metadata": {},
   "outputs": [],
   "source": [
    "call_rate = call_final.set_index('date')\n",
    "call_rate['rate'] = call_df.rate\n"
   ]
  },
  {
   "cell_type": "code",
   "execution_count": 80,
   "metadata": {},
   "outputs": [],
   "source": [
    "call_final = call_rate.sort_values(by='date').fillna(method='pad')"
   ]
  },
  {
   "cell_type": "code",
   "execution_count": 84,
   "metadata": {},
   "outputs": [],
   "source": [
    "call_final.to_json('ngram/target/call_raw.json')"
   ]
  },
  {
   "cell_type": "code",
   "execution_count": 184,
   "metadata": {},
   "outputs": [],
   "source": [
    "# 금리 데이터 기간, rate limit 별로 저장\n",
    "\n",
    "import pandas as pd\n",
    "import datetime\n",
    "\n",
    "datas = pd.read_json('ngram/target/call_raw.json')\n",
    "\n",
    "date_count = 30\n",
    "rate_limit = 0.03\n",
    "\n",
    "temp = []\n",
    "for i in range(len(datas)-date_count):\n",
    "    rate_change = float(datas['rate'][i+date_count]) - float(datas['rate'][i])\n",
    "    if rate_change >= rate_limit:\n",
    "        temp.append('up')\n",
    "    elif rate_change <= -rate_limit:\n",
    "        temp.append('down')\n",
    "    else:\n",
    "        temp.append(0)\n",
    "\n",
    "temp\n",
    "new_data = datas.iloc[:-date_count]\n",
    "new_data['ud'] = temp\n",
    "new_data.reset_index(inplace=True)\n",
    "new_data.columns = ['date', 'rate', 'ud']\n",
    "new_data['date'] = list(map(lambda i : i.date(), new_data['date']))\n",
    "new_data.to_json('ngram/target/call_{}_{}.json'.format(str(date_count), str(rate_limit)))"
   ]
  },
  {
   "cell_type": "code",
   "execution_count": 154,
   "metadata": {},
   "outputs": [
    {
     "output_type": "execute_result",
     "data": {
      "text/plain": "            date  rate    ud\n40    2005-05-03  3.30  down\n43    2005-05-06  3.27  down\n44    2005-05-07  3.27  down\n45    2005-05-08  3.27  down\n47    2005-05-10  3.30  down\n...          ...   ...   ...\n5559  2020-06-12  0.46    up\n5560  2020-06-13  0.46    up\n5563  2020-06-16  0.46    up\n5567  2020-06-20  0.46  down\n5573  2020-06-26  0.50  down\n\n[2838 rows x 3 columns]",
      "text/html": "<div>\n<style scoped>\n    .dataframe tbody tr th:only-of-type {\n        vertical-align: middle;\n    }\n\n    .dataframe tbody tr th {\n        vertical-align: top;\n    }\n\n    .dataframe thead th {\n        text-align: right;\n    }\n</style>\n<table border=\"1\" class=\"dataframe\">\n  <thead>\n    <tr style=\"text-align: right;\">\n      <th></th>\n      <th>date</th>\n      <th>rate</th>\n      <th>ud</th>\n    </tr>\n  </thead>\n  <tbody>\n    <tr>\n      <th>40</th>\n      <td>2005-05-03</td>\n      <td>3.30</td>\n      <td>down</td>\n    </tr>\n    <tr>\n      <th>43</th>\n      <td>2005-05-06</td>\n      <td>3.27</td>\n      <td>down</td>\n    </tr>\n    <tr>\n      <th>44</th>\n      <td>2005-05-07</td>\n      <td>3.27</td>\n      <td>down</td>\n    </tr>\n    <tr>\n      <th>45</th>\n      <td>2005-05-08</td>\n      <td>3.27</td>\n      <td>down</td>\n    </tr>\n    <tr>\n      <th>47</th>\n      <td>2005-05-10</td>\n      <td>3.30</td>\n      <td>down</td>\n    </tr>\n    <tr>\n      <th>...</th>\n      <td>...</td>\n      <td>...</td>\n      <td>...</td>\n    </tr>\n    <tr>\n      <th>5559</th>\n      <td>2020-06-12</td>\n      <td>0.46</td>\n      <td>up</td>\n    </tr>\n    <tr>\n      <th>5560</th>\n      <td>2020-06-13</td>\n      <td>0.46</td>\n      <td>up</td>\n    </tr>\n    <tr>\n      <th>5563</th>\n      <td>2020-06-16</td>\n      <td>0.46</td>\n      <td>up</td>\n    </tr>\n    <tr>\n      <th>5567</th>\n      <td>2020-06-20</td>\n      <td>0.46</td>\n      <td>down</td>\n    </tr>\n    <tr>\n      <th>5573</th>\n      <td>2020-06-26</td>\n      <td>0.50</td>\n      <td>down</td>\n    </tr>\n  </tbody>\n</table>\n<p>2838 rows × 3 columns</p>\n</div>"
     },
     "metadata": {},
     "execution_count": 154
    }
   ],
   "source": [
    "# Read\n",
    "date_count = 30\n",
    "rate_limit = 0.02\n",
    "call_data = pd.read_json('ngram/target/call_{}_{}.json'.format(str(date_count), str(rate_limit)))"
   ]
  },
  {
   "cell_type": "code",
   "execution_count": null,
   "metadata": {},
   "outputs": [],
   "source": [
    "call_date[(call_data['date'] >= datetime.date(2005,5,1))&(call_data['ud']!=0)]"
   ]
  },
  {
   "cell_type": "code",
   "execution_count": 182,
   "metadata": {},
   "outputs": [],
   "source": [
    "ngram_df = pd.read_json('total_ngram.json')\n",
    "ngram_df['date'] = list(map(lambda i : i.date(), ngram_df['date']))"
   ]
  },
  {
   "cell_type": "code",
   "execution_count": 187,
   "metadata": {},
   "outputs": [],
   "source": [
    "rate_df = pd.read_json('ngram/target/call_30_0.03.json')\n",
    "rate_df['date'] = list(map(lambda i : i.date(), rate_df['date']))"
   ]
  },
  {
   "cell_type": "code",
   "execution_count": 188,
   "metadata": {},
   "outputs": [],
   "source": [
    "ngram_df.set_index('date')"
   ]
  },
  {
   "cell_type": "code",
   "execution_count": 190,
   "metadata": {},
   "outputs": [],
   "source": [
    "ngram_df.set_index('date', inplace=True)"
   ]
  },
  {
   "cell_type": "code",
   "execution_count": 194,
   "metadata": {},
   "outputs": [],
   "source": [
    "ngram_df['ud'] = rate_df.set_index('date')['ud']"
   ]
  },
  {
   "cell_type": "code",
   "execution_count": 195,
   "metadata": {},
   "outputs": [],
   "source": [
    "ngram_df = ngram_df[['ngram','ud']]"
   ]
  },
  {
   "cell_type": "code",
   "execution_count": 207,
   "metadata": {},
   "outputs": [
    {
     "output_type": "execute_result",
     "data": {
      "text/plain": "Empty DataFrame\nColumns: [date, rate, ud]\nIndex: []",
      "text/html": "<div>\n<style scoped>\n    .dataframe tbody tr th:only-of-type {\n        vertical-align: middle;\n    }\n\n    .dataframe tbody tr th {\n        vertical-align: top;\n    }\n\n    .dataframe thead th {\n        text-align: right;\n    }\n</style>\n<table border=\"1\" class=\"dataframe\">\n  <thead>\n    <tr style=\"text-align: right;\">\n      <th></th>\n      <th>date</th>\n      <th>rate</th>\n      <th>ud</th>\n    </tr>\n  </thead>\n  <tbody>\n  </tbody>\n</table>\n</div>"
     },
     "metadata": {},
     "execution_count": 207
    }
   ],
   "source": [
    "rate_df[rate_df['date'] == datetime.date(2020,7,15)]"
   ]
  },
  {
   "cell_type": "code",
   "execution_count": 212,
   "metadata": {},
   "outputs": [
    {
     "output_type": "execute_result",
     "data": {
      "text/plain": "range(305072, 0)"
     },
     "metadata": {},
     "execution_count": 212
    }
   ],
   "source": [
    "range(len(ngram_df)-1, 0)"
   ]
  },
  {
   "cell_type": "code",
   "execution_count": 213,
   "metadata": {},
   "outputs": [],
   "source": [
    "ngram_df.reset_index(inplace=True)"
   ]
  },
  {
   "cell_type": "code",
   "execution_count": 214,
   "metadata": {},
   "outputs": [
    {
     "output_type": "execute_result",
     "data": {
      "text/plain": "              date                                              ngram    ud\n0       2005-05-12  [부진/NNG;글로벌/NNG;경기/NNG;둔화/NNG;우려/NNG, 소비/NNG;설...     0\n1       2005-06-09  [경상/NNG;수지/NNG;적자/NNG;재정/NNG;적자/NNG, 국제/NNG;금융...  down\n2       2005-06-23                   [대출/NNG;촉진/NNG, 걸림돌/NNG, 개선/NNG]     0\n3       2005-07-07  [자산/NNG;가격/NNG;상승/NNG;물가/NNG;상승/NNG, 물가/NNG;안정...    up\n4       2005-08-11  [부동산/NNG;가격/NNG;상승/NNG;금리/NNG;인상/NNG, 국채/NNG;수...     0\n...            ...                                                ...   ...\n305068  2020-07-15                            [경기/NNG;침체/NNG, 완화/NNG]   NaN\n305069  2020-07-15      [코픽스/NNG;떨어/VV, 돈/NNG;확보/NNG, 하락/NNG, 내림/NNG]   NaN\n305070  2020-07-15  [저축성/NNG;예금/NNG;늘/VV, 경기/NNG;악화/NNG, 통화/NNG;급증...   NaN\n305071  2020-07-15                                   [최대/NNG, 충족/NNG]   NaN\n305072  2020-07-15                                                 []   NaN\n\n[305073 rows x 3 columns]",
      "text/html": "<div>\n<style scoped>\n    .dataframe tbody tr th:only-of-type {\n        vertical-align: middle;\n    }\n\n    .dataframe tbody tr th {\n        vertical-align: top;\n    }\n\n    .dataframe thead th {\n        text-align: right;\n    }\n</style>\n<table border=\"1\" class=\"dataframe\">\n  <thead>\n    <tr style=\"text-align: right;\">\n      <th></th>\n      <th>date</th>\n      <th>ngram</th>\n      <th>ud</th>\n    </tr>\n  </thead>\n  <tbody>\n    <tr>\n      <th>0</th>\n      <td>2005-05-12</td>\n      <td>[부진/NNG;글로벌/NNG;경기/NNG;둔화/NNG;우려/NNG, 소비/NNG;설...</td>\n      <td>0</td>\n    </tr>\n    <tr>\n      <th>1</th>\n      <td>2005-06-09</td>\n      <td>[경상/NNG;수지/NNG;적자/NNG;재정/NNG;적자/NNG, 국제/NNG;금융...</td>\n      <td>down</td>\n    </tr>\n    <tr>\n      <th>2</th>\n      <td>2005-06-23</td>\n      <td>[대출/NNG;촉진/NNG, 걸림돌/NNG, 개선/NNG]</td>\n      <td>0</td>\n    </tr>\n    <tr>\n      <th>3</th>\n      <td>2005-07-07</td>\n      <td>[자산/NNG;가격/NNG;상승/NNG;물가/NNG;상승/NNG, 물가/NNG;안정...</td>\n      <td>up</td>\n    </tr>\n    <tr>\n      <th>4</th>\n      <td>2005-08-11</td>\n      <td>[부동산/NNG;가격/NNG;상승/NNG;금리/NNG;인상/NNG, 국채/NNG;수...</td>\n      <td>0</td>\n    </tr>\n    <tr>\n      <th>...</th>\n      <td>...</td>\n      <td>...</td>\n      <td>...</td>\n    </tr>\n    <tr>\n      <th>305068</th>\n      <td>2020-07-15</td>\n      <td>[경기/NNG;침체/NNG, 완화/NNG]</td>\n      <td>NaN</td>\n    </tr>\n    <tr>\n      <th>305069</th>\n      <td>2020-07-15</td>\n      <td>[코픽스/NNG;떨어/VV, 돈/NNG;확보/NNG, 하락/NNG, 내림/NNG]</td>\n      <td>NaN</td>\n    </tr>\n    <tr>\n      <th>305070</th>\n      <td>2020-07-15</td>\n      <td>[저축성/NNG;예금/NNG;늘/VV, 경기/NNG;악화/NNG, 통화/NNG;급증...</td>\n      <td>NaN</td>\n    </tr>\n    <tr>\n      <th>305071</th>\n      <td>2020-07-15</td>\n      <td>[최대/NNG, 충족/NNG]</td>\n      <td>NaN</td>\n    </tr>\n    <tr>\n      <th>305072</th>\n      <td>2020-07-15</td>\n      <td>[]</td>\n      <td>NaN</td>\n    </tr>\n  </tbody>\n</table>\n<p>305073 rows × 3 columns</p>\n</div>"
     },
     "metadata": {},
     "execution_count": 214
    }
   ],
   "source": [
    "ngram_df"
   ]
  },
  {
   "cell_type": "code",
   "execution_count": 221,
   "metadata": {},
   "outputs": [
    {
     "output_type": "execute_result",
     "data": {
      "text/plain": "              date                                              ngram    ud\n0       2005-05-12  [부진/NNG;글로벌/NNG;경기/NNG;둔화/NNG;우려/NNG, 소비/NNG;설...     0\n1       2005-06-09  [경상/NNG;수지/NNG;적자/NNG;재정/NNG;적자/NNG, 국제/NNG;금융...  down\n2       2005-06-23                   [대출/NNG;촉진/NNG, 걸림돌/NNG, 개선/NNG]     0\n3       2005-07-07  [자산/NNG;가격/NNG;상승/NNG;물가/NNG;상승/NNG, 물가/NNG;안정...    up\n4       2005-08-11  [부동산/NNG;가격/NNG;상승/NNG;금리/NNG;인상/NNG, 국채/NNG;수...     0\n...            ...                                                ...   ...\n305067  2020-07-15                                   [실망/NNG, 중단/NNG]   NaN\n305068  2020-07-15                            [경기/NNG;침체/NNG, 완화/NNG]   NaN\n305069  2020-07-15      [코픽스/NNG;떨어/VV, 돈/NNG;확보/NNG, 하락/NNG, 내림/NNG]   NaN\n305070  2020-07-15  [저축성/NNG;예금/NNG;늘/VV, 경기/NNG;악화/NNG, 통화/NNG;급증...   NaN\n305071  2020-07-15                                   [최대/NNG, 충족/NNG]   NaN\n\n[293111 rows x 3 columns]",
      "text/html": "<div>\n<style scoped>\n    .dataframe tbody tr th:only-of-type {\n        vertical-align: middle;\n    }\n\n    .dataframe tbody tr th {\n        vertical-align: top;\n    }\n\n    .dataframe thead th {\n        text-align: right;\n    }\n</style>\n<table border=\"1\" class=\"dataframe\">\n  <thead>\n    <tr style=\"text-align: right;\">\n      <th></th>\n      <th>date</th>\n      <th>ngram</th>\n      <th>ud</th>\n    </tr>\n  </thead>\n  <tbody>\n    <tr>\n      <th>0</th>\n      <td>2005-05-12</td>\n      <td>[부진/NNG;글로벌/NNG;경기/NNG;둔화/NNG;우려/NNG, 소비/NNG;설...</td>\n      <td>0</td>\n    </tr>\n    <tr>\n      <th>1</th>\n      <td>2005-06-09</td>\n      <td>[경상/NNG;수지/NNG;적자/NNG;재정/NNG;적자/NNG, 국제/NNG;금융...</td>\n      <td>down</td>\n    </tr>\n    <tr>\n      <th>2</th>\n      <td>2005-06-23</td>\n      <td>[대출/NNG;촉진/NNG, 걸림돌/NNG, 개선/NNG]</td>\n      <td>0</td>\n    </tr>\n    <tr>\n      <th>3</th>\n      <td>2005-07-07</td>\n      <td>[자산/NNG;가격/NNG;상승/NNG;물가/NNG;상승/NNG, 물가/NNG;안정...</td>\n      <td>up</td>\n    </tr>\n    <tr>\n      <th>4</th>\n      <td>2005-08-11</td>\n      <td>[부동산/NNG;가격/NNG;상승/NNG;금리/NNG;인상/NNG, 국채/NNG;수...</td>\n      <td>0</td>\n    </tr>\n    <tr>\n      <th>...</th>\n      <td>...</td>\n      <td>...</td>\n      <td>...</td>\n    </tr>\n    <tr>\n      <th>305067</th>\n      <td>2020-07-15</td>\n      <td>[실망/NNG, 중단/NNG]</td>\n      <td>NaN</td>\n    </tr>\n    <tr>\n      <th>305068</th>\n      <td>2020-07-15</td>\n      <td>[경기/NNG;침체/NNG, 완화/NNG]</td>\n      <td>NaN</td>\n    </tr>\n    <tr>\n      <th>305069</th>\n      <td>2020-07-15</td>\n      <td>[코픽스/NNG;떨어/VV, 돈/NNG;확보/NNG, 하락/NNG, 내림/NNG]</td>\n      <td>NaN</td>\n    </tr>\n    <tr>\n      <th>305070</th>\n      <td>2020-07-15</td>\n      <td>[저축성/NNG;예금/NNG;늘/VV, 경기/NNG;악화/NNG, 통화/NNG;급증...</td>\n      <td>NaN</td>\n    </tr>\n    <tr>\n      <th>305071</th>\n      <td>2020-07-15</td>\n      <td>[최대/NNG, 충족/NNG]</td>\n      <td>NaN</td>\n    </tr>\n  </tbody>\n</table>\n<p>293111 rows × 3 columns</p>\n</div>"
     },
     "metadata": {},
     "execution_count": 221
    }
   ],
   "source": [
    "for i in range(len(ngram_df)):\n",
    "    if ngram_df['ngram'][i] == []:\n",
    "        ngram_df.drop(i, axis=0, inplace=True)\n",
    "ngram_df"
   ]
  },
  {
   "cell_type": "code",
   "execution_count": 223,
   "metadata": {},
   "outputs": [],
   "source": [
    "ngram_df.dropna(inplace=True)"
   ]
  },
  {
   "cell_type": "code",
   "execution_count": 225,
   "metadata": {},
   "outputs": [],
   "source": [
    "ngram_df.reset_index()[['date', 'ngram', 'ud']].to_json('train_data.json')"
   ]
  },
  {
   "cell_type": "code",
   "execution_count": 227,
   "metadata": {},
   "outputs": [
    {
     "output_type": "execute_result",
     "data": {
      "text/plain": "              date                                              ngram    ud\n0       2005-05-12  [부진/NNG;글로벌/NNG;경기/NNG;둔화/NNG;우려/NNG, 소비/NNG;설...     0\n1       2005-06-09  [경상/NNG;수지/NNG;적자/NNG;재정/NNG;적자/NNG, 국제/NNG;금융...  down\n2       2005-06-23                   [대출/NNG;촉진/NNG, 걸림돌/NNG, 개선/NNG]     0\n3       2005-07-07  [자산/NNG;가격/NNG;상승/NNG;물가/NNG;상승/NNG, 물가/NNG;안정...    up\n4       2005-08-11  [부동산/NNG;가격/NNG;상승/NNG;금리/NNG;인상/NNG, 국채/NNG;수...     0\n...            ...                                                ...   ...\n304964  2020-06-26            [매출/NNG;감소/NNG, 피해/NNG, 최대/NNG, 개선/NNG]     0\n304965  2020-06-26  [경기/NNG;판단/NNG;상승/NNG, 경기/NNG;전망/NNG;하락/NNG, 전...     0\n304966  2020-06-26  [소비자/NNG;심리/NNG;긍정적/VAX, 지표/NNG;낮/VA, 하락/NNG, ...     0\n304967  2020-06-26  [주택가격/NNG;전망/NNG;상승/NNG, 취업기회/NNG;전망/NNG;오르/VV...     0\n304968  2020-06-26  [자산/NNG;가격/NNG;하락/NNG, 지수/NNG;저점/NNG;상승/NNG, 경...     0\n\n[292544 rows x 3 columns]",
      "text/html": "<div>\n<style scoped>\n    .dataframe tbody tr th:only-of-type {\n        vertical-align: middle;\n    }\n\n    .dataframe tbody tr th {\n        vertical-align: top;\n    }\n\n    .dataframe thead th {\n        text-align: right;\n    }\n</style>\n<table border=\"1\" class=\"dataframe\">\n  <thead>\n    <tr style=\"text-align: right;\">\n      <th></th>\n      <th>date</th>\n      <th>ngram</th>\n      <th>ud</th>\n    </tr>\n  </thead>\n  <tbody>\n    <tr>\n      <th>0</th>\n      <td>2005-05-12</td>\n      <td>[부진/NNG;글로벌/NNG;경기/NNG;둔화/NNG;우려/NNG, 소비/NNG;설...</td>\n      <td>0</td>\n    </tr>\n    <tr>\n      <th>1</th>\n      <td>2005-06-09</td>\n      <td>[경상/NNG;수지/NNG;적자/NNG;재정/NNG;적자/NNG, 국제/NNG;금융...</td>\n      <td>down</td>\n    </tr>\n    <tr>\n      <th>2</th>\n      <td>2005-06-23</td>\n      <td>[대출/NNG;촉진/NNG, 걸림돌/NNG, 개선/NNG]</td>\n      <td>0</td>\n    </tr>\n    <tr>\n      <th>3</th>\n      <td>2005-07-07</td>\n      <td>[자산/NNG;가격/NNG;상승/NNG;물가/NNG;상승/NNG, 물가/NNG;안정...</td>\n      <td>up</td>\n    </tr>\n    <tr>\n      <th>4</th>\n      <td>2005-08-11</td>\n      <td>[부동산/NNG;가격/NNG;상승/NNG;금리/NNG;인상/NNG, 국채/NNG;수...</td>\n      <td>0</td>\n    </tr>\n    <tr>\n      <th>...</th>\n      <td>...</td>\n      <td>...</td>\n      <td>...</td>\n    </tr>\n    <tr>\n      <th>304964</th>\n      <td>2020-06-26</td>\n      <td>[매출/NNG;감소/NNG, 피해/NNG, 최대/NNG, 개선/NNG]</td>\n      <td>0</td>\n    </tr>\n    <tr>\n      <th>304965</th>\n      <td>2020-06-26</td>\n      <td>[경기/NNG;판단/NNG;상승/NNG, 경기/NNG;전망/NNG;하락/NNG, 전...</td>\n      <td>0</td>\n    </tr>\n    <tr>\n      <th>304966</th>\n      <td>2020-06-26</td>\n      <td>[소비자/NNG;심리/NNG;긍정적/VAX, 지표/NNG;낮/VA, 하락/NNG, ...</td>\n      <td>0</td>\n    </tr>\n    <tr>\n      <th>304967</th>\n      <td>2020-06-26</td>\n      <td>[주택가격/NNG;전망/NNG;상승/NNG, 취업기회/NNG;전망/NNG;오르/VV...</td>\n      <td>0</td>\n    </tr>\n    <tr>\n      <th>304968</th>\n      <td>2020-06-26</td>\n      <td>[자산/NNG;가격/NNG;하락/NNG, 지수/NNG;저점/NNG;상승/NNG, 경...</td>\n      <td>0</td>\n    </tr>\n  </tbody>\n</table>\n<p>292544 rows × 3 columns</p>\n</div>"
     },
     "metadata": {},
     "execution_count": 227
    }
   ],
   "source": [
    "ngram_df"
   ]
  },
  {
   "cell_type": "code",
   "execution_count": 197,
   "metadata": {},
   "outputs": [
    {
     "output_type": "execute_result",
     "data": {
      "text/plain": "ngram      0\nud       603\ndtype: int64"
     },
     "metadata": {},
     "execution_count": 197
    }
   ],
   "source": [
    "ngram_df.isnull().sum()"
   ]
  },
  {
   "cell_type": "code",
   "execution_count": null,
   "metadata": {},
   "outputs": [],
   "source": []
  }
 ]
}