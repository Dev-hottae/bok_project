{
 "cells": [
  {
   "cell_type": "markdown",
   "metadata": {},
   "source": [
    "# 금리 데이터 크롤링, Raw Data 추출"
   ]
  },
  {
   "cell_type": "code",
   "execution_count": 14,
   "metadata": {
    "tags": []
   },
   "outputs": [],
   "source": [
    "# Call Rate Crawling\n",
    "\n",
    "import requests\n",
    "from bs4 import BeautifulSoup\n",
    "import pandas as pd\n",
    "\n",
    "start_page = 1\n",
    "end_page = 544\n",
    "\n",
    "page_number = 1\n",
    "\n",
    "date_list = []\n",
    "rate_list = []\n",
    "\n",
    "while True:\n",
    "    URL = 'https://finance.naver.com/marketindex/interestDailyQuote.nhn?marketindexCd=IRR_CALL&page={}'.format(page_number)\n",
    "    r = requests.get(URL)\n",
    "    sp = BeautifulSoup(r.text,'html.parser')\n",
    "    results = sp.select('tr')[1:]\n",
    "    for result in results:\n",
    "        date_list.append(result.select_one('td.date').text.strip())\n",
    "        rate_list.append(result.select_one('td.num').text.strip())\n",
    "\n",
    "    page_number += 1\n",
    "    if page_number > end_page:\n",
    "        break\n",
    "\n",
    "call_df = pd.DataFrame(list(zip(date_list,rate_list)))"
   ]
  },
  {
   "cell_type": "code",
   "execution_count": 15,
   "metadata": {},
   "outputs": [],
   "source": [
    "call_df.columns = ['date','rate']"
   ]
  },
  {
   "cell_type": "code",
   "execution_count": 16,
   "metadata": {},
   "outputs": [
    {
     "output_type": "execute_result",
     "data": {
      "text/plain": "            date  rate\n0     2020.07.30  0.49\n1     2020.07.29  0.48\n2     2020.07.28  0.47\n3     2020.07.27  0.49\n4     2020.07.24  0.48\n...          ...   ...\n3803  2005.04.04  3.24\n3804  2005.04.01  3.25\n3805  2005.03.31  3.26\n3806  2005.03.30  3.25\n3807  2005.03.29  3.24\n\n[3808 rows x 2 columns]",
      "text/html": "<div>\n<style scoped>\n    .dataframe tbody tr th:only-of-type {\n        vertical-align: middle;\n    }\n\n    .dataframe tbody tr th {\n        vertical-align: top;\n    }\n\n    .dataframe thead th {\n        text-align: right;\n    }\n</style>\n<table border=\"1\" class=\"dataframe\">\n  <thead>\n    <tr style=\"text-align: right;\">\n      <th></th>\n      <th>date</th>\n      <th>rate</th>\n    </tr>\n  </thead>\n  <tbody>\n    <tr>\n      <th>0</th>\n      <td>2020.07.30</td>\n      <td>0.49</td>\n    </tr>\n    <tr>\n      <th>1</th>\n      <td>2020.07.29</td>\n      <td>0.48</td>\n    </tr>\n    <tr>\n      <th>2</th>\n      <td>2020.07.28</td>\n      <td>0.47</td>\n    </tr>\n    <tr>\n      <th>3</th>\n      <td>2020.07.27</td>\n      <td>0.49</td>\n    </tr>\n    <tr>\n      <th>4</th>\n      <td>2020.07.24</td>\n      <td>0.48</td>\n    </tr>\n    <tr>\n      <th>...</th>\n      <td>...</td>\n      <td>...</td>\n    </tr>\n    <tr>\n      <th>3803</th>\n      <td>2005.04.04</td>\n      <td>3.24</td>\n    </tr>\n    <tr>\n      <th>3804</th>\n      <td>2005.04.01</td>\n      <td>3.25</td>\n    </tr>\n    <tr>\n      <th>3805</th>\n      <td>2005.03.31</td>\n      <td>3.26</td>\n    </tr>\n    <tr>\n      <th>3806</th>\n      <td>2005.03.30</td>\n      <td>3.25</td>\n    </tr>\n    <tr>\n      <th>3807</th>\n      <td>2005.03.29</td>\n      <td>3.24</td>\n    </tr>\n  </tbody>\n</table>\n<p>3808 rows × 2 columns</p>\n</div>"
     },
     "metadata": {},
     "execution_count": 16
    }
   ],
   "source": [
    "call_df"
   ]
  },
  {
   "cell_type": "code",
   "execution_count": 17,
   "metadata": {},
   "outputs": [],
   "source": [
    "import datetime"
   ]
  },
  {
   "cell_type": "code",
   "execution_count": 18,
   "metadata": {},
   "outputs": [],
   "source": [
    "call_df['date'] = list(map(lambda i : datetime.datetime.strptime(i, '%Y.%m.%d'), list(call_df['date'])))"
   ]
  },
  {
   "cell_type": "code",
   "execution_count": 33,
   "metadata": {},
   "outputs": [
    {
     "output_type": "execute_result",
     "data": {
      "text/plain": "           date  rate\n0    2020-07-30  0.49\n1    2020-07-29  0.48\n2    2020-07-28  0.47\n3    2020-07-27  0.49\n4    2020-07-24  0.48\n...         ...   ...\n3803 2005-04-04  3.24\n3804 2005-04-01  3.25\n3805 2005-03-31  3.26\n3806 2005-03-30  3.25\n3807 2005-03-29  3.24\n\n[3808 rows x 2 columns]",
      "text/html": "<div>\n<style scoped>\n    .dataframe tbody tr th:only-of-type {\n        vertical-align: middle;\n    }\n\n    .dataframe tbody tr th {\n        vertical-align: top;\n    }\n\n    .dataframe thead th {\n        text-align: right;\n    }\n</style>\n<table border=\"1\" class=\"dataframe\">\n  <thead>\n    <tr style=\"text-align: right;\">\n      <th></th>\n      <th>date</th>\n      <th>rate</th>\n    </tr>\n  </thead>\n  <tbody>\n    <tr>\n      <th>0</th>\n      <td>2020-07-30</td>\n      <td>0.49</td>\n    </tr>\n    <tr>\n      <th>1</th>\n      <td>2020-07-29</td>\n      <td>0.48</td>\n    </tr>\n    <tr>\n      <th>2</th>\n      <td>2020-07-28</td>\n      <td>0.47</td>\n    </tr>\n    <tr>\n      <th>3</th>\n      <td>2020-07-27</td>\n      <td>0.49</td>\n    </tr>\n    <tr>\n      <th>4</th>\n      <td>2020-07-24</td>\n      <td>0.48</td>\n    </tr>\n    <tr>\n      <th>...</th>\n      <td>...</td>\n      <td>...</td>\n    </tr>\n    <tr>\n      <th>3803</th>\n      <td>2005-04-04</td>\n      <td>3.24</td>\n    </tr>\n    <tr>\n      <th>3804</th>\n      <td>2005-04-01</td>\n      <td>3.25</td>\n    </tr>\n    <tr>\n      <th>3805</th>\n      <td>2005-03-31</td>\n      <td>3.26</td>\n    </tr>\n    <tr>\n      <th>3806</th>\n      <td>2005-03-30</td>\n      <td>3.25</td>\n    </tr>\n    <tr>\n      <th>3807</th>\n      <td>2005-03-29</td>\n      <td>3.24</td>\n    </tr>\n  </tbody>\n</table>\n<p>3808 rows × 2 columns</p>\n</div>"
     },
     "metadata": {},
     "execution_count": 33
    }
   ],
   "source": [
    "call_df"
   ]
  },
  {
   "cell_type": "code",
   "execution_count": 21,
   "metadata": {},
   "outputs": [],
   "source": [
    "start_date = call_df['date'][len(call_df)-1]\n",
    "end_date = call_df['date'][0]\n",
    "\n",
    "print(start_date, end_date)\n",
    "\n",
    "day_range = (end_date - start_date).days\n",
    "\n",
    "temp = []\n",
    "for i in range(day_range):\n",
    "    temp.append((start_date + datetime.timedelta(i)).date())\n",
    "\n",
    "call_final = pd.DataFrame(temp, columns = ['date']).set_index('date', inplace = True)"
   ]
  },
  {
   "cell_type": "code",
   "execution_count": 42,
   "metadata": {},
   "outputs": [],
   "source": [
    "call_final['rate'] = call_df.set_index('date').rate"
   ]
  },
  {
   "cell_type": "code",
   "execution_count": 46,
   "metadata": {},
   "outputs": [],
   "source": [
    "call_final.fillna(method='pad', inplace=True)"
   ]
  },
  {
   "cell_type": "code",
   "execution_count": 48,
   "metadata": {},
   "outputs": [],
   "source": [
    "call_final.to_json('call_raw.json')"
   ]
  },
  {
   "cell_type": "markdown",
   "metadata": {},
   "source": [
    "## Ngram 빈 리스트 처리 (For문은 느림)"
   ]
  },
  {
   "cell_type": "code",
   "execution_count": 221,
   "metadata": {},
   "outputs": [
    {
     "data": {
      "text/html": [
       "<div>\n",
       "<style scoped>\n",
       "    .dataframe tbody tr th:only-of-type {\n",
       "        vertical-align: middle;\n",
       "    }\n",
       "\n",
       "    .dataframe tbody tr th {\n",
       "        vertical-align: top;\n",
       "    }\n",
       "\n",
       "    .dataframe thead th {\n",
       "        text-align: right;\n",
       "    }\n",
       "</style>\n",
       "<table border=\"1\" class=\"dataframe\">\n",
       "  <thead>\n",
       "    <tr style=\"text-align: right;\">\n",
       "      <th></th>\n",
       "      <th>date</th>\n",
       "      <th>ngram</th>\n",
       "      <th>ud</th>\n",
       "    </tr>\n",
       "  </thead>\n",
       "  <tbody>\n",
       "    <tr>\n",
       "      <th>0</th>\n",
       "      <td>2005-05-12</td>\n",
       "      <td>[부진/NNG;글로벌/NNG;경기/NNG;둔화/NNG;우려/NNG, 소비/NNG;설...</td>\n",
       "      <td>0</td>\n",
       "    </tr>\n",
       "    <tr>\n",
       "      <th>1</th>\n",
       "      <td>2005-06-09</td>\n",
       "      <td>[경상/NNG;수지/NNG;적자/NNG;재정/NNG;적자/NNG, 국제/NNG;금융...</td>\n",
       "      <td>down</td>\n",
       "    </tr>\n",
       "    <tr>\n",
       "      <th>2</th>\n",
       "      <td>2005-06-23</td>\n",
       "      <td>[대출/NNG;촉진/NNG, 걸림돌/NNG, 개선/NNG]</td>\n",
       "      <td>0</td>\n",
       "    </tr>\n",
       "    <tr>\n",
       "      <th>3</th>\n",
       "      <td>2005-07-07</td>\n",
       "      <td>[자산/NNG;가격/NNG;상승/NNG;물가/NNG;상승/NNG, 물가/NNG;안정...</td>\n",
       "      <td>up</td>\n",
       "    </tr>\n",
       "    <tr>\n",
       "      <th>4</th>\n",
       "      <td>2005-08-11</td>\n",
       "      <td>[부동산/NNG;가격/NNG;상승/NNG;금리/NNG;인상/NNG, 국채/NNG;수...</td>\n",
       "      <td>0</td>\n",
       "    </tr>\n",
       "    <tr>\n",
       "      <th>...</th>\n",
       "      <td>...</td>\n",
       "      <td>...</td>\n",
       "      <td>...</td>\n",
       "    </tr>\n",
       "    <tr>\n",
       "      <th>305067</th>\n",
       "      <td>2020-07-15</td>\n",
       "      <td>[실망/NNG, 중단/NNG]</td>\n",
       "      <td>NaN</td>\n",
       "    </tr>\n",
       "    <tr>\n",
       "      <th>305068</th>\n",
       "      <td>2020-07-15</td>\n",
       "      <td>[경기/NNG;침체/NNG, 완화/NNG]</td>\n",
       "      <td>NaN</td>\n",
       "    </tr>\n",
       "    <tr>\n",
       "      <th>305069</th>\n",
       "      <td>2020-07-15</td>\n",
       "      <td>[코픽스/NNG;떨어/VV, 돈/NNG;확보/NNG, 하락/NNG, 내림/NNG]</td>\n",
       "      <td>NaN</td>\n",
       "    </tr>\n",
       "    <tr>\n",
       "      <th>305070</th>\n",
       "      <td>2020-07-15</td>\n",
       "      <td>[저축성/NNG;예금/NNG;늘/VV, 경기/NNG;악화/NNG, 통화/NNG;급증...</td>\n",
       "      <td>NaN</td>\n",
       "    </tr>\n",
       "    <tr>\n",
       "      <th>305071</th>\n",
       "      <td>2020-07-15</td>\n",
       "      <td>[최대/NNG, 충족/NNG]</td>\n",
       "      <td>NaN</td>\n",
       "    </tr>\n",
       "  </tbody>\n",
       "</table>\n",
       "<p>293111 rows × 3 columns</p>\n",
       "</div>"
      ],
      "text/plain": [
       "              date                                              ngram    ud\n",
       "0       2005-05-12  [부진/NNG;글로벌/NNG;경기/NNG;둔화/NNG;우려/NNG, 소비/NNG;설...     0\n",
       "1       2005-06-09  [경상/NNG;수지/NNG;적자/NNG;재정/NNG;적자/NNG, 국제/NNG;금융...  down\n",
       "2       2005-06-23                   [대출/NNG;촉진/NNG, 걸림돌/NNG, 개선/NNG]     0\n",
       "3       2005-07-07  [자산/NNG;가격/NNG;상승/NNG;물가/NNG;상승/NNG, 물가/NNG;안정...    up\n",
       "4       2005-08-11  [부동산/NNG;가격/NNG;상승/NNG;금리/NNG;인상/NNG, 국채/NNG;수...     0\n",
       "...            ...                                                ...   ...\n",
       "305067  2020-07-15                                   [실망/NNG, 중단/NNG]   NaN\n",
       "305068  2020-07-15                            [경기/NNG;침체/NNG, 완화/NNG]   NaN\n",
       "305069  2020-07-15      [코픽스/NNG;떨어/VV, 돈/NNG;확보/NNG, 하락/NNG, 내림/NNG]   NaN\n",
       "305070  2020-07-15  [저축성/NNG;예금/NNG;늘/VV, 경기/NNG;악화/NNG, 통화/NNG;급증...   NaN\n",
       "305071  2020-07-15                                   [최대/NNG, 충족/NNG]   NaN\n",
       "\n",
       "[293111 rows x 3 columns]"
      ]
     },
     "execution_count": 221,
     "metadata": {},
     "output_type": "execute_result"
    }
   ],
   "source": [
    "#최초 Ngram에서 빈 리스트 제거\n",
    "for i in range(len(ngram_df)):\n",
    "    if ngram_df['ngram'][i] == []:\n",
    "        ngram_df.drop(i, axis=0, inplace=True)\n",
    "ngram_df"
   ]
  },
  {
   "cell_type": "markdown",
   "metadata": {},
   "source": [
    "# Ngram 전처리"
   ]
  },
  {
   "cell_type": "code",
   "execution_count": 1,
   "metadata": {},
   "outputs": [],
   "source": [
    "import pandas as pd\n",
    "train_df = pd.read_json('train_data.json')\n",
    "train_df['date'] = list(map(lambda i : i.date(), train_df['date']))"
   ]
  },
  {
   "cell_type": "code",
   "execution_count": 2,
   "metadata": {},
   "outputs": [
    {
     "data": {
      "text/plain": [
       "0         [부진/NNG;글로벌/NNG;경기/NNG;둔화/NNG;우려/NNG, 소비/NNG;설...\n",
       "1         [경상/NNG;수지/NNG;적자/NNG;재정/NNG;적자/NNG, 국제/NNG;금융...\n",
       "2                          [대출/NNG;촉진/NNG, 걸림돌/NNG, 개선/NNG]\n",
       "3         [자산/NNG;가격/NNG;상승/NNG;물가/NNG;상승/NNG, 물가/NNG;안정...\n",
       "4         [부동산/NNG;가격/NNG;상승/NNG;금리/NNG;인상/NNG, 국채/NNG;수...\n",
       "                                ...                        \n",
       "292539              [매출/NNG;감소/NNG, 피해/NNG, 최대/NNG, 개선/NNG]\n",
       "292540    [경기/NNG;판단/NNG;상승/NNG, 경기/NNG;전망/NNG;하락/NNG, 전...\n",
       "292541    [소비자/NNG;심리/NNG;긍정적/VAX, 지표/NNG;낮/VA, 하락/NNG, ...\n",
       "292542    [주택가격/NNG;전망/NNG;상승/NNG, 취업기회/NNG;전망/NNG;오르/VV...\n",
       "292543    [자산/NNG;가격/NNG;하락/NNG, 지수/NNG;저점/NNG;상승/NNG, 경...\n",
       "Name: ngram, Length: 292544, dtype: object"
      ]
     },
     "execution_count": 2,
     "metadata": {},
     "output_type": "execute_result"
    }
   ],
   "source": [
    "train_df['ngram']"
   ]
  },
  {
   "cell_type": "code",
   "execution_count": 3,
   "metadata": {},
   "outputs": [
    {
     "data": {
      "text/plain": [
       "date     0\n",
       "ngram    0\n",
       "ud       0\n",
       "dtype: int64"
      ]
     },
     "execution_count": 3,
     "metadata": {},
     "output_type": "execute_result"
    }
   ],
   "source": [
    "train_df.isnull().sum()"
   ]
  },
  {
   "cell_type": "code",
   "execution_count": 4,
   "metadata": {},
   "outputs": [],
   "source": [
    "import itertools\n",
    "total_ngram = list(itertools.chain(*list(train_df['ngram'])))"
   ]
  },
  {
   "cell_type": "code",
   "execution_count": 5,
   "metadata": {},
   "outputs": [
    {
     "data": {
      "text/plain": [
       "3197735"
      ]
     },
     "execution_count": 5,
     "metadata": {},
     "output_type": "execute_result"
    }
   ],
   "source": [
    "len(total_ngram)"
   ]
  },
  {
   "cell_type": "code",
   "execution_count": 6,
   "metadata": {},
   "outputs": [],
   "source": [
    "ngram_feature = set(total_ngram)"
   ]
  },
  {
   "cell_type": "code",
   "execution_count": 7,
   "metadata": {},
   "outputs": [
    {
     "data": {
      "text/plain": [
       "65447"
      ]
     },
     "execution_count": 7,
     "metadata": {},
     "output_type": "execute_result"
    }
   ],
   "source": [
    "len(ngram_feature)"
   ]
  },
  {
   "cell_type": "code",
   "execution_count": 8,
   "metadata": {},
   "outputs": [],
   "source": [
    "counts = []\n",
    "for nf in ngram_feature:\n",
    "    counts.append(total_ngram.count(nf))\n",
    "\n",
    "ngram_count = pd.DataFrame(list(zip(ngram_feature, counts)), columns = ['ngram', 'count'])"
   ]
  },
  {
   "cell_type": "code",
   "execution_count": 11,
   "metadata": {},
   "outputs": [],
   "source": [
    "ngram_count.to_json('ngram_count.json')"
   ]
  },
  {
   "cell_type": "code",
   "execution_count": 10,
   "metadata": {},
   "outputs": [
    {
     "data": {
      "text/html": [
       "<div>\n",
       "<style scoped>\n",
       "    .dataframe tbody tr th:only-of-type {\n",
       "        vertical-align: middle;\n",
       "    }\n",
       "\n",
       "    .dataframe tbody tr th {\n",
       "        vertical-align: top;\n",
       "    }\n",
       "\n",
       "    .dataframe thead th {\n",
       "        text-align: right;\n",
       "    }\n",
       "</style>\n",
       "<table border=\"1\" class=\"dataframe\">\n",
       "  <thead>\n",
       "    <tr style=\"text-align: right;\">\n",
       "      <th></th>\n",
       "      <th>ngram</th>\n",
       "      <th>count</th>\n",
       "    </tr>\n",
       "  </thead>\n",
       "  <tbody>\n",
       "    <tr>\n",
       "      <th>1</th>\n",
       "      <td>우려/NNG;시장/NNG;경계/NNG</td>\n",
       "      <td>7</td>\n",
       "    </tr>\n",
       "    <tr>\n",
       "      <th>2</th>\n",
       "      <td>부동산/NNG;가격/NNG;잡/VV;금리/NNG;인상/NNG</td>\n",
       "      <td>3</td>\n",
       "    </tr>\n",
       "    <tr>\n",
       "      <th>4</th>\n",
       "      <td>헤알/NNG;환율/NNG;떨어/VV</td>\n",
       "      <td>10</td>\n",
       "    </tr>\n",
       "    <tr>\n",
       "      <th>7</th>\n",
       "      <td>기대/NNG;방어/NNG</td>\n",
       "      <td>4</td>\n",
       "    </tr>\n",
       "    <tr>\n",
       "      <th>10</th>\n",
       "      <td>gdp/NNG;성장률/NNG;시장/NNG;예상/NNG;하회/NNG</td>\n",
       "      <td>4</td>\n",
       "    </tr>\n",
       "    <tr>\n",
       "      <th>...</th>\n",
       "      <td>...</td>\n",
       "      <td>...</td>\n",
       "    </tr>\n",
       "    <tr>\n",
       "      <th>65434</th>\n",
       "      <td>소비/NNG;더디/VA;회복/NNG</td>\n",
       "      <td>7</td>\n",
       "    </tr>\n",
       "    <tr>\n",
       "      <th>65437</th>\n",
       "      <td>정책/NNG;확보/NNG</td>\n",
       "      <td>8</td>\n",
       "    </tr>\n",
       "    <tr>\n",
       "      <th>65440</th>\n",
       "      <td>지급불능/NNG;위험/NNG</td>\n",
       "      <td>12</td>\n",
       "    </tr>\n",
       "    <tr>\n",
       "      <th>65444</th>\n",
       "      <td>기업/NNG;많/VA;반대/NNG</td>\n",
       "      <td>1</td>\n",
       "    </tr>\n",
       "    <tr>\n",
       "      <th>65446</th>\n",
       "      <td>은행/NNG;cds/NNG;상승/NNG</td>\n",
       "      <td>7</td>\n",
       "    </tr>\n",
       "  </tbody>\n",
       "</table>\n",
       "<p>39704 rows × 2 columns</p>\n",
       "</div>"
      ],
      "text/plain": [
       "                                      ngram  count\n",
       "1                      우려/NNG;시장/NNG;경계/NNG      7\n",
       "2         부동산/NNG;가격/NNG;잡/VV;금리/NNG;인상/NNG      3\n",
       "4                       헤알/NNG;환율/NNG;떨어/VV     10\n",
       "7                             기대/NNG;방어/NNG      4\n",
       "10     gdp/NNG;성장률/NNG;시장/NNG;예상/NNG;하회/NNG      4\n",
       "...                                     ...    ...\n",
       "65434                   소비/NNG;더디/VA;회복/NNG      7\n",
       "65437                         정책/NNG;확보/NNG      8\n",
       "65440                       지급불능/NNG;위험/NNG     12\n",
       "65444                    기업/NNG;많/VA;반대/NNG      1\n",
       "65446                 은행/NNG;cds/NNG;상승/NNG      7\n",
       "\n",
       "[39704 rows x 2 columns]"
      ]
     },
     "execution_count": 10,
     "metadata": {},
     "output_type": "execute_result"
    }
   ],
   "source": [
    "ngram_count[ngram_count['count']<=15]"
   ]
  },
  {
   "cell_type": "markdown",
   "metadata": {},
   "source": [
    "# -------- NLTK 쓰기 전 Ngram 카운팅 했던 것 (소요시간 1시간 30분)"
   ]
  },
  {
   "cell_type": "code",
   "execution_count": 74,
   "metadata": {},
   "outputs": [],
   "source": [
    "import pandas as pd\n",
    "import numpy as np\n",
    "import itertools\n",
    "import nltk\n",
    "\n",
    "# 데이터프레임은 인덱스에 단어, 칼럼에 타겟\n",
    "\n",
    "# input - split된 단어 list\n",
    "class NBC():\n",
    "    \n",
    "    df = pd.DataFrame([])\n",
    "    k = 0.5\n",
    "\n",
    "    def __init__(self, **kwargs):\n",
    "        try:\n",
    "            self.k = kwargs['k']\n",
    "        except:\n",
    "            pass\n",
    "    \n",
    "    def add_data(self, datas):\n",
    "        target_ls = list(set(datas['ud']))\n",
    "        words = {}\n",
    "\n",
    "        total_ngram = list(itertools.chain(*list(train_df['ngram'])))\n",
    "        unique_ngram = list(set(total_ngram))\n",
    "\n",
    "        result_df = pd.DataFrame(unique_ngram, columns = ['ngram']).set_index('ngram')\n",
    "\n",
    "        for target in target_ls:\n",
    "            this_ngram = list(itertools.chain(*list(datas[datas['ud'] == target]['ngram'])))\n",
    "            fdist = nltk.FreqDist(this_ngram)\n",
    "            temp_df = pd.DataFrame(list(zip(fdist.keys(), fdist.values())), columns= ['ngram', 'count']).set_index('ngram')\n",
    "            result_df[target] = temp_df['count']\n",
    "\n",
    "        self.df = result_df\n",
    "        return self.df\n",
    "\n",
    "    def pol_score(self, target, s):\n",
    "        df = self.df\n",
    "        k = self.k\n",
    "\n",
    "        totals = {}\n",
    "        for i in df:\n",
    "            totals[i] = df[i].sum()\n",
    "        \n",
    "        tokens = s.split()\n",
    "        total = np.asarray(list(totals.values())).sum()\n",
    "\n",
    "        logs = {}\n",
    "        for i in df:            \n",
    "            logs[i] = np.log(float(totals[i]) / float(total))\n",
    "        \n",
    "        for token in tokens:\n",
    "            for t in df:\n",
    "                logs[t] += np.log( (k + df[t][token]) / (2*k +totals[t]) )\n",
    "\n",
    "        bunmo = 0\n",
    "        for log in logs:\n",
    "            bunmo += np.exp(logs[log])\n",
    "        bunja = np.exp(logs[target])\n",
    "        return bunja / bunmo"
   ]
  },
  {
   "cell_type": "code",
   "execution_count": 18,
   "metadata": {},
   "outputs": [],
   "source": [
    "nbc = NBC(k=0.05)"
   ]
  },
  {
   "cell_type": "code",
   "execution_count": 19,
   "metadata": {},
   "outputs": [
    {
     "data": {
      "text/html": [
       "<div>\n",
       "<style scoped>\n",
       "    .dataframe tbody tr th:only-of-type {\n",
       "        vertical-align: middle;\n",
       "    }\n",
       "\n",
       "    .dataframe tbody tr th {\n",
       "        vertical-align: top;\n",
       "    }\n",
       "\n",
       "    .dataframe thead th {\n",
       "        text-align: right;\n",
       "    }\n",
       "</style>\n",
       "<table border=\"1\" class=\"dataframe\">\n",
       "  <thead>\n",
       "    <tr style=\"text-align: right;\">\n",
       "      <th></th>\n",
       "      <th>date</th>\n",
       "      <th>ngram</th>\n",
       "      <th>ud</th>\n",
       "    </tr>\n",
       "  </thead>\n",
       "  <tbody>\n",
       "    <tr>\n",
       "      <th>0</th>\n",
       "      <td>2005-05-12</td>\n",
       "      <td>[부진/NNG;글로벌/NNG;경기/NNG;둔화/NNG;우려/NNG, 소비/NNG;설...</td>\n",
       "      <td>0</td>\n",
       "    </tr>\n",
       "    <tr>\n",
       "      <th>1</th>\n",
       "      <td>2005-06-09</td>\n",
       "      <td>[경상/NNG;수지/NNG;적자/NNG;재정/NNG;적자/NNG, 국제/NNG;금융...</td>\n",
       "      <td>down</td>\n",
       "    </tr>\n",
       "    <tr>\n",
       "      <th>2</th>\n",
       "      <td>2005-06-23</td>\n",
       "      <td>[대출/NNG;촉진/NNG, 걸림돌/NNG, 개선/NNG]</td>\n",
       "      <td>0</td>\n",
       "    </tr>\n",
       "    <tr>\n",
       "      <th>3</th>\n",
       "      <td>2005-07-07</td>\n",
       "      <td>[자산/NNG;가격/NNG;상승/NNG;물가/NNG;상승/NNG, 물가/NNG;안정...</td>\n",
       "      <td>up</td>\n",
       "    </tr>\n",
       "    <tr>\n",
       "      <th>4</th>\n",
       "      <td>2005-08-11</td>\n",
       "      <td>[부동산/NNG;가격/NNG;상승/NNG;금리/NNG;인상/NNG, 국채/NNG;수...</td>\n",
       "      <td>0</td>\n",
       "    </tr>\n",
       "    <tr>\n",
       "      <th>...</th>\n",
       "      <td>...</td>\n",
       "      <td>...</td>\n",
       "      <td>...</td>\n",
       "    </tr>\n",
       "    <tr>\n",
       "      <th>292539</th>\n",
       "      <td>2020-06-26</td>\n",
       "      <td>[매출/NNG;감소/NNG, 피해/NNG, 최대/NNG, 개선/NNG]</td>\n",
       "      <td>0</td>\n",
       "    </tr>\n",
       "    <tr>\n",
       "      <th>292540</th>\n",
       "      <td>2020-06-26</td>\n",
       "      <td>[경기/NNG;판단/NNG;상승/NNG, 경기/NNG;전망/NNG;하락/NNG, 전...</td>\n",
       "      <td>0</td>\n",
       "    </tr>\n",
       "    <tr>\n",
       "      <th>292541</th>\n",
       "      <td>2020-06-26</td>\n",
       "      <td>[소비자/NNG;심리/NNG;긍정적/VAX, 지표/NNG;낮/VA, 하락/NNG, ...</td>\n",
       "      <td>0</td>\n",
       "    </tr>\n",
       "    <tr>\n",
       "      <th>292542</th>\n",
       "      <td>2020-06-26</td>\n",
       "      <td>[주택가격/NNG;전망/NNG;상승/NNG, 취업기회/NNG;전망/NNG;오르/VV...</td>\n",
       "      <td>0</td>\n",
       "    </tr>\n",
       "    <tr>\n",
       "      <th>292543</th>\n",
       "      <td>2020-06-26</td>\n",
       "      <td>[자산/NNG;가격/NNG;하락/NNG, 지수/NNG;저점/NNG;상승/NNG, 경...</td>\n",
       "      <td>0</td>\n",
       "    </tr>\n",
       "  </tbody>\n",
       "</table>\n",
       "<p>292544 rows × 3 columns</p>\n",
       "</div>"
      ],
      "text/plain": [
       "              date                                              ngram    ud\n",
       "0       2005-05-12  [부진/NNG;글로벌/NNG;경기/NNG;둔화/NNG;우려/NNG, 소비/NNG;설...     0\n",
       "1       2005-06-09  [경상/NNG;수지/NNG;적자/NNG;재정/NNG;적자/NNG, 국제/NNG;금융...  down\n",
       "2       2005-06-23                   [대출/NNG;촉진/NNG, 걸림돌/NNG, 개선/NNG]     0\n",
       "3       2005-07-07  [자산/NNG;가격/NNG;상승/NNG;물가/NNG;상승/NNG, 물가/NNG;안정...    up\n",
       "4       2005-08-11  [부동산/NNG;가격/NNG;상승/NNG;금리/NNG;인상/NNG, 국채/NNG;수...     0\n",
       "...            ...                                                ...   ...\n",
       "292539  2020-06-26            [매출/NNG;감소/NNG, 피해/NNG, 최대/NNG, 개선/NNG]     0\n",
       "292540  2020-06-26  [경기/NNG;판단/NNG;상승/NNG, 경기/NNG;전망/NNG;하락/NNG, 전...     0\n",
       "292541  2020-06-26  [소비자/NNG;심리/NNG;긍정적/VAX, 지표/NNG;낮/VA, 하락/NNG, ...     0\n",
       "292542  2020-06-26  [주택가격/NNG;전망/NNG;상승/NNG, 취업기회/NNG;전망/NNG;오르/VV...     0\n",
       "292543  2020-06-26  [자산/NNG;가격/NNG;하락/NNG, 지수/NNG;저점/NNG;상승/NNG, 경...     0\n",
       "\n",
       "[292544 rows x 3 columns]"
      ]
     },
     "execution_count": 19,
     "metadata": {},
     "output_type": "execute_result"
    }
   ],
   "source": [
    "train_df"
   ]
  },
  {
   "cell_type": "code",
   "execution_count": 20,
   "metadata": {},
   "outputs": [
    {
     "data": {
      "text/html": [
       "<div>\n",
       "<style scoped>\n",
       "    .dataframe tbody tr th:only-of-type {\n",
       "        vertical-align: middle;\n",
       "    }\n",
       "\n",
       "    .dataframe tbody tr th {\n",
       "        vertical-align: top;\n",
       "    }\n",
       "\n",
       "    .dataframe thead th {\n",
       "        text-align: right;\n",
       "    }\n",
       "</style>\n",
       "<table border=\"1\" class=\"dataframe\">\n",
       "  <thead>\n",
       "    <tr style=\"text-align: right;\">\n",
       "      <th></th>\n",
       "      <th>0</th>\n",
       "      <th>down</th>\n",
       "      <th>up</th>\n",
       "    </tr>\n",
       "    <tr>\n",
       "      <th>ngram</th>\n",
       "      <th></th>\n",
       "      <th></th>\n",
       "      <th></th>\n",
       "    </tr>\n",
       "  </thead>\n",
       "  <tbody>\n",
       "    <tr>\n",
       "      <th>경제/NNG;성장/NNG;낮/VA</th>\n",
       "      <td>21.0</td>\n",
       "      <td>15.0</td>\n",
       "      <td>2.0</td>\n",
       "    </tr>\n",
       "    <tr>\n",
       "      <th>신용/NNG;좋/VA</th>\n",
       "      <td>23.0</td>\n",
       "      <td>9.0</td>\n",
       "      <td>7.0</td>\n",
       "    </tr>\n",
       "    <tr>\n",
       "      <th>비농업/NNG;고용/NNG;시장/NNG;예상/NNG;하회/NNG</th>\n",
       "      <td>8.0</td>\n",
       "      <td>NaN</td>\n",
       "      <td>NaN</td>\n",
       "    </tr>\n",
       "    <tr>\n",
       "      <th>억제/NNG;넘/VV</th>\n",
       "      <td>NaN</td>\n",
       "      <td>1.0</td>\n",
       "      <td>NaN</td>\n",
       "    </tr>\n",
       "    <tr>\n",
       "      <th>강하/VA;추세/NNG</th>\n",
       "      <td>23.0</td>\n",
       "      <td>2.0</td>\n",
       "      <td>19.0</td>\n",
       "    </tr>\n",
       "    <tr>\n",
       "      <th>...</th>\n",
       "      <td>...</td>\n",
       "      <td>...</td>\n",
       "      <td>...</td>\n",
       "    </tr>\n",
       "    <tr>\n",
       "      <th>점차/MAG;금리/NNG;상승/NNG;압력/NNG;높/VA</th>\n",
       "      <td>1.0</td>\n",
       "      <td>NaN</td>\n",
       "      <td>NaN</td>\n",
       "    </tr>\n",
       "    <tr>\n",
       "      <th>자금/NNG;압박/NNG;심하/VA</th>\n",
       "      <td>7.0</td>\n",
       "      <td>8.0</td>\n",
       "      <td>1.0</td>\n",
       "    </tr>\n",
       "    <tr>\n",
       "      <th>물가/NNG;예상/NNG;벗어나/VV;않/VX</th>\n",
       "      <td>1.0</td>\n",
       "      <td>NaN</td>\n",
       "      <td>NaN</td>\n",
       "    </tr>\n",
       "    <tr>\n",
       "      <th>외국인/NNG;국채선물/NNG;매도/NNG;강세/NNG</th>\n",
       "      <td>5.0</td>\n",
       "      <td>1.0</td>\n",
       "      <td>NaN</td>\n",
       "    </tr>\n",
       "    <tr>\n",
       "      <th>채권/NNG;매수/NNG;심리/NNG;확산/NNG</th>\n",
       "      <td>7.0</td>\n",
       "      <td>1.0</td>\n",
       "      <td>NaN</td>\n",
       "    </tr>\n",
       "  </tbody>\n",
       "</table>\n",
       "<p>65447 rows × 3 columns</p>\n",
       "</div>"
      ],
      "text/plain": [
       "                                        0  down    up\n",
       "ngram                                                \n",
       "경제/NNG;성장/NNG;낮/VA                   21.0  15.0   2.0\n",
       "신용/NNG;좋/VA                          23.0   9.0   7.0\n",
       "비농업/NNG;고용/NNG;시장/NNG;예상/NNG;하회/NNG   8.0   NaN   NaN\n",
       "억제/NNG;넘/VV                           NaN   1.0   NaN\n",
       "강하/VA;추세/NNG                         23.0   2.0  19.0\n",
       "...                                   ...   ...   ...\n",
       "점차/MAG;금리/NNG;상승/NNG;압력/NNG;높/VA      1.0   NaN   NaN\n",
       "자금/NNG;압박/NNG;심하/VA                   7.0   8.0   1.0\n",
       "물가/NNG;예상/NNG;벗어나/VV;않/VX             1.0   NaN   NaN\n",
       "외국인/NNG;국채선물/NNG;매도/NNG;강세/NNG        5.0   1.0   NaN\n",
       "채권/NNG;매수/NNG;심리/NNG;확산/NNG           7.0   1.0   NaN\n",
       "\n",
       "[65447 rows x 3 columns]"
      ]
     },
     "execution_count": 20,
     "metadata": {},
     "output_type": "execute_result"
    }
   ],
   "source": [
    "nbc.add_data(train_df)"
   ]
  },
  {
   "cell_type": "code",
   "execution_count": 21,
   "metadata": {},
   "outputs": [
    {
     "data": {
      "text/html": [
       "<div>\n",
       "<style scoped>\n",
       "    .dataframe tbody tr th:only-of-type {\n",
       "        vertical-align: middle;\n",
       "    }\n",
       "\n",
       "    .dataframe tbody tr th {\n",
       "        vertical-align: top;\n",
       "    }\n",
       "\n",
       "    .dataframe thead th {\n",
       "        text-align: right;\n",
       "    }\n",
       "</style>\n",
       "<table border=\"1\" class=\"dataframe\">\n",
       "  <thead>\n",
       "    <tr style=\"text-align: right;\">\n",
       "      <th></th>\n",
       "      <th>0</th>\n",
       "      <th>down</th>\n",
       "      <th>up</th>\n",
       "    </tr>\n",
       "    <tr>\n",
       "      <th>ngram</th>\n",
       "      <th></th>\n",
       "      <th></th>\n",
       "      <th></th>\n",
       "    </tr>\n",
       "  </thead>\n",
       "  <tbody>\n",
       "    <tr>\n",
       "      <th>경제/NNG;성장/NNG;낮/VA</th>\n",
       "      <td>21.0</td>\n",
       "      <td>15.0</td>\n",
       "      <td>2.0</td>\n",
       "    </tr>\n",
       "    <tr>\n",
       "      <th>신용/NNG;좋/VA</th>\n",
       "      <td>23.0</td>\n",
       "      <td>9.0</td>\n",
       "      <td>7.0</td>\n",
       "    </tr>\n",
       "    <tr>\n",
       "      <th>비농업/NNG;고용/NNG;시장/NNG;예상/NNG;하회/NNG</th>\n",
       "      <td>8.0</td>\n",
       "      <td>0.0</td>\n",
       "      <td>0.0</td>\n",
       "    </tr>\n",
       "    <tr>\n",
       "      <th>억제/NNG;넘/VV</th>\n",
       "      <td>0.0</td>\n",
       "      <td>1.0</td>\n",
       "      <td>0.0</td>\n",
       "    </tr>\n",
       "    <tr>\n",
       "      <th>강하/VA;추세/NNG</th>\n",
       "      <td>23.0</td>\n",
       "      <td>2.0</td>\n",
       "      <td>19.0</td>\n",
       "    </tr>\n",
       "    <tr>\n",
       "      <th>...</th>\n",
       "      <td>...</td>\n",
       "      <td>...</td>\n",
       "      <td>...</td>\n",
       "    </tr>\n",
       "    <tr>\n",
       "      <th>점차/MAG;금리/NNG;상승/NNG;압력/NNG;높/VA</th>\n",
       "      <td>1.0</td>\n",
       "      <td>0.0</td>\n",
       "      <td>0.0</td>\n",
       "    </tr>\n",
       "    <tr>\n",
       "      <th>자금/NNG;압박/NNG;심하/VA</th>\n",
       "      <td>7.0</td>\n",
       "      <td>8.0</td>\n",
       "      <td>1.0</td>\n",
       "    </tr>\n",
       "    <tr>\n",
       "      <th>물가/NNG;예상/NNG;벗어나/VV;않/VX</th>\n",
       "      <td>1.0</td>\n",
       "      <td>0.0</td>\n",
       "      <td>0.0</td>\n",
       "    </tr>\n",
       "    <tr>\n",
       "      <th>외국인/NNG;국채선물/NNG;매도/NNG;강세/NNG</th>\n",
       "      <td>5.0</td>\n",
       "      <td>1.0</td>\n",
       "      <td>0.0</td>\n",
       "    </tr>\n",
       "    <tr>\n",
       "      <th>채권/NNG;매수/NNG;심리/NNG;확산/NNG</th>\n",
       "      <td>7.0</td>\n",
       "      <td>1.0</td>\n",
       "      <td>0.0</td>\n",
       "    </tr>\n",
       "  </tbody>\n",
       "</table>\n",
       "<p>65447 rows × 3 columns</p>\n",
       "</div>"
      ],
      "text/plain": [
       "                                        0  down    up\n",
       "ngram                                                \n",
       "경제/NNG;성장/NNG;낮/VA                   21.0  15.0   2.0\n",
       "신용/NNG;좋/VA                          23.0   9.0   7.0\n",
       "비농업/NNG;고용/NNG;시장/NNG;예상/NNG;하회/NNG   8.0   0.0   0.0\n",
       "억제/NNG;넘/VV                           0.0   1.0   0.0\n",
       "강하/VA;추세/NNG                         23.0   2.0  19.0\n",
       "...                                   ...   ...   ...\n",
       "점차/MAG;금리/NNG;상승/NNG;압력/NNG;높/VA      1.0   0.0   0.0\n",
       "자금/NNG;압박/NNG;심하/VA                   7.0   8.0   1.0\n",
       "물가/NNG;예상/NNG;벗어나/VV;않/VX             1.0   0.0   0.0\n",
       "외국인/NNG;국채선물/NNG;매도/NNG;강세/NNG        5.0   1.0   0.0\n",
       "채권/NNG;매수/NNG;심리/NNG;확산/NNG           7.0   1.0   0.0\n",
       "\n",
       "[65447 rows x 3 columns]"
      ]
     },
     "execution_count": 21,
     "metadata": {},
     "output_type": "execute_result"
    }
   ],
   "source": [
    "nbc.df.fillna(0)"
   ]
  },
  {
   "cell_type": "code",
   "execution_count": 28,
   "metadata": {},
   "outputs": [
    {
     "data": {
      "text/plain": [
       "0.5517693591307893"
      ]
     },
     "execution_count": 28,
     "metadata": {},
     "output_type": "execute_result"
    }
   ],
   "source": [
    "nbc.pol_score(0, '경제/NNG;성장/NNG;낮/VA')"
   ]
  },
  {
   "cell_type": "code",
   "execution_count": 39,
   "metadata": {},
   "outputs": [
    {
     "data": {
      "text/html": [
       "<div>\n",
       "<style scoped>\n",
       "    .dataframe tbody tr th:only-of-type {\n",
       "        vertical-align: middle;\n",
       "    }\n",
       "\n",
       "    .dataframe tbody tr th {\n",
       "        vertical-align: top;\n",
       "    }\n",
       "\n",
       "    .dataframe thead th {\n",
       "        text-align: right;\n",
       "    }\n",
       "</style>\n",
       "<table border=\"1\" class=\"dataframe\">\n",
       "  <thead>\n",
       "    <tr style=\"text-align: right;\">\n",
       "      <th></th>\n",
       "      <th>date</th>\n",
       "      <th>sent</th>\n",
       "    </tr>\n",
       "  </thead>\n",
       "  <tbody>\n",
       "    <tr>\n",
       "      <th>0</th>\n",
       "      <td>2020-06-24</td>\n",
       "      <td>관련부서는 금번 보고서 작성의 기본방향과 위원협의회에서 논의된 주요 내용 을 다음과...</td>\n",
       "    </tr>\n",
       "    <tr>\n",
       "      <th>1</th>\n",
       "      <td>2020-06-24</td>\n",
       "      <td>먼저 금번 보고서에서는 코로나19 확산에 따른 유례없는 금융·실물 충격이 금 융시스...</td>\n",
       "    </tr>\n",
       "    <tr>\n",
       "      <th>2</th>\n",
       "      <td>2020-06-24</td>\n",
       "      <td>다음으로 6월 11일 위원협의회에서 논의된 내용은 다음과 같음</td>\n",
       "    </tr>\n",
       "    <tr>\n",
       "      <th>3</th>\n",
       "      <td>2020-06-24</td>\n",
       "      <td>여러 위원들은 금번 보고서가 코로나19 확산 이후 금융불안 우려가 높아진 상황에서 ...</td>\n",
       "    </tr>\n",
       "    <tr>\n",
       "      <th>4</th>\n",
       "      <td>2020-06-24</td>\n",
       "      <td>일부 위원은 코로나19 확산 이후 금융시장 상황이 빠르게 변하고 있는 점을 감안하여...</td>\n",
       "    </tr>\n",
       "    <tr>\n",
       "      <th>...</th>\n",
       "      <td>...</td>\n",
       "      <td>...</td>\n",
       "    </tr>\n",
       "    <tr>\n",
       "      <th>38104</th>\n",
       "      <td>2005-05-12</td>\n",
       "      <td>Dow Jones 지수는 미국의 1/4분기 GDP성장률 둔화(, 전분기 ) 등 경제...</td>\n",
       "    </tr>\n",
       "    <tr>\n",
       "      <th>38105</th>\n",
       "      <td>2005-05-12</td>\n",
       "      <td>유럽 주가는 유로지역 경제에 대한 비관적 전망, 인피니언사 등 주요 기업들의 실적부...</td>\n",
       "    </tr>\n",
       "    <tr>\n",
       "      <th>38106</th>\n",
       "      <td>2005-05-12</td>\n",
       "      <td>유로화는 유로지역 경제 부진 전망 등으로 약세( 절하)를 보였으나 일본 엔화는 미국...</td>\n",
       "    </tr>\n",
       "    <tr>\n",
       "      <th>38107</th>\n",
       "      <td>2005-05-12</td>\n",
       "      <td>미국의 장기금리는 미국의 경제성장률 둔화, 주가 하락 등으로 안전자산인 국채선호 경...</td>\n",
       "    </tr>\n",
       "    <tr>\n",
       "      <th>38108</th>\n",
       "      <td>2005-05-12</td>\n",
       "      <td>금융시장 동향 금리 및 주가 4월중 국고채(3년) 유통수익률은 미국경제의 soft ...</td>\n",
       "    </tr>\n",
       "  </tbody>\n",
       "</table>\n",
       "<p>38109 rows × 2 columns</p>\n",
       "</div>"
      ],
      "text/plain": [
       "            date                                               sent\n",
       "0     2020-06-24  관련부서는 금번 보고서 작성의 기본방향과 위원협의회에서 논의된 주요 내용 을 다음과...\n",
       "1     2020-06-24  먼저 금번 보고서에서는 코로나19 확산에 따른 유례없는 금융·실물 충격이 금 융시스...\n",
       "2     2020-06-24                 다음으로 6월 11일 위원협의회에서 논의된 내용은 다음과 같음\n",
       "3     2020-06-24  여러 위원들은 금번 보고서가 코로나19 확산 이후 금융불안 우려가 높아진 상황에서 ...\n",
       "4     2020-06-24  일부 위원은 코로나19 확산 이후 금융시장 상황이 빠르게 변하고 있는 점을 감안하여...\n",
       "...          ...                                                ...\n",
       "38104 2005-05-12  Dow Jones 지수는 미국의 1/4분기 GDP성장률 둔화(, 전분기 ) 등 경제...\n",
       "38105 2005-05-12  유럽 주가는 유로지역 경제에 대한 비관적 전망, 인피니언사 등 주요 기업들의 실적부...\n",
       "38106 2005-05-12  유로화는 유로지역 경제 부진 전망 등으로 약세( 절하)를 보였으나 일본 엔화는 미국...\n",
       "38107 2005-05-12  미국의 장기금리는 미국의 경제성장률 둔화, 주가 하락 등으로 안전자산인 국채선호 경...\n",
       "38108 2005-05-12  금융시장 동향 금리 및 주가 4월중 국고채(3년) 유통수익률은 미국경제의 soft ...\n",
       "\n",
       "[38109 rows x 2 columns]"
      ]
     },
     "execution_count": 39,
     "metadata": {},
     "output_type": "execute_result"
    }
   ],
   "source": [
    "pd.read_json('test_data.json')"
   ]
  },
  {
   "cell_type": "code",
   "execution_count": 38,
   "metadata": {},
   "outputs": [
    {
     "data": {
      "text/plain": [
       "'date'"
      ]
     },
     "execution_count": 38,
     "metadata": {},
     "output_type": "execute_result"
    }
   ],
   "source": [
    "train_df.columns[0]"
   ]
  },
  {
   "cell_type": "code",
   "execution_count": 7,
   "metadata": {},
   "outputs": [],
   "source": [
    "nbc.df.to_json('train_result.json')"
   ]
  },
  {
   "cell_type": "code",
   "execution_count": 53,
   "metadata": {},
   "outputs": [],
   "source": [
    "test_df['ngram'] = ngram_ls"
   ]
  },
  {
   "cell_type": "code",
   "execution_count": 55,
   "metadata": {},
   "outputs": [
    {
     "data": {
      "text/plain": [
       "date        0\n",
       "sent        0\n",
       "ngram    8687\n",
       "dtype: int64"
      ]
     },
     "execution_count": 55,
     "metadata": {},
     "output_type": "execute_result"
    }
   ],
   "source": [
    "# Ngram 빈 list 처리\n",
    "train_df['ngram'] = list(map(lambda i : None if i == [] else i, train_df['ngram']))\n",
    "\n",
    "test_df.isnull().sum()\n",
    "test_df.dropna(inplace=True)"
   ]
  },
  {
   "cell_type": "code",
   "execution_count": 57,
   "metadata": {},
   "outputs": [],
   "source": [
    "nbc = NBC(train_data)"
   ]
  },
  {
   "cell_type": "code",
   "execution_count": 34,
   "metadata": {},
   "outputs": [
    {
     "output_type": "execute_result",
     "data": {
      "text/plain": "date\n2005-05-12    False\n2005-06-09     True\n2005-06-23    False\n2005-07-07    False\n2005-08-11     True\n              ...  \n2017-12-31    False\n2017-12-31    False\n2017-12-31    False\n2017-12-31    False\n2017-12-31    False\nName: ud, Length: 243973, dtype: bool"
     },
     "metadata": {},
     "execution_count": 34
    }
   ],
   "source": [
    "train_data['ud'] == 1.0"
   ]
  },
  {
   "cell_type": "code",
   "execution_count": 58,
   "metadata": {
    "tags": []
   },
   "outputs": [
    {
     "output_type": "execute_result",
     "data": {
      "text/plain": "                              0.0   1.0  -1.0\nngram                                        \n생산성/NNG;개선/NNG               27.0  16.0  18.0\n채권/NNG;거래/NNG;증가/NNG         11.0   3.0   3.0\n외화차입/NNG;여건/NNG;악화/NNG       15.0  13.0   9.0\n고용/NNG;선순환/NNG                8.0   1.0   0.0\n중소기업/NNG;금리/NNG;인하/NNG       13.0   0.0   5.0\n...                           ...   ...   ...\n경제/NNG;성장/NNG;미약/NNG         15.0   4.0  12.0\n약화/NNG;국채/NNG;가격/NNG;하락/NNG   7.0   5.0   3.0\n높/VA;금융시장/NNG;불안/NNG         10.0   4.0   4.0\n금리/NNG;내리/VV;이자/NNG;부담/NNG    1.0   2.0   0.0\n예상/NNG;많/VA;금리/NNG;인상/NNG     4.0   3.0   0.0\n\n[64729 rows x 3 columns]",
      "text/html": "<div>\n<style scoped>\n    .dataframe tbody tr th:only-of-type {\n        vertical-align: middle;\n    }\n\n    .dataframe tbody tr th {\n        vertical-align: top;\n    }\n\n    .dataframe thead th {\n        text-align: right;\n    }\n</style>\n<table border=\"1\" class=\"dataframe\">\n  <thead>\n    <tr style=\"text-align: right;\">\n      <th></th>\n      <th>0.0</th>\n      <th>1.0</th>\n      <th>-1.0</th>\n    </tr>\n    <tr>\n      <th>ngram</th>\n      <th></th>\n      <th></th>\n      <th></th>\n    </tr>\n  </thead>\n  <tbody>\n    <tr>\n      <th>생산성/NNG;개선/NNG</th>\n      <td>27.0</td>\n      <td>16.0</td>\n      <td>18.0</td>\n    </tr>\n    <tr>\n      <th>채권/NNG;거래/NNG;증가/NNG</th>\n      <td>11.0</td>\n      <td>3.0</td>\n      <td>3.0</td>\n    </tr>\n    <tr>\n      <th>외화차입/NNG;여건/NNG;악화/NNG</th>\n      <td>15.0</td>\n      <td>13.0</td>\n      <td>9.0</td>\n    </tr>\n    <tr>\n      <th>고용/NNG;선순환/NNG</th>\n      <td>8.0</td>\n      <td>1.0</td>\n      <td>0.0</td>\n    </tr>\n    <tr>\n      <th>중소기업/NNG;금리/NNG;인하/NNG</th>\n      <td>13.0</td>\n      <td>0.0</td>\n      <td>5.0</td>\n    </tr>\n    <tr>\n      <th>...</th>\n      <td>...</td>\n      <td>...</td>\n      <td>...</td>\n    </tr>\n    <tr>\n      <th>경제/NNG;성장/NNG;미약/NNG</th>\n      <td>15.0</td>\n      <td>4.0</td>\n      <td>12.0</td>\n    </tr>\n    <tr>\n      <th>약화/NNG;국채/NNG;가격/NNG;하락/NNG</th>\n      <td>7.0</td>\n      <td>5.0</td>\n      <td>3.0</td>\n    </tr>\n    <tr>\n      <th>높/VA;금융시장/NNG;불안/NNG</th>\n      <td>10.0</td>\n      <td>4.0</td>\n      <td>4.0</td>\n    </tr>\n    <tr>\n      <th>금리/NNG;내리/VV;이자/NNG;부담/NNG</th>\n      <td>1.0</td>\n      <td>2.0</td>\n      <td>0.0</td>\n    </tr>\n    <tr>\n      <th>예상/NNG;많/VA;금리/NNG;인상/NNG</th>\n      <td>4.0</td>\n      <td>3.0</td>\n      <td>0.0</td>\n    </tr>\n  </tbody>\n</table>\n<p>64729 rows × 3 columns</p>\n</div>"
     },
     "metadata": {},
     "execution_count": 58
    }
   ],
   "source": [
    "nbc.add_data(train_data)"
   ]
  },
  {
   "cell_type": "code",
   "execution_count": 24,
   "metadata": {},
   "outputs": [],
   "source": []
  },
  {
   "cell_type": "code",
   "execution_count": 26,
   "metadata": {},
   "outputs": [
    {
     "output_type": "execute_result",
     "data": {
      "text/plain": "Index(['주문/NNG;금리/NNG;인상/NNG', '인상/NNG;제약/NNG',\n       '인플레이션/NNG;기대/NNG;확산/NNG;방지/NNG', '예상/NNG;환율/NNG;상승/NNG',\n       '저축성/NNG;예금/NNG;금리/NNG;상승/NNG', '금리/NNG;인하/NNG;아니/VCN;금리/NNG;인하/NNG',\n       '물가/NNG;안정/NNG;경제/NNG;안정/NNG', '둔화/NNG;우려/NNG;아니/VCN',\n       '생산/NNG;지표/NNG;악화/NNG', 'fx스왑/NNG;시장/NNG;마이너스/NNG',\n       ...\n       '거품/NNG;없/VA', '경기/NNG;둔화/NNG;가능성/NNG;크/VV', '하락/NNG;꺾/VV',\n       '금리/NNG;인상/NNG;급하/VA;않/VX', '미/NNG;건설/NNG;지출/NNG;감소/NNG',\n       '활성화/NNG;금리/NNG;인상/NNG', '금리/NNG;하락/NNG;견인력/NNG;약화/NNG',\n       '상향/NNG;힘입/VV;강세/NNG', '물가/NNG;아니/VCN;성장/NNG',\n       '금리/NNG;인상/NNG;불구/NNG;상승/NNG'],\n      dtype='object', name='ngram', length=25243)"
     },
     "metadata": {},
     "execution_count": 26
    }
   ],
   "source": [
    "hawkish"
   ]
  },
  {
   "cell_type": "code",
   "execution_count": 17,
   "metadata": {},
   "outputs": [
    {
     "output_type": "execute_result",
     "data": {
      "text/plain": "1240873.0"
     },
     "metadata": {},
     "execution_count": 17
    }
   ],
   "source": [
    "nbc.df[[1,-1]].sum().sum()"
   ]
  },
  {
   "cell_type": "code",
   "execution_count": 25,
   "metadata": {},
   "outputs": [],
   "source": []
  },
  {
   "cell_type": "code",
   "execution_count": 27,
   "metadata": {},
   "outputs": [
    {
     "output_type": "execute_result",
     "data": {
      "text/plain": "Index(['고용시장/NNG;낙관/NNG', '둔화/NNG;강세/NNG', '가계/NNG;금리/NNG;부담/NNG',\n       '금리/NNG;인플레이션/NNG;낮/VA', '인하/NNG;환율/NNG;방어/NNG',\n       '내외/NNG;금리갭/NNG;축소/NNG', '급락/NNG;원화/NNG;약세/NNG', '자산/NNG;듀레이션/NNG;길/VA',\n       '인하/NNG;가계/NNG;부채/NNG;증가/NNG;우려/NNG', '부진/NNG;발목/NNG;잡/VV',\n       ...\n       '해외/NNG;주식펀드/NNG;수익률/NNG;상승/NNG', '글로벌/NNG;유동성/NNG;확대/NNG',\n       'ecb/NNG;금리/NNG;내리/VV;금리/NNG;인하/NNG', '생산/NNG;소비/NNG;둔화/NNG',\n       '위험자산/NNG;부정적/VAX', '회사채/NNG;시장/NNG;충격/NNG', '외국인/NNG;채권투자/NNG;급증/NNG',\n       '금리/NNG;당분간/MAG;인하/NNG', '수익성/NNG;현금흐름/NNG;개선/NNG', '크레딧/NNG;안정/NNG'],\n      dtype='object', name='ngram', length=23563)"
     },
     "metadata": {},
     "execution_count": 27
    }
   ],
   "source": [
    "dovish"
   ]
  },
  {
   "cell_type": "code",
   "execution_count": 21,
   "metadata": {
    "tags": []
   },
   "outputs": [
    {
     "output_type": "stream",
     "name": "stdout",
     "text": "1240873\n"
    },
    {
     "output_type": "execute_result",
     "data": {
      "text/plain": "                           1.0   -1.0       haw       dov     score\nngram                                                              \n거품/NNG                   474.0  386.0  0.000715  0.000668  1.069115\n주문/NNG;금리/NNG;인상/NNG       4.0    0.0  0.000006  0.000000       inf\n산업/NNG;어렵/VA               3.0    3.0  0.000005  0.000005  0.870630\n고용시장/NNG;낙관/NNG            1.0    3.0  0.000002  0.000005  0.290210\n둔화/NNG;강세/NNG              2.0    3.0  0.000003  0.000005  0.580420\n...                        ...    ...       ...       ...       ...\n회사채/NNG;시장/NNG;충격/NNG      0.0    3.0  0.000000  0.000005  0.000000\n외국인/NNG;채권투자/NNG;급증/NNG    3.0    6.0  0.000005  0.000010  0.435315\n금리/NNG;당분간/MAG;인하/NNG      2.0    3.0  0.000003  0.000005  0.580420\n수익성/NNG;현금흐름/NNG;개선/NNG    0.0    1.0  0.000000  0.000002  0.000000\n크레딧/NNG;안정/NNG             1.0   17.0  0.000002  0.000029  0.051214\n\n[58747 rows x 5 columns]",
      "text/html": "<div>\n<style scoped>\n    .dataframe tbody tr th:only-of-type {\n        vertical-align: middle;\n    }\n\n    .dataframe tbody tr th {\n        vertical-align: top;\n    }\n\n    .dataframe thead th {\n        text-align: right;\n    }\n</style>\n<table border=\"1\" class=\"dataframe\">\n  <thead>\n    <tr style=\"text-align: right;\">\n      <th></th>\n      <th>1.0</th>\n      <th>-1.0</th>\n      <th>haw</th>\n      <th>dov</th>\n      <th>score</th>\n    </tr>\n    <tr>\n      <th>ngram</th>\n      <th></th>\n      <th></th>\n      <th></th>\n      <th></th>\n      <th></th>\n    </tr>\n  </thead>\n  <tbody>\n    <tr>\n      <th>거품/NNG</th>\n      <td>474.0</td>\n      <td>386.0</td>\n      <td>0.000715</td>\n      <td>0.000668</td>\n      <td>1.069115</td>\n    </tr>\n    <tr>\n      <th>주문/NNG;금리/NNG;인상/NNG</th>\n      <td>4.0</td>\n      <td>0.0</td>\n      <td>0.000006</td>\n      <td>0.000000</td>\n      <td>inf</td>\n    </tr>\n    <tr>\n      <th>산업/NNG;어렵/VA</th>\n      <td>3.0</td>\n      <td>3.0</td>\n      <td>0.000005</td>\n      <td>0.000005</td>\n      <td>0.870630</td>\n    </tr>\n    <tr>\n      <th>고용시장/NNG;낙관/NNG</th>\n      <td>1.0</td>\n      <td>3.0</td>\n      <td>0.000002</td>\n      <td>0.000005</td>\n      <td>0.290210</td>\n    </tr>\n    <tr>\n      <th>둔화/NNG;강세/NNG</th>\n      <td>2.0</td>\n      <td>3.0</td>\n      <td>0.000003</td>\n      <td>0.000005</td>\n      <td>0.580420</td>\n    </tr>\n    <tr>\n      <th>...</th>\n      <td>...</td>\n      <td>...</td>\n      <td>...</td>\n      <td>...</td>\n      <td>...</td>\n    </tr>\n    <tr>\n      <th>회사채/NNG;시장/NNG;충격/NNG</th>\n      <td>0.0</td>\n      <td>3.0</td>\n      <td>0.000000</td>\n      <td>0.000005</td>\n      <td>0.000000</td>\n    </tr>\n    <tr>\n      <th>외국인/NNG;채권투자/NNG;급증/NNG</th>\n      <td>3.0</td>\n      <td>6.0</td>\n      <td>0.000005</td>\n      <td>0.000010</td>\n      <td>0.435315</td>\n    </tr>\n    <tr>\n      <th>금리/NNG;당분간/MAG;인하/NNG</th>\n      <td>2.0</td>\n      <td>3.0</td>\n      <td>0.000003</td>\n      <td>0.000005</td>\n      <td>0.580420</td>\n    </tr>\n    <tr>\n      <th>수익성/NNG;현금흐름/NNG;개선/NNG</th>\n      <td>0.0</td>\n      <td>1.0</td>\n      <td>0.000000</td>\n      <td>0.000002</td>\n      <td>0.000000</td>\n    </tr>\n    <tr>\n      <th>크레딧/NNG;안정/NNG</th>\n      <td>1.0</td>\n      <td>17.0</td>\n      <td>0.000002</td>\n      <td>0.000029</td>\n      <td>0.051214</td>\n    </tr>\n  </tbody>\n</table>\n<p>58747 rows × 5 columns</p>\n</div>"
     },
     "metadata": {},
     "execution_count": 21
    }
   ],
   "source": []
  },
  {
   "cell_type": "code",
   "execution_count": 6,
   "metadata": {},
   "outputs": [
    {
     "output_type": "execute_result",
     "data": {
      "text/plain": "False"
     },
     "metadata": {},
     "execution_count": 6
    }
   ],
   "source": [
    "import numpy as np\n",
    "\n",
    "np.inf<0"
   ]
  },
  {
   "cell_type": "code",
   "execution_count": 18,
   "metadata": {},
   "outputs": [],
   "source": [
    "import pandas as pd\n",
    "import numpy as np\n",
    "import itertools\n",
    "import nltk\n",
    "\n",
    "class NBC():\n",
    "    def add_data(self, datas):\n",
    "        word_column = datas.columns[0]\n",
    "        target_column = datas.columns[1]\n",
    "        target_ls = list(set(datas[target_column]))\n",
    "        # list가 아닐 경우 실행\n",
    "        # datas[word_column] = list(map(lambda i : i.split(','), datas[word_column]))\n",
    "\n",
    "        total_ngram = list(itertools.chain(*list(datas[word_column]))) \n",
    "        unique_ngram = list(set(total_ngram))\n",
    "        result_df = pd.DataFrame(unique_ngram, columns = [word_column]).set_index(word_column)\n",
    "\n",
    "        for target in target_ls:\n",
    "            this_ngram = list(itertools.chain(*list(datas[datas[target_column] == target][word_column])))\n",
    "            fdist = nltk.FreqDist(this_ngram)\n",
    "            temp_df = pd.DataFrame(list(zip(fdist.keys(), fdist.values())), columns= [word_column, 'count']).set_index(word_column)\n",
    "            result_df[target] = temp_df['count']\n",
    "        \n",
    "        self.df = result_df.fillna(0)\n",
    "        return self.df\n",
    "\n",
    "    def polarity_score(self):\n",
    "        df = self.df\n",
    "        df['haw'] = df[1] / sum(df[1])\n",
    "        df['dov'] = df[-1] / sum(df[-1])\n",
    "        df['score'] = df['haw'] / df['dov']\n",
    "        return self.df"
   ]
  },
  {
   "cell_type": "code",
   "execution_count": null,
   "metadata": {},
   "outputs": [],
   "source": [
    "import pandas as pd\n",
    "ngram_df = pd.read_json('final_ngram_comma.json')\n",
    "ngram_df['date'] = list(map(lambda i : i.date(), ngram_df['date']))\n",
    "ngram_df.set_index('date', inplace=True)\n",
    "\n",
    "cd_df = pd.read_json('labeled_cd_rate.json')\n",
    "cd_df['date'] = list(map(lambda i : i.date(), cd_df['date']))\n",
    "cd_df.set_index('date', inplace=True)\n",
    "\n",
    "ngram_df['ud'] = cd_df['ud']\n",
    "\n",
    "import datetime\n",
    "train_data = ngram_df.iloc[(ngram_df.index >= datetime.date(2005,5,1)) & (ngram_df.index <= datetime.date(2017,12,31))]\n",
    "\n",
    "# train_data = train_data[train_data['ud']!=0]"
   ]
  },
  {
   "cell_type": "code",
   "execution_count": null,
   "metadata": {},
   "outputs": [],
   "source": [
    "nbc = NBC()\n",
    "nbc.add_data(train_data)\n",
    "nbc.polarity_score()\n",
    "\n",
    "nbc.df = nbc.df[nbc.df[1,0,-1].sum(axis=1) > 15]\n",
    "\n",
    "hawkish = nbc.df[nbc.df['score'] >= 1.3].index\n",
    "dovish = nbc.df[nbc.df['score'] <= 10/13].index"
   ]
  },
  {
   "cell_type": "code",
   "execution_count": null,
   "metadata": {},
   "outputs": [],
   "source": []
  },
  {
   "cell_type": "code",
   "execution_count": null,
   "metadata": {},
   "outputs": [],
   "source": []
  },
  {
   "cell_type": "markdown",
   "metadata": {},
   "source": [
    "# 삽질, 똥 싸놓은 것"
   ]
  },
  {
   "cell_type": "code",
   "execution_count": 50,
   "metadata": {},
   "outputs": [],
   "source": [
    "import pandas as pd\n",
    "import numpy as np\n",
    "import itertools\n",
    "import nltk\n",
    "from sklearn.model_selection import train_test_split\n",
    "\n",
    "# Input 데이터프레임은 첫 번째 column에 words(split처리 된 list), 두 번째 column에 target\n",
    "# Output 데이터프레임은 인덱스에 단어, 칼럼에 타겟\n",
    "class NBC():\n",
    "    df = pd.DataFrame([])\n",
    "    k = 0.5\n",
    "    \n",
    "    # 최초 모든 feature를 가지는 행렬 필요 initial_data\n",
    "    def __init__(self, datas, **kwargs):\n",
    "        self.raw_data = datas\n",
    "        word_column = datas.columns[0]\n",
    "        total_ngram = list(itertools.chain(*list(map(lambda i : i.split(','), datas[word_column])))) # list로 들어가지 않을 경우\n",
    "        unique_ngram = list(set(total_ngram))\n",
    "        self.init_df = pd.DataFrame(unique_ngram, columns = [word_column]).set_index(word_column)\n",
    "        try:\n",
    "            self.k = kwargs['k']\n",
    "        except:\n",
    "            pass\n",
    "            \n",
    "    # train data 받아서 count 행렬 반환하는 함수 #함수명 변경 \n",
    "    def add_data(self, datas):\n",
    "        word_column = datas.columns[0]\n",
    "        target_column = datas.columns[1]\n",
    "        target_ls = list(set(datas[target_column]))\n",
    "        datas[word_column] = list(map(lambda i : i.split(','), datas[word_column]))\n",
    "        \n",
    "\n",
    "        total_ngram = list(itertools.chain(*list(datas[word_column]))) # list로 들어가지 않을 경우\n",
    "        \n",
    "        unique_ngram = list(set(total_ngram))\n",
    "\n",
    "        result_df = pd.DataFrame(unique_ngram, columns = [word_column]).set_index(word_column)\n",
    "\n",
    "        for target in target_ls:\n",
    "            this_ngram = list(itertools.chain(*list(datas[datas[target_column] == target][word_column])))\n",
    "            fdist = nltk.FreqDist(this_ngram)\n",
    "            temp_df = pd.DataFrame(list(zip(fdist.keys(), fdist.values())), columns= [word_column, 'count']).set_index(word_column)\n",
    "            result_df[target] = temp_df['count']\n",
    "        \n",
    "        self.df = result_df.fillna(0)\n",
    "        return self.df\n",
    "    \n",
    "    # real polarity Score 계산 함수 필요\n",
    "    def polarity(self, df):\n",
    "        c_df = self.add_data(df)\n",
    "        \n",
    "        pola_list = []\n",
    "        # self.initial data set\n",
    "        for i in c_df.index:\n",
    "            try:\n",
    "                pola = self.pol_score(c_df, 1, i) / self.pol_score(c_df, -1, i)\n",
    "            except:\n",
    "                pola = 1\n",
    "            pola_list.append(pola)\n",
    "        \n",
    "        word_column = self.raw_data.columns[0]\n",
    "        temp_df = pd.DataFrame(c_df.index, columns = [word_column])\n",
    "        temp_df.set_index(word_column, inplace=True)\n",
    "        temp_df['x'] = pola_list\n",
    "        \n",
    "        #initial data에 polarity score 추가\n",
    "        self.init_df[len(self.init_df.columns)+1] = temp_df['x']\n",
    "\n",
    "    # 30번 돌리는 것은 ngram feature의 polarity score, 평균내서 hawkish, dovish 구분\n",
    "    # feature의 Polarity Score > 1 이면, hawkish else dovish \n",
    "    # polarity score 계산 시 1.3 이하면 neutral word로 (hawkish, neutral, dovish))\n",
    "\n",
    "    # 최종 ngram 별 hawkish, dovish 사전 구축\n",
    "\n",
    "    # Tone 계산 함수\n",
    "\n",
    "    # for문 돌려서 feature 별 polarity score 계산\n",
    "    # polarity score = pol_score('up') / pol_score('down')\n",
    "\n",
    "    def pol_score(self, datas, target, s):\n",
    "        df = datas\n",
    "        k = self.k\n",
    "\n",
    "        totals = {}\n",
    "        for i in df:\n",
    "            totals[i] = df[i].sum()\n",
    "        \n",
    "        tokens = s.split()\n",
    "        total = np.asarray(list(totals.values())).sum()\n",
    "\n",
    "        logs = {}\n",
    "        for i in df:            \n",
    "            if total == 0:\n",
    "                return None\n",
    "#                 logs[i] = 0\n",
    "            else:\n",
    "                logs[i] = np.log(float(totals[i]) / float(total))\n",
    "        \n",
    "        for token in tokens:\n",
    "            for t in df:\n",
    "                try:\n",
    "                    logs[t] += np.log( (k + df[t][token]) / (2*k +totals[t]) )\n",
    "                except:\n",
    "                    logs[t] += np.log( (k) / (2*k +totals[t]) )\n",
    "\n",
    "        bunmo = 0\n",
    "        for log in logs:\n",
    "            bunmo += np.exp(logs[log])\n",
    "        bunja = np.exp(logs[target])\n",
    "        return bunja / bunmo\n",
    "\n",
    "    def fit_data(self):\n",
    "        datas = self.raw_data\n",
    "        for i in range(30):\n",
    "            train_X, test_X, train_y, test_y = train_test_split(datas['ngram'], datas['ud'], \n",
    "                                                                shuffle=True, test_size=0.1)\n",
    "            train_X = pd.DataFrame(train_X, columns = ['ngram'])\n",
    "            train_X['ud'] = train_y\n",
    "            self.polarity(train_X)\n",
    "        result = pd.DataFrame(self.init_df.index, columns = ['ngram'])\n",
    "        result['pol'] = self.init_df.mean(axis = 1)\n",
    "\n",
    "        return result\n",
    "\n",
    "\n",
    "    def predict(self, test_datas):\n",
    "\n",
    "        return"
   ]
  },
  {
   "cell_type": "code",
   "execution_count": 57,
   "metadata": {},
   "outputs": [],
   "source": [
    "ngram_df = pd.read_json('final_ngram_comma.json')\n",
    "ngram_df['date'] = list(map(lambda i : i.date(), ngram_df['date']))\n",
    "ngram_df.set_index('date', inplace=True)"
   ]
  },
  {
   "cell_type": "code",
   "execution_count": 58,
   "metadata": {},
   "outputs": [],
   "source": [
    "cd_df = pd.read_json('labeled_cd_rate.json')\n",
    "cd_df['date'] = list(map(lambda i : i.date(), cd_df['date']))\n",
    "cd_df.set_index('date', inplace=True)"
   ]
  },
  {
   "cell_type": "code",
   "execution_count": 59,
   "metadata": {},
   "outputs": [],
   "source": [
    "ngram_df['ud'] = cd_df['ud']"
   ]
  },
  {
   "cell_type": "code",
   "execution_count": 24,
   "metadata": {},
   "outputs": [],
   "source": [
    "import pandas as pd\n",
    "ngram_df = pd.read_json('testing/final_ngram_comma.json')\n",
    "ngram_df['date'] = list(map(lambda i : i.date(), ngram_df['date']))\n",
    "ngram_df.set_index('date', inplace=True)\n",
    "\n",
    "cd_df = pd.read_json('testing/call_rate_ud.json')\n",
    "cd_df['date'] = list(map(lambda i : i.date(), cd_df['date']))\n",
    "cd_df.set_index('date', inplace=True)\n",
    "\n",
    "ngram_df['ud'] = cd_df['ud']\n",
    "\n",
    "import datetime\n",
    "train_data = ngram_df.iloc[(ngram_df.index >= datetime.date(2005,5,1)) & (ngram_df.index <= datetime.date(2017,12,31))]\n",
    "\n",
    "train_data = train_data[train_data['ud']!=0]"
   ]
  },
  {
   "cell_type": "code",
   "execution_count": 26,
   "metadata": {},
   "outputs": [],
   "source": [
    "train_data['ngram'] = list(map(lambda i : i.split(','), train_data['ngram']))"
   ]
  },
  {
   "cell_type": "code",
   "execution_count": 27,
   "metadata": {},
   "outputs": [
    {
     "output_type": "execute_result",
     "data": {
      "text/plain": "                                                        ngram    ud\ndate                                                               \n2005-05-12  [부진/NNG;글로벌/NNG;경기/NNG;둔화/NNG;우려/NNG, 소비/NNG;설...  down\n2005-06-09  [경상/NNG;수지/NNG;적자/NNG;재정/NNG;적자/NNG, 국제/NNG;금융...  down\n2005-06-23                   [대출/NNG;촉진/NNG, 걸림돌/NNG, 개선/NNG]  down\n2005-07-07  [자산/NNG;가격/NNG;상승/NNG;물가/NNG;상승/NNG, 물가/NNG;안정...    up\n2005-08-11  [부동산/NNG;가격/NNG;상승/NNG;금리/NNG;인상/NNG, 국채/NNG;수...  down\n...                                                       ...   ...\n2017-12-31  [수출/NNG;경쟁력/NNG;약화/NNG;우려/NNG, 외환시장/NNG;개입/NNG...    up\n2017-12-31                         [주택담보대출/NNG;금리/NNG;최대/NNG]    up\n2017-12-31  [가계/NNG;대출/NNG;상환/NNG;부담/NNG, gdp/NNG;성장률/NNG;...    up\n2017-12-31  [금융시장/NNG;변동성/NNG;크/VV, 거시/NNG;건전성/NNG;강화/NNG,...    up\n2017-12-31  [fed/NNG;금리/NNG;인상/NNG, 금리/NNG;인상/NNG;걸림돌/NNG,...    up\n\n[243973 rows x 2 columns]",
      "text/html": "<div>\n<style scoped>\n    .dataframe tbody tr th:only-of-type {\n        vertical-align: middle;\n    }\n\n    .dataframe tbody tr th {\n        vertical-align: top;\n    }\n\n    .dataframe thead th {\n        text-align: right;\n    }\n</style>\n<table border=\"1\" class=\"dataframe\">\n  <thead>\n    <tr style=\"text-align: right;\">\n      <th></th>\n      <th>ngram</th>\n      <th>ud</th>\n    </tr>\n    <tr>\n      <th>date</th>\n      <th></th>\n      <th></th>\n    </tr>\n  </thead>\n  <tbody>\n    <tr>\n      <th>2005-05-12</th>\n      <td>[부진/NNG;글로벌/NNG;경기/NNG;둔화/NNG;우려/NNG, 소비/NNG;설...</td>\n      <td>down</td>\n    </tr>\n    <tr>\n      <th>2005-06-09</th>\n      <td>[경상/NNG;수지/NNG;적자/NNG;재정/NNG;적자/NNG, 국제/NNG;금융...</td>\n      <td>down</td>\n    </tr>\n    <tr>\n      <th>2005-06-23</th>\n      <td>[대출/NNG;촉진/NNG, 걸림돌/NNG, 개선/NNG]</td>\n      <td>down</td>\n    </tr>\n    <tr>\n      <th>2005-07-07</th>\n      <td>[자산/NNG;가격/NNG;상승/NNG;물가/NNG;상승/NNG, 물가/NNG;안정...</td>\n      <td>up</td>\n    </tr>\n    <tr>\n      <th>2005-08-11</th>\n      <td>[부동산/NNG;가격/NNG;상승/NNG;금리/NNG;인상/NNG, 국채/NNG;수...</td>\n      <td>down</td>\n    </tr>\n    <tr>\n      <th>...</th>\n      <td>...</td>\n      <td>...</td>\n    </tr>\n    <tr>\n      <th>2017-12-31</th>\n      <td>[수출/NNG;경쟁력/NNG;약화/NNG;우려/NNG, 외환시장/NNG;개입/NNG...</td>\n      <td>up</td>\n    </tr>\n    <tr>\n      <th>2017-12-31</th>\n      <td>[주택담보대출/NNG;금리/NNG;최대/NNG]</td>\n      <td>up</td>\n    </tr>\n    <tr>\n      <th>2017-12-31</th>\n      <td>[가계/NNG;대출/NNG;상환/NNG;부담/NNG, gdp/NNG;성장률/NNG;...</td>\n      <td>up</td>\n    </tr>\n    <tr>\n      <th>2017-12-31</th>\n      <td>[금융시장/NNG;변동성/NNG;크/VV, 거시/NNG;건전성/NNG;강화/NNG,...</td>\n      <td>up</td>\n    </tr>\n    <tr>\n      <th>2017-12-31</th>\n      <td>[fed/NNG;금리/NNG;인상/NNG, 금리/NNG;인상/NNG;걸림돌/NNG,...</td>\n      <td>up</td>\n    </tr>\n  </tbody>\n</table>\n<p>243973 rows × 2 columns</p>\n</div>"
     },
     "metadata": {},
     "execution_count": 27
    }
   ],
   "source": [
    "train_data"
   ]
  },
  {
   "cell_type": "code",
   "execution_count": 22,
   "metadata": {},
   "outputs": [
    {
     "output_type": "execute_result",
     "data": {
      "text/plain": "612"
     },
     "metadata": {},
     "execution_count": 22
    }
   ],
   "source": [
    "import itertools\n",
    "len(set(itertools.chain(*train_data['ngram'])))"
   ]
  },
  {
   "cell_type": "markdown",
   "metadata": {},
   "source": [
    "# 20200802 작업한 것"
   ]
  },
  {
   "cell_type": "code",
   "execution_count": 49,
   "metadata": {},
   "outputs": [
    {
     "output_type": "execute_result",
     "data": {
      "text/plain": "            rate\n2005-03-29  3.24\n2005-03-30  3.25\n2005-03-31  3.26\n2005-04-01  3.25\n2005-04-02  3.25\n...          ...\n2020-07-25  0.48\n2020-07-26  0.48\n2020-07-27  0.49\n2020-07-28  0.47\n2020-07-29  0.48\n\n[5602 rows x 1 columns]",
      "text/html": "<div>\n<style scoped>\n    .dataframe tbody tr th:only-of-type {\n        vertical-align: middle;\n    }\n\n    .dataframe tbody tr th {\n        vertical-align: top;\n    }\n\n    .dataframe thead th {\n        text-align: right;\n    }\n</style>\n<table border=\"1\" class=\"dataframe\">\n  <thead>\n    <tr style=\"text-align: right;\">\n      <th></th>\n      <th>rate</th>\n    </tr>\n  </thead>\n  <tbody>\n    <tr>\n      <th>2005-03-29</th>\n      <td>3.24</td>\n    </tr>\n    <tr>\n      <th>2005-03-30</th>\n      <td>3.25</td>\n    </tr>\n    <tr>\n      <th>2005-03-31</th>\n      <td>3.26</td>\n    </tr>\n    <tr>\n      <th>2005-04-01</th>\n      <td>3.25</td>\n    </tr>\n    <tr>\n      <th>2005-04-02</th>\n      <td>3.25</td>\n    </tr>\n    <tr>\n      <th>...</th>\n      <td>...</td>\n    </tr>\n    <tr>\n      <th>2020-07-25</th>\n      <td>0.48</td>\n    </tr>\n    <tr>\n      <th>2020-07-26</th>\n      <td>0.48</td>\n    </tr>\n    <tr>\n      <th>2020-07-27</th>\n      <td>0.49</td>\n    </tr>\n    <tr>\n      <th>2020-07-28</th>\n      <td>0.47</td>\n    </tr>\n    <tr>\n      <th>2020-07-29</th>\n      <td>0.48</td>\n    </tr>\n  </tbody>\n</table>\n<p>5602 rows × 1 columns</p>\n</div>"
     },
     "metadata": {},
     "execution_count": 49
    }
   ],
   "source": [
    "import pandas as pd\n",
    "pd.read_json('call_raw.json')"
   ]
  },
  {
   "cell_type": "code",
   "execution_count": 15,
   "metadata": {},
   "outputs": [],
   "source": [
    "# 금리 라벨링 함수\n",
    "import pandas as pd\n",
    "import datetime\n",
    "\n",
    "def rate_label(datas, date_count, rate_limit):\n",
    "\n",
    "    temp = []\n",
    "    for i in range(len(datas)-date_count):\n",
    "        rate_change = float(datas['rate'][i+date_count]) - float(datas['rate'][i])\n",
    "        if rate_change >= rate_limit:\n",
    "            temp.append(1)\n",
    "        elif rate_change <= -rate_limit:\n",
    "            temp.append(-1)\n",
    "        else:\n",
    "            temp.append(0)\n",
    "\n",
    "    temp\n",
    "    new_data = datas.iloc[:-date_count]\n",
    "    new_data['ud'] = temp\n",
    "    new_data.reset_index(inplace=True)\n",
    "    new_data.columns = ['date', 'rate', 'ud']\n",
    "    new_data['date'] = list(map(lambda i : i.date(), new_data['date']))\n",
    "    new_data.to_json('call_{}_{}.json'.format(str(date_count), str(rate_limit)))"
   ]
  },
  {
   "cell_type": "code",
   "execution_count": 53,
   "metadata": {},
   "outputs": [
    {
     "output_type": "execute_result",
     "data": {
      "text/plain": "[5, 10, 15, 20, 25, 30]"
     },
     "metadata": {},
     "execution_count": 53
    }
   ],
   "source": [
    "list(range(5,31,5))"
   ]
  },
  {
   "cell_type": "code",
   "execution_count": 16,
   "metadata": {},
   "outputs": [],
   "source": [
    "# 금리 Raw 데이터에서 기간, 금리 변동 별로 Labeling\n",
    "datas = pd.read_json('call_raw.json')\n",
    "date_count = range(5,31, 5)\n",
    "rate_limit = [0.01, 0.02, 0.03]\n",
    "\n",
    "for dc in date_count:\n",
    "    for rl in rate_limit:\n",
    "        rate_label(datas, dc, rl)\n"
   ]
  },
  {
   "cell_type": "code",
   "execution_count": 4,
   "metadata": {},
   "outputs": [],
   "source": [
    "import pandas as pd\n",
    "train_data = pd.read_json('testing/final_ngram_comma.json')"
   ]
  },
  {
   "cell_type": "code",
   "execution_count": 67,
   "metadata": {},
   "outputs": [],
   "source": []
  },
  {
   "cell_type": "code",
   "execution_count": 7,
   "metadata": {},
   "outputs": [],
   "source": [
    "from ngram import ngram"
   ]
  },
  {
   "cell_type": "code",
   "execution_count": 8,
   "metadata": {},
   "outputs": [],
   "source": [
    "ng = ngram.ngram()"
   ]
  },
  {
   "cell_type": "code",
   "execution_count": 10,
   "metadata": {},
   "outputs": [
    {
     "output_type": "execute_result",
     "data": {
      "text/plain": "['testing/rate_data\\\\call_raw.json']"
     },
     "metadata": {},
     "execution_count": 10
    }
   ],
   "source": [
    "ng.search('testing/rate_data')"
   ]
  },
  {
   "cell_type": "code",
   "execution_count": 28,
   "metadata": {},
   "outputs": [],
   "source": [
    "import pandas as pd\n",
    "import numpy as np\n",
    "import itertools\n",
    "import nltk\n",
    "import copy\n",
    "\n",
    "class NBC():\n",
    "    def add_data(self, datas):\n",
    "        word_column = datas.columns[0]\n",
    "        target_column = datas.columns[1]\n",
    "        target_ls = list(set(datas[target_column]))\n",
    "        # list가 아닐 경우 실행\n",
    "        # datas[word_column] = list(map(lambda i : i.split(','), datas[word_column]))\n",
    "\n",
    "        total_ngram = list(itertools.chain(*list(datas[word_column]))) \n",
    "        unique_ngram = list(set(total_ngram))\n",
    "        result_df = pd.DataFrame(unique_ngram, columns = [word_column]).set_index(word_column)\n",
    "        for target in target_ls:\n",
    "            this_ngram = list(itertools.chain(*list(datas[datas[target_column] == target][word_column])))\n",
    "            fdist = nltk.FreqDist(this_ngram)\n",
    "            temp_df = pd.DataFrame(list(zip(fdist.keys(), fdist.values())), columns= [word_column, 'count']).set_index(word_column)\n",
    "            result_df[target] = temp_df['count']\n",
    "        \n",
    "        result_df.fillna(0, inplace=True)\n",
    "        result_df['score'] = 0\n",
    "        self.df = copy.deepcopy(result_df)\n",
    "        return self.df\n",
    "        # self.df['score'] = 0\n",
    "        # return self.df\n",
    "        # result_df.fillna(0, inplace=True)\n",
    "        # result_df['score'] = 0\n",
    "        # return result_df\n",
    "\n",
    "    def count_vec(self, datas):\n",
    "        word_column = datas.columns[0]\n",
    "        target_column = datas.columns[1]\n",
    "        target_ls = list(set(datas[target_column]))\n",
    "\n",
    "        total_ngram = list(itertools.chain(*list(datas[word_column]))) \n",
    "        unique_ngram = list(set(total_ngram))\n",
    "        result_df = pd.DataFrame(unique_ngram, columns = [word_column]).set_index(word_column)\n",
    "        \n",
    "        for target in target_ls:\n",
    "            this_ngram = list(itertools.chain(*list(datas[datas[target_column] == target][word_column])))\n",
    "            fdist = nltk.FreqDist(this_ngram)\n",
    "            temp_df = pd.DataFrame(list(zip(fdist.keys(), fdist.values())), columns= [word_column, 'count']).set_index(word_column)\n",
    "            result_df[target] = temp_df['count']\n",
    "\n",
    "        result_df.fillna(0, inplace=True)\n",
    "        return result_df\n",
    "\n",
    "    def polarity_score(self, datas):\n",
    "        df = datas\n",
    "        \n",
    "        df['haw'] = df['up'] / sum(df['up'])\n",
    "        df['dov'] = df['down'] / sum(df['down'])\n",
    "        self.df['score'] += df['haw'] / df['dov']\n",
    "        return self.df\n",
    "\n",
    "    def bagging(self, train_data, k):\n",
    "        for i in range(k):\n",
    "            self.polarity_score(self.count_vec(train_data.sample(frac=0.9)))\n",
    "        self.df['score'] = self.df['score'] / k\n",
    "        return self.df"
   ]
  },
  {
   "cell_type": "code",
   "execution_count": 29,
   "metadata": {},
   "outputs": [
    {
     "output_type": "execute_result",
     "data": {
      "text/plain": "                                 down     up  score\nngram                                              \n실업보험/NNG;청구자/NNG;감소/NNG           0.0    2.0      0\n회복/NNG;불씨/NNG;꺼지/VV               1.0    3.0      0\n경제/NNG;예상/NNG;나쁘/VA               6.0    3.0      0\n고용자수/NNG;둔화/NNG                   2.0    6.0      0\n둔화/NNG;우려/NNG;안전자산/NNG;선호/NNG     3.0    6.0      0\n...                               ...    ...    ...\n기대/NNG;인플레이션/NNG;금리/NNG;인상/NNG    2.0    5.0      0\n하향/NNG;압력/NNG                   141.0  213.0      0\n국채/NNG;신용등급/NNG;상향/NNG            0.0    7.0      0\n콜차입/NNG;늘/VV                      3.0    4.0      0\n세계/NNG;경제/NNG;경기/NNG;둔화/NNG       7.0   17.0      0\n\n[64729 rows x 3 columns]",
      "text/html": "<div>\n<style scoped>\n    .dataframe tbody tr th:only-of-type {\n        vertical-align: middle;\n    }\n\n    .dataframe tbody tr th {\n        vertical-align: top;\n    }\n\n    .dataframe thead th {\n        text-align: right;\n    }\n</style>\n<table border=\"1\" class=\"dataframe\">\n  <thead>\n    <tr style=\"text-align: right;\">\n      <th></th>\n      <th>down</th>\n      <th>up</th>\n      <th>score</th>\n    </tr>\n    <tr>\n      <th>ngram</th>\n      <th></th>\n      <th></th>\n      <th></th>\n    </tr>\n  </thead>\n  <tbody>\n    <tr>\n      <th>실업보험/NNG;청구자/NNG;감소/NNG</th>\n      <td>0.0</td>\n      <td>2.0</td>\n      <td>0</td>\n    </tr>\n    <tr>\n      <th>회복/NNG;불씨/NNG;꺼지/VV</th>\n      <td>1.0</td>\n      <td>3.0</td>\n      <td>0</td>\n    </tr>\n    <tr>\n      <th>경제/NNG;예상/NNG;나쁘/VA</th>\n      <td>6.0</td>\n      <td>3.0</td>\n      <td>0</td>\n    </tr>\n    <tr>\n      <th>고용자수/NNG;둔화/NNG</th>\n      <td>2.0</td>\n      <td>6.0</td>\n      <td>0</td>\n    </tr>\n    <tr>\n      <th>둔화/NNG;우려/NNG;안전자산/NNG;선호/NNG</th>\n      <td>3.0</td>\n      <td>6.0</td>\n      <td>0</td>\n    </tr>\n    <tr>\n      <th>...</th>\n      <td>...</td>\n      <td>...</td>\n      <td>...</td>\n    </tr>\n    <tr>\n      <th>기대/NNG;인플레이션/NNG;금리/NNG;인상/NNG</th>\n      <td>2.0</td>\n      <td>5.0</td>\n      <td>0</td>\n    </tr>\n    <tr>\n      <th>하향/NNG;압력/NNG</th>\n      <td>141.0</td>\n      <td>213.0</td>\n      <td>0</td>\n    </tr>\n    <tr>\n      <th>국채/NNG;신용등급/NNG;상향/NNG</th>\n      <td>0.0</td>\n      <td>7.0</td>\n      <td>0</td>\n    </tr>\n    <tr>\n      <th>콜차입/NNG;늘/VV</th>\n      <td>3.0</td>\n      <td>4.0</td>\n      <td>0</td>\n    </tr>\n    <tr>\n      <th>세계/NNG;경제/NNG;경기/NNG;둔화/NNG</th>\n      <td>7.0</td>\n      <td>17.0</td>\n      <td>0</td>\n    </tr>\n  </tbody>\n</table>\n<p>64729 rows × 3 columns</p>\n</div>"
     },
     "metadata": {},
     "execution_count": 29
    }
   ],
   "source": [
    "nbc = NBC()\n",
    "nbc.add_data(train_data)"
   ]
  },
  {
   "cell_type": "code",
   "execution_count": 30,
   "metadata": {},
   "outputs": [
    {
     "output_type": "execute_result",
     "data": {
      "text/plain": "                                 down     up     score\nngram                                                 \n실업보험/NNG;청구자/NNG;감소/NNG           0.0    2.0       inf\n회복/NNG;불씨/NNG;꺼지/VV               1.0    3.0       inf\n경제/NNG;예상/NNG;나쁘/VA               6.0    3.0  0.368746\n고용자수/NNG;둔화/NNG                   2.0    6.0  1.862648\n둔화/NNG;우려/NNG;안전자산/NNG;선호/NNG     3.0    6.0  1.286753\n...                               ...    ...       ...\n기대/NNG;인플레이션/NNG;금리/NNG;인상/NNG    2.0    5.0  1.649582\n하향/NNG;압력/NNG                   141.0  213.0  1.010181\n국채/NNG;신용등급/NNG;상향/NNG            0.0    7.0       inf\n콜차입/NNG;늘/VV                      3.0    4.0  0.852732\n세계/NNG;경제/NNG;경기/NNG;둔화/NNG       7.0   17.0  1.641009\n\n[64729 rows x 3 columns]",
      "text/html": "<div>\n<style scoped>\n    .dataframe tbody tr th:only-of-type {\n        vertical-align: middle;\n    }\n\n    .dataframe tbody tr th {\n        vertical-align: top;\n    }\n\n    .dataframe thead th {\n        text-align: right;\n    }\n</style>\n<table border=\"1\" class=\"dataframe\">\n  <thead>\n    <tr style=\"text-align: right;\">\n      <th></th>\n      <th>down</th>\n      <th>up</th>\n      <th>score</th>\n    </tr>\n    <tr>\n      <th>ngram</th>\n      <th></th>\n      <th></th>\n      <th></th>\n    </tr>\n  </thead>\n  <tbody>\n    <tr>\n      <th>실업보험/NNG;청구자/NNG;감소/NNG</th>\n      <td>0.0</td>\n      <td>2.0</td>\n      <td>inf</td>\n    </tr>\n    <tr>\n      <th>회복/NNG;불씨/NNG;꺼지/VV</th>\n      <td>1.0</td>\n      <td>3.0</td>\n      <td>inf</td>\n    </tr>\n    <tr>\n      <th>경제/NNG;예상/NNG;나쁘/VA</th>\n      <td>6.0</td>\n      <td>3.0</td>\n      <td>0.368746</td>\n    </tr>\n    <tr>\n      <th>고용자수/NNG;둔화/NNG</th>\n      <td>2.0</td>\n      <td>6.0</td>\n      <td>1.862648</td>\n    </tr>\n    <tr>\n      <th>둔화/NNG;우려/NNG;안전자산/NNG;선호/NNG</th>\n      <td>3.0</td>\n      <td>6.0</td>\n      <td>1.286753</td>\n    </tr>\n    <tr>\n      <th>...</th>\n      <td>...</td>\n      <td>...</td>\n      <td>...</td>\n    </tr>\n    <tr>\n      <th>기대/NNG;인플레이션/NNG;금리/NNG;인상/NNG</th>\n      <td>2.0</td>\n      <td>5.0</td>\n      <td>1.649582</td>\n    </tr>\n    <tr>\n      <th>하향/NNG;압력/NNG</th>\n      <td>141.0</td>\n      <td>213.0</td>\n      <td>1.010181</td>\n    </tr>\n    <tr>\n      <th>국채/NNG;신용등급/NNG;상향/NNG</th>\n      <td>0.0</td>\n      <td>7.0</td>\n      <td>inf</td>\n    </tr>\n    <tr>\n      <th>콜차입/NNG;늘/VV</th>\n      <td>3.0</td>\n      <td>4.0</td>\n      <td>0.852732</td>\n    </tr>\n    <tr>\n      <th>세계/NNG;경제/NNG;경기/NNG;둔화/NNG</th>\n      <td>7.0</td>\n      <td>17.0</td>\n      <td>1.641009</td>\n    </tr>\n  </tbody>\n</table>\n<p>64729 rows × 3 columns</p>\n</div>"
     },
     "metadata": {},
     "execution_count": 30
    }
   ],
   "source": [
    "nbc.bagging(train_data, 30)"
   ]
  },
  {
   "cell_type": "code",
   "execution_count": 31,
   "metadata": {},
   "outputs": [
    {
     "output_type": "execute_result",
     "data": {
      "text/plain": "                                 down     up     score\nngram                                                 \n실업보험/NNG;청구자/NNG;감소/NNG           0.0    2.0       inf\n회복/NNG;불씨/NNG;꺼지/VV               1.0    3.0       inf\n경제/NNG;예상/NNG;나쁘/VA               6.0    3.0  0.368746\n고용자수/NNG;둔화/NNG                   2.0    6.0  1.862648\n둔화/NNG;우려/NNG;안전자산/NNG;선호/NNG     3.0    6.0  1.286753\n...                               ...    ...       ...\n기대/NNG;인플레이션/NNG;금리/NNG;인상/NNG    2.0    5.0  1.649582\n하향/NNG;압력/NNG                   141.0  213.0  1.010181\n국채/NNG;신용등급/NNG;상향/NNG            0.0    7.0       inf\n콜차입/NNG;늘/VV                      3.0    4.0  0.852732\n세계/NNG;경제/NNG;경기/NNG;둔화/NNG       7.0   17.0  1.641009\n\n[64729 rows x 3 columns]",
      "text/html": "<div>\n<style scoped>\n    .dataframe tbody tr th:only-of-type {\n        vertical-align: middle;\n    }\n\n    .dataframe tbody tr th {\n        vertical-align: top;\n    }\n\n    .dataframe thead th {\n        text-align: right;\n    }\n</style>\n<table border=\"1\" class=\"dataframe\">\n  <thead>\n    <tr style=\"text-align: right;\">\n      <th></th>\n      <th>down</th>\n      <th>up</th>\n      <th>score</th>\n    </tr>\n    <tr>\n      <th>ngram</th>\n      <th></th>\n      <th></th>\n      <th></th>\n    </tr>\n  </thead>\n  <tbody>\n    <tr>\n      <th>실업보험/NNG;청구자/NNG;감소/NNG</th>\n      <td>0.0</td>\n      <td>2.0</td>\n      <td>inf</td>\n    </tr>\n    <tr>\n      <th>회복/NNG;불씨/NNG;꺼지/VV</th>\n      <td>1.0</td>\n      <td>3.0</td>\n      <td>inf</td>\n    </tr>\n    <tr>\n      <th>경제/NNG;예상/NNG;나쁘/VA</th>\n      <td>6.0</td>\n      <td>3.0</td>\n      <td>0.368746</td>\n    </tr>\n    <tr>\n      <th>고용자수/NNG;둔화/NNG</th>\n      <td>2.0</td>\n      <td>6.0</td>\n      <td>1.862648</td>\n    </tr>\n    <tr>\n      <th>둔화/NNG;우려/NNG;안전자산/NNG;선호/NNG</th>\n      <td>3.0</td>\n      <td>6.0</td>\n      <td>1.286753</td>\n    </tr>\n    <tr>\n      <th>...</th>\n      <td>...</td>\n      <td>...</td>\n      <td>...</td>\n    </tr>\n    <tr>\n      <th>기대/NNG;인플레이션/NNG;금리/NNG;인상/NNG</th>\n      <td>2.0</td>\n      <td>5.0</td>\n      <td>1.649582</td>\n    </tr>\n    <tr>\n      <th>하향/NNG;압력/NNG</th>\n      <td>141.0</td>\n      <td>213.0</td>\n      <td>1.010181</td>\n    </tr>\n    <tr>\n      <th>국채/NNG;신용등급/NNG;상향/NNG</th>\n      <td>0.0</td>\n      <td>7.0</td>\n      <td>inf</td>\n    </tr>\n    <tr>\n      <th>콜차입/NNG;늘/VV</th>\n      <td>3.0</td>\n      <td>4.0</td>\n      <td>0.852732</td>\n    </tr>\n    <tr>\n      <th>세계/NNG;경제/NNG;경기/NNG;둔화/NNG</th>\n      <td>7.0</td>\n      <td>17.0</td>\n      <td>1.641009</td>\n    </tr>\n  </tbody>\n</table>\n<p>64729 rows × 3 columns</p>\n</div>"
     },
     "metadata": {},
     "execution_count": 31
    }
   ],
   "source": [
    "nbc.df"
   ]
  },
  {
   "cell_type": "code",
   "execution_count": 33,
   "metadata": {},
   "outputs": [],
   "source": [
    "nbc.df = nbc.df[nbc.df[['down','up']].sum(axis=1) > 10]\n",
    "\n",
    "hawkish = nbc.df[nbc.df['score'] >= 1.3].index\n",
    "dovish = nbc.df[nbc.df['score'] <= 10/13].index"
   ]
  },
  {
   "cell_type": "code",
   "execution_count": 18,
   "metadata": {},
   "outputs": [],
   "source": [
    "\n",
    "# # file list 만큼 돌기\n",
    "# cd_df = pd.read_json(ng.file_list[14])\n",
    "# cd_df['date'] = list(map(lambda i : i.date(), cd_df['date']))\n",
    "# cd_df.set_index('date', inplace=True)\n",
    "\n",
    "# train_data['ud'] = cd_df['ud']"
   ]
  },
  {
   "cell_type": "code",
   "execution_count": 73,
   "metadata": {
    "tags": []
   },
   "outputs": [
    {
     "output_type": "stream",
     "name": "stdout",
     "text": "rate_data\\call_10_0.01.json           tone      rate\ntone  1.000000 -0.012213\nrate -0.012213  1.000000\nrate_data\\call_10_0.02.json           tone      rate\ntone  1.000000  0.150795\nrate  0.150795  1.000000\nrate_data\\call_10_0.03.json           tone      rate\ntone  1.000000  0.164027\nrate  0.164027  1.000000\nrate_data\\call_15_0.01.json          tone     rate\ntone  1.00000  0.10473\nrate  0.10473  1.00000\nrate_data\\call_15_0.02.json           tone      rate\ntone  1.000000  0.281057\nrate  0.281057  1.000000\nrate_data\\call_15_0.03.json           tone      rate\ntone  1.000000  0.327097\nrate  0.327097  1.000000\nrate_data\\call_20_0.01.json           tone      rate\ntone  1.000000  0.092606\nrate  0.092606  1.000000\nrate_data\\call_20_0.02.json          tone     rate\ntone  1.00000  0.32549\nrate  0.32549  1.00000\nrate_data\\call_20_0.03.json           tone      rate\ntone  1.000000  0.295735\nrate  0.295735  1.000000\nrate_data\\call_25_0.01.json           tone      rate\ntone  1.000000  0.212321\nrate  0.212321  1.000000\nrate_data\\call_25_0.02.json           tone      rate\ntone  1.000000  0.383646\nrate  0.383646  1.000000\nrate_data\\call_25_0.03.json           tone      rate\ntone  1.000000  0.395235\nrate  0.395235  1.000000\nrate_data\\call_30_0.01.json           tone      rate\ntone  1.000000  0.330993\nrate  0.330993  1.000000\nrate_data\\call_30_0.02.json           tone      rate\ntone  1.000000  0.354508\nrate  0.354508  1.000000\nrate_data\\call_30_0.03.json           tone      rate\ntone  1.000000  0.367765\nrate  0.367765  1.000000\nrate_data\\call_5_0.01.json           tone      rate\ntone  1.000000  0.053032\nrate  0.053032  1.000000\nrate_data\\call_5_0.02.json           tone      rate\ntone  1.000000  0.301089\nrate  0.301089  1.000000\nrate_data\\call_5_0.03.json           tone      rate\ntone  1.000000  0.421094\nrate  0.421094  1.000000\n"
    }
   ],
   "source": [
    "import re\n",
    "import pandas as pd\n",
    "import numpy as np \n",
    "ngram_limit = 5\n",
    "def tone_sent(x):\n",
    "    a = 0\n",
    "    b = 0\n",
    "    for ngram in x:\n",
    "        if ngram in hawkish:\n",
    "            a += 1\n",
    "        elif ngram in dovish:\n",
    "            b += 1\n",
    "    if a+b < ngram_limit:\n",
    "        return np.nan\n",
    "    try:\n",
    "        return (a-b) / (a+b)\n",
    "    except:\n",
    "        return np.nan\n",
    "\n",
    "corr_result = []\n",
    "sr_df = pd.read_json('standard_rate.json').set_index('date')\n",
    "    \n",
    "for file in ng.file_list:\n",
    "    cd_df = pd.read_json(file)\n",
    "    cd_df['date'] = list(map(lambda i : i.date(), cd_df['date']))\n",
    "    cd_df.set_index('date', inplace=True)\n",
    "\n",
    "    train_data['ud'] = cd_df['ud']\n",
    "    nbc = NBC()\n",
    "    nbc.add_data(train_data)\n",
    "    nbc.bagging(train_data, 30)\n",
    "    nbc.df = nbc.df[nbc.df[[1,0,-1]].sum(axis=1) > 15] # 빈도 수 15개 미만 NGRAM 자르기\n",
    "\n",
    "    hawkish = nbc.df[nbc.df['score'] >= 1.3].index\n",
    "    dovish = nbc.df[nbc.df['score'] <= 10/13].index\n",
    "\n",
    "    test_data = pd.read_json('test_ngram_datas.json')\n",
    "    test_data['ngram'] = list(map(lambda i : i.split(','), test_data['ngram']))\n",
    "    test_data['date'] = list(map(lambda i : i.date(), test_data['date']))\n",
    "    test_data = test_data[test_data['date'] <= datetime.date(2017,12,31)]\n",
    "\n",
    "    # Tone 계산\n",
    "\n",
    "    test_data['tone'] = list(map(tone_sent, test_data['ngram']))\n",
    "    test_data.dropna(inplace=True)\n",
    "    # 0은 중립\n",
    "    test_data['HD'] = list(map(lambda i : 'H' if i > 0 else 'D' if i < 0 else np.nan, test_data['tone']))\n",
    "    test_data.dropna(inplace=True)\n",
    "    test_data['H'] = list(map(lambda i : 1 if i == 'H' else 0, test_data['HD']))\n",
    "    test_data['D'] = list(map(lambda i : 1 if i == 'D' else 0, test_data['HD']))\n",
    "    final_tone = test_data.groupby('date').sum()[['H','D']]\n",
    "    final_tone['tone'] = (final_tone['H'] - final_tone['D']) / (final_tone['H'] + final_tone['D'])\n",
    "    final_tone['rate'] = sr_df['rate']\n",
    "    corr = final_tone[['tone','rate']].corr(method = 'pearson')\n",
    "    range_limit = re.search('[0-9].*(?=\\.json)', file)\n",
    "    range_limit = range_limit.group()\n",
    "    print(range_limit, len(final_tone), corr, sep = '\\n')\n",
    "    corr_result.append(corr)\n",
    "\n"
   ]
  },
  {
   "cell_type": "code",
   "execution_count": 36,
   "metadata": {},
   "outputs": [],
   "source": []
  },
  {
   "cell_type": "code",
   "execution_count": 215,
   "metadata": {},
   "outputs": [],
   "source": [
    "final_test = final_test[final_test['count']>50]"
   ]
  },
  {
   "cell_type": "code",
   "execution_count": 40,
   "metadata": {},
   "outputs": [],
   "source": [
    "def useful_ngram(x):\n",
    "    a = 0\n",
    "    b = 0\n",
    "    for ngram in x:\n",
    "        if ngram in hawkish:\n",
    "            a += 1\n",
    "        elif ngram in dovish:\n",
    "            b += 1\n",
    "    return a+b"
   ]
  },
  {
   "cell_type": "code",
   "execution_count": 41,
   "metadata": {},
   "outputs": [],
   "source": [
    "final_test['useful'] = list(map(useful_ngram, final_test['ngram']))"
   ]
  },
  {
   "cell_type": "code",
   "execution_count": 42,
   "metadata": {},
   "outputs": [
    {
     "output_type": "execute_result",
     "data": {
      "text/plain": "date\n2005-05-12    65\n2005-06-09    67\n2005-07-07    77\n2005-08-11    87\n2005-09-08    60\n              ..\n2009-08-11    93\n2009-09-10    81\n2009-09-24     2\n2009-10-09    66\n2009-11-12    82\nName: useful, Length: 73, dtype: int64"
     },
     "metadata": {},
     "execution_count": 42
    }
   ],
   "source": [
    "final_test['useful'][:int(len(final_test)/3)]"
   ]
  },
  {
   "cell_type": "code",
   "execution_count": 43,
   "metadata": {},
   "outputs": [
    {
     "output_type": "execute_result",
     "data": {
      "text/plain": "{'whiskers': [<matplotlib.lines.Line2D at 0x24999d40388>,\n  <matplotlib.lines.Line2D at 0x24999d36d48>],\n 'caps': [<matplotlib.lines.Line2D at 0x24999d40e88>,\n  <matplotlib.lines.Line2D at 0x24999d40f88>],\n 'boxes': [<matplotlib.lines.Line2D at 0x24999d36b08>],\n 'medians': [<matplotlib.lines.Line2D at 0x24999d45988>],\n 'fliers': [<matplotlib.lines.Line2D at 0x24999d36348>],\n 'means': []}"
     },
     "metadata": {},
     "execution_count": 43
    },
    {
     "output_type": "display_data",
     "data": {
      "text/plain": "<Figure size 432x288 with 1 Axes>",
      "image/svg+xml": "<?xml version=\"1.0\" encoding=\"utf-8\" standalone=\"no\"?>\r\n<!DOCTYPE svg PUBLIC \"-//W3C//DTD SVG 1.1//EN\"\r\n  \"http://www.w3.org/Graphics/SVG/1.1/DTD/svg11.dtd\">\r\n<!-- Created with matplotlib (https://matplotlib.org/) -->\r\n<svg height=\"248.518125pt\" version=\"1.1\" viewBox=\"0 0 375.2875 248.518125\" width=\"375.2875pt\" xmlns=\"http://www.w3.org/2000/svg\" xmlns:xlink=\"http://www.w3.org/1999/xlink\">\r\n <defs>\r\n  <style type=\"text/css\">\r\n*{stroke-linecap:butt;stroke-linejoin:round;}\r\n  </style>\r\n </defs>\r\n <g id=\"figure_1\">\r\n  <g id=\"patch_1\">\r\n   <path d=\"M 0 248.518125 \r\nL 375.2875 248.518125 \r\nL 375.2875 0 \r\nL 0 0 \r\nz\r\n\" style=\"fill:none;\"/>\r\n  </g>\r\n  <g id=\"axes_1\">\r\n   <g id=\"patch_2\">\r\n    <path d=\"M 33.2875 224.64 \r\nL 368.0875 224.64 \r\nL 368.0875 7.2 \r\nL 33.2875 7.2 \r\nz\r\n\" style=\"fill:#ffffff;\"/>\r\n   </g>\r\n   <g id=\"matplotlib.axis_1\">\r\n    <g id=\"xtick_1\">\r\n     <g id=\"line2d_1\">\r\n      <defs>\r\n       <path d=\"M 0 0 \r\nL 0 3.5 \r\n\" id=\"md42dc10494\" style=\"stroke:#000000;stroke-width:0.8;\"/>\r\n      </defs>\r\n      <g>\r\n       <use style=\"stroke:#000000;stroke-width:0.8;\" x=\"200.6875\" xlink:href=\"#md42dc10494\" y=\"224.64\"/>\r\n      </g>\r\n     </g>\r\n     <g id=\"text_1\">\r\n      <!-- 1 -->\r\n      <defs>\r\n       <path d=\"M 12.40625 8.296875 \r\nL 28.515625 8.296875 \r\nL 28.515625 63.921875 \r\nL 10.984375 60.40625 \r\nL 10.984375 69.390625 \r\nL 28.421875 72.90625 \r\nL 38.28125 72.90625 \r\nL 38.28125 8.296875 \r\nL 54.390625 8.296875 \r\nL 54.390625 0 \r\nL 12.40625 0 \r\nz\r\n\" id=\"DejaVuSans-49\"/>\r\n      </defs>\r\n      <g transform=\"translate(197.50625 239.238437)scale(0.1 -0.1)\">\r\n       <use xlink:href=\"#DejaVuSans-49\"/>\r\n      </g>\r\n     </g>\r\n    </g>\r\n   </g>\r\n   <g id=\"matplotlib.axis_2\">\r\n    <g id=\"ytick_1\">\r\n     <g id=\"line2d_2\">\r\n      <defs>\r\n       <path d=\"M 0 0 \r\nL -3.5 0 \r\n\" id=\"mbf4ce56798\" style=\"stroke:#000000;stroke-width:0.8;\"/>\r\n      </defs>\r\n      <g>\r\n       <use style=\"stroke:#000000;stroke-width:0.8;\" x=\"33.2875\" xlink:href=\"#mbf4ce56798\" y=\"215.556658\"/>\r\n      </g>\r\n     </g>\r\n     <g id=\"text_2\">\r\n      <!-- 0 -->\r\n      <defs>\r\n       <path d=\"M 31.78125 66.40625 \r\nQ 24.171875 66.40625 20.328125 58.90625 \r\nQ 16.5 51.421875 16.5 36.375 \r\nQ 16.5 21.390625 20.328125 13.890625 \r\nQ 24.171875 6.390625 31.78125 6.390625 \r\nQ 39.453125 6.390625 43.28125 13.890625 \r\nQ 47.125 21.390625 47.125 36.375 \r\nQ 47.125 51.421875 43.28125 58.90625 \r\nQ 39.453125 66.40625 31.78125 66.40625 \r\nz\r\nM 31.78125 74.21875 \r\nQ 44.046875 74.21875 50.515625 64.515625 \r\nQ 56.984375 54.828125 56.984375 36.375 \r\nQ 56.984375 17.96875 50.515625 8.265625 \r\nQ 44.046875 -1.421875 31.78125 -1.421875 \r\nQ 19.53125 -1.421875 13.0625 8.265625 \r\nQ 6.59375 17.96875 6.59375 36.375 \r\nQ 6.59375 54.828125 13.0625 64.515625 \r\nQ 19.53125 74.21875 31.78125 74.21875 \r\nz\r\n\" id=\"DejaVuSans-48\"/>\r\n      </defs>\r\n      <g transform=\"translate(19.925 219.355877)scale(0.1 -0.1)\">\r\n       <use xlink:href=\"#DejaVuSans-48\"/>\r\n      </g>\r\n     </g>\r\n    </g>\r\n    <g id=\"ytick_2\">\r\n     <g id=\"line2d_3\">\r\n      <g>\r\n       <use style=\"stroke:#000000;stroke-width:0.8;\" x=\"33.2875\" xlink:href=\"#mbf4ce56798\" y=\"175.541936\"/>\r\n      </g>\r\n     </g>\r\n     <g id=\"text_3\">\r\n      <!-- 50 -->\r\n      <defs>\r\n       <path d=\"M 10.796875 72.90625 \r\nL 49.515625 72.90625 \r\nL 49.515625 64.59375 \r\nL 19.828125 64.59375 \r\nL 19.828125 46.734375 \r\nQ 21.96875 47.46875 24.109375 47.828125 \r\nQ 26.265625 48.1875 28.421875 48.1875 \r\nQ 40.625 48.1875 47.75 41.5 \r\nQ 54.890625 34.8125 54.890625 23.390625 \r\nQ 54.890625 11.625 47.5625 5.09375 \r\nQ 40.234375 -1.421875 26.90625 -1.421875 \r\nQ 22.3125 -1.421875 17.546875 -0.640625 \r\nQ 12.796875 0.140625 7.71875 1.703125 \r\nL 7.71875 11.625 \r\nQ 12.109375 9.234375 16.796875 8.0625 \r\nQ 21.484375 6.890625 26.703125 6.890625 \r\nQ 35.15625 6.890625 40.078125 11.328125 \r\nQ 45.015625 15.765625 45.015625 23.390625 \r\nQ 45.015625 31 40.078125 35.4375 \r\nQ 35.15625 39.890625 26.703125 39.890625 \r\nQ 22.75 39.890625 18.8125 39.015625 \r\nQ 14.890625 38.140625 10.796875 36.28125 \r\nz\r\n\" id=\"DejaVuSans-53\"/>\r\n      </defs>\r\n      <g transform=\"translate(13.5625 179.341155)scale(0.1 -0.1)\">\r\n       <use xlink:href=\"#DejaVuSans-53\"/>\r\n       <use x=\"63.623047\" xlink:href=\"#DejaVuSans-48\"/>\r\n      </g>\r\n     </g>\r\n    </g>\r\n    <g id=\"ytick_3\">\r\n     <g id=\"line2d_4\">\r\n      <g>\r\n       <use style=\"stroke:#000000;stroke-width:0.8;\" x=\"33.2875\" xlink:href=\"#mbf4ce56798\" y=\"135.527214\"/>\r\n      </g>\r\n     </g>\r\n     <g id=\"text_4\">\r\n      <!-- 100 -->\r\n      <g transform=\"translate(7.2 139.326433)scale(0.1 -0.1)\">\r\n       <use xlink:href=\"#DejaVuSans-49\"/>\r\n       <use x=\"63.623047\" xlink:href=\"#DejaVuSans-48\"/>\r\n       <use x=\"127.246094\" xlink:href=\"#DejaVuSans-48\"/>\r\n      </g>\r\n     </g>\r\n    </g>\r\n    <g id=\"ytick_4\">\r\n     <g id=\"line2d_5\">\r\n      <g>\r\n       <use style=\"stroke:#000000;stroke-width:0.8;\" x=\"33.2875\" xlink:href=\"#mbf4ce56798\" y=\"95.512492\"/>\r\n      </g>\r\n     </g>\r\n     <g id=\"text_5\">\r\n      <!-- 150 -->\r\n      <g transform=\"translate(7.2 99.31171)scale(0.1 -0.1)\">\r\n       <use xlink:href=\"#DejaVuSans-49\"/>\r\n       <use x=\"63.623047\" xlink:href=\"#DejaVuSans-53\"/>\r\n       <use x=\"127.246094\" xlink:href=\"#DejaVuSans-48\"/>\r\n      </g>\r\n     </g>\r\n    </g>\r\n    <g id=\"ytick_5\">\r\n     <g id=\"line2d_6\">\r\n      <g>\r\n       <use style=\"stroke:#000000;stroke-width:0.8;\" x=\"33.2875\" xlink:href=\"#mbf4ce56798\" y=\"55.49777\"/>\r\n      </g>\r\n     </g>\r\n     <g id=\"text_6\">\r\n      <!-- 200 -->\r\n      <defs>\r\n       <path d=\"M 19.1875 8.296875 \r\nL 53.609375 8.296875 \r\nL 53.609375 0 \r\nL 7.328125 0 \r\nL 7.328125 8.296875 \r\nQ 12.9375 14.109375 22.625 23.890625 \r\nQ 32.328125 33.6875 34.8125 36.53125 \r\nQ 39.546875 41.84375 41.421875 45.53125 \r\nQ 43.3125 49.21875 43.3125 52.78125 \r\nQ 43.3125 58.59375 39.234375 62.25 \r\nQ 35.15625 65.921875 28.609375 65.921875 \r\nQ 23.96875 65.921875 18.8125 64.3125 \r\nQ 13.671875 62.703125 7.8125 59.421875 \r\nL 7.8125 69.390625 \r\nQ 13.765625 71.78125 18.9375 73 \r\nQ 24.125 74.21875 28.421875 74.21875 \r\nQ 39.75 74.21875 46.484375 68.546875 \r\nQ 53.21875 62.890625 53.21875 53.421875 \r\nQ 53.21875 48.921875 51.53125 44.890625 \r\nQ 49.859375 40.875 45.40625 35.40625 \r\nQ 44.1875 33.984375 37.640625 27.21875 \r\nQ 31.109375 20.453125 19.1875 8.296875 \r\nz\r\n\" id=\"DejaVuSans-50\"/>\r\n      </defs>\r\n      <g transform=\"translate(7.2 59.296988)scale(0.1 -0.1)\">\r\n       <use xlink:href=\"#DejaVuSans-50\"/>\r\n       <use x=\"63.623047\" xlink:href=\"#DejaVuSans-48\"/>\r\n       <use x=\"127.246094\" xlink:href=\"#DejaVuSans-48\"/>\r\n      </g>\r\n     </g>\r\n    </g>\r\n    <g id=\"ytick_6\">\r\n     <g id=\"line2d_7\">\r\n      <g>\r\n       <use style=\"stroke:#000000;stroke-width:0.8;\" x=\"33.2875\" xlink:href=\"#mbf4ce56798\" y=\"15.483047\"/>\r\n      </g>\r\n     </g>\r\n     <g id=\"text_7\">\r\n      <!-- 250 -->\r\n      <g transform=\"translate(7.2 19.282266)scale(0.1 -0.1)\">\r\n       <use xlink:href=\"#DejaVuSans-50\"/>\r\n       <use x=\"63.623047\" xlink:href=\"#DejaVuSans-53\"/>\r\n       <use x=\"127.246094\" xlink:href=\"#DejaVuSans-48\"/>\r\n      </g>\r\n     </g>\r\n    </g>\r\n   </g>\r\n   <g id=\"line2d_8\">\r\n    <path clip-path=\"url(#p335dc01175)\" d=\"M 175.5775 208.554082 \r\nL 225.7975 208.554082 \r\nL 225.7975 104.115657 \r\nL 175.5775 104.115657 \r\nL 175.5775 208.554082 \r\n\" style=\"fill:none;stroke:#000000;stroke-linecap:square;\"/>\r\n   </g>\r\n   <g id=\"line2d_9\">\r\n    <path clip-path=\"url(#p335dc01175)\" d=\"M 200.6875 208.554082 \r\nL 200.6875 214.756364 \r\n\" style=\"fill:none;stroke:#000000;stroke-linecap:square;\"/>\r\n   </g>\r\n   <g id=\"line2d_10\">\r\n    <path clip-path=\"url(#p335dc01175)\" d=\"M 200.6875 104.115657 \r\nL 200.6875 17.083636 \r\n\" style=\"fill:none;stroke:#000000;stroke-linecap:square;\"/>\r\n   </g>\r\n   <g id=\"line2d_11\">\r\n    <path clip-path=\"url(#p335dc01175)\" d=\"M 188.1325 214.756364 \r\nL 213.2425 214.756364 \r\n\" style=\"fill:none;stroke:#000000;stroke-linecap:square;\"/>\r\n   </g>\r\n   <g id=\"line2d_12\">\r\n    <path clip-path=\"url(#p335dc01175)\" d=\"M 188.1325 17.083636 \r\nL 213.2425 17.083636 \r\n\" style=\"fill:none;stroke:#000000;stroke-linecap:square;\"/>\r\n   </g>\r\n   <g id=\"line2d_13\"/>\r\n   <g id=\"line2d_14\">\r\n    <path clip-path=\"url(#p335dc01175)\" d=\"M 175.5775 151.533103 \r\nL 225.7975 151.533103 \r\n\" style=\"fill:none;stroke:#ff7f0e;stroke-linecap:square;\"/>\r\n   </g>\r\n   <g id=\"patch_3\">\r\n    <path d=\"M 33.2875 224.64 \r\nL 33.2875 7.2 \r\n\" style=\"fill:none;stroke:#000000;stroke-linecap:square;stroke-linejoin:miter;stroke-width:0.8;\"/>\r\n   </g>\r\n   <g id=\"patch_4\">\r\n    <path d=\"M 368.0875 224.64 \r\nL 368.0875 7.2 \r\n\" style=\"fill:none;stroke:#000000;stroke-linecap:square;stroke-linejoin:miter;stroke-width:0.8;\"/>\r\n   </g>\r\n   <g id=\"patch_5\">\r\n    <path d=\"M 33.2875 224.64 \r\nL 368.0875 224.64 \r\n\" style=\"fill:none;stroke:#000000;stroke-linecap:square;stroke-linejoin:miter;stroke-width:0.8;\"/>\r\n   </g>\r\n   <g id=\"patch_6\">\r\n    <path d=\"M 33.2875 7.2 \r\nL 368.0875 7.2 \r\n\" style=\"fill:none;stroke:#000000;stroke-linecap:square;stroke-linejoin:miter;stroke-width:0.8;\"/>\r\n   </g>\r\n  </g>\r\n </g>\r\n <defs>\r\n  <clipPath id=\"p335dc01175\">\r\n   <rect height=\"217.44\" width=\"334.8\" x=\"33.2875\" y=\"7.2\"/>\r\n  </clipPath>\r\n </defs>\r\n</svg>\r\n",
      "image/png": "[encoded data removed]"
     },
     "metadata": {
      "needs_background": "light"
     }
    }
   ],
   "source": [
    "plt.boxplot(final_test['useful'])"
   ]
  },
  {
   "cell_type": "code",
   "execution_count": 78,
   "metadata": {},
   "outputs": [],
   "source": [
    "import pandas as pd\n",
    "train_data = pd.read_json('testing/final_ngram_comma.json')\n",
    "train_data['date'] = list(map(lambda i : i.date(), train_data['date']))\n",
    "train_data.set_index('date', inplace=True)\n",
    "\n",
    "import datetime\n",
    "train_data = train_data.iloc[(train_data.index >= datetime.date(2005,5,1)) & (train_data.index <= datetime.date(2017,12,31))]\n",
    "\n",
    "train_data['ngram'] = list(map(lambda i : i.split(','), train_data['ngram']))\n",
    "\n",
    "call_datas = pd.read_json('testing/rate_data/call_raw.json')"
   ]
  },
  {
   "cell_type": "code",
   "execution_count": 79,
   "metadata": {},
   "outputs": [],
   "source": [
    "train_data['ud'] = rate_label(call_datas,25,0.03)['ud']"
   ]
  },
  {
   "cell_type": "code",
   "execution_count": 63,
   "metadata": {},
   "outputs": [
    {
     "output_type": "execute_result",
     "data": {
      "text/plain": "                                                        ngram  ud\ndate                                                             \n2005-05-12  [부진/NNG;글로벌/NNG;경기/NNG;둔화/NNG;우려/NNG, 소비/NNG;설...   0\n2005-06-09  [경상/NNG;수지/NNG;적자/NNG;재정/NNG;적자/NNG, 국제/NNG;금융...  -1\n2005-06-23                   [대출/NNG;촉진/NNG, 걸림돌/NNG, 개선/NNG]  -1\n2005-07-07  [자산/NNG;가격/NNG;상승/NNG;물가/NNG;상승/NNG, 물가/NNG;안정...   1\n2005-08-11  [부동산/NNG;가격/NNG;상승/NNG;금리/NNG;인상/NNG, 국채/NNG;수...   0\n...                                                       ...  ..\n2017-12-31  [수출/NNG;경쟁력/NNG;약화/NNG;우려/NNG, 외환시장/NNG;개입/NNG...  -1\n2017-12-31                         [주택담보대출/NNG;금리/NNG;최대/NNG]  -1\n2017-12-31  [가계/NNG;대출/NNG;상환/NNG;부담/NNG, gdp/NNG;성장률/NNG;...  -1\n2017-12-31  [금융시장/NNG;변동성/NNG;크/VV, 거시/NNG;건전성/NNG;강화/NNG,...  -1\n2017-12-31  [fed/NNG;금리/NNG;인상/NNG, 금리/NNG;인상/NNG;걸림돌/NNG,...  -1\n\n[243973 rows x 2 columns]",
      "text/html": "<div>\n<style scoped>\n    .dataframe tbody tr th:only-of-type {\n        vertical-align: middle;\n    }\n\n    .dataframe tbody tr th {\n        vertical-align: top;\n    }\n\n    .dataframe thead th {\n        text-align: right;\n    }\n</style>\n<table border=\"1\" class=\"dataframe\">\n  <thead>\n    <tr style=\"text-align: right;\">\n      <th></th>\n      <th>ngram</th>\n      <th>ud</th>\n    </tr>\n    <tr>\n      <th>date</th>\n      <th></th>\n      <th></th>\n    </tr>\n  </thead>\n  <tbody>\n    <tr>\n      <th>2005-05-12</th>\n      <td>[부진/NNG;글로벌/NNG;경기/NNG;둔화/NNG;우려/NNG, 소비/NNG;설...</td>\n      <td>0</td>\n    </tr>\n    <tr>\n      <th>2005-06-09</th>\n      <td>[경상/NNG;수지/NNG;적자/NNG;재정/NNG;적자/NNG, 국제/NNG;금융...</td>\n      <td>-1</td>\n    </tr>\n    <tr>\n      <th>2005-06-23</th>\n      <td>[대출/NNG;촉진/NNG, 걸림돌/NNG, 개선/NNG]</td>\n      <td>-1</td>\n    </tr>\n    <tr>\n      <th>2005-07-07</th>\n      <td>[자산/NNG;가격/NNG;상승/NNG;물가/NNG;상승/NNG, 물가/NNG;안정...</td>\n      <td>1</td>\n    </tr>\n    <tr>\n      <th>2005-08-11</th>\n      <td>[부동산/NNG;가격/NNG;상승/NNG;금리/NNG;인상/NNG, 국채/NNG;수...</td>\n      <td>0</td>\n    </tr>\n    <tr>\n      <th>...</th>\n      <td>...</td>\n      <td>...</td>\n    </tr>\n    <tr>\n      <th>2017-12-31</th>\n      <td>[수출/NNG;경쟁력/NNG;약화/NNG;우려/NNG, 외환시장/NNG;개입/NNG...</td>\n      <td>-1</td>\n    </tr>\n    <tr>\n      <th>2017-12-31</th>\n      <td>[주택담보대출/NNG;금리/NNG;최대/NNG]</td>\n      <td>-1</td>\n    </tr>\n    <tr>\n      <th>2017-12-31</th>\n      <td>[가계/NNG;대출/NNG;상환/NNG;부담/NNG, gdp/NNG;성장률/NNG;...</td>\n      <td>-1</td>\n    </tr>\n    <tr>\n      <th>2017-12-31</th>\n      <td>[금융시장/NNG;변동성/NNG;크/VV, 거시/NNG;건전성/NNG;강화/NNG,...</td>\n      <td>-1</td>\n    </tr>\n    <tr>\n      <th>2017-12-31</th>\n      <td>[fed/NNG;금리/NNG;인상/NNG, 금리/NNG;인상/NNG;걸림돌/NNG,...</td>\n      <td>-1</td>\n    </tr>\n  </tbody>\n</table>\n<p>243973 rows × 2 columns</p>\n</div>"
     },
     "metadata": {},
     "execution_count": 63
    }
   ],
   "source": [
    "train_data"
   ]
  },
  {
   "cell_type": "code",
   "execution_count": 77,
   "metadata": {},
   "outputs": [],
   "source": [
    "import pandas as pd\n",
    "import numpy as np\n",
    "import itertools\n",
    "import nltk\n",
    "import copy\n",
    "import pandas as pd\n",
    "import datetime\n",
    "\n",
    "class NBC():\n",
    "    def add_data(self, datas):\n",
    "        word_column = datas.columns[0]\n",
    "        target_column = datas.columns[1]\n",
    "        target_ls = list(set(datas[target_column]))\n",
    "        # list가 아닐 경우 실행\n",
    "        # datas[word_column] = list(map(lambda i : i.split(','), datas[word_column]))\n",
    "\n",
    "        total_ngram = list(itertools.chain(*list(datas[word_column]))) \n",
    "        unique_ngram = list(set(total_ngram))\n",
    "        result_df = pd.DataFrame(unique_ngram, columns = [word_column]).set_index(word_column)\n",
    "        for target in target_ls:\n",
    "            this_ngram = list(itertools.chain(*list(datas[datas[target_column] == target][word_column])))\n",
    "            fdist = nltk.FreqDist(this_ngram)\n",
    "            temp_df = pd.DataFrame(list(zip(fdist.keys(), fdist.values())), columns= [word_column, 'count']).set_index(word_column)\n",
    "            result_df[target] = temp_df['count']\n",
    "        \n",
    "        result_df.fillna(0, inplace=True)\n",
    "        result_df['score'] = 0\n",
    "        self.df = copy.deepcopy(result_df)\n",
    "        return self.df\n",
    "\n",
    "    def count_vec(self, datas):\n",
    "        word_column = datas.columns[0]\n",
    "        target_column = datas.columns[1]\n",
    "        target_ls = list(set(datas[target_column]))\n",
    "\n",
    "        total_ngram = list(itertools.chain(*list(datas[word_column]))) \n",
    "        unique_ngram = list(set(total_ngram))\n",
    "        result_df = pd.DataFrame(unique_ngram, columns = [word_column]).set_index(word_column)\n",
    "        \n",
    "        for target in target_ls:\n",
    "            this_ngram = list(itertools.chain(*list(datas[datas[target_column] == target][word_column])))\n",
    "            fdist = nltk.FreqDist(this_ngram)\n",
    "            temp_df = pd.DataFrame(list(zip(fdist.keys(), fdist.values())), columns= [word_column, 'count']).set_index(word_column)\n",
    "            result_df[target] = temp_df['count']\n",
    "\n",
    "        result_df.fillna(0, inplace=True)\n",
    "        return result_df\n",
    "\n",
    "    def polarity_score(self, datas):\n",
    "        df = datas\n",
    "        \n",
    "        df['haw'] = df[1] / sum(df[1])\n",
    "        df['dov'] = df[-1] / sum(df[-1])\n",
    "        df['count'] = 1\n",
    "        self.df['score'] += df['haw'] / df['dov']\n",
    "        self.df['count'] += df['count']\n",
    "        return self.df\n",
    "\n",
    "    # 배깅하면서 나온 횟수만큼만 나눠줌 (30으로 나눠버리면 수치가 달라짐)\n",
    "    def bagging(self, train_data, k):\n",
    "        self.df['count'] = 0\n",
    "        for i in range(k):\n",
    "            self.polarity_score(self.count_vec(train_data.sample(frac=0.9)))\n",
    "\n",
    "        \n",
    "        self.df['score'] = self.df['score'] / self.df['count']\n",
    "        return self.df[self.df['count'] != 0]\n",
    "\n",
    "# -day에도 활용 가능하게\n",
    "def rate_label(datas, dc = 30, rl = 0.03):\n",
    "        temp = []\n",
    "        for i in range(len(datas)-dc):\n",
    "            rate_change = float(datas['rate'][i+dc]) - float(datas['rate'][i])\n",
    "            if rate_change >= rl:\n",
    "                temp.append(1)\n",
    "            elif rate_change <= -rl:\n",
    "                temp.append(-1)\n",
    "            else:\n",
    "                temp.append(0)\n",
    "\n",
    "        new_data = datas.iloc[:-dc].reset_index()\n",
    "        new_data['ud'] = temp\n",
    "        # new_data.reset_index(inplace=True)\n",
    "        new_data.columns = ['date', 'rate', 'ud']\n",
    "        new_data['date'] = list(map(lambda i : i.date(), new_data['date']))\n",
    "        return new_data.set_index('date')\n",
    "        # new_data.to_json('call_{}_{}.json'.format(str(dc), str(rl)))\n"
   ]
  },
  {
   "cell_type": "code",
   "execution_count": 91,
   "metadata": {},
   "outputs": [],
   "source": [
    "nbc = NBC()\n",
    "nbc.add_data(train_data)\n",
    "nbc.bagging(train_data, 30)\n",
    "nbc.df = nbc.df[nbc.df[[-1,1,0]].sum(axis=1) > 15]\n",
    "\n",
    "hawkish = nbc.df[nbc.df['score'] >= 1.3].index\n",
    "dovish = nbc.df[nbc.df['score'] <= 10/13].index"
   ]
  },
  {
   "cell_type": "code",
   "execution_count": 92,
   "metadata": {},
   "outputs": [
    {
     "output_type": "execute_result",
     "data": {
      "text/plain": "Index(['외국인/NNG;채권투자/NNG;감소/NNG', 'oecd/NNG;경제/NNG;성장/NNG',\n       '금리/NNG;인하/NNG;최대/NNG', '집값/NNG;떨어/VV', '정책/NNG;최대/NNG', '정체/NNG;빠지/VV',\n       '단기/NNG;수급/NNG;부담/NNG', '가솔린/NNG;재고/NNG;감소/NNG',\n       '신용등급/NNG;투기등급/NNG;강등/NNG', '집값/NNG;상승률/NNG;둔화/NNG',\n       ...\n       '선행/NNG;지수/NNG;상승/NNG', '완만/NNG;성장/NNG', '양적완화/NNG;마이너스/NNG',\n       '경제/NNG;펀더멘털/NNG;견조/NNG', '수출/NNG;약세/NNG', '통화정책/NNG;불안/NNG',\n       '재정위기/NNG;긴축/NNG', '통화/NNG;증가/NNG;둔화/NNG', '단기/NNG;유동성/NNG;증가/NNG',\n       '근원/NNG;인플레이션/NNG;안정/NNG'],\n      dtype='object', name='ngram', length=8337)"
     },
     "metadata": {},
     "execution_count": 92
    }
   ],
   "source": [
    "hawkish"
   ]
  },
  {
   "cell_type": "code",
   "execution_count": 93,
   "metadata": {},
   "outputs": [],
   "source": [
    "test_data = pd.read_json('testing/test_ngram_datas.json')\n",
    "test_data['ngram'] = list(map(lambda i : i.split(','), test_data['ngram']))\n",
    "test_data['date'] = list(map(lambda i : i.date(), test_data['date']))\n",
    "test_data = test_data[test_data['date'] <= datetime.date(2017,12,31)]\n",
    "\n",
    "test_date_list = list(set(list(test_data['date'])))\n",
    "final_test = pd.DataFrame(test_date_list, columns=['date'])\n",
    "\n",
    "import itertools\n",
    "final_test['ngram'] = list(map(lambda i : list(itertools.chain(*test_data[test_data['date'] == i]['ngram'])), test_date_list))\n",
    "final_test['count'] = list(map(lambda i : len(i), final_test.sort_values('date')['ngram']))\n",
    "final_test.set_index('date', inplace=True)\n",
    "final_test.sort_index(inplace=True)"
   ]
  },
  {
   "cell_type": "code",
   "execution_count": 100,
   "metadata": {
    "tags": []
   },
   "outputs": [
    {
     "output_type": "stream",
     "name": "stdout",
     "text": "tone      rate\ntone  1.000000  0.499134\nrate  0.499134  1.000000\n"
    },
    {
     "output_type": "display_data",
     "data": {
      "text/plain": "<Figure size 432x288 with 1 Axes>",
      "image/svg+xml": "<?xml version=\"1.0\" encoding=\"utf-8\" standalone=\"no\"?>\r\n<!DOCTYPE svg PUBLIC \"-//W3C//DTD SVG 1.1//EN\"\r\n  \"http://www.w3.org/Graphics/SVG/1.1/DTD/svg11.dtd\">\r\n<!-- Created with matplotlib (https://matplotlib.org/) -->\r\n<svg height=\"248.518125pt\" version=\"1.1\" viewBox=\"0 0 386.845313 248.518125\" width=\"386.845313pt\" xmlns=\"http://www.w3.org/2000/svg\" xmlns:xlink=\"http://www.w3.org/1999/xlink\">\r\n <defs>\r\n  <style type=\"text/css\">\r\n*{stroke-linecap:butt;stroke-linejoin:round;}\r\n  </style>\r\n </defs>\r\n <g id=\"figure_1\">\r\n  <g id=\"patch_1\">\r\n   <path d=\"M 0 248.518125 \r\nL 386.845313 248.518125 \r\nL 386.845313 0 \r\nL 0 0 \r\nz\r\n\" style=\"fill:none;\"/>\r\n  </g>\r\n  <g id=\"axes_1\">\r\n   <g id=\"patch_2\">\r\n    <path d=\"M 44.845313 224.64 \r\nL 379.645313 224.64 \r\nL 379.645313 7.2 \r\nL 44.845313 7.2 \r\nz\r\n\" style=\"fill:#ffffff;\"/>\r\n   </g>\r\n   <g id=\"matplotlib.axis_1\">\r\n    <g id=\"xtick_1\">\r\n     <g id=\"line2d_1\">\r\n      <defs>\r\n       <path d=\"M 0 0 \r\nL 0 3.5 \r\n\" id=\"m2ddbca9944\" style=\"stroke:#000000;stroke-width:0.8;\"/>\r\n      </defs>\r\n      <g>\r\n       <use style=\"stroke:#000000;stroke-width:0.8;\" x=\"75.549707\" xlink:href=\"#m2ddbca9944\" y=\"224.64\"/>\r\n      </g>\r\n     </g>\r\n     <g id=\"text_1\">\r\n      <!-- 2006 -->\r\n      <defs>\r\n       <path d=\"M 19.1875 8.296875 \r\nL 53.609375 8.296875 \r\nL 53.609375 0 \r\nL 7.328125 0 \r\nL 7.328125 8.296875 \r\nQ 12.9375 14.109375 22.625 23.890625 \r\nQ 32.328125 33.6875 34.8125 36.53125 \r\nQ 39.546875 41.84375 41.421875 45.53125 \r\nQ 43.3125 49.21875 43.3125 52.78125 \r\nQ 43.3125 58.59375 39.234375 62.25 \r\nQ 35.15625 65.921875 28.609375 65.921875 \r\nQ 23.96875 65.921875 18.8125 64.3125 \r\nQ 13.671875 62.703125 7.8125 59.421875 \r\nL 7.8125 69.390625 \r\nQ 13.765625 71.78125 18.9375 73 \r\nQ 24.125 74.21875 28.421875 74.21875 \r\nQ 39.75 74.21875 46.484375 68.546875 \r\nQ 53.21875 62.890625 53.21875 53.421875 \r\nQ 53.21875 48.921875 51.53125 44.890625 \r\nQ 49.859375 40.875 45.40625 35.40625 \r\nQ 44.1875 33.984375 37.640625 27.21875 \r\nQ 31.109375 20.453125 19.1875 8.296875 \r\nz\r\n\" id=\"DejaVuSans-50\"/>\r\n       <path d=\"M 31.78125 66.40625 \r\nQ 24.171875 66.40625 20.328125 58.90625 \r\nQ 16.5 51.421875 16.5 36.375 \r\nQ 16.5 21.390625 20.328125 13.890625 \r\nQ 24.171875 6.390625 31.78125 6.390625 \r\nQ 39.453125 6.390625 43.28125 13.890625 \r\nQ 47.125 21.390625 47.125 36.375 \r\nQ 47.125 51.421875 43.28125 58.90625 \r\nQ 39.453125 66.40625 31.78125 66.40625 \r\nz\r\nM 31.78125 74.21875 \r\nQ 44.046875 74.21875 50.515625 64.515625 \r\nQ 56.984375 54.828125 56.984375 36.375 \r\nQ 56.984375 17.96875 50.515625 8.265625 \r\nQ 44.046875 -1.421875 31.78125 -1.421875 \r\nQ 19.53125 -1.421875 13.0625 8.265625 \r\nQ 6.59375 17.96875 6.59375 36.375 \r\nQ 6.59375 54.828125 13.0625 64.515625 \r\nQ 19.53125 74.21875 31.78125 74.21875 \r\nz\r\n\" id=\"DejaVuSans-48\"/>\r\n       <path d=\"M 33.015625 40.375 \r\nQ 26.375 40.375 22.484375 35.828125 \r\nQ 18.609375 31.296875 18.609375 23.390625 \r\nQ 18.609375 15.53125 22.484375 10.953125 \r\nQ 26.375 6.390625 33.015625 6.390625 \r\nQ 39.65625 6.390625 43.53125 10.953125 \r\nQ 47.40625 15.53125 47.40625 23.390625 \r\nQ 47.40625 31.296875 43.53125 35.828125 \r\nQ 39.65625 40.375 33.015625 40.375 \r\nz\r\nM 52.59375 71.296875 \r\nL 52.59375 62.3125 \r\nQ 48.875 64.0625 45.09375 64.984375 \r\nQ 41.3125 65.921875 37.59375 65.921875 \r\nQ 27.828125 65.921875 22.671875 59.328125 \r\nQ 17.53125 52.734375 16.796875 39.40625 \r\nQ 19.671875 43.65625 24.015625 45.921875 \r\nQ 28.375 48.1875 33.59375 48.1875 \r\nQ 44.578125 48.1875 50.953125 41.515625 \r\nQ 57.328125 34.859375 57.328125 23.390625 \r\nQ 57.328125 12.15625 50.6875 5.359375 \r\nQ 44.046875 -1.421875 33.015625 -1.421875 \r\nQ 20.359375 -1.421875 13.671875 8.265625 \r\nQ 6.984375 17.96875 6.984375 36.375 \r\nQ 6.984375 53.65625 15.1875 63.9375 \r\nQ 23.390625 74.21875 37.203125 74.21875 \r\nQ 40.921875 74.21875 44.703125 73.484375 \r\nQ 48.484375 72.75 52.59375 71.296875 \r\nz\r\n\" id=\"DejaVuSans-54\"/>\r\n      </defs>\r\n      <g transform=\"translate(62.824707 239.238437)scale(0.1 -0.1)\">\r\n       <use xlink:href=\"#DejaVuSans-50\"/>\r\n       <use x=\"63.623047\" xlink:href=\"#DejaVuSans-48\"/>\r\n       <use x=\"127.246094\" xlink:href=\"#DejaVuSans-48\"/>\r\n       <use x=\"190.869141\" xlink:href=\"#DejaVuSans-54\"/>\r\n      </g>\r\n     </g>\r\n    </g>\r\n    <g id=\"xtick_2\">\r\n     <g id=\"line2d_2\">\r\n      <g>\r\n       <use style=\"stroke:#000000;stroke-width:0.8;\" x=\"123.861395\" xlink:href=\"#m2ddbca9944\" y=\"224.64\"/>\r\n      </g>\r\n     </g>\r\n     <g id=\"text_2\">\r\n      <!-- 2008 -->\r\n      <defs>\r\n       <path d=\"M 31.78125 34.625 \r\nQ 24.75 34.625 20.71875 30.859375 \r\nQ 16.703125 27.09375 16.703125 20.515625 \r\nQ 16.703125 13.921875 20.71875 10.15625 \r\nQ 24.75 6.390625 31.78125 6.390625 \r\nQ 38.8125 6.390625 42.859375 10.171875 \r\nQ 46.921875 13.96875 46.921875 20.515625 \r\nQ 46.921875 27.09375 42.890625 30.859375 \r\nQ 38.875 34.625 31.78125 34.625 \r\nz\r\nM 21.921875 38.8125 \r\nQ 15.578125 40.375 12.03125 44.71875 \r\nQ 8.5 49.078125 8.5 55.328125 \r\nQ 8.5 64.0625 14.71875 69.140625 \r\nQ 20.953125 74.21875 31.78125 74.21875 \r\nQ 42.671875 74.21875 48.875 69.140625 \r\nQ 55.078125 64.0625 55.078125 55.328125 \r\nQ 55.078125 49.078125 51.53125 44.71875 \r\nQ 48 40.375 41.703125 38.8125 \r\nQ 48.828125 37.15625 52.796875 32.3125 \r\nQ 56.78125 27.484375 56.78125 20.515625 \r\nQ 56.78125 9.90625 50.3125 4.234375 \r\nQ 43.84375 -1.421875 31.78125 -1.421875 \r\nQ 19.734375 -1.421875 13.25 4.234375 \r\nQ 6.78125 9.90625 6.78125 20.515625 \r\nQ 6.78125 27.484375 10.78125 32.3125 \r\nQ 14.796875 37.15625 21.921875 38.8125 \r\nz\r\nM 18.3125 54.390625 \r\nQ 18.3125 48.734375 21.84375 45.5625 \r\nQ 25.390625 42.390625 31.78125 42.390625 \r\nQ 38.140625 42.390625 41.71875 45.5625 \r\nQ 45.3125 48.734375 45.3125 54.390625 \r\nQ 45.3125 60.0625 41.71875 63.234375 \r\nQ 38.140625 66.40625 31.78125 66.40625 \r\nQ 25.390625 66.40625 21.84375 63.234375 \r\nQ 18.3125 60.0625 18.3125 54.390625 \r\nz\r\n\" id=\"DejaVuSans-56\"/>\r\n      </defs>\r\n      <g transform=\"translate(111.136395 239.238437)scale(0.1 -0.1)\">\r\n       <use xlink:href=\"#DejaVuSans-50\"/>\r\n       <use x=\"63.623047\" xlink:href=\"#DejaVuSans-48\"/>\r\n       <use x=\"127.246094\" xlink:href=\"#DejaVuSans-48\"/>\r\n       <use x=\"190.869141\" xlink:href=\"#DejaVuSans-56\"/>\r\n      </g>\r\n     </g>\r\n    </g>\r\n    <g id=\"xtick_3\">\r\n     <g id=\"line2d_3\">\r\n      <g>\r\n       <use style=\"stroke:#000000;stroke-width:0.8;\" x=\"172.239264\" xlink:href=\"#m2ddbca9944\" y=\"224.64\"/>\r\n      </g>\r\n     </g>\r\n     <g id=\"text_3\">\r\n      <!-- 2010 -->\r\n      <defs>\r\n       <path d=\"M 12.40625 8.296875 \r\nL 28.515625 8.296875 \r\nL 28.515625 63.921875 \r\nL 10.984375 60.40625 \r\nL 10.984375 69.390625 \r\nL 28.421875 72.90625 \r\nL 38.28125 72.90625 \r\nL 38.28125 8.296875 \r\nL 54.390625 8.296875 \r\nL 54.390625 0 \r\nL 12.40625 0 \r\nz\r\n\" id=\"DejaVuSans-49\"/>\r\n      </defs>\r\n      <g transform=\"translate(159.514264 239.238437)scale(0.1 -0.1)\">\r\n       <use xlink:href=\"#DejaVuSans-50\"/>\r\n       <use x=\"63.623047\" xlink:href=\"#DejaVuSans-48\"/>\r\n       <use x=\"127.246094\" xlink:href=\"#DejaVuSans-49\"/>\r\n       <use x=\"190.869141\" xlink:href=\"#DejaVuSans-48\"/>\r\n      </g>\r\n     </g>\r\n    </g>\r\n    <g id=\"xtick_4\">\r\n     <g id=\"line2d_4\">\r\n      <g>\r\n       <use style=\"stroke:#000000;stroke-width:0.8;\" x=\"220.550952\" xlink:href=\"#m2ddbca9944\" y=\"224.64\"/>\r\n      </g>\r\n     </g>\r\n     <g id=\"text_4\">\r\n      <!-- 2012 -->\r\n      <g transform=\"translate(207.825952 239.238437)scale(0.1 -0.1)\">\r\n       <use xlink:href=\"#DejaVuSans-50\"/>\r\n       <use x=\"63.623047\" xlink:href=\"#DejaVuSans-48\"/>\r\n       <use x=\"127.246094\" xlink:href=\"#DejaVuSans-49\"/>\r\n       <use x=\"190.869141\" xlink:href=\"#DejaVuSans-50\"/>\r\n      </g>\r\n     </g>\r\n    </g>\r\n    <g id=\"xtick_5\">\r\n     <g id=\"line2d_5\">\r\n      <g>\r\n       <use style=\"stroke:#000000;stroke-width:0.8;\" x=\"268.928821\" xlink:href=\"#m2ddbca9944\" y=\"224.64\"/>\r\n      </g>\r\n     </g>\r\n     <g id=\"text_5\">\r\n      <!-- 2014 -->\r\n      <defs>\r\n       <path d=\"M 37.796875 64.3125 \r\nL 12.890625 25.390625 \r\nL 37.796875 25.390625 \r\nz\r\nM 35.203125 72.90625 \r\nL 47.609375 72.90625 \r\nL 47.609375 25.390625 \r\nL 58.015625 25.390625 \r\nL 58.015625 17.1875 \r\nL 47.609375 17.1875 \r\nL 47.609375 0 \r\nL 37.796875 0 \r\nL 37.796875 17.1875 \r\nL 4.890625 17.1875 \r\nL 4.890625 26.703125 \r\nz\r\n\" id=\"DejaVuSans-52\"/>\r\n      </defs>\r\n      <g transform=\"translate(256.203821 239.238437)scale(0.1 -0.1)\">\r\n       <use xlink:href=\"#DejaVuSans-50\"/>\r\n       <use x=\"63.623047\" xlink:href=\"#DejaVuSans-48\"/>\r\n       <use x=\"127.246094\" xlink:href=\"#DejaVuSans-49\"/>\r\n       <use x=\"190.869141\" xlink:href=\"#DejaVuSans-52\"/>\r\n      </g>\r\n     </g>\r\n    </g>\r\n    <g id=\"xtick_6\">\r\n     <g id=\"line2d_6\">\r\n      <g>\r\n       <use style=\"stroke:#000000;stroke-width:0.8;\" x=\"317.240509\" xlink:href=\"#m2ddbca9944\" y=\"224.64\"/>\r\n      </g>\r\n     </g>\r\n     <g id=\"text_6\">\r\n      <!-- 2016 -->\r\n      <g transform=\"translate(304.515509 239.238437)scale(0.1 -0.1)\">\r\n       <use xlink:href=\"#DejaVuSans-50\"/>\r\n       <use x=\"63.623047\" xlink:href=\"#DejaVuSans-48\"/>\r\n       <use x=\"127.246094\" xlink:href=\"#DejaVuSans-49\"/>\r\n       <use x=\"190.869141\" xlink:href=\"#DejaVuSans-54\"/>\r\n      </g>\r\n     </g>\r\n    </g>\r\n    <g id=\"xtick_7\">\r\n     <g id=\"line2d_7\">\r\n      <g>\r\n       <use style=\"stroke:#000000;stroke-width:0.8;\" x=\"365.618378\" xlink:href=\"#m2ddbca9944\" y=\"224.64\"/>\r\n      </g>\r\n     </g>\r\n     <g id=\"text_7\">\r\n      <!-- 2018 -->\r\n      <g transform=\"translate(352.893378 239.238437)scale(0.1 -0.1)\">\r\n       <use xlink:href=\"#DejaVuSans-50\"/>\r\n       <use x=\"63.623047\" xlink:href=\"#DejaVuSans-48\"/>\r\n       <use x=\"127.246094\" xlink:href=\"#DejaVuSans-49\"/>\r\n       <use x=\"190.869141\" xlink:href=\"#DejaVuSans-56\"/>\r\n      </g>\r\n     </g>\r\n    </g>\r\n   </g>\r\n   <g id=\"matplotlib.axis_2\">\r\n    <g id=\"ytick_1\">\r\n     <g id=\"line2d_8\">\r\n      <defs>\r\n       <path d=\"M 0 0 \r\nL -3.5 0 \r\n\" id=\"mc49a23f834\" style=\"stroke:#000000;stroke-width:0.8;\"/>\r\n      </defs>\r\n      <g>\r\n       <use style=\"stroke:#000000;stroke-width:0.8;\" x=\"44.845313\" xlink:href=\"#mc49a23f834\" y=\"214.756364\"/>\r\n      </g>\r\n     </g>\r\n     <g id=\"text_8\">\r\n      <!-- −1.00 -->\r\n      <defs>\r\n       <path d=\"M 10.59375 35.5 \r\nL 73.1875 35.5 \r\nL 73.1875 27.203125 \r\nL 10.59375 27.203125 \r\nz\r\n\" id=\"DejaVuSans-8722\"/>\r\n       <path d=\"M 10.6875 12.40625 \r\nL 21 12.40625 \r\nL 21 0 \r\nL 10.6875 0 \r\nz\r\n\" id=\"DejaVuSans-46\"/>\r\n      </defs>\r\n      <g transform=\"translate(7.2 218.555582)scale(0.1 -0.1)\">\r\n       <use xlink:href=\"#DejaVuSans-8722\"/>\r\n       <use x=\"83.789062\" xlink:href=\"#DejaVuSans-49\"/>\r\n       <use x=\"147.412109\" xlink:href=\"#DejaVuSans-46\"/>\r\n       <use x=\"179.199219\" xlink:href=\"#DejaVuSans-48\"/>\r\n       <use x=\"242.822266\" xlink:href=\"#DejaVuSans-48\"/>\r\n      </g>\r\n     </g>\r\n    </g>\r\n    <g id=\"ytick_2\">\r\n     <g id=\"line2d_9\">\r\n      <g>\r\n       <use style=\"stroke:#000000;stroke-width:0.8;\" x=\"44.845313\" xlink:href=\"#mc49a23f834\" y=\"186.245874\"/>\r\n      </g>\r\n     </g>\r\n     <g id=\"text_9\">\r\n      <!-- −0.75 -->\r\n      <defs>\r\n       <path d=\"M 8.203125 72.90625 \r\nL 55.078125 72.90625 \r\nL 55.078125 68.703125 \r\nL 28.609375 0 \r\nL 18.3125 0 \r\nL 43.21875 64.59375 \r\nL 8.203125 64.59375 \r\nz\r\n\" id=\"DejaVuSans-55\"/>\r\n       <path d=\"M 10.796875 72.90625 \r\nL 49.515625 72.90625 \r\nL 49.515625 64.59375 \r\nL 19.828125 64.59375 \r\nL 19.828125 46.734375 \r\nQ 21.96875 47.46875 24.109375 47.828125 \r\nQ 26.265625 48.1875 28.421875 48.1875 \r\nQ 40.625 48.1875 47.75 41.5 \r\nQ 54.890625 34.8125 54.890625 23.390625 \r\nQ 54.890625 11.625 47.5625 5.09375 \r\nQ 40.234375 -1.421875 26.90625 -1.421875 \r\nQ 22.3125 -1.421875 17.546875 -0.640625 \r\nQ 12.796875 0.140625 7.71875 1.703125 \r\nL 7.71875 11.625 \r\nQ 12.109375 9.234375 16.796875 8.0625 \r\nQ 21.484375 6.890625 26.703125 6.890625 \r\nQ 35.15625 6.890625 40.078125 11.328125 \r\nQ 45.015625 15.765625 45.015625 23.390625 \r\nQ 45.015625 31 40.078125 35.4375 \r\nQ 35.15625 39.890625 26.703125 39.890625 \r\nQ 22.75 39.890625 18.8125 39.015625 \r\nQ 14.890625 38.140625 10.796875 36.28125 \r\nz\r\n\" id=\"DejaVuSans-53\"/>\r\n      </defs>\r\n      <g transform=\"translate(7.2 190.045093)scale(0.1 -0.1)\">\r\n       <use xlink:href=\"#DejaVuSans-8722\"/>\r\n       <use x=\"83.789062\" xlink:href=\"#DejaVuSans-48\"/>\r\n       <use x=\"147.412109\" xlink:href=\"#DejaVuSans-46\"/>\r\n       <use x=\"179.199219\" xlink:href=\"#DejaVuSans-55\"/>\r\n       <use x=\"242.822266\" xlink:href=\"#DejaVuSans-53\"/>\r\n      </g>\r\n     </g>\r\n    </g>\r\n    <g id=\"ytick_3\">\r\n     <g id=\"line2d_10\">\r\n      <g>\r\n       <use style=\"stroke:#000000;stroke-width:0.8;\" x=\"44.845313\" xlink:href=\"#mc49a23f834\" y=\"157.735385\"/>\r\n      </g>\r\n     </g>\r\n     <g id=\"text_10\">\r\n      <!-- −0.50 -->\r\n      <g transform=\"translate(7.2 161.534603)scale(0.1 -0.1)\">\r\n       <use xlink:href=\"#DejaVuSans-8722\"/>\r\n       <use x=\"83.789062\" xlink:href=\"#DejaVuSans-48\"/>\r\n       <use x=\"147.412109\" xlink:href=\"#DejaVuSans-46\"/>\r\n       <use x=\"179.199219\" xlink:href=\"#DejaVuSans-53\"/>\r\n       <use x=\"242.822266\" xlink:href=\"#DejaVuSans-48\"/>\r\n      </g>\r\n     </g>\r\n    </g>\r\n    <g id=\"ytick_4\">\r\n     <g id=\"line2d_11\">\r\n      <g>\r\n       <use style=\"stroke:#000000;stroke-width:0.8;\" x=\"44.845313\" xlink:href=\"#mc49a23f834\" y=\"129.224895\"/>\r\n      </g>\r\n     </g>\r\n     <g id=\"text_11\">\r\n      <!-- −0.25 -->\r\n      <g transform=\"translate(7.2 133.024114)scale(0.1 -0.1)\">\r\n       <use xlink:href=\"#DejaVuSans-8722\"/>\r\n       <use x=\"83.789062\" xlink:href=\"#DejaVuSans-48\"/>\r\n       <use x=\"147.412109\" xlink:href=\"#DejaVuSans-46\"/>\r\n       <use x=\"179.199219\" xlink:href=\"#DejaVuSans-50\"/>\r\n       <use x=\"242.822266\" xlink:href=\"#DejaVuSans-53\"/>\r\n      </g>\r\n     </g>\r\n    </g>\r\n    <g id=\"ytick_5\">\r\n     <g id=\"line2d_12\">\r\n      <g>\r\n       <use style=\"stroke:#000000;stroke-width:0.8;\" x=\"44.845313\" xlink:href=\"#mc49a23f834\" y=\"100.714406\"/>\r\n      </g>\r\n     </g>\r\n     <g id=\"text_12\">\r\n      <!-- 0.00 -->\r\n      <g transform=\"translate(15.579688 104.513624)scale(0.1 -0.1)\">\r\n       <use xlink:href=\"#DejaVuSans-48\"/>\r\n       <use x=\"63.623047\" xlink:href=\"#DejaVuSans-46\"/>\r\n       <use x=\"95.410156\" xlink:href=\"#DejaVuSans-48\"/>\r\n       <use x=\"159.033203\" xlink:href=\"#DejaVuSans-48\"/>\r\n      </g>\r\n     </g>\r\n    </g>\r\n    <g id=\"ytick_6\">\r\n     <g id=\"line2d_13\">\r\n      <g>\r\n       <use style=\"stroke:#000000;stroke-width:0.8;\" x=\"44.845313\" xlink:href=\"#mc49a23f834\" y=\"72.203916\"/>\r\n      </g>\r\n     </g>\r\n     <g id=\"text_13\">\r\n      <!-- 0.25 -->\r\n      <g transform=\"translate(15.579688 76.003135)scale(0.1 -0.1)\">\r\n       <use xlink:href=\"#DejaVuSans-48\"/>\r\n       <use x=\"63.623047\" xlink:href=\"#DejaVuSans-46\"/>\r\n       <use x=\"95.410156\" xlink:href=\"#DejaVuSans-50\"/>\r\n       <use x=\"159.033203\" xlink:href=\"#DejaVuSans-53\"/>\r\n      </g>\r\n     </g>\r\n    </g>\r\n    <g id=\"ytick_7\">\r\n     <g id=\"line2d_14\">\r\n      <g>\r\n       <use style=\"stroke:#000000;stroke-width:0.8;\" x=\"44.845313\" xlink:href=\"#mc49a23f834\" y=\"43.693427\"/>\r\n      </g>\r\n     </g>\r\n     <g id=\"text_14\">\r\n      <!-- 0.50 -->\r\n      <g transform=\"translate(15.579688 47.492645)scale(0.1 -0.1)\">\r\n       <use xlink:href=\"#DejaVuSans-48\"/>\r\n       <use x=\"63.623047\" xlink:href=\"#DejaVuSans-46\"/>\r\n       <use x=\"95.410156\" xlink:href=\"#DejaVuSans-53\"/>\r\n       <use x=\"159.033203\" xlink:href=\"#DejaVuSans-48\"/>\r\n      </g>\r\n     </g>\r\n    </g>\r\n    <g id=\"ytick_8\">\r\n     <g id=\"line2d_15\">\r\n      <g>\r\n       <use style=\"stroke:#000000;stroke-width:0.8;\" x=\"44.845313\" xlink:href=\"#mc49a23f834\" y=\"15.182937\"/>\r\n      </g>\r\n     </g>\r\n     <g id=\"text_15\">\r\n      <!-- 0.75 -->\r\n      <g transform=\"translate(15.579688 18.982156)scale(0.1 -0.1)\">\r\n       <use xlink:href=\"#DejaVuSans-48\"/>\r\n       <use x=\"63.623047\" xlink:href=\"#DejaVuSans-46\"/>\r\n       <use x=\"95.410156\" xlink:href=\"#DejaVuSans-55\"/>\r\n       <use x=\"159.033203\" xlink:href=\"#DejaVuSans-53\"/>\r\n      </g>\r\n     </g>\r\n    </g>\r\n   </g>\r\n   <g id=\"line2d_16\">\r\n    <path clip-path=\"url(#p0e44c6c8a3)\" d=\"M 60.063494 106.716614 \r\nL 61.916545 101.800519 \r\nL 63.769596 59.08004 \r\nL 66.08591 78.950673 \r\nL 67.938961 53.484908 \r\nL 70.122914 85.251089 \r\nL 72.108326 52.953244 \r\nL 73.961377 59.394856 \r\nL 75.814428 17.083636 \r\nL 76.277691 103.638558 \r\nL 78.130742 66.320799 \r\nL 79.983793 64.428328 \r\nL 81.903025 43.693427 \r\nL 84.153158 91.941947 \r\nL 86.006209 40.202346 \r\nL 87.925441 54.38486 \r\nL 90.175574 43.693427 \r\nL 92.028625 68.130989 \r\nL 94.344939 105.567255 \r\nL 96.19799 76.173731 \r\nL 98.051041 55.342874 \r\nL 100.367355 96.152727 \r\nL 102.220406 69.612053 \r\nL 104.073457 62.70042 \r\nL 106.389771 63.526811 \r\nL 108.242822 84.056591 \r\nL 110.162053 53.196923 \r\nL 112.412187 63.554666 \r\nL 114.265238 54.060877 \r\nL 116.184469 63.500714 \r\nL 118.434603 82.052994 \r\nL 120.287654 54.862484 \r\nL 122.206885 61.700052 \r\nL 124.457019 96.242172 \r\nL 128.229301 115.170428 \r\nL 129.089646 77.906014 \r\nL 130.479435 107.231089 \r\nL 132.332486 108.525499 \r\nL 134.648799 89.95573 \r\nL 136.50185 66.947792 \r\nL 138.354902 78.430345 \r\nL 140.671215 122.002238 \r\nL 142.524266 169.979153 \r\nL 143.715514 194.021462 \r\nL 144.443498 175.384735 \r\nL 146.693631 178.743114 \r\nL 148.612863 186.636429 \r\nL 150.862996 175.431551 \r\nL 152.716047 181.896816 \r\nL 153.642573 197.211447 \r\nL 154.569098 173.286561 \r\nL 156.753051 121.367674 \r\nL 158.738463 122.81556 \r\nL 160.591514 117.006114 \r\nL 162.775467 109.267552 \r\nL 164.760879 97.36023 \r\nL 166.680111 81.243827 \r\nL 168.930244 77.906014 \r\nL 170.783295 91.517473 \r\nL 172.702527 90.346955 \r\nL 174.95266 93.90593 \r\nL 176.805711 99.997161 \r\nL 177.732237 100.714406 \r\nL 178.724942 82.019003 \r\nL 180.908895 92.879462 \r\nL 182.828127 67.262098 \r\nL 184.747358 85.34705 \r\nL 186.997492 75.859107 \r\nL 188.850543 85.193902 \r\nL 191.166857 88.86589 \r\nL 193.35081 50.740963 \r\nL 194.872959 65.5694 \r\nL 195.799484 45.532813 \r\nL 196.72601 53.755952 \r\nL 197.189273 50.535944 \r\nL 199.108504 40.277423 \r\nL 200.895375 53.242394 \r\nL 201.8219 81.707413 \r\nL 203.079328 52.008986 \r\nL 205.13092 59.899389 \r\nL 206.983971 65.443697 \r\nL 209.234105 59.494421 \r\nL 211.087156 88.609393 \r\nL 212.940207 94.632168 \r\nL 215.25652 106.654091 \r\nL 217.175752 106.488682 \r\nL 218.962623 108.151925 \r\nL 220.352411 20.462657 \r\nL 221.345117 100.714406 \r\nL 223.131987 102.468897 \r\nL 224.985039 107.645132 \r\nL 225.911564 74.397031 \r\nL 227.367533 91.681379 \r\nL 229.154403 98.387019 \r\nL 231.073635 115.089442 \r\nL 233.323768 152.786394 \r\nL 235.176819 144.900404 \r\nL 237.493133 150.554965 \r\nL 238.419659 214.756364 \r\nL 239.346184 144.450927 \r\nL 241.265416 136.556164 \r\nL 243.515549 145.615943 \r\nL 245.434781 130.039481 \r\nL 247.684914 148.994943 \r\nL 249.537965 131.891344 \r\nL 251.391016 145.273846 \r\nL 253.244067 137.721399 \r\nL 255.560381 162.91911 \r\nL 257.413432 125.311691 \r\nL 259.266483 138.12738 \r\nL 261.582797 129.331676 \r\nL 263.435848 126.057063 \r\nL 265.752162 134.726919 \r\nL 267.605213 126.723975 \r\nL 269.458264 127.309171 \r\nL 271.774578 145.157227 \r\nL 273.627629 136.579191 \r\nL 274.554154 135.804239 \r\nL 275.48068 124.107628 \r\nL 277.399911 119.721399 \r\nL 279.650045 130.448117 \r\nL 283.81941 146.853518 \r\nL 285.738641 135.049619 \r\nL 287.922594 132.769442 \r\nL 289.841826 158.78485 \r\nL 291.694877 144.880944 \r\nL 294.01119 142.213915 \r\nL 296.195143 153.688734 \r\nL 297.717293 156.522172 \r\nL 298.643818 208.591933 \r\nL 299.570344 155.490464 \r\nL 301.952838 161.299196 \r\nL 303.739709 159.935007 \r\nL 304.666234 173.286561 \r\nL 305.59276 146.75619 \r\nL 307.909073 157.547197 \r\nL 309.828305 154.662398 \r\nL 310.68865 157.735385 \r\nL 312.078438 150.372315 \r\nL 313.931489 154.94185 \r\nL 315.78454 142.28823 \r\nL 316.181623 112.118601 \r\nL 318.100854 133.823361 \r\nL 320.284807 146.996686 \r\nL 321.806956 163.386112 \r\nL 322.733482 162.91911 \r\nL 324.454172 138.728392 \r\nL 326.042502 150.530568 \r\nL 327.829372 147.851748 \r\nL 328.755898 201.339663 \r\nL 330.145686 151.594664 \r\nL 331.998737 146.066999 \r\nL 333.917969 127.10428 \r\nL 334.778314 176.742378 \r\nL 336.168102 118.180291 \r\nL 338.087333 119.812341 \r\nL 340.337467 114.195404 \r\nL 340.734549 157.735385 \r\nL 342.256698 132.880086 \r\nL 344.970095 115.393073 \r\nL 346.823146 108.579368 \r\nL 348.212934 126.61546 \r\nL 350.992511 114.078698 \r\nL 352.845562 117.820699 \r\nL 354.23535 129.010531 \r\nL 357.478189 118.293996 \r\nL 358.867978 128.241775 \r\nL 360.721029 95.885267 \r\nL 363.500605 95.654523 \r\nL 364.427131 162.91911 \r\nL 364.427131 162.91911 \r\n\" style=\"fill:none;stroke:#1f77b4;stroke-linecap:square;stroke-width:1.5;\"/>\r\n   </g>\r\n   <g id=\"line2d_17\">\r\n    <path clip-path=\"url(#p0e44c6c8a3)\" d=\"M 60.063494 90.168998 \r\nL 67.938961 90.168998 \r\nL 70.122914 84.738428 \r\nL 72.108326 84.738428 \r\nL 73.961377 79.307859 \r\nL 76.277691 79.307859 \r\nL 78.130742 73.877289 \r\nL 84.153158 73.877289 \r\nL 86.006209 68.44672 \r\nL 87.925441 68.44672 \r\nL 90.175574 63.01615 \r\nL 110.162053 63.01615 \r\nL 112.412187 57.585581 \r\nL 114.265238 52.155012 \r\nL 136.50185 52.155012 \r\nL 138.354902 46.724442 \r\nL 140.671215 46.724442 \r\nL 142.524266 52.155012 \r\nL 143.715514 68.44672 \r\nL 144.443498 73.877289 \r\nL 146.693631 95.599567 \r\nL 148.612863 106.460706 \r\nL 150.862996 117.321845 \r\nL 182.828127 117.321845 \r\nL 184.747358 111.891275 \r\nL 191.166857 111.891275 \r\nL 193.35081 106.460706 \r\nL 196.72601 106.460706 \r\nL 197.189273 101.030136 \r\nL 199.108504 101.030136 \r\nL 200.895375 95.599567 \r\nL 205.13092 95.599567 \r\nL 206.983971 90.168998 \r\nL 231.073635 90.168998 \r\nL 233.323768 95.599567 \r\nL 238.419659 95.599567 \r\nL 239.346184 101.030136 \r\nL 251.391016 101.030136 \r\nL 253.244067 106.460706 \r\nL 281.503096 106.460706 \r\nL 283.81941 111.891275 \r\nL 285.738641 111.891275 \r\nL 287.922594 117.321845 \r\nL 296.195143 117.321845 \r\nL 297.717293 122.752414 \r\nL 301.952838 122.752414 \r\nL 303.739709 128.182984 \r\nL 326.042502 128.182984 \r\nL 327.829372 133.613553 \r\nL 360.721029 133.613553 \r\nL 363.500605 128.182984 \r\nL 364.427131 128.182984 \r\nL 364.427131 128.182984 \r\n\" style=\"fill:none;stroke:#ff7f0e;stroke-linecap:square;stroke-width:1.5;\"/>\r\n   </g>\r\n   <g id=\"patch_3\">\r\n    <path d=\"M 44.845313 224.64 \r\nL 44.845313 7.2 \r\n\" style=\"fill:none;stroke:#000000;stroke-linecap:square;stroke-linejoin:miter;stroke-width:0.8;\"/>\r\n   </g>\r\n   <g id=\"patch_4\">\r\n    <path d=\"M 379.645313 224.64 \r\nL 379.645313 7.2 \r\n\" style=\"fill:none;stroke:#000000;stroke-linecap:square;stroke-linejoin:miter;stroke-width:0.8;\"/>\r\n   </g>\r\n   <g id=\"patch_5\">\r\n    <path d=\"M 44.845313 224.64 \r\nL 379.645313 224.64 \r\n\" style=\"fill:none;stroke:#000000;stroke-linecap:square;stroke-linejoin:miter;stroke-width:0.8;\"/>\r\n   </g>\r\n   <g id=\"patch_6\">\r\n    <path d=\"M 44.845313 7.2 \r\nL 379.645313 7.2 \r\n\" style=\"fill:none;stroke:#000000;stroke-linecap:square;stroke-linejoin:miter;stroke-width:0.8;\"/>\r\n   </g>\r\n  </g>\r\n </g>\r\n <defs>\r\n  <clipPath id=\"p0e44c6c8a3\">\r\n   <rect height=\"217.44\" width=\"334.8\" x=\"44.845313\" y=\"7.2\"/>\r\n  </clipPath>\r\n </defs>\r\n</svg>\r\n",
      "image/png": "[encoded data removed]"
     },
     "metadata": {
      "needs_background": "light"
     }
    }
   ],
   "source": [
    "ngram_limit = 5\n",
    "def tone_sent(x):\n",
    "    a = 0\n",
    "    b = 0\n",
    "    for ngram in x:\n",
    "        if ngram in hawkish:\n",
    "            a += 1\n",
    "        elif ngram in dovish:\n",
    "            b += 1\n",
    "    if a+b < ngram_limit:\n",
    "        return np.nan\n",
    "    try:\n",
    "        return (a-b) / (a+b)\n",
    "    except:\n",
    "        return np.nan\n",
    "\n",
    "final_test['tone'] = list(map(tone_sent, final_test['ngram']))\n",
    "final_test.dropna(inplace=True)\n",
    "sr_df = pd.read_json('testing/standard_rate.json').set_index('date')\n",
    "final_test['rate'] = sr_df['rate']\n",
    "\n",
    "\n",
    "\n",
    "\n",
    "#Scaler\n",
    "# MaxAbsScaler RobustScaler StandardScaler\n",
    "import pandas as pd\n",
    "from sklearn import preprocessing\n",
    "\n",
    "x = final_test['rate'].values.reshape(-1, 1) #returns a numpy array\n",
    "scaler = preprocessing.MaxAbsScaler()\n",
    "x_scaled = scaler.fit_transform(x)\n",
    "final_test['rate'] = x_scaled\n",
    "\n",
    "corr = final_test[['tone','rate']].corr(method = 'pearson')\n",
    "print(corr)\n",
    "import matplotlib.pyplot as plt\n",
    "plt.plot(final_test['tone'])\n",
    "plt.plot(final_test['rate']-final_test['rate'].mean())\n",
    "plt.show()"
   ]
  },
  {
   "cell_type": "code",
   "execution_count": 183,
   "metadata": {},
   "outputs": [],
   "source": []
  },
  {
   "cell_type": "code",
   "execution_count": 184,
   "metadata": {},
   "outputs": [
    {
     "output_type": "execute_result",
     "data": {
      "text/plain": "                                                        ngram  count  \\\ndate                                                                   \n2005-05-12  [소비/NNG;설비/NNG;투자/NNG;내수/NNG;회복/NNG, 경상/NNG;수지...    309   \n2005-06-09  [경상/NNG;수지/NNG;적자/NNG;재정/NNG;적자/NNG, 소비자/NNG;물...    354   \n2005-06-23                   [대출/NNG;촉진/NNG, 걸림돌/NNG, 개선/NNG]     28   \n2005-07-07  [자산/NNG;가격/NNG;상승/NNG;물가/NNG;상승/NNG, 금리/NNG;인상...    240   \n2005-08-11  [부동산/NNG;가격/NNG;상승/NNG;금리/NNG;인상/NNG, 은행/NNG;중...    740   \n...                                                       ...    ...   \n2017-11-09  [성장/NNG, 성장/NNG, 기대/NNG;인플레이션/NNG;하락/NNG, 잠재/N...    719   \n2017-11-30  [고용시장/NNG;여건/NNG;개선/NNG, 서비스업/NNG;생산/NNG;늘/VV,...    826   \n2017-12-07  [은행/NNG;부담/NNG, 부담/NNG, 종료/NNG, 부담/NNG, 기대/NNG...      2   \n2017-12-14  [금융안정/NNG, 금융안정/NNG;위험/NNG, 금융시스템/NNG;취약/NNG, ...    390   \n2017-12-28  [물가/NNG;안정/NNG, 금융안정/NNG;위험/NNG, 위험/NNG;성장/NNG...    844   \n\n                tone    rate  \ndate                          \n2005-05-12  0.192661  0.5000  \n2005-06-09  0.279279  0.5000  \n2005-06-23  1.000000  0.5000  \n2005-07-07  0.528571  0.5000  \n2005-08-11  0.457364  0.5000  \n...              ...     ...  \n2017-11-09  1.000000  0.0000  \n2017-11-30 -0.219124  0.0625  \n2017-12-07  0.000000  0.0625  \n2017-12-14 -0.444444  0.0625  \n2017-12-28 -0.200000  0.0625  \n\n[229 rows x 4 columns]",
      "text/html": "<div>\n<style scoped>\n    .dataframe tbody tr th:only-of-type {\n        vertical-align: middle;\n    }\n\n    .dataframe tbody tr th {\n        vertical-align: top;\n    }\n\n    .dataframe thead th {\n        text-align: right;\n    }\n</style>\n<table border=\"1\" class=\"dataframe\">\n  <thead>\n    <tr style=\"text-align: right;\">\n      <th></th>\n      <th>ngram</th>\n      <th>count</th>\n      <th>tone</th>\n      <th>rate</th>\n    </tr>\n    <tr>\n      <th>date</th>\n      <th></th>\n      <th></th>\n      <th></th>\n      <th></th>\n    </tr>\n  </thead>\n  <tbody>\n    <tr>\n      <th>2005-05-12</th>\n      <td>[소비/NNG;설비/NNG;투자/NNG;내수/NNG;회복/NNG, 경상/NNG;수지...</td>\n      <td>309</td>\n      <td>0.192661</td>\n      <td>0.5000</td>\n    </tr>\n    <tr>\n      <th>2005-06-09</th>\n      <td>[경상/NNG;수지/NNG;적자/NNG;재정/NNG;적자/NNG, 소비자/NNG;물...</td>\n      <td>354</td>\n      <td>0.279279</td>\n      <td>0.5000</td>\n    </tr>\n    <tr>\n      <th>2005-06-23</th>\n      <td>[대출/NNG;촉진/NNG, 걸림돌/NNG, 개선/NNG]</td>\n      <td>28</td>\n      <td>1.000000</td>\n      <td>0.5000</td>\n    </tr>\n    <tr>\n      <th>2005-07-07</th>\n      <td>[자산/NNG;가격/NNG;상승/NNG;물가/NNG;상승/NNG, 금리/NNG;인상...</td>\n      <td>240</td>\n      <td>0.528571</td>\n      <td>0.5000</td>\n    </tr>\n    <tr>\n      <th>2005-08-11</th>\n      <td>[부동산/NNG;가격/NNG;상승/NNG;금리/NNG;인상/NNG, 은행/NNG;중...</td>\n      <td>740</td>\n      <td>0.457364</td>\n      <td>0.5000</td>\n    </tr>\n    <tr>\n      <th>...</th>\n      <td>...</td>\n      <td>...</td>\n      <td>...</td>\n      <td>...</td>\n    </tr>\n    <tr>\n      <th>2017-11-09</th>\n      <td>[성장/NNG, 성장/NNG, 기대/NNG;인플레이션/NNG;하락/NNG, 잠재/N...</td>\n      <td>719</td>\n      <td>1.000000</td>\n      <td>0.0000</td>\n    </tr>\n    <tr>\n      <th>2017-11-30</th>\n      <td>[고용시장/NNG;여건/NNG;개선/NNG, 서비스업/NNG;생산/NNG;늘/VV,...</td>\n      <td>826</td>\n      <td>-0.219124</td>\n      <td>0.0625</td>\n    </tr>\n    <tr>\n      <th>2017-12-07</th>\n      <td>[은행/NNG;부담/NNG, 부담/NNG, 종료/NNG, 부담/NNG, 기대/NNG...</td>\n      <td>2</td>\n      <td>0.000000</td>\n      <td>0.0625</td>\n    </tr>\n    <tr>\n      <th>2017-12-14</th>\n      <td>[금융안정/NNG, 금융안정/NNG;위험/NNG, 금융시스템/NNG;취약/NNG, ...</td>\n      <td>390</td>\n      <td>-0.444444</td>\n      <td>0.0625</td>\n    </tr>\n    <tr>\n      <th>2017-12-28</th>\n      <td>[물가/NNG;안정/NNG, 금융안정/NNG;위험/NNG, 위험/NNG;성장/NNG...</td>\n      <td>844</td>\n      <td>-0.200000</td>\n      <td>0.0625</td>\n    </tr>\n  </tbody>\n</table>\n<p>229 rows × 4 columns</p>\n</div>"
     },
     "metadata": {},
     "execution_count": 184
    }
   ],
   "source": [
    "final_test"
   ]
  },
  {
   "cell_type": "code",
   "execution_count": null,
   "metadata": {},
   "outputs": [],
   "source": [
    "import matplotlib.pyplot as plt\n",
    "plt.plot(final_tone['tone'])\n",
    "plt.plot(final_tone['rate']-final_tone['rate'].mean())\n",
    "plt.show()\n"
   ]
  },
  {
   "cell_type": "code",
   "execution_count": 19,
   "metadata": {},
   "outputs": [
    {
     "output_type": "execute_result",
     "data": {
      "text/plain": "                                                        ngram  ud\ndate                                                             \n2005-05-01  [대출/NNG;연체율/NNG;오르/VV, 대출/NNG;연체율/NNG;높/VA, 대출...   0\n2005-05-01  [수입/NNG;증대/NNG, 실적/NNG;높/VV, 하락/NNG, 위험/NNG, 자...   0\n2005-05-01  [무수익여신/NNG;증가/NNG, 수익성/NNG;악화/NNG, 악화/NNG;조짐/N...   0\n2005-05-01  [인플레이션/NNG;압력/NNG;억제/NNG, 금리/NNG;인상/NNG;긴축/NNG...   0\n2005-05-01  [기업/NNG;수익성/NNG;악화/NNG;우려/NNG, 경제/NNG;지표/NNG;성...   0\n...                                                       ...  ..\n2017-12-31  [금리/NNG;제한적/VAX;상승/NNG, 민간/NNG;소비/NNG;개선/NNG, ...  -1\n2017-12-31  [금융시장/NNG;변동성/NNG;확대/NNG, 건전성/NNG;규제/NNG;강화/NN...  -1\n2017-12-31  [선진국/NNG;통화정책/NNG;불확실성/NNG, 통화정책/NNG;불확실성/NNG;...  -1\n2017-12-31  [미/NNG;금리/NNG;인상/NNG, 전세가격/NNG;안정/NNG, 판매/NNG;...  -1\n2017-12-31  [fed/NNG;금리/NNG;인상/NNG, 금리/NNG;인상/NNG;걸림돌/NNG,...  -1\n\n[243973 rows x 2 columns]",
      "text/html": "<div>\n<style scoped>\n    .dataframe tbody tr th:only-of-type {\n        vertical-align: middle;\n    }\n\n    .dataframe tbody tr th {\n        vertical-align: top;\n    }\n\n    .dataframe thead th {\n        text-align: right;\n    }\n</style>\n<table border=\"1\" class=\"dataframe\">\n  <thead>\n    <tr style=\"text-align: right;\">\n      <th></th>\n      <th>ngram</th>\n      <th>ud</th>\n    </tr>\n    <tr>\n      <th>date</th>\n      <th></th>\n      <th></th>\n    </tr>\n  </thead>\n  <tbody>\n    <tr>\n      <th>2005-05-01</th>\n      <td>[대출/NNG;연체율/NNG;오르/VV, 대출/NNG;연체율/NNG;높/VA, 대출...</td>\n      <td>0</td>\n    </tr>\n    <tr>\n      <th>2005-05-01</th>\n      <td>[수입/NNG;증대/NNG, 실적/NNG;높/VV, 하락/NNG, 위험/NNG, 자...</td>\n      <td>0</td>\n    </tr>\n    <tr>\n      <th>2005-05-01</th>\n      <td>[무수익여신/NNG;증가/NNG, 수익성/NNG;악화/NNG, 악화/NNG;조짐/N...</td>\n      <td>0</td>\n    </tr>\n    <tr>\n      <th>2005-05-01</th>\n      <td>[인플레이션/NNG;압력/NNG;억제/NNG, 금리/NNG;인상/NNG;긴축/NNG...</td>\n      <td>0</td>\n    </tr>\n    <tr>\n      <th>2005-05-01</th>\n      <td>[기업/NNG;수익성/NNG;악화/NNG;우려/NNG, 경제/NNG;지표/NNG;성...</td>\n      <td>0</td>\n    </tr>\n    <tr>\n      <th>...</th>\n      <td>...</td>\n      <td>...</td>\n    </tr>\n    <tr>\n      <th>2017-12-31</th>\n      <td>[금리/NNG;제한적/VAX;상승/NNG, 민간/NNG;소비/NNG;개선/NNG, ...</td>\n      <td>-1</td>\n    </tr>\n    <tr>\n      <th>2017-12-31</th>\n      <td>[금융시장/NNG;변동성/NNG;확대/NNG, 건전성/NNG;규제/NNG;강화/NN...</td>\n      <td>-1</td>\n    </tr>\n    <tr>\n      <th>2017-12-31</th>\n      <td>[선진국/NNG;통화정책/NNG;불확실성/NNG, 통화정책/NNG;불확실성/NNG;...</td>\n      <td>-1</td>\n    </tr>\n    <tr>\n      <th>2017-12-31</th>\n      <td>[미/NNG;금리/NNG;인상/NNG, 전세가격/NNG;안정/NNG, 판매/NNG;...</td>\n      <td>-1</td>\n    </tr>\n    <tr>\n      <th>2017-12-31</th>\n      <td>[fed/NNG;금리/NNG;인상/NNG, 금리/NNG;인상/NNG;걸림돌/NNG,...</td>\n      <td>-1</td>\n    </tr>\n  </tbody>\n</table>\n<p>243973 rows × 2 columns</p>\n</div>"
     },
     "metadata": {},
     "execution_count": 19
    }
   ],
   "source": [
    "train_data.sort_values(by='date')"
   ]
  },
  {
   "cell_type": "code",
   "execution_count": 21,
   "metadata": {},
   "outputs": [
    {
     "output_type": "execute_result",
     "data": {
      "text/plain": "                                      0     1    -1       haw       dov  \\\nngram                                                                     \n전망/NNG;한계/NNG                       9.0   1.0   1.0  0.000002  0.000002   \n전망/NNG;길/VA                         8.0   0.0   2.0  0.000000  0.000004   \n금리/NNG;단기/NNG;저점/NNG               11.0   5.0   4.0  0.000010  0.000009   \n위험자산/NNG;투자/NNG;제한/NNG              5.0   0.0   0.0  0.000000  0.000000   \n원화/NNG;절상/NNG;기대/NNG;높/VA           5.0   3.0   1.0  0.000006  0.000002   \n...                                 ...   ...   ...       ...       ...   \n유동성/NNG;확충/NNG                     46.0  14.0  35.0  0.000029  0.000075   \nfed/NNG;금리/NNG;인상/NNG;우려/NNG;높/VA   4.0   1.0   1.0  0.000002  0.000002   \n예상/NNG;자산/NNG;매입/NNG;축소/NNG        11.0   0.0   0.0  0.000000  0.000000   \n취약/NNG;완화/NNG                      18.0   0.0   0.0  0.000000  0.000000   \n상회/NNG;금리/NNG;인상/NNG;우려/NNG         1.0   0.0   0.0  0.000000  0.000000   \n\n                                      score  \nngram                                        \n전망/NNG;한계/NNG                      0.973598  \n전망/NNG;길/VA                        0.000000  \n금리/NNG;단기/NNG;저점/NNG               1.216997  \n위험자산/NNG;투자/NNG;제한/NNG                  NaN  \n원화/NNG;절상/NNG;기대/NNG;높/VA          2.920794  \n...                                     ...  \n유동성/NNG;확충/NNG                     0.389439  \nfed/NNG;금리/NNG;인상/NNG;우려/NNG;높/VA  0.973598  \n예상/NNG;자산/NNG;매입/NNG;축소/NNG             NaN  \n취약/NNG;완화/NNG                           NaN  \n상회/NNG;금리/NNG;인상/NNG;우려/NNG             NaN  \n\n[64729 rows x 6 columns]",
      "text/html": "<div>\n<style scoped>\n    .dataframe tbody tr th:only-of-type {\n        vertical-align: middle;\n    }\n\n    .dataframe tbody tr th {\n        vertical-align: top;\n    }\n\n    .dataframe thead th {\n        text-align: right;\n    }\n</style>\n<table border=\"1\" class=\"dataframe\">\n  <thead>\n    <tr style=\"text-align: right;\">\n      <th></th>\n      <th>0</th>\n      <th>1</th>\n      <th>-1</th>\n      <th>haw</th>\n      <th>dov</th>\n      <th>score</th>\n    </tr>\n    <tr>\n      <th>ngram</th>\n      <th></th>\n      <th></th>\n      <th></th>\n      <th></th>\n      <th></th>\n      <th></th>\n    </tr>\n  </thead>\n  <tbody>\n    <tr>\n      <th>전망/NNG;한계/NNG</th>\n      <td>9.0</td>\n      <td>1.0</td>\n      <td>1.0</td>\n      <td>0.000002</td>\n      <td>0.000002</td>\n      <td>0.973598</td>\n    </tr>\n    <tr>\n      <th>전망/NNG;길/VA</th>\n      <td>8.0</td>\n      <td>0.0</td>\n      <td>2.0</td>\n      <td>0.000000</td>\n      <td>0.000004</td>\n      <td>0.000000</td>\n    </tr>\n    <tr>\n      <th>금리/NNG;단기/NNG;저점/NNG</th>\n      <td>11.0</td>\n      <td>5.0</td>\n      <td>4.0</td>\n      <td>0.000010</td>\n      <td>0.000009</td>\n      <td>1.216997</td>\n    </tr>\n    <tr>\n      <th>위험자산/NNG;투자/NNG;제한/NNG</th>\n      <td>5.0</td>\n      <td>0.0</td>\n      <td>0.0</td>\n      <td>0.000000</td>\n      <td>0.000000</td>\n      <td>NaN</td>\n    </tr>\n    <tr>\n      <th>원화/NNG;절상/NNG;기대/NNG;높/VA</th>\n      <td>5.0</td>\n      <td>3.0</td>\n      <td>1.0</td>\n      <td>0.000006</td>\n      <td>0.000002</td>\n      <td>2.920794</td>\n    </tr>\n    <tr>\n      <th>...</th>\n      <td>...</td>\n      <td>...</td>\n      <td>...</td>\n      <td>...</td>\n      <td>...</td>\n      <td>...</td>\n    </tr>\n    <tr>\n      <th>유동성/NNG;확충/NNG</th>\n      <td>46.0</td>\n      <td>14.0</td>\n      <td>35.0</td>\n      <td>0.000029</td>\n      <td>0.000075</td>\n      <td>0.389439</td>\n    </tr>\n    <tr>\n      <th>fed/NNG;금리/NNG;인상/NNG;우려/NNG;높/VA</th>\n      <td>4.0</td>\n      <td>1.0</td>\n      <td>1.0</td>\n      <td>0.000002</td>\n      <td>0.000002</td>\n      <td>0.973598</td>\n    </tr>\n    <tr>\n      <th>예상/NNG;자산/NNG;매입/NNG;축소/NNG</th>\n      <td>11.0</td>\n      <td>0.0</td>\n      <td>0.0</td>\n      <td>0.000000</td>\n      <td>0.000000</td>\n      <td>NaN</td>\n    </tr>\n    <tr>\n      <th>취약/NNG;완화/NNG</th>\n      <td>18.0</td>\n      <td>0.0</td>\n      <td>0.0</td>\n      <td>0.000000</td>\n      <td>0.000000</td>\n      <td>NaN</td>\n    </tr>\n    <tr>\n      <th>상회/NNG;금리/NNG;인상/NNG;우려/NNG</th>\n      <td>1.0</td>\n      <td>0.0</td>\n      <td>0.0</td>\n      <td>0.000000</td>\n      <td>0.000000</td>\n      <td>NaN</td>\n    </tr>\n  </tbody>\n</table>\n<p>64729 rows × 6 columns</p>\n</div>"
     },
     "metadata": {},
     "execution_count": 21
    }
   ],
   "source": [
    "nbc.df"
   ]
  },
  {
   "cell_type": "code",
   "execution_count": 22,
   "metadata": {},
   "outputs": [],
   "source": []
  },
  {
   "cell_type": "code",
   "execution_count": 67,
   "metadata": {},
   "outputs": [
    {
     "output_type": "execute_result",
     "data": {
      "text/plain": "Index(['경제/NNG;성장/NNG;타격/NNG', '경기/NNG;회복/NNG;우려/NNG',\n       '전망/NNG;불확실성/NNG;해소/NNG', '서비스업/NNG;지표/NNG;부진/NNG', '비관/NNG;않/VX',\n       '소비자/NNG;우려/NNG', '외환시장/NNG;원화/NNG;강세/NNG', '금리/NNG;역마진/NNG;위험/NNG',\n       '국제/NNG;유가/NNG;낮/VA', '금융자산/NNG;가격/NNG;상승/NNG',\n       ...\n       '가계/NNG;부채/NNG;금리/NNG;인상/NNG', '저금리/NNG;양적완화/NNG',\n       '금리/NNG;인상/NNG;우려/NNG;둔화/NNG', '변동성/NNG;강화/NNG', '금리/NNG;나쁘/VA;않/VX',\n       '펀더멘털/NNG;자신/NNG', 'gdp/NNG;성장률/NNG;상향/NNG',\n       '국제/NNG;유가/NNG;원자재/NNG;가격/NNG;상승/NNG', '금리/NNG;가격/NNG;부담/NNG',\n       '완화정책/NNG;축소/NNG'],\n      dtype='object', name='ngram', length=8684)"
     },
     "metadata": {},
     "execution_count": 67
    }
   ],
   "source": [
    "hawkish"
   ]
  },
  {
   "cell_type": "code",
   "execution_count": 68,
   "metadata": {},
   "outputs": [
    {
     "output_type": "execute_result",
     "data": {
      "text/plain": "Index(['외환시장/NNG;fed/NNG;금리/NNG;인상/NNG', '심리/NNG;개선/NNG',\n       '공급/NNG;과잉/NNG;완화/NNG', '신용등급/NNG;하향/NNG;압력/NNG', '통화정책/NNG;완화/NNG',\n       '가격변수/NNG;변동성/NNG;확대/NNG', '수출/NNG;경쟁력/NNG;우려/NNG',\n       '비농업/NNG;고용/NNG;지표/NNG;경계/NNG', '건전성/NNG;지표/NNG;개선/NNG',\n       '국채/NNG;매입/NNG;중단/NNG',\n       ...\n       '대출심사/NNG;완화/NNG', '가계/NNG;부채/NNG;문제/NNG;심각/NNG', '가격/NNG;상승/NNG;어렵/VA',\n       '회복/NNG;부담/NNG', '지표/NNG;경기/NNG;회복/NNG', '크레딧/NNG;거래/NNG;증가/NNG',\n       'fed/NNG;금리/NNG;인상/NNG;우려/NNG;완화/NNG', '공급/NNG;압박/NNG',\n       '정책/NNG;효과/NNG;제한/NNG', '유동성/NNG;확충/NNG'],\n      dtype='object', name='ngram', length=7985)"
     },
     "metadata": {},
     "execution_count": 68
    }
   ],
   "source": [
    "dovish"
   ]
  },
  {
   "cell_type": "code",
   "execution_count": 25,
   "metadata": {},
   "outputs": [],
   "source": [
    "test_data = pd.read_json('test_ngram_datas.json')"
   ]
  },
  {
   "cell_type": "code",
   "execution_count": 69,
   "metadata": {},
   "outputs": [
    {
     "output_type": "execute_result",
     "data": {
      "text/plain": "             date                                              ngram  \\\n6251   2017-12-28                                    [물가/NNG;안정/NNG]   \n6252   2017-12-28                   [금융안정/NNG;위험/NNG, 위험/NNG;성장/NNG]   \n6253   2017-12-28                                  [통화정책/NNG;완화/NNG]   \n6254   2017-12-28                                 [금융시스템/NNG;안정/NNG]   \n6255   2017-12-14                                         [금융안정/NNG]   \n...           ...                                                ...   \n29417  2005-05-12  [둔화/NNG;경제/NNG;지표/NNG;부진/NNG, 지수/NNG;경제/NNG;지표...   \n29418  2005-05-12  [기업/NNG;실적/NNG;부진/NNG;하락/NNG, 우려/NNG;기업/NNG;실적...   \n29419  2005-05-12  [금리/NNG;인상/NNG;전망/NNG;상승/NNG, 유로존/NNG;경제/NNG;부...   \n29420  2005-05-12  [금리/NNG;경제/NNG;지표/NNG;부진/NNG;하락/NNG, 안전자산/NNG;...   \n29421  2005-05-12  [부진/NNG;글로벌/NNG;경기/NNG;둔화/NNG;우려/NNG, 중소기업/NNG...   \n\n           tone HD  H  D  \n6251   1.000000  H  1  0  \n6252  -1.000000  D  0  1  \n6253  -1.000000  D  0  1  \n6254  -1.000000  D  0  1  \n6255  -1.000000  D  0  1  \n...         ... .. .. ..  \n29417  1.000000  H  1  0  \n29418 -1.000000  D  0  1  \n29419 -0.200000  D  0  1  \n29420  0.500000  H  1  0  \n29421 -0.176471  D  0  1  \n\n[13710 rows x 6 columns]",
      "text/html": "<div>\n<style scoped>\n    .dataframe tbody tr th:only-of-type {\n        vertical-align: middle;\n    }\n\n    .dataframe tbody tr th {\n        vertical-align: top;\n    }\n\n    .dataframe thead th {\n        text-align: right;\n    }\n</style>\n<table border=\"1\" class=\"dataframe\">\n  <thead>\n    <tr style=\"text-align: right;\">\n      <th></th>\n      <th>date</th>\n      <th>ngram</th>\n      <th>tone</th>\n      <th>HD</th>\n      <th>H</th>\n      <th>D</th>\n    </tr>\n  </thead>\n  <tbody>\n    <tr>\n      <th>6251</th>\n      <td>2017-12-28</td>\n      <td>[물가/NNG;안정/NNG]</td>\n      <td>1.000000</td>\n      <td>H</td>\n      <td>1</td>\n      <td>0</td>\n    </tr>\n    <tr>\n      <th>6252</th>\n      <td>2017-12-28</td>\n      <td>[금융안정/NNG;위험/NNG, 위험/NNG;성장/NNG]</td>\n      <td>-1.000000</td>\n      <td>D</td>\n      <td>0</td>\n      <td>1</td>\n    </tr>\n    <tr>\n      <th>6253</th>\n      <td>2017-12-28</td>\n      <td>[통화정책/NNG;완화/NNG]</td>\n      <td>-1.000000</td>\n      <td>D</td>\n      <td>0</td>\n      <td>1</td>\n    </tr>\n    <tr>\n      <th>6254</th>\n      <td>2017-12-28</td>\n      <td>[금융시스템/NNG;안정/NNG]</td>\n      <td>-1.000000</td>\n      <td>D</td>\n      <td>0</td>\n      <td>1</td>\n    </tr>\n    <tr>\n      <th>6255</th>\n      <td>2017-12-14</td>\n      <td>[금융안정/NNG]</td>\n      <td>-1.000000</td>\n      <td>D</td>\n      <td>0</td>\n      <td>1</td>\n    </tr>\n    <tr>\n      <th>...</th>\n      <td>...</td>\n      <td>...</td>\n      <td>...</td>\n      <td>...</td>\n      <td>...</td>\n      <td>...</td>\n    </tr>\n    <tr>\n      <th>29417</th>\n      <td>2005-05-12</td>\n      <td>[둔화/NNG;경제/NNG;지표/NNG;부진/NNG, 지수/NNG;경제/NNG;지표...</td>\n      <td>1.000000</td>\n      <td>H</td>\n      <td>1</td>\n      <td>0</td>\n    </tr>\n    <tr>\n      <th>29418</th>\n      <td>2005-05-12</td>\n      <td>[기업/NNG;실적/NNG;부진/NNG;하락/NNG, 우려/NNG;기업/NNG;실적...</td>\n      <td>-1.000000</td>\n      <td>D</td>\n      <td>0</td>\n      <td>1</td>\n    </tr>\n    <tr>\n      <th>29419</th>\n      <td>2005-05-12</td>\n      <td>[금리/NNG;인상/NNG;전망/NNG;상승/NNG, 유로존/NNG;경제/NNG;부...</td>\n      <td>-0.200000</td>\n      <td>D</td>\n      <td>0</td>\n      <td>1</td>\n    </tr>\n    <tr>\n      <th>29420</th>\n      <td>2005-05-12</td>\n      <td>[금리/NNG;경제/NNG;지표/NNG;부진/NNG;하락/NNG, 안전자산/NNG;...</td>\n      <td>0.500000</td>\n      <td>H</td>\n      <td>1</td>\n      <td>0</td>\n    </tr>\n    <tr>\n      <th>29421</th>\n      <td>2005-05-12</td>\n      <td>[부진/NNG;글로벌/NNG;경기/NNG;둔화/NNG;우려/NNG, 중소기업/NNG...</td>\n      <td>-0.176471</td>\n      <td>D</td>\n      <td>0</td>\n      <td>1</td>\n    </tr>\n  </tbody>\n</table>\n<p>13710 rows × 6 columns</p>\n</div>"
     },
     "metadata": {},
     "execution_count": 69
    }
   ],
   "source": [
    "test_data"
   ]
  },
  {
   "cell_type": "code",
   "execution_count": 28,
   "metadata": {},
   "outputs": [],
   "source": [
    "test_data['ngram'] = list(map(lambda i : i.split(','), test_data['ngram']))"
   ]
  },
  {
   "cell_type": "code",
   "execution_count": 30,
   "metadata": {},
   "outputs": [],
   "source": [
    "test_data['date'] = list(map(lambda i : i.date(), test_data['date']))\n",
    "test_data = test_data[test_data['date'] <= datetime.date(2017,12,31)]"
   ]
  },
  {
   "cell_type": "code",
   "execution_count": 35,
   "metadata": {},
   "outputs": [
    {
     "output_type": "execute_result",
     "data": {
      "text/plain": "             date                                              ngram  \\\n6251   2017-12-28                                    [물가/NNG;안정/NNG]   \n6252   2017-12-28                   [금융안정/NNG;위험/NNG, 위험/NNG;성장/NNG]   \n6253   2017-12-28                                  [통화정책/NNG;완화/NNG]   \n6254   2017-12-28                                 [금융시스템/NNG;안정/NNG]   \n6255   2017-12-14                                         [금융안정/NNG]   \n...           ...                                                ...   \n29417  2005-05-12  [둔화/NNG;경제/NNG;지표/NNG;부진/NNG, 지수/NNG;경제/NNG;지표...   \n29418  2005-05-12  [기업/NNG;실적/NNG;부진/NNG;하락/NNG, 우려/NNG;기업/NNG;실적...   \n29419  2005-05-12  [금리/NNG;인상/NNG;전망/NNG;상승/NNG, 유로존/NNG;경제/NNG;부...   \n29420  2005-05-12  [금리/NNG;경제/NNG;지표/NNG;부진/NNG;하락/NNG, 안전자산/NNG;...   \n29421  2005-05-12  [부진/NNG;글로벌/NNG;경기/NNG;둔화/NNG;우려/NNG, 중소기업/NNG...   \n\n           tone HD  H  D  \n6251   1.000000  H  1  0  \n6252  -1.000000  D  0  1  \n6253  -1.000000  D  0  1  \n6254  -1.000000  D  0  1  \n6255  -1.000000  D  0  1  \n...         ... .. .. ..  \n29417  1.000000  H  1  0  \n29418 -1.000000  D  0  1  \n29419 -0.200000  D  0  1  \n29420  0.500000  H  1  0  \n29421 -0.176471  D  0  1  \n\n[13710 rows x 6 columns]",
      "text/html": "<div>\n<style scoped>\n    .dataframe tbody tr th:only-of-type {\n        vertical-align: middle;\n    }\n\n    .dataframe tbody tr th {\n        vertical-align: top;\n    }\n\n    .dataframe thead th {\n        text-align: right;\n    }\n</style>\n<table border=\"1\" class=\"dataframe\">\n  <thead>\n    <tr style=\"text-align: right;\">\n      <th></th>\n      <th>date</th>\n      <th>ngram</th>\n      <th>tone</th>\n      <th>HD</th>\n      <th>H</th>\n      <th>D</th>\n    </tr>\n  </thead>\n  <tbody>\n    <tr>\n      <th>6251</th>\n      <td>2017-12-28</td>\n      <td>[물가/NNG;안정/NNG]</td>\n      <td>1.000000</td>\n      <td>H</td>\n      <td>1</td>\n      <td>0</td>\n    </tr>\n    <tr>\n      <th>6252</th>\n      <td>2017-12-28</td>\n      <td>[금융안정/NNG;위험/NNG, 위험/NNG;성장/NNG]</td>\n      <td>-1.000000</td>\n      <td>D</td>\n      <td>0</td>\n      <td>1</td>\n    </tr>\n    <tr>\n      <th>6253</th>\n      <td>2017-12-28</td>\n      <td>[통화정책/NNG;완화/NNG]</td>\n      <td>-1.000000</td>\n      <td>D</td>\n      <td>0</td>\n      <td>1</td>\n    </tr>\n    <tr>\n      <th>6254</th>\n      <td>2017-12-28</td>\n      <td>[금융시스템/NNG;안정/NNG]</td>\n      <td>-1.000000</td>\n      <td>D</td>\n      <td>0</td>\n      <td>1</td>\n    </tr>\n    <tr>\n      <th>6255</th>\n      <td>2017-12-14</td>\n      <td>[금융안정/NNG]</td>\n      <td>-1.000000</td>\n      <td>D</td>\n      <td>0</td>\n      <td>1</td>\n    </tr>\n    <tr>\n      <th>...</th>\n      <td>...</td>\n      <td>...</td>\n      <td>...</td>\n      <td>...</td>\n      <td>...</td>\n      <td>...</td>\n    </tr>\n    <tr>\n      <th>29417</th>\n      <td>2005-05-12</td>\n      <td>[둔화/NNG;경제/NNG;지표/NNG;부진/NNG, 지수/NNG;경제/NNG;지표...</td>\n      <td>1.000000</td>\n      <td>H</td>\n      <td>1</td>\n      <td>0</td>\n    </tr>\n    <tr>\n      <th>29418</th>\n      <td>2005-05-12</td>\n      <td>[기업/NNG;실적/NNG;부진/NNG;하락/NNG, 우려/NNG;기업/NNG;실적...</td>\n      <td>-1.000000</td>\n      <td>D</td>\n      <td>0</td>\n      <td>1</td>\n    </tr>\n    <tr>\n      <th>29419</th>\n      <td>2005-05-12</td>\n      <td>[금리/NNG;인상/NNG;전망/NNG;상승/NNG, 유로존/NNG;경제/NNG;부...</td>\n      <td>-0.200000</td>\n      <td>D</td>\n      <td>0</td>\n      <td>1</td>\n    </tr>\n    <tr>\n      <th>29420</th>\n      <td>2005-05-12</td>\n      <td>[금리/NNG;경제/NNG;지표/NNG;부진/NNG;하락/NNG, 안전자산/NNG;...</td>\n      <td>0.500000</td>\n      <td>H</td>\n      <td>1</td>\n      <td>0</td>\n    </tr>\n    <tr>\n      <th>29421</th>\n      <td>2005-05-12</td>\n      <td>[부진/NNG;글로벌/NNG;경기/NNG;둔화/NNG;우려/NNG, 중소기업/NNG...</td>\n      <td>-0.176471</td>\n      <td>D</td>\n      <td>0</td>\n      <td>1</td>\n    </tr>\n  </tbody>\n</table>\n<p>13710 rows × 6 columns</p>\n</div>"
     },
     "metadata": {},
     "execution_count": 35
    }
   ],
   "source": [
    "test_data"
   ]
  },
  {
   "cell_type": "code",
   "execution_count": 72,
   "metadata": {
    "tags": []
   },
   "outputs": [
    {
     "output_type": "stream",
     "name": "stdout",
     "text": "tone      rate\ntone  1.000000  0.380343\nrate  0.380343  1.000000\n"
    },
    {
     "output_type": "display_data",
     "data": {
      "text/plain": "<Figure size 432x288 with 1 Axes>",
      "image/svg+xml": "<?xml version=\"1.0\" encoding=\"utf-8\" standalone=\"no\"?>\r\n<!DOCTYPE svg PUBLIC \"-//W3C//DTD SVG 1.1//EN\"\r\n  \"http://www.w3.org/Graphics/SVG/1.1/DTD/svg11.dtd\">\r\n<!-- Created with matplotlib (https://matplotlib.org/) -->\r\n<svg height=\"248.518125pt\" version=\"1.1\" viewBox=\"0 0 375.710938 248.518125\" width=\"375.710938pt\" xmlns=\"http://www.w3.org/2000/svg\" xmlns:xlink=\"http://www.w3.org/1999/xlink\">\r\n <defs>\r\n  <style type=\"text/css\">\r\n*{stroke-linecap:butt;stroke-linejoin:round;}\r\n  </style>\r\n </defs>\r\n <g id=\"figure_1\">\r\n  <g id=\"patch_1\">\r\n   <path d=\"M 0 248.518125 \r\nL 375.710938 248.518125 \r\nL 375.710938 0 \r\nL 0 0 \r\nz\r\n\" style=\"fill:none;\"/>\r\n  </g>\r\n  <g id=\"axes_1\">\r\n   <g id=\"patch_2\">\r\n    <path d=\"M 33.710938 224.64 \r\nL 368.510938 224.64 \r\nL 368.510938 7.2 \r\nL 33.710938 7.2 \r\nz\r\n\" style=\"fill:#ffffff;\"/>\r\n   </g>\r\n   <g id=\"matplotlib.axis_1\">\r\n    <g id=\"xtick_1\">\r\n     <g id=\"line2d_1\">\r\n      <defs>\r\n       <path d=\"M 0 0 \r\nL 0 3.5 \r\n\" id=\"m3da1be1efd\" style=\"stroke:#000000;stroke-width:0.8;\"/>\r\n      </defs>\r\n      <g>\r\n       <use style=\"stroke:#000000;stroke-width:0.8;\" x=\"64.368333\" xlink:href=\"#m3da1be1efd\" y=\"224.64\"/>\r\n      </g>\r\n     </g>\r\n     <g id=\"text_1\">\r\n      <!-- 2006 -->\r\n      <defs>\r\n       <path d=\"M 19.1875 8.296875 \r\nL 53.609375 8.296875 \r\nL 53.609375 0 \r\nL 7.328125 0 \r\nL 7.328125 8.296875 \r\nQ 12.9375 14.109375 22.625 23.890625 \r\nQ 32.328125 33.6875 34.8125 36.53125 \r\nQ 39.546875 41.84375 41.421875 45.53125 \r\nQ 43.3125 49.21875 43.3125 52.78125 \r\nQ 43.3125 58.59375 39.234375 62.25 \r\nQ 35.15625 65.921875 28.609375 65.921875 \r\nQ 23.96875 65.921875 18.8125 64.3125 \r\nQ 13.671875 62.703125 7.8125 59.421875 \r\nL 7.8125 69.390625 \r\nQ 13.765625 71.78125 18.9375 73 \r\nQ 24.125 74.21875 28.421875 74.21875 \r\nQ 39.75 74.21875 46.484375 68.546875 \r\nQ 53.21875 62.890625 53.21875 53.421875 \r\nQ 53.21875 48.921875 51.53125 44.890625 \r\nQ 49.859375 40.875 45.40625 35.40625 \r\nQ 44.1875 33.984375 37.640625 27.21875 \r\nQ 31.109375 20.453125 19.1875 8.296875 \r\nz\r\n\" id=\"DejaVuSans-50\"/>\r\n       <path d=\"M 31.78125 66.40625 \r\nQ 24.171875 66.40625 20.328125 58.90625 \r\nQ 16.5 51.421875 16.5 36.375 \r\nQ 16.5 21.390625 20.328125 13.890625 \r\nQ 24.171875 6.390625 31.78125 6.390625 \r\nQ 39.453125 6.390625 43.28125 13.890625 \r\nQ 47.125 21.390625 47.125 36.375 \r\nQ 47.125 51.421875 43.28125 58.90625 \r\nQ 39.453125 66.40625 31.78125 66.40625 \r\nz\r\nM 31.78125 74.21875 \r\nQ 44.046875 74.21875 50.515625 64.515625 \r\nQ 56.984375 54.828125 56.984375 36.375 \r\nQ 56.984375 17.96875 50.515625 8.265625 \r\nQ 44.046875 -1.421875 31.78125 -1.421875 \r\nQ 19.53125 -1.421875 13.0625 8.265625 \r\nQ 6.59375 17.96875 6.59375 36.375 \r\nQ 6.59375 54.828125 13.0625 64.515625 \r\nQ 19.53125 74.21875 31.78125 74.21875 \r\nz\r\n\" id=\"DejaVuSans-48\"/>\r\n       <path d=\"M 33.015625 40.375 \r\nQ 26.375 40.375 22.484375 35.828125 \r\nQ 18.609375 31.296875 18.609375 23.390625 \r\nQ 18.609375 15.53125 22.484375 10.953125 \r\nQ 26.375 6.390625 33.015625 6.390625 \r\nQ 39.65625 6.390625 43.53125 10.953125 \r\nQ 47.40625 15.53125 47.40625 23.390625 \r\nQ 47.40625 31.296875 43.53125 35.828125 \r\nQ 39.65625 40.375 33.015625 40.375 \r\nz\r\nM 52.59375 71.296875 \r\nL 52.59375 62.3125 \r\nQ 48.875 64.0625 45.09375 64.984375 \r\nQ 41.3125 65.921875 37.59375 65.921875 \r\nQ 27.828125 65.921875 22.671875 59.328125 \r\nQ 17.53125 52.734375 16.796875 39.40625 \r\nQ 19.671875 43.65625 24.015625 45.921875 \r\nQ 28.375 48.1875 33.59375 48.1875 \r\nQ 44.578125 48.1875 50.953125 41.515625 \r\nQ 57.328125 34.859375 57.328125 23.390625 \r\nQ 57.328125 12.15625 50.6875 5.359375 \r\nQ 44.046875 -1.421875 33.015625 -1.421875 \r\nQ 20.359375 -1.421875 13.671875 8.265625 \r\nQ 6.984375 17.96875 6.984375 36.375 \r\nQ 6.984375 53.65625 15.1875 63.9375 \r\nQ 23.390625 74.21875 37.203125 74.21875 \r\nQ 40.921875 74.21875 44.703125 73.484375 \r\nQ 48.484375 72.75 52.59375 71.296875 \r\nz\r\n\" id=\"DejaVuSans-54\"/>\r\n      </defs>\r\n      <g transform=\"translate(51.643333 239.238437)scale(0.1 -0.1)\">\r\n       <use xlink:href=\"#DejaVuSans-50\"/>\r\n       <use x=\"63.623047\" xlink:href=\"#DejaVuSans-48\"/>\r\n       <use x=\"127.246094\" xlink:href=\"#DejaVuSans-48\"/>\r\n       <use x=\"190.869141\" xlink:href=\"#DejaVuSans-54\"/>\r\n      </g>\r\n     </g>\r\n    </g>\r\n    <g id=\"xtick_2\">\r\n     <g id=\"line2d_2\">\r\n      <g>\r\n       <use style=\"stroke:#000000;stroke-width:0.8;\" x=\"112.5334\" xlink:href=\"#m3da1be1efd\" y=\"224.64\"/>\r\n      </g>\r\n     </g>\r\n     <g id=\"text_2\">\r\n      <!-- 2008 -->\r\n      <defs>\r\n       <path d=\"M 31.78125 34.625 \r\nQ 24.75 34.625 20.71875 30.859375 \r\nQ 16.703125 27.09375 16.703125 20.515625 \r\nQ 16.703125 13.921875 20.71875 10.15625 \r\nQ 24.75 6.390625 31.78125 6.390625 \r\nQ 38.8125 6.390625 42.859375 10.171875 \r\nQ 46.921875 13.96875 46.921875 20.515625 \r\nQ 46.921875 27.09375 42.890625 30.859375 \r\nQ 38.875 34.625 31.78125 34.625 \r\nz\r\nM 21.921875 38.8125 \r\nQ 15.578125 40.375 12.03125 44.71875 \r\nQ 8.5 49.078125 8.5 55.328125 \r\nQ 8.5 64.0625 14.71875 69.140625 \r\nQ 20.953125 74.21875 31.78125 74.21875 \r\nQ 42.671875 74.21875 48.875 69.140625 \r\nQ 55.078125 64.0625 55.078125 55.328125 \r\nQ 55.078125 49.078125 51.53125 44.71875 \r\nQ 48 40.375 41.703125 38.8125 \r\nQ 48.828125 37.15625 52.796875 32.3125 \r\nQ 56.78125 27.484375 56.78125 20.515625 \r\nQ 56.78125 9.90625 50.3125 4.234375 \r\nQ 43.84375 -1.421875 31.78125 -1.421875 \r\nQ 19.734375 -1.421875 13.25 4.234375 \r\nQ 6.78125 9.90625 6.78125 20.515625 \r\nQ 6.78125 27.484375 10.78125 32.3125 \r\nQ 14.796875 37.15625 21.921875 38.8125 \r\nz\r\nM 18.3125 54.390625 \r\nQ 18.3125 48.734375 21.84375 45.5625 \r\nQ 25.390625 42.390625 31.78125 42.390625 \r\nQ 38.140625 42.390625 41.71875 45.5625 \r\nQ 45.3125 48.734375 45.3125 54.390625 \r\nQ 45.3125 60.0625 41.71875 63.234375 \r\nQ 38.140625 66.40625 31.78125 66.40625 \r\nQ 25.390625 66.40625 21.84375 63.234375 \r\nQ 18.3125 60.0625 18.3125 54.390625 \r\nz\r\n\" id=\"DejaVuSans-56\"/>\r\n      </defs>\r\n      <g transform=\"translate(99.8084 239.238437)scale(0.1 -0.1)\">\r\n       <use xlink:href=\"#DejaVuSans-50\"/>\r\n       <use x=\"63.623047\" xlink:href=\"#DejaVuSans-48\"/>\r\n       <use x=\"127.246094\" xlink:href=\"#DejaVuSans-48\"/>\r\n       <use x=\"190.869141\" xlink:href=\"#DejaVuSans-56\"/>\r\n      </g>\r\n     </g>\r\n    </g>\r\n    <g id=\"xtick_3\">\r\n     <g id=\"line2d_3\">\r\n      <g>\r\n       <use style=\"stroke:#000000;stroke-width:0.8;\" x=\"160.764446\" xlink:href=\"#m3da1be1efd\" y=\"224.64\"/>\r\n      </g>\r\n     </g>\r\n     <g id=\"text_3\">\r\n      <!-- 2010 -->\r\n      <defs>\r\n       <path d=\"M 12.40625 8.296875 \r\nL 28.515625 8.296875 \r\nL 28.515625 63.921875 \r\nL 10.984375 60.40625 \r\nL 10.984375 69.390625 \r\nL 28.421875 72.90625 \r\nL 38.28125 72.90625 \r\nL 38.28125 8.296875 \r\nL 54.390625 8.296875 \r\nL 54.390625 0 \r\nL 12.40625 0 \r\nz\r\n\" id=\"DejaVuSans-49\"/>\r\n      </defs>\r\n      <g transform=\"translate(148.039446 239.238437)scale(0.1 -0.1)\">\r\n       <use xlink:href=\"#DejaVuSans-50\"/>\r\n       <use x=\"63.623047\" xlink:href=\"#DejaVuSans-48\"/>\r\n       <use x=\"127.246094\" xlink:href=\"#DejaVuSans-49\"/>\r\n       <use x=\"190.869141\" xlink:href=\"#DejaVuSans-48\"/>\r\n      </g>\r\n     </g>\r\n    </g>\r\n    <g id=\"xtick_4\">\r\n     <g id=\"line2d_4\">\r\n      <g>\r\n       <use style=\"stroke:#000000;stroke-width:0.8;\" x=\"208.929513\" xlink:href=\"#m3da1be1efd\" y=\"224.64\"/>\r\n      </g>\r\n     </g>\r\n     <g id=\"text_4\">\r\n      <!-- 2012 -->\r\n      <g transform=\"translate(196.204513 239.238437)scale(0.1 -0.1)\">\r\n       <use xlink:href=\"#DejaVuSans-50\"/>\r\n       <use x=\"63.623047\" xlink:href=\"#DejaVuSans-48\"/>\r\n       <use x=\"127.246094\" xlink:href=\"#DejaVuSans-49\"/>\r\n       <use x=\"190.869141\" xlink:href=\"#DejaVuSans-50\"/>\r\n      </g>\r\n     </g>\r\n    </g>\r\n    <g id=\"xtick_5\">\r\n     <g id=\"line2d_5\">\r\n      <g>\r\n       <use style=\"stroke:#000000;stroke-width:0.8;\" x=\"257.16056\" xlink:href=\"#m3da1be1efd\" y=\"224.64\"/>\r\n      </g>\r\n     </g>\r\n     <g id=\"text_5\">\r\n      <!-- 2014 -->\r\n      <defs>\r\n       <path d=\"M 37.796875 64.3125 \r\nL 12.890625 25.390625 \r\nL 37.796875 25.390625 \r\nz\r\nM 35.203125 72.90625 \r\nL 47.609375 72.90625 \r\nL 47.609375 25.390625 \r\nL 58.015625 25.390625 \r\nL 58.015625 17.1875 \r\nL 47.609375 17.1875 \r\nL 47.609375 0 \r\nL 37.796875 0 \r\nL 37.796875 17.1875 \r\nL 4.890625 17.1875 \r\nL 4.890625 26.703125 \r\nz\r\n\" id=\"DejaVuSans-52\"/>\r\n      </defs>\r\n      <g transform=\"translate(244.43556 239.238437)scale(0.1 -0.1)\">\r\n       <use xlink:href=\"#DejaVuSans-50\"/>\r\n       <use x=\"63.623047\" xlink:href=\"#DejaVuSans-48\"/>\r\n       <use x=\"127.246094\" xlink:href=\"#DejaVuSans-49\"/>\r\n       <use x=\"190.869141\" xlink:href=\"#DejaVuSans-52\"/>\r\n      </g>\r\n     </g>\r\n    </g>\r\n    <g id=\"xtick_6\">\r\n     <g id=\"line2d_6\">\r\n      <g>\r\n       <use style=\"stroke:#000000;stroke-width:0.8;\" x=\"305.325627\" xlink:href=\"#m3da1be1efd\" y=\"224.64\"/>\r\n      </g>\r\n     </g>\r\n     <g id=\"text_6\">\r\n      <!-- 2016 -->\r\n      <g transform=\"translate(292.600627 239.238437)scale(0.1 -0.1)\">\r\n       <use xlink:href=\"#DejaVuSans-50\"/>\r\n       <use x=\"63.623047\" xlink:href=\"#DejaVuSans-48\"/>\r\n       <use x=\"127.246094\" xlink:href=\"#DejaVuSans-49\"/>\r\n       <use x=\"190.869141\" xlink:href=\"#DejaVuSans-54\"/>\r\n      </g>\r\n     </g>\r\n    </g>\r\n    <g id=\"xtick_7\">\r\n     <g id=\"line2d_7\">\r\n      <g>\r\n       <use style=\"stroke:#000000;stroke-width:0.8;\" x=\"353.556674\" xlink:href=\"#m3da1be1efd\" y=\"224.64\"/>\r\n      </g>\r\n     </g>\r\n     <g id=\"text_7\">\r\n      <!-- 2018 -->\r\n      <g transform=\"translate(340.831674 239.238437)scale(0.1 -0.1)\">\r\n       <use xlink:href=\"#DejaVuSans-50\"/>\r\n       <use x=\"63.623047\" xlink:href=\"#DejaVuSans-48\"/>\r\n       <use x=\"127.246094\" xlink:href=\"#DejaVuSans-49\"/>\r\n       <use x=\"190.869141\" xlink:href=\"#DejaVuSans-56\"/>\r\n      </g>\r\n     </g>\r\n    </g>\r\n   </g>\r\n   <g id=\"matplotlib.axis_2\">\r\n    <g id=\"ytick_1\">\r\n     <g id=\"line2d_8\">\r\n      <defs>\r\n       <path d=\"M 0 0 \r\nL -3.5 0 \r\n\" id=\"ma802e74ca3\" style=\"stroke:#000000;stroke-width:0.8;\"/>\r\n      </defs>\r\n      <g>\r\n       <use style=\"stroke:#000000;stroke-width:0.8;\" x=\"33.710938\" xlink:href=\"#ma802e74ca3\" y=\"215.781413\"/>\r\n      </g>\r\n     </g>\r\n     <g id=\"text_8\">\r\n      <!-- -1.5 -->\r\n      <defs>\r\n       <path d=\"M 4.890625 31.390625 \r\nL 31.203125 31.390625 \r\nL 31.203125 23.390625 \r\nL 4.890625 23.390625 \r\nz\r\n\" id=\"DejaVuSans-45\"/>\r\n       <path d=\"M 10.6875 12.40625 \r\nL 21 12.40625 \r\nL 21 0 \r\nL 10.6875 0 \r\nz\r\n\" id=\"DejaVuSans-46\"/>\r\n       <path d=\"M 10.796875 72.90625 \r\nL 49.515625 72.90625 \r\nL 49.515625 64.59375 \r\nL 19.828125 64.59375 \r\nL 19.828125 46.734375 \r\nQ 21.96875 47.46875 24.109375 47.828125 \r\nQ 26.265625 48.1875 28.421875 48.1875 \r\nQ 40.625 48.1875 47.75 41.5 \r\nQ 54.890625 34.8125 54.890625 23.390625 \r\nQ 54.890625 11.625 47.5625 5.09375 \r\nQ 40.234375 -1.421875 26.90625 -1.421875 \r\nQ 22.3125 -1.421875 17.546875 -0.640625 \r\nQ 12.796875 0.140625 7.71875 1.703125 \r\nL 7.71875 11.625 \r\nQ 12.109375 9.234375 16.796875 8.0625 \r\nQ 21.484375 6.890625 26.703125 6.890625 \r\nQ 35.15625 6.890625 40.078125 11.328125 \r\nQ 45.015625 15.765625 45.015625 23.390625 \r\nQ 45.015625 31 40.078125 35.4375 \r\nQ 35.15625 39.890625 26.703125 39.890625 \r\nQ 22.75 39.890625 18.8125 39.015625 \r\nQ 14.890625 38.140625 10.796875 36.28125 \r\nz\r\n\" id=\"DejaVuSans-53\"/>\r\n      </defs>\r\n      <g transform=\"translate(7.2 219.580632)scale(0.1 -0.1)\">\r\n       <use xlink:href=\"#DejaVuSans-45\"/>\r\n       <use x=\"36.083984\" xlink:href=\"#DejaVuSans-49\"/>\r\n       <use x=\"99.707031\" xlink:href=\"#DejaVuSans-46\"/>\r\n       <use x=\"131.494141\" xlink:href=\"#DejaVuSans-53\"/>\r\n      </g>\r\n     </g>\r\n    </g>\r\n    <g id=\"ytick_2\">\r\n     <g id=\"line2d_9\">\r\n      <g>\r\n       <use style=\"stroke:#000000;stroke-width:0.8;\" x=\"33.710938\" xlink:href=\"#ma802e74ca3\" y=\"191.072322\"/>\r\n      </g>\r\n     </g>\r\n     <g id=\"text_9\">\r\n      <!-- -1.0 -->\r\n      <g transform=\"translate(7.2 194.871541)scale(0.1 -0.1)\">\r\n       <use xlink:href=\"#DejaVuSans-45\"/>\r\n       <use x=\"36.083984\" xlink:href=\"#DejaVuSans-49\"/>\r\n       <use x=\"99.707031\" xlink:href=\"#DejaVuSans-46\"/>\r\n       <use x=\"131.494141\" xlink:href=\"#DejaVuSans-48\"/>\r\n      </g>\r\n     </g>\r\n    </g>\r\n    <g id=\"ytick_3\">\r\n     <g id=\"line2d_10\">\r\n      <g>\r\n       <use style=\"stroke:#000000;stroke-width:0.8;\" x=\"33.710938\" xlink:href=\"#ma802e74ca3\" y=\"166.363231\"/>\r\n      </g>\r\n     </g>\r\n     <g id=\"text_10\">\r\n      <!-- -0.5 -->\r\n      <g transform=\"translate(7.2 170.16245)scale(0.1 -0.1)\">\r\n       <use xlink:href=\"#DejaVuSans-45\"/>\r\n       <use x=\"36.083984\" xlink:href=\"#DejaVuSans-48\"/>\r\n       <use x=\"99.707031\" xlink:href=\"#DejaVuSans-46\"/>\r\n       <use x=\"131.494141\" xlink:href=\"#DejaVuSans-53\"/>\r\n      </g>\r\n     </g>\r\n    </g>\r\n    <g id=\"ytick_4\">\r\n     <g id=\"line2d_11\">\r\n      <g>\r\n       <use style=\"stroke:#000000;stroke-width:0.8;\" x=\"33.710938\" xlink:href=\"#ma802e74ca3\" y=\"141.654141\"/>\r\n      </g>\r\n     </g>\r\n     <g id=\"text_11\">\r\n      <!-- 0.0 -->\r\n      <g transform=\"translate(10.807812 145.453359)scale(0.1 -0.1)\">\r\n       <use xlink:href=\"#DejaVuSans-48\"/>\r\n       <use x=\"63.623047\" xlink:href=\"#DejaVuSans-46\"/>\r\n       <use x=\"95.410156\" xlink:href=\"#DejaVuSans-48\"/>\r\n      </g>\r\n     </g>\r\n    </g>\r\n    <g id=\"ytick_5\">\r\n     <g id=\"line2d_12\">\r\n      <g>\r\n       <use style=\"stroke:#000000;stroke-width:0.8;\" x=\"33.710938\" xlink:href=\"#ma802e74ca3\" y=\"116.94505\"/>\r\n      </g>\r\n     </g>\r\n     <g id=\"text_12\">\r\n      <!-- 0.5 -->\r\n      <g transform=\"translate(10.807812 120.744268)scale(0.1 -0.1)\">\r\n       <use xlink:href=\"#DejaVuSans-48\"/>\r\n       <use x=\"63.623047\" xlink:href=\"#DejaVuSans-46\"/>\r\n       <use x=\"95.410156\" xlink:href=\"#DejaVuSans-53\"/>\r\n      </g>\r\n     </g>\r\n    </g>\r\n    <g id=\"ytick_6\">\r\n     <g id=\"line2d_13\">\r\n      <g>\r\n       <use style=\"stroke:#000000;stroke-width:0.8;\" x=\"33.710938\" xlink:href=\"#ma802e74ca3\" y=\"92.235959\"/>\r\n      </g>\r\n     </g>\r\n     <g id=\"text_13\">\r\n      <!-- 1.0 -->\r\n      <g transform=\"translate(10.807812 96.035177)scale(0.1 -0.1)\">\r\n       <use xlink:href=\"#DejaVuSans-49\"/>\r\n       <use x=\"63.623047\" xlink:href=\"#DejaVuSans-46\"/>\r\n       <use x=\"95.410156\" xlink:href=\"#DejaVuSans-48\"/>\r\n      </g>\r\n     </g>\r\n    </g>\r\n    <g id=\"ytick_7\">\r\n     <g id=\"line2d_14\">\r\n      <g>\r\n       <use style=\"stroke:#000000;stroke-width:0.8;\" x=\"33.710938\" xlink:href=\"#ma802e74ca3\" y=\"67.526868\"/>\r\n      </g>\r\n     </g>\r\n     <g id=\"text_14\">\r\n      <!-- 1.5 -->\r\n      <g transform=\"translate(10.807812 71.326087)scale(0.1 -0.1)\">\r\n       <use xlink:href=\"#DejaVuSans-49\"/>\r\n       <use x=\"63.623047\" xlink:href=\"#DejaVuSans-46\"/>\r\n       <use x=\"95.410156\" xlink:href=\"#DejaVuSans-53\"/>\r\n      </g>\r\n     </g>\r\n    </g>\r\n    <g id=\"ytick_8\">\r\n     <g id=\"line2d_15\">\r\n      <g>\r\n       <use style=\"stroke:#000000;stroke-width:0.8;\" x=\"33.710938\" xlink:href=\"#ma802e74ca3\" y=\"42.817777\"/>\r\n      </g>\r\n     </g>\r\n     <g id=\"text_15\">\r\n      <!-- 2.0 -->\r\n      <g transform=\"translate(10.807812 46.616996)scale(0.1 -0.1)\">\r\n       <use xlink:href=\"#DejaVuSans-50\"/>\r\n       <use x=\"63.623047\" xlink:href=\"#DejaVuSans-46\"/>\r\n       <use x=\"95.410156\" xlink:href=\"#DejaVuSans-48\"/>\r\n      </g>\r\n     </g>\r\n    </g>\r\n    <g id=\"ytick_9\">\r\n     <g id=\"line2d_16\">\r\n      <g>\r\n       <use style=\"stroke:#000000;stroke-width:0.8;\" x=\"33.710938\" xlink:href=\"#ma802e74ca3\" y=\"18.108686\"/>\r\n      </g>\r\n     </g>\r\n     <g id=\"text_16\">\r\n      <!-- 2.5 -->\r\n      <g transform=\"translate(10.807812 21.907905)scale(0.1 -0.1)\">\r\n       <use xlink:href=\"#DejaVuSans-50\"/>\r\n       <use x=\"63.623047\" xlink:href=\"#DejaVuSans-46\"/>\r\n       <use x=\"95.410156\" xlink:href=\"#DejaVuSans-53\"/>\r\n      </g>\r\n     </g>\r\n    </g>\r\n   </g>\r\n   <g id=\"line2d_17\">\r\n    <path clip-path=\"url(#pfa6fc76db4)\" d=\"M 48.929119 129.299595 \r\nL 50.776547 138.359595 \r\nL 52.623974 112.003231 \r\nL 54.933258 115.491574 \r\nL 56.780685 129.299595 \r\nL 57.704399 141.654141 \r\nL 58.95801 114.698769 \r\nL 60.937396 109.67767 \r\nL 62.784824 97.437873 \r\nL 64.632251 92.235959 \r\nL 65.094108 100.472322 \r\nL 66.017821 92.235959 \r\nL 66.941535 92.235959 \r\nL 68.788962 130.249945 \r\nL 69.712676 92.235959 \r\nL 70.702369 115.768426 \r\nL 72.945673 102.119595 \r\nL 74.793101 99.295699 \r\nL 76.706507 110.206207 \r\nL 78.949812 105.414141 \r\nL 79.411669 191.072322 \r\nL 80.797239 112.826868 \r\nL 81.720953 92.235959 \r\nL 83.106523 136.163231 \r\nL 84.95395 118.245528 \r\nL 85.877664 92.235959 \r\nL 86.801378 115.297777 \r\nL 89.110662 128.475959 \r\nL 90.958089 113.415179 \r\nL 92.805516 118.845749 \r\nL 93.72923 92.235959 \r\nL 96.962227 117.860201 \r\nL 98.875634 118.019358 \r\nL 101.118939 95.530504 \r\nL 102.966366 103.640155 \r\nL 104.879773 108.049777 \r\nL 105.737507 92.235959 \r\nL 107.123077 126.317463 \r\nL 108.970504 118.948489 \r\nL 110.883911 120.47492 \r\nL 112.731338 92.235959 \r\nL 113.127216 132.388231 \r\nL 115.37052 154.466262 \r\nL 116.88805 126.448546 \r\nL 117.745784 92.235959 \r\nL 119.131354 132.502625 \r\nL 120.978781 130.495196 \r\nL 123.288065 114.199595 \r\nL 125.135493 105.963231 \r\nL 126.98292 126.210959 \r\nL 129.292204 160.480115 \r\nL 130.215917 141.654141 \r\nL 131.139631 180.38731 \r\nL 132.063345 191.072322 \r\nL 132.327263 191.072322 \r\nL 133.053038 179.840917 \r\nL 134.768506 191.072322 \r\nL 135.296342 180.668495 \r\nL 136.154076 191.072322 \r\nL 137.209749 181.188686 \r\nL 138.067483 191.072322 \r\nL 139.453054 173.102074 \r\nL 140.310788 191.072322 \r\nL 141.300481 162.833361 \r\nL 142.224195 180.090504 \r\nL 143.147908 163.617777 \r\nL 144.533479 191.072322 \r\nL 145.325233 113.605983 \r\nL 147.304619 111.365577 \r\nL 148.228333 191.072322 \r\nL 149.152047 130.495196 \r\nL 151.329372 134.5944 \r\nL 153.308758 116.342389 \r\nL 154.232472 158.126868 \r\nL 155.222165 132.241154 \r\nL 157.465469 115.768426 \r\nL 158.389183 92.235959 \r\nL 159.312896 122.647148 \r\nL 161.226303 128.543194 \r\nL 162.084037 92.235959 \r\nL 163.469608 118.245528 \r\nL 165.317035 129.502129 \r\nL 166.240749 141.654141 \r\nL 167.230442 132.829465 \r\nL 169.407767 125.688266 \r\nL 171.321173 107.8417 \r\nL 172.244887 92.235959 \r\nL 173.23458 124.710764 \r\nL 174.554171 92.235959 \r\nL 175.477885 118.160251 \r\nL 176.731496 92.235959 \r\nL 177.325312 125.645434 \r\nL 178.315005 92.235959 \r\nL 179.634596 129.973479 \r\nL 181.811921 115.154536 \r\nL 183.32945 120.033686 \r\nL 184.253164 112.003231 \r\nL 185.176878 125.181413 \r\nL 185.638734 106.212818 \r\nL 187.552141 106.649595 \r\nL 188.409875 92.235959 \r\nL 189.333589 103.083852 \r\nL 190.257303 141.654141 \r\nL 191.510914 102.920971 \r\nL 195.403707 125.181413 \r\nL 197.647011 120.846485 \r\nL 199.494439 130.16154 \r\nL 201.341866 136.781925 \r\nL 202.26558 92.235959 \r\nL 203.65115 135.208291 \r\nL 205.564557 140.995231 \r\nL 206.422291 191.072322 \r\nL 207.346004 141.012346 \r\nL 208.269718 191.072322 \r\nL 208.731575 92.235959 \r\nL 209.721268 137.700686 \r\nL 211.502716 141.654141 \r\nL 213.350143 135.877989 \r\nL 214.273857 158.126868 \r\nL 215.725406 130.854141 \r\nL 217.506854 139.950065 \r\nL 219.420261 145.934455 \r\nL 221.663565 169.342342 \r\nL 222.587279 191.072322 \r\nL 223.510993 159.16452 \r\nL 225.820277 162.639944 \r\nL 226.74399 181.188686 \r\nL 227.667704 157.70718 \r\nL 228.591418 191.072322 \r\nL 229.581111 152.429534 \r\nL 231.824415 155.309164 \r\nL 232.748129 191.072322 \r\nL 233.737822 148.713881 \r\nL 235.981126 150.248607 \r\nL 237.828554 146.895463 \r\nL 238.752267 191.072322 \r\nL 239.675981 163.617777 \r\nL 240.599695 191.072322 \r\nL 241.523408 155.397659 \r\nL 243.832692 167.860752 \r\nL 244.756406 191.072322 \r\nL 245.680119 151.537777 \r\nL 246.603833 141.654141 \r\nL 247.527547 161.341058 \r\nL 249.836831 153.236527 \r\nL 250.760544 191.072322 \r\nL 251.684258 150.714141 \r\nL 252.607972 191.072322 \r\nL 253.993542 149.141744 \r\nL 255.840969 142.391725 \r\nL 256.764683 191.072322 \r\nL 257.688396 145.134294 \r\nL 259.99768 151.964409 \r\nL 261.845108 148.220193 \r\nL 262.768821 168.263931 \r\nL 263.692535 143.269114 \r\nL 264.616249 151.537777 \r\nL 265.605942 145.590102 \r\nL 267.849246 150.454639 \r\nL 269.696673 155.686464 \r\nL 270.620387 191.072322 \r\nL 272.005958 161.787474 \r\nL 273.919364 162.43224 \r\nL 274.777098 191.072322 \r\nL 276.096689 154.008686 \r\nL 276.624526 191.072322 \r\nL 278.010096 166.818 \r\nL 279.857523 156.859735 \r\nL 280.715257 191.072322 \r\nL 282.166807 153.262438 \r\nL 284.344132 156.1889 \r\nL 285.861662 164.392568 \r\nL 286.785375 186.954141 \r\nL 288.632803 141.654141 \r\nL 290.084353 173.913231 \r\nL 291.8658 167.235317 \r\nL 292.789514 154.008686 \r\nL 293.713227 164.227878 \r\nL 294.636941 92.235959 \r\nL 296.022512 160.754419 \r\nL 296.946225 171.30505 \r\nL 297.935918 162.833361 \r\nL 298.793652 181.188686 \r\nL 300.179223 165.15791 \r\nL 301.102936 191.072322 \r\nL 302.02665 156.5066 \r\nL 302.950364 191.072322 \r\nL 304.269955 144.948686 \r\nL 304.797791 191.072322 \r\nL 306.183361 142.859462 \r\nL 308.360686 162.833361 \r\nL 308.954502 151.537777 \r\nL 309.878216 160.511078 \r\nL 310.801929 181.188686 \r\nL 312.517398 156.834889 \r\nL 314.100907 166.854141 \r\nL 315.882354 150.058593 \r\nL 316.806068 191.072322 \r\nL 317.333904 191.072322 \r\nL 318.191638 157.662847 \r\nL 320.039066 159.75094 \r\nL 321.952472 148.959437 \r\nL 322.810206 178.717777 \r\nL 324.195777 141.654141 \r\nL 325.11949 166.363231 \r\nL 326.109184 134.241413 \r\nL 326.966918 191.072322 \r\nL 328.352488 135.127211 \r\nL 328.748365 171.30505 \r\nL 329.276202 191.072322 \r\nL 330.265895 135.024872 \r\nL 332.971056 129.857542 \r\nL 334.818483 157.097322 \r\nL 336.204054 134.928589 \r\nL 337.127767 191.072322 \r\nL 338.975195 131.770504 \r\nL 340.822622 155.131826 \r\nL 342.208192 121.758509 \r\nL 344.05562 166.363231 \r\nL 345.44119 124.357777 \r\nL 346.82676 139.823838 \r\nL 348.674188 122.647148 \r\nL 351.445328 115.317505 \r\nL 352.369042 174.599595 \r\nL 353.292756 166.363231 \r\nL 353.292756 166.363231 \r\n\" style=\"fill:none;stroke:#1f77b4;stroke-linecap:square;stroke-width:1.5;\"/>\r\n   </g>\r\n   <g id=\"line2d_18\">\r\n    <path clip-path=\"url(#pfa6fc76db4)\" d=\"M 48.929119 115.92 \r\nL 57.704399 115.92 \r\nL 58.95801 103.565455 \r\nL 60.937396 103.565455 \r\nL 62.784824 91.210909 \r\nL 66.017821 91.210909 \r\nL 66.941535 78.856364 \r\nL 72.945673 78.856364 \r\nL 74.793101 66.501818 \r\nL 76.706507 66.501818 \r\nL 78.949812 54.147273 \r\nL 98.875634 54.147273 \r\nL 101.118939 41.792727 \r\nL 102.966366 29.438182 \r\nL 125.135493 29.438182 \r\nL 126.98292 17.083636 \r\nL 130.215917 17.083636 \r\nL 131.139631 29.438182 \r\nL 132.063345 29.438182 \r\nL 132.327263 66.501818 \r\nL 133.053038 78.856364 \r\nL 134.768506 78.856364 \r\nL 135.296342 128.274545 \r\nL 136.154076 128.274545 \r\nL 137.209749 152.983636 \r\nL 138.067483 152.983636 \r\nL 139.453054 177.692727 \r\nL 172.244887 177.692727 \r\nL 173.23458 165.338182 \r\nL 179.634596 165.338182 \r\nL 181.811921 152.983636 \r\nL 185.176878 152.983636 \r\nL 185.638734 140.629091 \r\nL 188.409875 140.629091 \r\nL 189.333589 128.274545 \r\nL 193.55628 128.274545 \r\nL 195.403707 115.92 \r\nL 219.420261 115.92 \r\nL 221.663565 128.274545 \r\nL 226.74399 128.274545 \r\nL 227.667704 140.629091 \r\nL 240.599695 140.629091 \r\nL 241.523408 152.983636 \r\nL 270.620387 152.983636 \r\nL 272.005958 165.338182 \r\nL 274.777098 165.338182 \r\nL 276.096689 177.692727 \r\nL 284.344132 177.692727 \r\nL 285.861662 190.047273 \r\nL 290.084353 190.047273 \r\nL 291.8658 202.401818 \r\nL 314.100907 202.401818 \r\nL 315.882354 214.756364 \r\nL 348.674188 214.756364 \r\nL 351.445328 202.401818 \r\nL 353.292756 202.401818 \r\nL 353.292756 202.401818 \r\n\" style=\"fill:none;stroke:#ff7f0e;stroke-linecap:square;stroke-width:1.5;\"/>\r\n   </g>\r\n   <g id=\"patch_3\">\r\n    <path d=\"M 33.710938 224.64 \r\nL 33.710938 7.2 \r\n\" style=\"fill:none;stroke:#000000;stroke-linecap:square;stroke-linejoin:miter;stroke-width:0.8;\"/>\r\n   </g>\r\n   <g id=\"patch_4\">\r\n    <path d=\"M 368.510938 224.64 \r\nL 368.510938 7.2 \r\n\" style=\"fill:none;stroke:#000000;stroke-linecap:square;stroke-linejoin:miter;stroke-width:0.8;\"/>\r\n   </g>\r\n   <g id=\"patch_5\">\r\n    <path d=\"M 33.710938 224.64 \r\nL 368.510938 224.64 \r\n\" style=\"fill:none;stroke:#000000;stroke-linecap:square;stroke-linejoin:miter;stroke-width:0.8;\"/>\r\n   </g>\r\n   <g id=\"patch_6\">\r\n    <path d=\"M 33.710938 7.2 \r\nL 368.510938 7.2 \r\n\" style=\"fill:none;stroke:#000000;stroke-linecap:square;stroke-linejoin:miter;stroke-width:0.8;\"/>\r\n   </g>\r\n  </g>\r\n </g>\r\n <defs>\r\n  <clipPath id=\"pfa6fc76db4\">\r\n   <rect height=\"217.44\" width=\"334.8\" x=\"33.710938\" y=\"7.2\"/>\r\n  </clipPath>\r\n </defs>\r\n</svg>\r\n",
      "image/png": "[encoded data removed]"
     },
     "metadata": {
      "needs_background": "light"
     }
    }
   ],
   "source": [
    "test_data = pd.read_json('test_ngram_datas.json')\n",
    "test_data['ngram'] = list(map(lambda i : i.split(','), test_data['ngram']))\n",
    "test_data['date'] = list(map(lambda i : i.date(), test_data['date']))\n",
    "test_data = test_data[test_data['date'] <= datetime.date(2017,12,31)]\n",
    "\n",
    "def tone_sent(x):\n",
    "    a = 0\n",
    "    b = 0\n",
    "    for ngram in x:\n",
    "        if ngram in hawkish:\n",
    "            a += 1\n",
    "        elif ngram in dovish:\n",
    "            b += 1\n",
    "    try:\n",
    "        return (a-b) / (a+b)\n",
    "    except:\n",
    "        return np.nan\n",
    "test_data['tone'] = list(map(tone_sent, test_data['ngram']))\n",
    "test_data.dropna(inplace=True)\n",
    "# 0은 중립\n",
    "test_data['HD'] = list(map(lambda i : 'H' if i > 0 else 'D' if i < 0 else np.nan, test_data['tone']))\n",
    "test_data.dropna(inplace=True)\n",
    "test_data['H'] = list(map(lambda i : 1 if i == 'H' else 0, test_data['HD']))\n",
    "test_data['D'] = list(map(lambda i : 1 if i == 'D' else 0, test_data['HD']))\n",
    "final_tone = test_data.groupby('date').sum()[['H','D']]\n",
    "final_tone['tone'] = (final_tone['H'] - final_tone['D']) / (final_tone['H'] + final_tone['D'])\n",
    "sr_df = pd.read_json('standard_rate.json').set_index('date')\n",
    "final_tone['rate'] = sr_df['rate']\n",
    "corr = final_tone[['tone','rate']].corr(method = 'pearson')\n",
    "print(corr)\n",
    "import matplotlib.pyplot as plt\n",
    "plt.plot(final_tone['tone'])\n",
    "# def norm(x):\n",
    "#     if x - final_tone['rate'].mean() > 0:\n",
    "#         (x - final_tone['rate'].mean()) / (final_tone['rate'].max() - final_tone['rate'].mean())\n",
    "#     else:\n",
    "#         (x - final_tone['rate'].mean()) / (final_tone['rate'].mean() - final_tone['rate'].min())\n",
    "# final_tone['norm_rate'] = list(map(norm, final_tone['rate']))\n",
    "plt.plot(final_tone['rate']-final_tone['rate'].mean())\n",
    "plt.show()"
   ]
  },
  {
   "cell_type": "code",
   "execution_count": null,
   "metadata": {},
   "outputs": [],
   "source": []
  }
 ],
 "metadata": {
  "kernelspec": {
   "display_name": "Python 3",
   "language": "python",
   "name": "python3"
  },
  "language_info": {
   "codemirror_mode": {
    "name": "ipython",
    "version": 3
   },
   "file_extension": ".py",
   "mimetype": "text/x-python",
   "name": "python",
   "nbconvert_exporter": "python",
   "pygments_lexer": "ipython3",
   "version": "3.7.6"
  }
 },
 "nbformat": 4,
 "nbformat_minor": 2
}