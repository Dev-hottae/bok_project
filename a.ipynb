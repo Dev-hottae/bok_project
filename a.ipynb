{
 "cells": [
  {
   "cell_type": "code",
   "execution_count": 2,
   "metadata": {},
   "outputs": [],
   "source": [
    "import pandas as pd"
   ]
  },
  {
   "cell_type": "code",
   "execution_count": 6,
   "metadata": {},
   "outputs": [],
   "source": [
    "datas = pd.read_json('ngram/datas/bond_0517dirty.json')"
   ]
  },
  {
   "cell_type": "code",
   "execution_count": 7,
   "metadata": {},
   "outputs": [
    {
     "data": {
      "text/plain": [
       "date    0\n",
       "doc     0\n",
       "dtype: int64"
      ]
     },
     "execution_count": 7,
     "metadata": {},
     "output_type": "execute_result"
    }
   ],
   "source": [
    "datas.isnull().sum()"
   ]
  },
  {
   "cell_type": "code",
   "execution_count": 1,
   "metadata": {
    "tags": []
   },
   "outputs": [],
   "source": [
    "# Call Rate Crawling\n",
    "\n",
    "import requests\n",
    "from bs4 import BeautifulSoup\n",
    "import pandas as pd\n",
    "\n",
    "start_page = 1\n",
    "end_page = 544\n",
    "\n",
    "page_number = 1\n",
    "\n",
    "date_list = []\n",
    "rate_list = []\n",
    "\n",
    "while True:\n",
    "    URL = 'https://finance.naver.com/marketindex/interestDailyQuote.nhn?marketindexCd=IRR_CALL&page={}'.format(page_number)\n",
    "    r = requests.get(URL)\n",
    "    sp = BeautifulSoup(r.text,'html.parser')\n",
    "    results = sp.select('tr')[1:]\n",
    "    for result in results:\n",
    "        date_list.append(result.select_one('td.date').text.strip())\n",
    "        rate_list.append(result.select_one('td.num').text.strip())\n",
    "\n",
    "    page_number += 1\n",
    "    if page_number > end_page:\n",
    "        break\n",
    "\n",
    "call_df = pd.DataFrame(list(zip(date_list,rate_list)))"
   ]
  },
  {
   "cell_type": "code",
   "execution_count": null,
   "metadata": {},
   "outputs": [],
   "source": [
    "call_df.columns = ['date','rate']"
   ]
  },
  {
   "cell_type": "code",
   "execution_count": 61,
   "metadata": {},
   "outputs": [
    {
     "data": {
      "text/html": [
       "<div>\n",
       "<style scoped>\n",
       "    .dataframe tbody tr th:only-of-type {\n",
       "        vertical-align: middle;\n",
       "    }\n",
       "\n",
       "    .dataframe tbody tr th {\n",
       "        vertical-align: top;\n",
       "    }\n",
       "\n",
       "    .dataframe thead th {\n",
       "        text-align: right;\n",
       "    }\n",
       "</style>\n",
       "<table border=\"1\" class=\"dataframe\">\n",
       "  <thead>\n",
       "    <tr style=\"text-align: right;\">\n",
       "      <th></th>\n",
       "      <th>rate</th>\n",
       "    </tr>\n",
       "    <tr>\n",
       "      <th>date</th>\n",
       "      <th></th>\n",
       "    </tr>\n",
       "  </thead>\n",
       "  <tbody>\n",
       "    <tr>\n",
       "      <th>2020-07-27</th>\n",
       "      <td>0.49</td>\n",
       "    </tr>\n",
       "    <tr>\n",
       "      <th>2020-07-24</th>\n",
       "      <td>0.48</td>\n",
       "    </tr>\n",
       "    <tr>\n",
       "      <th>2020-07-23</th>\n",
       "      <td>0.46</td>\n",
       "    </tr>\n",
       "    <tr>\n",
       "      <th>2020-07-22</th>\n",
       "      <td>0.45</td>\n",
       "    </tr>\n",
       "    <tr>\n",
       "      <th>2020-07-21</th>\n",
       "      <td>0.46</td>\n",
       "    </tr>\n",
       "    <tr>\n",
       "      <th>...</th>\n",
       "      <td>...</td>\n",
       "    </tr>\n",
       "    <tr>\n",
       "      <th>2005-03-30</th>\n",
       "      <td>3.25</td>\n",
       "    </tr>\n",
       "    <tr>\n",
       "      <th>2005-03-29</th>\n",
       "      <td>3.24</td>\n",
       "    </tr>\n",
       "    <tr>\n",
       "      <th>2005-03-28</th>\n",
       "      <td>3.25</td>\n",
       "    </tr>\n",
       "    <tr>\n",
       "      <th>2005-03-25</th>\n",
       "      <td>3.26</td>\n",
       "    </tr>\n",
       "    <tr>\n",
       "      <th>2005-03-24</th>\n",
       "      <td>3.23</td>\n",
       "    </tr>\n",
       "  </tbody>\n",
       "</table>\n",
       "<p>3808 rows × 1 columns</p>\n",
       "</div>"
      ],
      "text/plain": [
       "            rate\n",
       "date            \n",
       "2020-07-27  0.49\n",
       "2020-07-24  0.48\n",
       "2020-07-23  0.46\n",
       "2020-07-22  0.45\n",
       "2020-07-21  0.46\n",
       "...          ...\n",
       "2005-03-30  3.25\n",
       "2005-03-29  3.24\n",
       "2005-03-28  3.25\n",
       "2005-03-25  3.26\n",
       "2005-03-24  3.23\n",
       "\n",
       "[3808 rows x 1 columns]"
      ]
     },
     "execution_count": 61,
     "metadata": {},
     "output_type": "execute_result"
    }
   ],
   "source": [
    "call_df"
   ]
  },
  {
   "cell_type": "code",
   "execution_count": 7,
   "metadata": {},
   "outputs": [],
   "source": [
    "import datetime"
   ]
  },
  {
   "cell_type": "code",
   "execution_count": 9,
   "metadata": {},
   "outputs": [],
   "source": [
    "call_df['date'] = list(map(lambda i : datetime.datetime.strptime(i, '%Y.%m.%d'), list(call_df['date'])))"
   ]
  },
  {
   "cell_type": "code",
   "execution_count": 11,
   "metadata": {
    "tags": []
   },
   "outputs": [
    {
     "name": "stdout",
     "output_type": "stream",
     "text": [
      "2005-03-24 00:00:00 2020-07-27 00:00:00\n"
     ]
    }
   ],
   "source": [
    "start_date = call_df['date'][len(call_df)-1]\n",
    "end_date = call_df['date'][0]\n",
    "\n",
    "print(start_date, end_date)\n"
   ]
  },
  {
   "cell_type": "code",
   "execution_count": 16,
   "metadata": {},
   "outputs": [
    {
     "data": {
      "text/plain": [
       "5604"
      ]
     },
     "execution_count": 16,
     "metadata": {},
     "output_type": "execute_result"
    }
   ],
   "source": []
  },
  {
   "cell_type": "code",
   "execution_count": 64,
   "metadata": {},
   "outputs": [
    {
     "data": {
      "text/html": [
       "<div>\n",
       "<style scoped>\n",
       "    .dataframe tbody tr th:only-of-type {\n",
       "        vertical-align: middle;\n",
       "    }\n",
       "\n",
       "    .dataframe tbody tr th {\n",
       "        vertical-align: top;\n",
       "    }\n",
       "\n",
       "    .dataframe thead th {\n",
       "        text-align: right;\n",
       "    }\n",
       "</style>\n",
       "<table border=\"1\" class=\"dataframe\">\n",
       "  <thead>\n",
       "    <tr style=\"text-align: right;\">\n",
       "      <th></th>\n",
       "      <th>rate</th>\n",
       "    </tr>\n",
       "    <tr>\n",
       "      <th>date</th>\n",
       "      <th></th>\n",
       "    </tr>\n",
       "  </thead>\n",
       "  <tbody>\n",
       "    <tr>\n",
       "      <th>2020-07-27</th>\n",
       "      <td>0.49</td>\n",
       "    </tr>\n",
       "    <tr>\n",
       "      <th>2020-07-24</th>\n",
       "      <td>0.48</td>\n",
       "    </tr>\n",
       "    <tr>\n",
       "      <th>2020-07-23</th>\n",
       "      <td>0.46</td>\n",
       "    </tr>\n",
       "    <tr>\n",
       "      <th>2020-07-22</th>\n",
       "      <td>0.45</td>\n",
       "    </tr>\n",
       "    <tr>\n",
       "      <th>2020-07-21</th>\n",
       "      <td>0.46</td>\n",
       "    </tr>\n",
       "    <tr>\n",
       "      <th>...</th>\n",
       "      <td>...</td>\n",
       "    </tr>\n",
       "    <tr>\n",
       "      <th>2005-03-30</th>\n",
       "      <td>3.25</td>\n",
       "    </tr>\n",
       "    <tr>\n",
       "      <th>2005-03-29</th>\n",
       "      <td>3.24</td>\n",
       "    </tr>\n",
       "    <tr>\n",
       "      <th>2005-03-28</th>\n",
       "      <td>3.25</td>\n",
       "    </tr>\n",
       "    <tr>\n",
       "      <th>2005-03-25</th>\n",
       "      <td>3.26</td>\n",
       "    </tr>\n",
       "    <tr>\n",
       "      <th>2005-03-24</th>\n",
       "      <td>3.23</td>\n",
       "    </tr>\n",
       "  </tbody>\n",
       "</table>\n",
       "<p>3808 rows × 1 columns</p>\n",
       "</div>"
      ],
      "text/plain": [
       "            rate\n",
       "date            \n",
       "2020-07-27  0.49\n",
       "2020-07-24  0.48\n",
       "2020-07-23  0.46\n",
       "2020-07-22  0.45\n",
       "2020-07-21  0.46\n",
       "...          ...\n",
       "2005-03-30  3.25\n",
       "2005-03-29  3.24\n",
       "2005-03-28  3.25\n",
       "2005-03-25  3.26\n",
       "2005-03-24  3.23\n",
       "\n",
       "[3808 rows x 1 columns]"
      ]
     },
     "execution_count": 64,
     "metadata": {},
     "output_type": "execute_result"
    }
   ],
   "source": [
    "call_df"
   ]
  },
  {
   "cell_type": "code",
   "execution_count": 62,
   "metadata": {},
   "outputs": [],
   "source": [
    "day_range = (end_date - start_date).days\n",
    "\n",
    "temp = []\n",
    "for i in range(day_range):\n",
    "    temp.append((start_date + datetime.timedelta(i)).date())\n",
    "\n",
    "call_final = pd.DataFrame(temp, columns = ['date'])"
   ]
  },
  {
   "cell_type": "code",
   "execution_count": 76,
   "metadata": {},
   "outputs": [],
   "source": [
    "call_rate = call_final.set_index('date')\n",
    "call_rate['rate'] = call_df.rate\n"
   ]
  },
  {
   "cell_type": "code",
   "execution_count": 80,
   "metadata": {},
   "outputs": [],
   "source": [
    "call_final = call_rate.sort_values(by='date').fillna(method='pad')"
   ]
  },
  {
   "cell_type": "code",
   "execution_count": 84,
   "metadata": {},
   "outputs": [],
   "source": [
    "call_final.to_json('ngram/target/call_raw.json')"
   ]
  },
  {
   "cell_type": "code",
   "execution_count": 184,
   "metadata": {},
   "outputs": [],
   "source": [
    "# 금리 데이터 기간, rate limit 별로 저장\n",
    "\n",
    "import pandas as pd\n",
    "import datetime\n",
    "\n",
    "datas = pd.read_json('ngram/target/call_raw.json')\n",
    "\n",
    "date_count = 30\n",
    "rate_limit = 0.03\n",
    "\n",
    "temp = []\n",
    "for i in range(len(datas)-date_count):\n",
    "    rate_change = float(datas['rate'][i+date_count]) - float(datas['rate'][i])\n",
    "    if rate_change >= rate_limit:\n",
    "        temp.append('up')\n",
    "    elif rate_change <= -rate_limit:\n",
    "        temp.append('down')\n",
    "    else:\n",
    "        temp.append(0)\n",
    "\n",
    "temp\n",
    "new_data = datas.iloc[:-date_count]\n",
    "new_data['ud'] = temp\n",
    "new_data.reset_index(inplace=True)\n",
    "new_data.columns = ['date', 'rate', 'ud']\n",
    "new_data['date'] = list(map(lambda i : i.date(), new_data['date']))\n",
    "new_data.to_json('ngram/target/call_{}_{}.json'.format(str(date_count), str(rate_limit)))"
   ]
  },
  {
   "cell_type": "code",
   "execution_count": 154,
   "metadata": {},
   "outputs": [
    {
     "data": {
      "text/html": [
       "<div>\n",
       "<style scoped>\n",
       "    .dataframe tbody tr th:only-of-type {\n",
       "        vertical-align: middle;\n",
       "    }\n",
       "\n",
       "    .dataframe tbody tr th {\n",
       "        vertical-align: top;\n",
       "    }\n",
       "\n",
       "    .dataframe thead th {\n",
       "        text-align: right;\n",
       "    }\n",
       "</style>\n",
       "<table border=\"1\" class=\"dataframe\">\n",
       "  <thead>\n",
       "    <tr style=\"text-align: right;\">\n",
       "      <th></th>\n",
       "      <th>date</th>\n",
       "      <th>rate</th>\n",
       "      <th>ud</th>\n",
       "    </tr>\n",
       "  </thead>\n",
       "  <tbody>\n",
       "    <tr>\n",
       "      <th>40</th>\n",
       "      <td>2005-05-03</td>\n",
       "      <td>3.30</td>\n",
       "      <td>down</td>\n",
       "    </tr>\n",
       "    <tr>\n",
       "      <th>43</th>\n",
       "      <td>2005-05-06</td>\n",
       "      <td>3.27</td>\n",
       "      <td>down</td>\n",
       "    </tr>\n",
       "    <tr>\n",
       "      <th>44</th>\n",
       "      <td>2005-05-07</td>\n",
       "      <td>3.27</td>\n",
       "      <td>down</td>\n",
       "    </tr>\n",
       "    <tr>\n",
       "      <th>45</th>\n",
       "      <td>2005-05-08</td>\n",
       "      <td>3.27</td>\n",
       "      <td>down</td>\n",
       "    </tr>\n",
       "    <tr>\n",
       "      <th>47</th>\n",
       "      <td>2005-05-10</td>\n",
       "      <td>3.30</td>\n",
       "      <td>down</td>\n",
       "    </tr>\n",
       "    <tr>\n",
       "      <th>...</th>\n",
       "      <td>...</td>\n",
       "      <td>...</td>\n",
       "      <td>...</td>\n",
       "    </tr>\n",
       "    <tr>\n",
       "      <th>5559</th>\n",
       "      <td>2020-06-12</td>\n",
       "      <td>0.46</td>\n",
       "      <td>up</td>\n",
       "    </tr>\n",
       "    <tr>\n",
       "      <th>5560</th>\n",
       "      <td>2020-06-13</td>\n",
       "      <td>0.46</td>\n",
       "      <td>up</td>\n",
       "    </tr>\n",
       "    <tr>\n",
       "      <th>5563</th>\n",
       "      <td>2020-06-16</td>\n",
       "      <td>0.46</td>\n",
       "      <td>up</td>\n",
       "    </tr>\n",
       "    <tr>\n",
       "      <th>5567</th>\n",
       "      <td>2020-06-20</td>\n",
       "      <td>0.46</td>\n",
       "      <td>down</td>\n",
       "    </tr>\n",
       "    <tr>\n",
       "      <th>5573</th>\n",
       "      <td>2020-06-26</td>\n",
       "      <td>0.50</td>\n",
       "      <td>down</td>\n",
       "    </tr>\n",
       "  </tbody>\n",
       "</table>\n",
       "<p>2838 rows × 3 columns</p>\n",
       "</div>"
      ],
      "text/plain": [
       "            date  rate    ud\n",
       "40    2005-05-03  3.30  down\n",
       "43    2005-05-06  3.27  down\n",
       "44    2005-05-07  3.27  down\n",
       "45    2005-05-08  3.27  down\n",
       "47    2005-05-10  3.30  down\n",
       "...          ...   ...   ...\n",
       "5559  2020-06-12  0.46    up\n",
       "5560  2020-06-13  0.46    up\n",
       "5563  2020-06-16  0.46    up\n",
       "5567  2020-06-20  0.46  down\n",
       "5573  2020-06-26  0.50  down\n",
       "\n",
       "[2838 rows x 3 columns]"
      ]
     },
     "execution_count": 154,
     "metadata": {},
     "output_type": "execute_result"
    }
   ],
   "source": [
    "# Read\n",
    "date_count = 30\n",
    "rate_limit = 0.02\n",
    "call_data = pd.read_json('ngram/target/call_{}_{}.json'.format(str(date_count), str(rate_limit)))"
   ]
  },
  {
   "cell_type": "code",
   "execution_count": null,
   "metadata": {},
   "outputs": [],
   "source": [
    "call_date[(call_data['date'] >= datetime.date(2005,5,1))&(call_data['ud']!=0)]"
   ]
  },
  {
   "cell_type": "code",
   "execution_count": 182,
   "metadata": {},
   "outputs": [],
   "source": [
    "ngram_df = pd.read_json('total_ngram.json')\n",
    "ngram_df['date'] = list(map(lambda i : i.date(), ngram_df['date']))"
   ]
  },
  {
   "cell_type": "code",
   "execution_count": 187,
   "metadata": {},
   "outputs": [],
   "source": [
    "rate_df = pd.read_json('ngram/target/call_30_0.03.json')\n",
    "rate_df['date'] = list(map(lambda i : i.date(), rate_df['date']))"
   ]
  },
  {
   "cell_type": "code",
   "execution_count": 188,
   "metadata": {},
   "outputs": [],
   "source": [
    "ngram_df.set_index('date')"
   ]
  },
  {
   "cell_type": "code",
   "execution_count": 190,
   "metadata": {},
   "outputs": [],
   "source": [
    "ngram_df.set_index('date', inplace=True)"
   ]
  },
  {
   "cell_type": "code",
   "execution_count": 194,
   "metadata": {},
   "outputs": [],
   "source": [
    "ngram_df['ud'] = rate_df.set_index('date')['ud']"
   ]
  },
  {
   "cell_type": "code",
   "execution_count": 195,
   "metadata": {},
   "outputs": [],
   "source": [
    "ngram_df = ngram_df[['ngram','ud']]"
   ]
  },
  {
   "cell_type": "code",
   "execution_count": 207,
   "metadata": {},
   "outputs": [
    {
     "data": {
      "text/html": [
       "<div>\n",
       "<style scoped>\n",
       "    .dataframe tbody tr th:only-of-type {\n",
       "        vertical-align: middle;\n",
       "    }\n",
       "\n",
       "    .dataframe tbody tr th {\n",
       "        vertical-align: top;\n",
       "    }\n",
       "\n",
       "    .dataframe thead th {\n",
       "        text-align: right;\n",
       "    }\n",
       "</style>\n",
       "<table border=\"1\" class=\"dataframe\">\n",
       "  <thead>\n",
       "    <tr style=\"text-align: right;\">\n",
       "      <th></th>\n",
       "      <th>date</th>\n",
       "      <th>rate</th>\n",
       "      <th>ud</th>\n",
       "    </tr>\n",
       "  </thead>\n",
       "  <tbody>\n",
       "  </tbody>\n",
       "</table>\n",
       "</div>"
      ],
      "text/plain": [
       "Empty DataFrame\n",
       "Columns: [date, rate, ud]\n",
       "Index: []"
      ]
     },
     "execution_count": 207,
     "metadata": {},
     "output_type": "execute_result"
    }
   ],
   "source": [
    "rate_df[rate_df['date'] == datetime.date(2020,7,15)]"
   ]
  },
  {
   "cell_type": "code",
   "execution_count": 212,
   "metadata": {},
   "outputs": [
    {
     "data": {
      "text/plain": [
       "range(305072, 0)"
      ]
     },
     "execution_count": 212,
     "metadata": {},
     "output_type": "execute_result"
    }
   ],
   "source": [
    "range(len(ngram_df)-1, 0)"
   ]
  },
  {
   "cell_type": "code",
   "execution_count": 213,
   "metadata": {},
   "outputs": [],
   "source": [
    "ngram_df.reset_index(inplace=True)"
   ]
  },
  {
   "cell_type": "code",
   "execution_count": null,
   "metadata": {},
   "outputs": [],
   "source": []
  },
  {
   "cell_type": "code",
   "execution_count": 214,
   "metadata": {},
   "outputs": [
    {
     "data": {
      "text/html": [
       "<div>\n",
       "<style scoped>\n",
       "    .dataframe tbody tr th:only-of-type {\n",
       "        vertical-align: middle;\n",
       "    }\n",
       "\n",
       "    .dataframe tbody tr th {\n",
       "        vertical-align: top;\n",
       "    }\n",
       "\n",
       "    .dataframe thead th {\n",
       "        text-align: right;\n",
       "    }\n",
       "</style>\n",
       "<table border=\"1\" class=\"dataframe\">\n",
       "  <thead>\n",
       "    <tr style=\"text-align: right;\">\n",
       "      <th></th>\n",
       "      <th>date</th>\n",
       "      <th>ngram</th>\n",
       "      <th>ud</th>\n",
       "    </tr>\n",
       "  </thead>\n",
       "  <tbody>\n",
       "    <tr>\n",
       "      <th>0</th>\n",
       "      <td>2005-05-12</td>\n",
       "      <td>[부진/NNG;글로벌/NNG;경기/NNG;둔화/NNG;우려/NNG, 소비/NNG;설...</td>\n",
       "      <td>0</td>\n",
       "    </tr>\n",
       "    <tr>\n",
       "      <th>1</th>\n",
       "      <td>2005-06-09</td>\n",
       "      <td>[경상/NNG;수지/NNG;적자/NNG;재정/NNG;적자/NNG, 국제/NNG;금융...</td>\n",
       "      <td>down</td>\n",
       "    </tr>\n",
       "    <tr>\n",
       "      <th>2</th>\n",
       "      <td>2005-06-23</td>\n",
       "      <td>[대출/NNG;촉진/NNG, 걸림돌/NNG, 개선/NNG]</td>\n",
       "      <td>0</td>\n",
       "    </tr>\n",
       "    <tr>\n",
       "      <th>3</th>\n",
       "      <td>2005-07-07</td>\n",
       "      <td>[자산/NNG;가격/NNG;상승/NNG;물가/NNG;상승/NNG, 물가/NNG;안정...</td>\n",
       "      <td>up</td>\n",
       "    </tr>\n",
       "    <tr>\n",
       "      <th>4</th>\n",
       "      <td>2005-08-11</td>\n",
       "      <td>[부동산/NNG;가격/NNG;상승/NNG;금리/NNG;인상/NNG, 국채/NNG;수...</td>\n",
       "      <td>0</td>\n",
       "    </tr>\n",
       "    <tr>\n",
       "      <th>...</th>\n",
       "      <td>...</td>\n",
       "      <td>...</td>\n",
       "      <td>...</td>\n",
       "    </tr>\n",
       "    <tr>\n",
       "      <th>305068</th>\n",
       "      <td>2020-07-15</td>\n",
       "      <td>[경기/NNG;침체/NNG, 완화/NNG]</td>\n",
       "      <td>NaN</td>\n",
       "    </tr>\n",
       "    <tr>\n",
       "      <th>305069</th>\n",
       "      <td>2020-07-15</td>\n",
       "      <td>[코픽스/NNG;떨어/VV, 돈/NNG;확보/NNG, 하락/NNG, 내림/NNG]</td>\n",
       "      <td>NaN</td>\n",
       "    </tr>\n",
       "    <tr>\n",
       "      <th>305070</th>\n",
       "      <td>2020-07-15</td>\n",
       "      <td>[저축성/NNG;예금/NNG;늘/VV, 경기/NNG;악화/NNG, 통화/NNG;급증...</td>\n",
       "      <td>NaN</td>\n",
       "    </tr>\n",
       "    <tr>\n",
       "      <th>305071</th>\n",
       "      <td>2020-07-15</td>\n",
       "      <td>[최대/NNG, 충족/NNG]</td>\n",
       "      <td>NaN</td>\n",
       "    </tr>\n",
       "    <tr>\n",
       "      <th>305072</th>\n",
       "      <td>2020-07-15</td>\n",
       "      <td>[]</td>\n",
       "      <td>NaN</td>\n",
       "    </tr>\n",
       "  </tbody>\n",
       "</table>\n",
       "<p>305073 rows × 3 columns</p>\n",
       "</div>"
      ],
      "text/plain": [
       "              date                                              ngram    ud\n",
       "0       2005-05-12  [부진/NNG;글로벌/NNG;경기/NNG;둔화/NNG;우려/NNG, 소비/NNG;설...     0\n",
       "1       2005-06-09  [경상/NNG;수지/NNG;적자/NNG;재정/NNG;적자/NNG, 국제/NNG;금융...  down\n",
       "2       2005-06-23                   [대출/NNG;촉진/NNG, 걸림돌/NNG, 개선/NNG]     0\n",
       "3       2005-07-07  [자산/NNG;가격/NNG;상승/NNG;물가/NNG;상승/NNG, 물가/NNG;안정...    up\n",
       "4       2005-08-11  [부동산/NNG;가격/NNG;상승/NNG;금리/NNG;인상/NNG, 국채/NNG;수...     0\n",
       "...            ...                                                ...   ...\n",
       "305068  2020-07-15                            [경기/NNG;침체/NNG, 완화/NNG]   NaN\n",
       "305069  2020-07-15      [코픽스/NNG;떨어/VV, 돈/NNG;확보/NNG, 하락/NNG, 내림/NNG]   NaN\n",
       "305070  2020-07-15  [저축성/NNG;예금/NNG;늘/VV, 경기/NNG;악화/NNG, 통화/NNG;급증...   NaN\n",
       "305071  2020-07-15                                   [최대/NNG, 충족/NNG]   NaN\n",
       "305072  2020-07-15                                                 []   NaN\n",
       "\n",
       "[305073 rows x 3 columns]"
      ]
     },
     "execution_count": 214,
     "metadata": {},
     "output_type": "execute_result"
    }
   ],
   "source": [
    "ngram_df"
   ]
  },
  {
   "cell_type": "code",
   "execution_count": 221,
   "metadata": {},
   "outputs": [
    {
     "data": {
      "text/html": [
       "<div>\n",
       "<style scoped>\n",
       "    .dataframe tbody tr th:only-of-type {\n",
       "        vertical-align: middle;\n",
       "    }\n",
       "\n",
       "    .dataframe tbody tr th {\n",
       "        vertical-align: top;\n",
       "    }\n",
       "\n",
       "    .dataframe thead th {\n",
       "        text-align: right;\n",
       "    }\n",
       "</style>\n",
       "<table border=\"1\" class=\"dataframe\">\n",
       "  <thead>\n",
       "    <tr style=\"text-align: right;\">\n",
       "      <th></th>\n",
       "      <th>date</th>\n",
       "      <th>ngram</th>\n",
       "      <th>ud</th>\n",
       "    </tr>\n",
       "  </thead>\n",
       "  <tbody>\n",
       "    <tr>\n",
       "      <th>0</th>\n",
       "      <td>2005-05-12</td>\n",
       "      <td>[부진/NNG;글로벌/NNG;경기/NNG;둔화/NNG;우려/NNG, 소비/NNG;설...</td>\n",
       "      <td>0</td>\n",
       "    </tr>\n",
       "    <tr>\n",
       "      <th>1</th>\n",
       "      <td>2005-06-09</td>\n",
       "      <td>[경상/NNG;수지/NNG;적자/NNG;재정/NNG;적자/NNG, 국제/NNG;금융...</td>\n",
       "      <td>down</td>\n",
       "    </tr>\n",
       "    <tr>\n",
       "      <th>2</th>\n",
       "      <td>2005-06-23</td>\n",
       "      <td>[대출/NNG;촉진/NNG, 걸림돌/NNG, 개선/NNG]</td>\n",
       "      <td>0</td>\n",
       "    </tr>\n",
       "    <tr>\n",
       "      <th>3</th>\n",
       "      <td>2005-07-07</td>\n",
       "      <td>[자산/NNG;가격/NNG;상승/NNG;물가/NNG;상승/NNG, 물가/NNG;안정...</td>\n",
       "      <td>up</td>\n",
       "    </tr>\n",
       "    <tr>\n",
       "      <th>4</th>\n",
       "      <td>2005-08-11</td>\n",
       "      <td>[부동산/NNG;가격/NNG;상승/NNG;금리/NNG;인상/NNG, 국채/NNG;수...</td>\n",
       "      <td>0</td>\n",
       "    </tr>\n",
       "    <tr>\n",
       "      <th>...</th>\n",
       "      <td>...</td>\n",
       "      <td>...</td>\n",
       "      <td>...</td>\n",
       "    </tr>\n",
       "    <tr>\n",
       "      <th>305067</th>\n",
       "      <td>2020-07-15</td>\n",
       "      <td>[실망/NNG, 중단/NNG]</td>\n",
       "      <td>NaN</td>\n",
       "    </tr>\n",
       "    <tr>\n",
       "      <th>305068</th>\n",
       "      <td>2020-07-15</td>\n",
       "      <td>[경기/NNG;침체/NNG, 완화/NNG]</td>\n",
       "      <td>NaN</td>\n",
       "    </tr>\n",
       "    <tr>\n",
       "      <th>305069</th>\n",
       "      <td>2020-07-15</td>\n",
       "      <td>[코픽스/NNG;떨어/VV, 돈/NNG;확보/NNG, 하락/NNG, 내림/NNG]</td>\n",
       "      <td>NaN</td>\n",
       "    </tr>\n",
       "    <tr>\n",
       "      <th>305070</th>\n",
       "      <td>2020-07-15</td>\n",
       "      <td>[저축성/NNG;예금/NNG;늘/VV, 경기/NNG;악화/NNG, 통화/NNG;급증...</td>\n",
       "      <td>NaN</td>\n",
       "    </tr>\n",
       "    <tr>\n",
       "      <th>305071</th>\n",
       "      <td>2020-07-15</td>\n",
       "      <td>[최대/NNG, 충족/NNG]</td>\n",
       "      <td>NaN</td>\n",
       "    </tr>\n",
       "  </tbody>\n",
       "</table>\n",
       "<p>293111 rows × 3 columns</p>\n",
       "</div>"
      ],
      "text/plain": [
       "              date                                              ngram    ud\n",
       "0       2005-05-12  [부진/NNG;글로벌/NNG;경기/NNG;둔화/NNG;우려/NNG, 소비/NNG;설...     0\n",
       "1       2005-06-09  [경상/NNG;수지/NNG;적자/NNG;재정/NNG;적자/NNG, 국제/NNG;금융...  down\n",
       "2       2005-06-23                   [대출/NNG;촉진/NNG, 걸림돌/NNG, 개선/NNG]     0\n",
       "3       2005-07-07  [자산/NNG;가격/NNG;상승/NNG;물가/NNG;상승/NNG, 물가/NNG;안정...    up\n",
       "4       2005-08-11  [부동산/NNG;가격/NNG;상승/NNG;금리/NNG;인상/NNG, 국채/NNG;수...     0\n",
       "...            ...                                                ...   ...\n",
       "305067  2020-07-15                                   [실망/NNG, 중단/NNG]   NaN\n",
       "305068  2020-07-15                            [경기/NNG;침체/NNG, 완화/NNG]   NaN\n",
       "305069  2020-07-15      [코픽스/NNG;떨어/VV, 돈/NNG;확보/NNG, 하락/NNG, 내림/NNG]   NaN\n",
       "305070  2020-07-15  [저축성/NNG;예금/NNG;늘/VV, 경기/NNG;악화/NNG, 통화/NNG;급증...   NaN\n",
       "305071  2020-07-15                                   [최대/NNG, 충족/NNG]   NaN\n",
       "\n",
       "[293111 rows x 3 columns]"
      ]
     },
     "execution_count": 221,
     "metadata": {},
     "output_type": "execute_result"
    }
   ],
   "source": [
    "for i in range(len(ngram_df)):\n",
    "    if ngram_df['ngram'][i] == []:\n",
    "        ngram_df.drop(i, axis=0, inplace=True)\n",
    "ngram_df"
   ]
  },
  {
   "cell_type": "code",
   "execution_count": 223,
   "metadata": {},
   "outputs": [],
   "source": [
    "ngram_df.dropna(inplace=True)"
   ]
  },
  {
   "cell_type": "code",
   "execution_count": 225,
   "metadata": {},
   "outputs": [],
   "source": [
    "ngram_df.reset_index()[['date', 'ngram', 'ud']].to_json('train_data.json')"
   ]
  },
  {
   "cell_type": "markdown",
   "metadata": {},
   "source": [
    "# Ngram 전처리"
   ]
  },
  {
   "cell_type": "code",
   "execution_count": 1,
   "metadata": {},
   "outputs": [],
   "source": [
    "import pandas as pd\n",
    "train_df = pd.read_json('train_data.json')\n",
    "train_df['date'] = list(map(lambda i : i.date(), train_df['date']))"
   ]
  },
  {
   "cell_type": "code",
   "execution_count": 2,
   "metadata": {},
   "outputs": [
    {
     "data": {
      "text/plain": [
       "0         [부진/NNG;글로벌/NNG;경기/NNG;둔화/NNG;우려/NNG, 소비/NNG;설...\n",
       "1         [경상/NNG;수지/NNG;적자/NNG;재정/NNG;적자/NNG, 국제/NNG;금융...\n",
       "2                          [대출/NNG;촉진/NNG, 걸림돌/NNG, 개선/NNG]\n",
       "3         [자산/NNG;가격/NNG;상승/NNG;물가/NNG;상승/NNG, 물가/NNG;안정...\n",
       "4         [부동산/NNG;가격/NNG;상승/NNG;금리/NNG;인상/NNG, 국채/NNG;수...\n",
       "                                ...                        \n",
       "292539              [매출/NNG;감소/NNG, 피해/NNG, 최대/NNG, 개선/NNG]\n",
       "292540    [경기/NNG;판단/NNG;상승/NNG, 경기/NNG;전망/NNG;하락/NNG, 전...\n",
       "292541    [소비자/NNG;심리/NNG;긍정적/VAX, 지표/NNG;낮/VA, 하락/NNG, ...\n",
       "292542    [주택가격/NNG;전망/NNG;상승/NNG, 취업기회/NNG;전망/NNG;오르/VV...\n",
       "292543    [자산/NNG;가격/NNG;하락/NNG, 지수/NNG;저점/NNG;상승/NNG, 경...\n",
       "Name: ngram, Length: 292544, dtype: object"
      ]
     },
     "execution_count": 2,
     "metadata": {},
     "output_type": "execute_result"
    }
   ],
   "source": [
    "train_df['ngram']"
   ]
  },
  {
   "cell_type": "code",
   "execution_count": 3,
   "metadata": {},
   "outputs": [
    {
     "data": {
      "text/plain": [
       "date     0\n",
       "ngram    0\n",
       "ud       0\n",
       "dtype: int64"
      ]
     },
     "execution_count": 3,
     "metadata": {},
     "output_type": "execute_result"
    }
   ],
   "source": [
    "train_df.isnull().sum()"
   ]
  },
  {
   "cell_type": "code",
   "execution_count": 4,
   "metadata": {},
   "outputs": [],
   "source": [
    "import itertools\n",
    "total_ngram = list(itertools.chain(*list(train_df['ngram'])))"
   ]
  },
  {
   "cell_type": "code",
   "execution_count": 5,
   "metadata": {},
   "outputs": [
    {
     "data": {
      "text/plain": [
       "3197735"
      ]
     },
     "execution_count": 5,
     "metadata": {},
     "output_type": "execute_result"
    }
   ],
   "source": [
    "len(total_ngram)"
   ]
  },
  {
   "cell_type": "code",
   "execution_count": 6,
   "metadata": {},
   "outputs": [],
   "source": [
    "ngram_feature = set(total_ngram)"
   ]
  },
  {
   "cell_type": "code",
   "execution_count": 7,
   "metadata": {},
   "outputs": [
    {
     "data": {
      "text/plain": [
       "65447"
      ]
     },
     "execution_count": 7,
     "metadata": {},
     "output_type": "execute_result"
    }
   ],
   "source": [
    "len(ngram_feature)"
   ]
  },
  {
   "cell_type": "code",
   "execution_count": 8,
   "metadata": {},
   "outputs": [],
   "source": [
    "counts = []\n",
    "for nf in ngram_feature:\n",
    "    counts.append(total_ngram.count(nf))\n",
    "\n",
    "ngram_count = pd.DataFrame(list(zip(ngram_feature, counts)), columns = ['ngram', 'count'])"
   ]
  },
  {
   "cell_type": "code",
   "execution_count": 11,
   "metadata": {},
   "outputs": [],
   "source": [
    "ngram_count.to_json('ngram_count.json')"
   ]
  },
  {
   "cell_type": "code",
   "execution_count": 10,
   "metadata": {},
   "outputs": [
    {
     "data": {
      "text/html": [
       "<div>\n",
       "<style scoped>\n",
       "    .dataframe tbody tr th:only-of-type {\n",
       "        vertical-align: middle;\n",
       "    }\n",
       "\n",
       "    .dataframe tbody tr th {\n",
       "        vertical-align: top;\n",
       "    }\n",
       "\n",
       "    .dataframe thead th {\n",
       "        text-align: right;\n",
       "    }\n",
       "</style>\n",
       "<table border=\"1\" class=\"dataframe\">\n",
       "  <thead>\n",
       "    <tr style=\"text-align: right;\">\n",
       "      <th></th>\n",
       "      <th>ngram</th>\n",
       "      <th>count</th>\n",
       "    </tr>\n",
       "  </thead>\n",
       "  <tbody>\n",
       "    <tr>\n",
       "      <th>1</th>\n",
       "      <td>우려/NNG;시장/NNG;경계/NNG</td>\n",
       "      <td>7</td>\n",
       "    </tr>\n",
       "    <tr>\n",
       "      <th>2</th>\n",
       "      <td>부동산/NNG;가격/NNG;잡/VV;금리/NNG;인상/NNG</td>\n",
       "      <td>3</td>\n",
       "    </tr>\n",
       "    <tr>\n",
       "      <th>4</th>\n",
       "      <td>헤알/NNG;환율/NNG;떨어/VV</td>\n",
       "      <td>10</td>\n",
       "    </tr>\n",
       "    <tr>\n",
       "      <th>7</th>\n",
       "      <td>기대/NNG;방어/NNG</td>\n",
       "      <td>4</td>\n",
       "    </tr>\n",
       "    <tr>\n",
       "      <th>10</th>\n",
       "      <td>gdp/NNG;성장률/NNG;시장/NNG;예상/NNG;하회/NNG</td>\n",
       "      <td>4</td>\n",
       "    </tr>\n",
       "    <tr>\n",
       "      <th>...</th>\n",
       "      <td>...</td>\n",
       "      <td>...</td>\n",
       "    </tr>\n",
       "    <tr>\n",
       "      <th>65434</th>\n",
       "      <td>소비/NNG;더디/VA;회복/NNG</td>\n",
       "      <td>7</td>\n",
       "    </tr>\n",
       "    <tr>\n",
       "      <th>65437</th>\n",
       "      <td>정책/NNG;확보/NNG</td>\n",
       "      <td>8</td>\n",
       "    </tr>\n",
       "    <tr>\n",
       "      <th>65440</th>\n",
       "      <td>지급불능/NNG;위험/NNG</td>\n",
       "      <td>12</td>\n",
       "    </tr>\n",
       "    <tr>\n",
       "      <th>65444</th>\n",
       "      <td>기업/NNG;많/VA;반대/NNG</td>\n",
       "      <td>1</td>\n",
       "    </tr>\n",
       "    <tr>\n",
       "      <th>65446</th>\n",
       "      <td>은행/NNG;cds/NNG;상승/NNG</td>\n",
       "      <td>7</td>\n",
       "    </tr>\n",
       "  </tbody>\n",
       "</table>\n",
       "<p>39704 rows × 2 columns</p>\n",
       "</div>"
      ],
      "text/plain": [
       "                                      ngram  count\n",
       "1                      우려/NNG;시장/NNG;경계/NNG      7\n",
       "2         부동산/NNG;가격/NNG;잡/VV;금리/NNG;인상/NNG      3\n",
       "4                       헤알/NNG;환율/NNG;떨어/VV     10\n",
       "7                             기대/NNG;방어/NNG      4\n",
       "10     gdp/NNG;성장률/NNG;시장/NNG;예상/NNG;하회/NNG      4\n",
       "...                                     ...    ...\n",
       "65434                   소비/NNG;더디/VA;회복/NNG      7\n",
       "65437                         정책/NNG;확보/NNG      8\n",
       "65440                       지급불능/NNG;위험/NNG     12\n",
       "65444                    기업/NNG;많/VA;반대/NNG      1\n",
       "65446                 은행/NNG;cds/NNG;상승/NNG      7\n",
       "\n",
       "[39704 rows x 2 columns]"
      ]
     },
     "execution_count": 10,
     "metadata": {},
     "output_type": "execute_result"
    }
   ],
   "source": [
    "ngram_count[ngram_count['count']<=15]"
   ]
  },
  {
   "cell_type": "code",
   "execution_count": 17,
   "metadata": {},
   "outputs": [],
   "source": [
    "import pandas as pd\n",
    "import numpy as np\n",
    "import itertools\n",
    "import nltk\n",
    "\n",
    "# 데이터프레임은 인덱스에 단어, 칼럼에 타겟\n",
    "\n",
    "# input - split된 단어 list\n",
    "class NBC():\n",
    "    \n",
    "    df = pd.DataFrame([])\n",
    "    k = 0.5\n",
    "\n",
    "    def __init__(self, **kwargs):\n",
    "        try:\n",
    "            self.k = kwargs['k']\n",
    "        except:\n",
    "            pass\n",
    "    \n",
    "    def add_data(self, datas):\n",
    "        target_ls = list(set(datas['ud']))\n",
    "        words = {}\n",
    "\n",
    "        total_ngram = list(itertools.chain(*list(train_df['ngram'])))\n",
    "        unique_ngram = list(set(total_ngram))\n",
    "\n",
    "        result_df = pd.DataFrame(unique_ngram, columns = ['ngram']).set_index('ngram')\n",
    "\n",
    "        for target in target_ls:\n",
    "            this_ngram = list(itertools.chain(*list(datas[datas['ud'] == target]['ngram'])))\n",
    "            fdist = nltk.FreqDist(this_ngram)\n",
    "            temp_df = pd.DataFrame(list(zip(fdist.keys(), fdist.values())), columns= ['ngram', 'count']).set_index('ngram')\n",
    "            result_df[target] = temp_df['count']\n",
    "\n",
    "        self.df = result_df\n",
    "        return self.df\n",
    "\n",
    "    def pol_score(self, target, s):\n",
    "        df = self.df\n",
    "        k = self.k\n",
    "\n",
    "        totals = {}\n",
    "        for i in df:\n",
    "            totals[i] = df[i].sum()\n",
    "        \n",
    "        tokens = s.split()\n",
    "        total = np.asarray(list(totals.values())).sum()\n",
    "\n",
    "        logs = {}\n",
    "        for i in df:            \n",
    "            logs[i] = np.log(float(totals[i]) / float(total))\n",
    "        \n",
    "        for token in tokens:\n",
    "            for t in df:\n",
    "                logs[t] += np.log( (k + df[t][token]) / (2*k +totals[t]) )\n",
    "\n",
    "        bunmo = 0\n",
    "        for log in logs:\n",
    "            bunmo += np.exp(logs[log])\n",
    "        bunja = np.exp(logs[target])\n",
    "        return bunja / bunmo"
   ]
  },
  {
   "cell_type": "code",
   "execution_count": 18,
   "metadata": {},
   "outputs": [],
   "source": [
    "nbc = NBC(k=0.05)"
   ]
  },
  {
   "cell_type": "code",
   "execution_count": 19,
   "metadata": {},
   "outputs": [
    {
     "data": {
      "text/html": [
       "<div>\n",
       "<style scoped>\n",
       "    .dataframe tbody tr th:only-of-type {\n",
       "        vertical-align: middle;\n",
       "    }\n",
       "\n",
       "    .dataframe tbody tr th {\n",
       "        vertical-align: top;\n",
       "    }\n",
       "\n",
       "    .dataframe thead th {\n",
       "        text-align: right;\n",
       "    }\n",
       "</style>\n",
       "<table border=\"1\" class=\"dataframe\">\n",
       "  <thead>\n",
       "    <tr style=\"text-align: right;\">\n",
       "      <th></th>\n",
       "      <th>date</th>\n",
       "      <th>ngram</th>\n",
       "      <th>ud</th>\n",
       "    </tr>\n",
       "  </thead>\n",
       "  <tbody>\n",
       "    <tr>\n",
       "      <th>0</th>\n",
       "      <td>2005-05-12</td>\n",
       "      <td>[부진/NNG;글로벌/NNG;경기/NNG;둔화/NNG;우려/NNG, 소비/NNG;설...</td>\n",
       "      <td>0</td>\n",
       "    </tr>\n",
       "    <tr>\n",
       "      <th>1</th>\n",
       "      <td>2005-06-09</td>\n",
       "      <td>[경상/NNG;수지/NNG;적자/NNG;재정/NNG;적자/NNG, 국제/NNG;금융...</td>\n",
       "      <td>down</td>\n",
       "    </tr>\n",
       "    <tr>\n",
       "      <th>2</th>\n",
       "      <td>2005-06-23</td>\n",
       "      <td>[대출/NNG;촉진/NNG, 걸림돌/NNG, 개선/NNG]</td>\n",
       "      <td>0</td>\n",
       "    </tr>\n",
       "    <tr>\n",
       "      <th>3</th>\n",
       "      <td>2005-07-07</td>\n",
       "      <td>[자산/NNG;가격/NNG;상승/NNG;물가/NNG;상승/NNG, 물가/NNG;안정...</td>\n",
       "      <td>up</td>\n",
       "    </tr>\n",
       "    <tr>\n",
       "      <th>4</th>\n",
       "      <td>2005-08-11</td>\n",
       "      <td>[부동산/NNG;가격/NNG;상승/NNG;금리/NNG;인상/NNG, 국채/NNG;수...</td>\n",
       "      <td>0</td>\n",
       "    </tr>\n",
       "    <tr>\n",
       "      <th>...</th>\n",
       "      <td>...</td>\n",
       "      <td>...</td>\n",
       "      <td>...</td>\n",
       "    </tr>\n",
       "    <tr>\n",
       "      <th>292539</th>\n",
       "      <td>2020-06-26</td>\n",
       "      <td>[매출/NNG;감소/NNG, 피해/NNG, 최대/NNG, 개선/NNG]</td>\n",
       "      <td>0</td>\n",
       "    </tr>\n",
       "    <tr>\n",
       "      <th>292540</th>\n",
       "      <td>2020-06-26</td>\n",
       "      <td>[경기/NNG;판단/NNG;상승/NNG, 경기/NNG;전망/NNG;하락/NNG, 전...</td>\n",
       "      <td>0</td>\n",
       "    </tr>\n",
       "    <tr>\n",
       "      <th>292541</th>\n",
       "      <td>2020-06-26</td>\n",
       "      <td>[소비자/NNG;심리/NNG;긍정적/VAX, 지표/NNG;낮/VA, 하락/NNG, ...</td>\n",
       "      <td>0</td>\n",
       "    </tr>\n",
       "    <tr>\n",
       "      <th>292542</th>\n",
       "      <td>2020-06-26</td>\n",
       "      <td>[주택가격/NNG;전망/NNG;상승/NNG, 취업기회/NNG;전망/NNG;오르/VV...</td>\n",
       "      <td>0</td>\n",
       "    </tr>\n",
       "    <tr>\n",
       "      <th>292543</th>\n",
       "      <td>2020-06-26</td>\n",
       "      <td>[자산/NNG;가격/NNG;하락/NNG, 지수/NNG;저점/NNG;상승/NNG, 경...</td>\n",
       "      <td>0</td>\n",
       "    </tr>\n",
       "  </tbody>\n",
       "</table>\n",
       "<p>292544 rows × 3 columns</p>\n",
       "</div>"
      ],
      "text/plain": [
       "              date                                              ngram    ud\n",
       "0       2005-05-12  [부진/NNG;글로벌/NNG;경기/NNG;둔화/NNG;우려/NNG, 소비/NNG;설...     0\n",
       "1       2005-06-09  [경상/NNG;수지/NNG;적자/NNG;재정/NNG;적자/NNG, 국제/NNG;금융...  down\n",
       "2       2005-06-23                   [대출/NNG;촉진/NNG, 걸림돌/NNG, 개선/NNG]     0\n",
       "3       2005-07-07  [자산/NNG;가격/NNG;상승/NNG;물가/NNG;상승/NNG, 물가/NNG;안정...    up\n",
       "4       2005-08-11  [부동산/NNG;가격/NNG;상승/NNG;금리/NNG;인상/NNG, 국채/NNG;수...     0\n",
       "...            ...                                                ...   ...\n",
       "292539  2020-06-26            [매출/NNG;감소/NNG, 피해/NNG, 최대/NNG, 개선/NNG]     0\n",
       "292540  2020-06-26  [경기/NNG;판단/NNG;상승/NNG, 경기/NNG;전망/NNG;하락/NNG, 전...     0\n",
       "292541  2020-06-26  [소비자/NNG;심리/NNG;긍정적/VAX, 지표/NNG;낮/VA, 하락/NNG, ...     0\n",
       "292542  2020-06-26  [주택가격/NNG;전망/NNG;상승/NNG, 취업기회/NNG;전망/NNG;오르/VV...     0\n",
       "292543  2020-06-26  [자산/NNG;가격/NNG;하락/NNG, 지수/NNG;저점/NNG;상승/NNG, 경...     0\n",
       "\n",
       "[292544 rows x 3 columns]"
      ]
     },
     "execution_count": 19,
     "metadata": {},
     "output_type": "execute_result"
    }
   ],
   "source": [
    "train_df"
   ]
  },
  {
   "cell_type": "code",
   "execution_count": 20,
   "metadata": {},
   "outputs": [
    {
     "data": {
      "text/html": [
       "<div>\n",
       "<style scoped>\n",
       "    .dataframe tbody tr th:only-of-type {\n",
       "        vertical-align: middle;\n",
       "    }\n",
       "\n",
       "    .dataframe tbody tr th {\n",
       "        vertical-align: top;\n",
       "    }\n",
       "\n",
       "    .dataframe thead th {\n",
       "        text-align: right;\n",
       "    }\n",
       "</style>\n",
       "<table border=\"1\" class=\"dataframe\">\n",
       "  <thead>\n",
       "    <tr style=\"text-align: right;\">\n",
       "      <th></th>\n",
       "      <th>0</th>\n",
       "      <th>down</th>\n",
       "      <th>up</th>\n",
       "    </tr>\n",
       "    <tr>\n",
       "      <th>ngram</th>\n",
       "      <th></th>\n",
       "      <th></th>\n",
       "      <th></th>\n",
       "    </tr>\n",
       "  </thead>\n",
       "  <tbody>\n",
       "    <tr>\n",
       "      <th>경제/NNG;성장/NNG;낮/VA</th>\n",
       "      <td>21.0</td>\n",
       "      <td>15.0</td>\n",
       "      <td>2.0</td>\n",
       "    </tr>\n",
       "    <tr>\n",
       "      <th>신용/NNG;좋/VA</th>\n",
       "      <td>23.0</td>\n",
       "      <td>9.0</td>\n",
       "      <td>7.0</td>\n",
       "    </tr>\n",
       "    <tr>\n",
       "      <th>비농업/NNG;고용/NNG;시장/NNG;예상/NNG;하회/NNG</th>\n",
       "      <td>8.0</td>\n",
       "      <td>NaN</td>\n",
       "      <td>NaN</td>\n",
       "    </tr>\n",
       "    <tr>\n",
       "      <th>억제/NNG;넘/VV</th>\n",
       "      <td>NaN</td>\n",
       "      <td>1.0</td>\n",
       "      <td>NaN</td>\n",
       "    </tr>\n",
       "    <tr>\n",
       "      <th>강하/VA;추세/NNG</th>\n",
       "      <td>23.0</td>\n",
       "      <td>2.0</td>\n",
       "      <td>19.0</td>\n",
       "    </tr>\n",
       "    <tr>\n",
       "      <th>...</th>\n",
       "      <td>...</td>\n",
       "      <td>...</td>\n",
       "      <td>...</td>\n",
       "    </tr>\n",
       "    <tr>\n",
       "      <th>점차/MAG;금리/NNG;상승/NNG;압력/NNG;높/VA</th>\n",
       "      <td>1.0</td>\n",
       "      <td>NaN</td>\n",
       "      <td>NaN</td>\n",
       "    </tr>\n",
       "    <tr>\n",
       "      <th>자금/NNG;압박/NNG;심하/VA</th>\n",
       "      <td>7.0</td>\n",
       "      <td>8.0</td>\n",
       "      <td>1.0</td>\n",
       "    </tr>\n",
       "    <tr>\n",
       "      <th>물가/NNG;예상/NNG;벗어나/VV;않/VX</th>\n",
       "      <td>1.0</td>\n",
       "      <td>NaN</td>\n",
       "      <td>NaN</td>\n",
       "    </tr>\n",
       "    <tr>\n",
       "      <th>외국인/NNG;국채선물/NNG;매도/NNG;강세/NNG</th>\n",
       "      <td>5.0</td>\n",
       "      <td>1.0</td>\n",
       "      <td>NaN</td>\n",
       "    </tr>\n",
       "    <tr>\n",
       "      <th>채권/NNG;매수/NNG;심리/NNG;확산/NNG</th>\n",
       "      <td>7.0</td>\n",
       "      <td>1.0</td>\n",
       "      <td>NaN</td>\n",
       "    </tr>\n",
       "  </tbody>\n",
       "</table>\n",
       "<p>65447 rows × 3 columns</p>\n",
       "</div>"
      ],
      "text/plain": [
       "                                        0  down    up\n",
       "ngram                                                \n",
       "경제/NNG;성장/NNG;낮/VA                   21.0  15.0   2.0\n",
       "신용/NNG;좋/VA                          23.0   9.0   7.0\n",
       "비농업/NNG;고용/NNG;시장/NNG;예상/NNG;하회/NNG   8.0   NaN   NaN\n",
       "억제/NNG;넘/VV                           NaN   1.0   NaN\n",
       "강하/VA;추세/NNG                         23.0   2.0  19.0\n",
       "...                                   ...   ...   ...\n",
       "점차/MAG;금리/NNG;상승/NNG;압력/NNG;높/VA      1.0   NaN   NaN\n",
       "자금/NNG;압박/NNG;심하/VA                   7.0   8.0   1.0\n",
       "물가/NNG;예상/NNG;벗어나/VV;않/VX             1.0   NaN   NaN\n",
       "외국인/NNG;국채선물/NNG;매도/NNG;강세/NNG        5.0   1.0   NaN\n",
       "채권/NNG;매수/NNG;심리/NNG;확산/NNG           7.0   1.0   NaN\n",
       "\n",
       "[65447 rows x 3 columns]"
      ]
     },
     "execution_count": 20,
     "metadata": {},
     "output_type": "execute_result"
    }
   ],
   "source": [
    "nbc.add_data(train_df)"
   ]
  },
  {
   "cell_type": "code",
   "execution_count": 21,
   "metadata": {},
   "outputs": [
    {
     "data": {
      "text/html": [
       "<div>\n",
       "<style scoped>\n",
       "    .dataframe tbody tr th:only-of-type {\n",
       "        vertical-align: middle;\n",
       "    }\n",
       "\n",
       "    .dataframe tbody tr th {\n",
       "        vertical-align: top;\n",
       "    }\n",
       "\n",
       "    .dataframe thead th {\n",
       "        text-align: right;\n",
       "    }\n",
       "</style>\n",
       "<table border=\"1\" class=\"dataframe\">\n",
       "  <thead>\n",
       "    <tr style=\"text-align: right;\">\n",
       "      <th></th>\n",
       "      <th>0</th>\n",
       "      <th>down</th>\n",
       "      <th>up</th>\n",
       "    </tr>\n",
       "    <tr>\n",
       "      <th>ngram</th>\n",
       "      <th></th>\n",
       "      <th></th>\n",
       "      <th></th>\n",
       "    </tr>\n",
       "  </thead>\n",
       "  <tbody>\n",
       "    <tr>\n",
       "      <th>경제/NNG;성장/NNG;낮/VA</th>\n",
       "      <td>21.0</td>\n",
       "      <td>15.0</td>\n",
       "      <td>2.0</td>\n",
       "    </tr>\n",
       "    <tr>\n",
       "      <th>신용/NNG;좋/VA</th>\n",
       "      <td>23.0</td>\n",
       "      <td>9.0</td>\n",
       "      <td>7.0</td>\n",
       "    </tr>\n",
       "    <tr>\n",
       "      <th>비농업/NNG;고용/NNG;시장/NNG;예상/NNG;하회/NNG</th>\n",
       "      <td>8.0</td>\n",
       "      <td>0.0</td>\n",
       "      <td>0.0</td>\n",
       "    </tr>\n",
       "    <tr>\n",
       "      <th>억제/NNG;넘/VV</th>\n",
       "      <td>0.0</td>\n",
       "      <td>1.0</td>\n",
       "      <td>0.0</td>\n",
       "    </tr>\n",
       "    <tr>\n",
       "      <th>강하/VA;추세/NNG</th>\n",
       "      <td>23.0</td>\n",
       "      <td>2.0</td>\n",
       "      <td>19.0</td>\n",
       "    </tr>\n",
       "    <tr>\n",
       "      <th>...</th>\n",
       "      <td>...</td>\n",
       "      <td>...</td>\n",
       "      <td>...</td>\n",
       "    </tr>\n",
       "    <tr>\n",
       "      <th>점차/MAG;금리/NNG;상승/NNG;압력/NNG;높/VA</th>\n",
       "      <td>1.0</td>\n",
       "      <td>0.0</td>\n",
       "      <td>0.0</td>\n",
       "    </tr>\n",
       "    <tr>\n",
       "      <th>자금/NNG;압박/NNG;심하/VA</th>\n",
       "      <td>7.0</td>\n",
       "      <td>8.0</td>\n",
       "      <td>1.0</td>\n",
       "    </tr>\n",
       "    <tr>\n",
       "      <th>물가/NNG;예상/NNG;벗어나/VV;않/VX</th>\n",
       "      <td>1.0</td>\n",
       "      <td>0.0</td>\n",
       "      <td>0.0</td>\n",
       "    </tr>\n",
       "    <tr>\n",
       "      <th>외국인/NNG;국채선물/NNG;매도/NNG;강세/NNG</th>\n",
       "      <td>5.0</td>\n",
       "      <td>1.0</td>\n",
       "      <td>0.0</td>\n",
       "    </tr>\n",
       "    <tr>\n",
       "      <th>채권/NNG;매수/NNG;심리/NNG;확산/NNG</th>\n",
       "      <td>7.0</td>\n",
       "      <td>1.0</td>\n",
       "      <td>0.0</td>\n",
       "    </tr>\n",
       "  </tbody>\n",
       "</table>\n",
       "<p>65447 rows × 3 columns</p>\n",
       "</div>"
      ],
      "text/plain": [
       "                                        0  down    up\n",
       "ngram                                                \n",
       "경제/NNG;성장/NNG;낮/VA                   21.0  15.0   2.0\n",
       "신용/NNG;좋/VA                          23.0   9.0   7.0\n",
       "비농업/NNG;고용/NNG;시장/NNG;예상/NNG;하회/NNG   8.0   0.0   0.0\n",
       "억제/NNG;넘/VV                           0.0   1.0   0.0\n",
       "강하/VA;추세/NNG                         23.0   2.0  19.0\n",
       "...                                   ...   ...   ...\n",
       "점차/MAG;금리/NNG;상승/NNG;압력/NNG;높/VA      1.0   0.0   0.0\n",
       "자금/NNG;압박/NNG;심하/VA                   7.0   8.0   1.0\n",
       "물가/NNG;예상/NNG;벗어나/VV;않/VX             1.0   0.0   0.0\n",
       "외국인/NNG;국채선물/NNG;매도/NNG;강세/NNG        5.0   1.0   0.0\n",
       "채권/NNG;매수/NNG;심리/NNG;확산/NNG           7.0   1.0   0.0\n",
       "\n",
       "[65447 rows x 3 columns]"
      ]
     },
     "execution_count": 21,
     "metadata": {},
     "output_type": "execute_result"
    }
   ],
   "source": [
    "nbc.df.fillna(0)"
   ]
  },
  {
   "cell_type": "code",
   "execution_count": 28,
   "metadata": {},
   "outputs": [
    {
     "data": {
      "text/plain": [
       "0.5517693591307893"
      ]
     },
     "execution_count": 28,
     "metadata": {},
     "output_type": "execute_result"
    }
   ],
   "source": [
    "nbc.pol_score(0, '경제/NNG;성장/NNG;낮/VA')"
   ]
  },
  {
   "cell_type": "code",
   "execution_count": 39,
   "metadata": {},
   "outputs": [
    {
     "data": {
      "text/html": [
       "<div>\n",
       "<style scoped>\n",
       "    .dataframe tbody tr th:only-of-type {\n",
       "        vertical-align: middle;\n",
       "    }\n",
       "\n",
       "    .dataframe tbody tr th {\n",
       "        vertical-align: top;\n",
       "    }\n",
       "\n",
       "    .dataframe thead th {\n",
       "        text-align: right;\n",
       "    }\n",
       "</style>\n",
       "<table border=\"1\" class=\"dataframe\">\n",
       "  <thead>\n",
       "    <tr style=\"text-align: right;\">\n",
       "      <th></th>\n",
       "      <th>date</th>\n",
       "      <th>sent</th>\n",
       "    </tr>\n",
       "  </thead>\n",
       "  <tbody>\n",
       "    <tr>\n",
       "      <th>0</th>\n",
       "      <td>2020-06-24</td>\n",
       "      <td>관련부서는 금번 보고서 작성의 기본방향과 위원협의회에서 논의된 주요 내용 을 다음과...</td>\n",
       "    </tr>\n",
       "    <tr>\n",
       "      <th>1</th>\n",
       "      <td>2020-06-24</td>\n",
       "      <td>먼저 금번 보고서에서는 코로나19 확산에 따른 유례없는 금융·실물 충격이 금 융시스...</td>\n",
       "    </tr>\n",
       "    <tr>\n",
       "      <th>2</th>\n",
       "      <td>2020-06-24</td>\n",
       "      <td>다음으로 6월 11일 위원협의회에서 논의된 내용은 다음과 같음</td>\n",
       "    </tr>\n",
       "    <tr>\n",
       "      <th>3</th>\n",
       "      <td>2020-06-24</td>\n",
       "      <td>여러 위원들은 금번 보고서가 코로나19 확산 이후 금융불안 우려가 높아진 상황에서 ...</td>\n",
       "    </tr>\n",
       "    <tr>\n",
       "      <th>4</th>\n",
       "      <td>2020-06-24</td>\n",
       "      <td>일부 위원은 코로나19 확산 이후 금융시장 상황이 빠르게 변하고 있는 점을 감안하여...</td>\n",
       "    </tr>\n",
       "    <tr>\n",
       "      <th>...</th>\n",
       "      <td>...</td>\n",
       "      <td>...</td>\n",
       "    </tr>\n",
       "    <tr>\n",
       "      <th>38104</th>\n",
       "      <td>2005-05-12</td>\n",
       "      <td>Dow Jones 지수는 미국의 1/4분기 GDP성장률 둔화(, 전분기 ) 등 경제...</td>\n",
       "    </tr>\n",
       "    <tr>\n",
       "      <th>38105</th>\n",
       "      <td>2005-05-12</td>\n",
       "      <td>유럽 주가는 유로지역 경제에 대한 비관적 전망, 인피니언사 등 주요 기업들의 실적부...</td>\n",
       "    </tr>\n",
       "    <tr>\n",
       "      <th>38106</th>\n",
       "      <td>2005-05-12</td>\n",
       "      <td>유로화는 유로지역 경제 부진 전망 등으로 약세( 절하)를 보였으나 일본 엔화는 미국...</td>\n",
       "    </tr>\n",
       "    <tr>\n",
       "      <th>38107</th>\n",
       "      <td>2005-05-12</td>\n",
       "      <td>미국의 장기금리는 미국의 경제성장률 둔화, 주가 하락 등으로 안전자산인 국채선호 경...</td>\n",
       "    </tr>\n",
       "    <tr>\n",
       "      <th>38108</th>\n",
       "      <td>2005-05-12</td>\n",
       "      <td>금융시장 동향 금리 및 주가 4월중 국고채(3년) 유통수익률은 미국경제의 soft ...</td>\n",
       "    </tr>\n",
       "  </tbody>\n",
       "</table>\n",
       "<p>38109 rows × 2 columns</p>\n",
       "</div>"
      ],
      "text/plain": [
       "            date                                               sent\n",
       "0     2020-06-24  관련부서는 금번 보고서 작성의 기본방향과 위원협의회에서 논의된 주요 내용 을 다음과...\n",
       "1     2020-06-24  먼저 금번 보고서에서는 코로나19 확산에 따른 유례없는 금융·실물 충격이 금 융시스...\n",
       "2     2020-06-24                 다음으로 6월 11일 위원협의회에서 논의된 내용은 다음과 같음\n",
       "3     2020-06-24  여러 위원들은 금번 보고서가 코로나19 확산 이후 금융불안 우려가 높아진 상황에서 ...\n",
       "4     2020-06-24  일부 위원은 코로나19 확산 이후 금융시장 상황이 빠르게 변하고 있는 점을 감안하여...\n",
       "...          ...                                                ...\n",
       "38104 2005-05-12  Dow Jones 지수는 미국의 1/4분기 GDP성장률 둔화(, 전분기 ) 등 경제...\n",
       "38105 2005-05-12  유럽 주가는 유로지역 경제에 대한 비관적 전망, 인피니언사 등 주요 기업들의 실적부...\n",
       "38106 2005-05-12  유로화는 유로지역 경제 부진 전망 등으로 약세( 절하)를 보였으나 일본 엔화는 미국...\n",
       "38107 2005-05-12  미국의 장기금리는 미국의 경제성장률 둔화, 주가 하락 등으로 안전자산인 국채선호 경...\n",
       "38108 2005-05-12  금융시장 동향 금리 및 주가 4월중 국고채(3년) 유통수익률은 미국경제의 soft ...\n",
       "\n",
       "[38109 rows x 2 columns]"
      ]
     },
     "execution_count": 39,
     "metadata": {},
     "output_type": "execute_result"
    }
   ],
   "source": [
    "pd.read_json('test_data.json')"
   ]
  },
  {
   "cell_type": "code",
   "execution_count": 38,
   "metadata": {},
   "outputs": [
    {
     "data": {
      "text/plain": [
       "'date'"
      ]
     },
     "execution_count": 38,
     "metadata": {},
     "output_type": "execute_result"
    }
   ],
   "source": [
    "train_df.columns[0]"
   ]
  },
  {
   "cell_type": "code",
   "execution_count": 7,
   "metadata": {},
   "outputs": [],
   "source": [
    "nbc.df.to_json('train_result.json')"
   ]
  },
  {
   "cell_type": "code",
   "execution_count": 53,
   "metadata": {},
   "outputs": [],
   "source": [
    "test_df['ngram'] = ngram_ls"
   ]
  },
  {
   "cell_type": "code",
   "execution_count": 55,
   "metadata": {},
   "outputs": [
    {
     "data": {
      "text/plain": [
       "date        0\n",
       "sent        0\n",
       "ngram    8687\n",
       "dtype: int64"
      ]
     },
     "execution_count": 55,
     "metadata": {},
     "output_type": "execute_result"
    }
   ],
   "source": [
    "# Ngram 빈 list 처리\n",
    "train_df['ngram'] = list(map(lambda i : None if i == [] else i, train_df['ngram']))\n",
    "\n",
    "test_df.isnull().sum()"
   ]
  },
  {
   "cell_type": "code",
   "execution_count": 56,
   "metadata": {},
   "outputs": [
    {
     "data": {
      "text/html": [
       "<div>\n",
       "<style scoped>\n",
       "    .dataframe tbody tr th:only-of-type {\n",
       "        vertical-align: middle;\n",
       "    }\n",
       "\n",
       "    .dataframe tbody tr th {\n",
       "        vertical-align: top;\n",
       "    }\n",
       "\n",
       "    .dataframe thead th {\n",
       "        text-align: right;\n",
       "    }\n",
       "</style>\n",
       "<table border=\"1\" class=\"dataframe\">\n",
       "  <thead>\n",
       "    <tr style=\"text-align: right;\">\n",
       "      <th></th>\n",
       "      <th>date</th>\n",
       "      <th>sent</th>\n",
       "      <th>ngram</th>\n",
       "    </tr>\n",
       "  </thead>\n",
       "  <tbody>\n",
       "    <tr>\n",
       "      <th>1</th>\n",
       "      <td>2020-06-24</td>\n",
       "      <td>먼저 금번 보고서에서는 코로나19 확산에 따른 유례없는 금융·실물 충격이 금 융시스...</td>\n",
       "      <td>[실물/NNG;충격/NNG, 금융안정/NNG]</td>\n",
       "    </tr>\n",
       "    <tr>\n",
       "      <th>3</th>\n",
       "      <td>2020-06-24</td>\n",
       "      <td>여러 위원들은 금번 보고서가 코로나19 확산 이후 금융불안 우려가 높아진 상황에서 ...</td>\n",
       "      <td>[불안/NNG;우려/NNG;높/VA, 높/VA;금융안정/NNG]</td>\n",
       "    </tr>\n",
       "    <tr>\n",
       "      <th>6</th>\n",
       "      <td>2020-06-24</td>\n",
       "      <td>일부 위원은 ‘금융안정 상황’ 및 ‘복원력’과 관련하여, 기업신용 상황을 분석하 는...</td>\n",
       "      <td>[금융안정/NNG]</td>\n",
       "    </tr>\n",
       "    <tr>\n",
       "      <th>7</th>\n",
       "      <td>2020-06-24</td>\n",
       "      <td>다른 일부 위원은 기업신용의 증가 원인을 수요와 공급 측면으로 나누어 기 술하는 것...</td>\n",
       "      <td>[신용/NNG;증가/NNG]</td>\n",
       "    </tr>\n",
       "    <tr>\n",
       "      <th>8</th>\n",
       "      <td>2020-06-24</td>\n",
       "      <td>이와 관련하여 일부 위원은 최근 기업대출 증가와 관련된 위험요인을 언급할 필요가 있...</td>\n",
       "      <td>[기업/NNG;대출/NNG;증가/NNG]</td>\n",
       "    </tr>\n",
       "    <tr>\n",
       "      <th>...</th>\n",
       "      <td>...</td>\n",
       "      <td>...</td>\n",
       "      <td>...</td>\n",
       "    </tr>\n",
       "    <tr>\n",
       "      <th>38104</th>\n",
       "      <td>2005-05-12</td>\n",
       "      <td>Dow Jones 지수는 미국의 1/4분기 GDP성장률 둔화(, 전분기 ) 등 경제...</td>\n",
       "      <td>[둔화/NNG;경제/NNG;지표/NNG;부진/NNG, 지수/NNG;경제/NNG;지표...</td>\n",
       "    </tr>\n",
       "    <tr>\n",
       "      <th>38105</th>\n",
       "      <td>2005-05-12</td>\n",
       "      <td>유럽 주가는 유로지역 경제에 대한 비관적 전망, 인피니언사 등 주요 기업들의 실적부...</td>\n",
       "      <td>[기업/NNG;실적/NNG;부진/NNG;하락/NNG, 우려/NNG;기업/NNG;실적...</td>\n",
       "    </tr>\n",
       "    <tr>\n",
       "      <th>38106</th>\n",
       "      <td>2005-05-12</td>\n",
       "      <td>유로화는 유로지역 경제 부진 전망 등으로 약세( 절하)를 보였으나 일본 엔화는 미국...</td>\n",
       "      <td>[금리/NNG;인상/NNG;전망/NNG;상승/NNG, 유로존/NNG;경제/NNG;부...</td>\n",
       "    </tr>\n",
       "    <tr>\n",
       "      <th>38107</th>\n",
       "      <td>2005-05-12</td>\n",
       "      <td>미국의 장기금리는 미국의 경제성장률 둔화, 주가 하락 등으로 안전자산인 국채선호 경...</td>\n",
       "      <td>[금리/NNG;경제/NNG;지표/NNG;부진/NNG;하락/NNG, 안전자산/NNG;...</td>\n",
       "    </tr>\n",
       "    <tr>\n",
       "      <th>38108</th>\n",
       "      <td>2005-05-12</td>\n",
       "      <td>금융시장 동향 금리 및 주가 4월중 국고채(3년) 유통수익률은 미국경제의 soft ...</td>\n",
       "      <td>[부진/NNG;글로벌/NNG;경기/NNG;둔화/NNG;우려/NNG, 중소기업/NNG...</td>\n",
       "    </tr>\n",
       "  </tbody>\n",
       "</table>\n",
       "<p>29422 rows × 3 columns</p>\n",
       "</div>"
      ],
      "text/plain": [
       "            date                                               sent  \\\n",
       "1     2020-06-24  먼저 금번 보고서에서는 코로나19 확산에 따른 유례없는 금융·실물 충격이 금 융시스...   \n",
       "3     2020-06-24  여러 위원들은 금번 보고서가 코로나19 확산 이후 금융불안 우려가 높아진 상황에서 ...   \n",
       "6     2020-06-24  일부 위원은 ‘금융안정 상황’ 및 ‘복원력’과 관련하여, 기업신용 상황을 분석하 는...   \n",
       "7     2020-06-24  다른 일부 위원은 기업신용의 증가 원인을 수요와 공급 측면으로 나누어 기 술하는 것...   \n",
       "8     2020-06-24  이와 관련하여 일부 위원은 최근 기업대출 증가와 관련된 위험요인을 언급할 필요가 있...   \n",
       "...          ...                                                ...   \n",
       "38104 2005-05-12  Dow Jones 지수는 미국의 1/4분기 GDP성장률 둔화(, 전분기 ) 등 경제...   \n",
       "38105 2005-05-12  유럽 주가는 유로지역 경제에 대한 비관적 전망, 인피니언사 등 주요 기업들의 실적부...   \n",
       "38106 2005-05-12  유로화는 유로지역 경제 부진 전망 등으로 약세( 절하)를 보였으나 일본 엔화는 미국...   \n",
       "38107 2005-05-12  미국의 장기금리는 미국의 경제성장률 둔화, 주가 하락 등으로 안전자산인 국채선호 경...   \n",
       "38108 2005-05-12  금융시장 동향 금리 및 주가 4월중 국고채(3년) 유통수익률은 미국경제의 soft ...   \n",
       "\n",
       "                                                   ngram  \n",
       "1                              [실물/NNG;충격/NNG, 금융안정/NNG]  \n",
       "3                    [불안/NNG;우려/NNG;높/VA, 높/VA;금융안정/NNG]  \n",
       "6                                             [금융안정/NNG]  \n",
       "7                                        [신용/NNG;증가/NNG]  \n",
       "8                                 [기업/NNG;대출/NNG;증가/NNG]  \n",
       "...                                                  ...  \n",
       "38104  [둔화/NNG;경제/NNG;지표/NNG;부진/NNG, 지수/NNG;경제/NNG;지표...  \n",
       "38105  [기업/NNG;실적/NNG;부진/NNG;하락/NNG, 우려/NNG;기업/NNG;실적...  \n",
       "38106  [금리/NNG;인상/NNG;전망/NNG;상승/NNG, 유로존/NNG;경제/NNG;부...  \n",
       "38107  [금리/NNG;경제/NNG;지표/NNG;부진/NNG;하락/NNG, 안전자산/NNG;...  \n",
       "38108  [부진/NNG;글로벌/NNG;경기/NNG;둔화/NNG;우려/NNG, 중소기업/NNG...  \n",
       "\n",
       "[29422 rows x 3 columns]"
      ]
     },
     "execution_count": 56,
     "metadata": {},
     "output_type": "execute_result"
    }
   ],
   "source": [
    "test_df.dropna()"
   ]
  },
  {
   "cell_type": "code",
   "execution_count": 60,
   "metadata": {},
   "outputs": [],
   "source": [
    "temp = list(map(lambda i : ','.join(i), final_df['ngram']))"
   ]
  },
  {
   "cell_type": "code",
   "execution_count": 61,
   "metadata": {},
   "outputs": [],
   "source": [
    "final_df['ngram'] = temp"
   ]
  },
  {
   "cell_type": "code",
   "execution_count": 64,
   "metadata": {},
   "outputs": [],
   "source": [
    "final_df.reset_index()[['date','ngram']].to_json('test_ngram_datas.json')"
   ]
  },
  {
   "cell_type": "code",
   "execution_count": 53,
   "metadata": {},
   "outputs": [],
   "source": []
  },
  {
   "cell_type": "code",
   "execution_count": 54,
   "metadata": {},
   "outputs": [],
   "source": []
  },
  {
   "cell_type": "code",
   "execution_count": 55,
   "metadata": {},
   "outputs": [],
   "source": [
    "import datetime\n",
    "train_data = ngram_df.iloc[(ngram_df.index >= datetime.date(2005,5,1)) & (ngram_df.index <= datetime.date(2017,12,31))]"
   ]
  },
  {
   "cell_type": "code",
   "execution_count": 56,
   "metadata": {},
   "outputs": [
    {
     "output_type": "execute_result",
     "data": {
      "text/plain": "                                                        ngram   ud\ndate                                                              \n2005-05-12  부진/NNG;글로벌/NNG;경기/NNG;둔화/NNG;우려/NNG,소비/NNG;설비/...  0.0\n2005-06-09  경상/NNG;수지/NNG;적자/NNG;재정/NNG;적자/NNG,국제/NNG;금융시장...  1.0\n2005-06-23                       대출/NNG;촉진/NNG,걸림돌/NNG,개선/NNG  0.0\n2005-07-07  자산/NNG;가격/NNG;상승/NNG;물가/NNG;상승/NNG,물가/NNG;안정/N... -1.0\n2005-08-11  부동산/NNG;가격/NNG;상승/NNG;금리/NNG;인상/NNG,국채/NNG;수익률...  1.0\n...                                                       ...  ...\n2017-12-31  수출/NNG;경쟁력/NNG;약화/NNG;우려/NNG,외환시장/NNG;개입/NNG;자...  0.0\n2017-12-31                           주택담보대출/NNG;금리/NNG;최대/NNG  0.0\n2017-12-31  가계/NNG;대출/NNG;상환/NNG;부담/NNG,gdp/NNG;성장률/NNG;하락...  0.0\n2017-12-31  금융시장/NNG;변동성/NNG;크/VV,거시/NNG;건전성/NNG;강화/NNG,통화...  0.0\n2017-12-31  fed/NNG;금리/NNG;인상/NNG,금리/NNG;인상/NNG;걸림돌/NNG,fe...  0.0\n\n[243973 rows x 2 columns]",
      "text/html": "<div>\n<style scoped>\n    .dataframe tbody tr th:only-of-type {\n        vertical-align: middle;\n    }\n\n    .dataframe tbody tr th {\n        vertical-align: top;\n    }\n\n    .dataframe thead th {\n        text-align: right;\n    }\n</style>\n<table border=\"1\" class=\"dataframe\">\n  <thead>\n    <tr style=\"text-align: right;\">\n      <th></th>\n      <th>ngram</th>\n      <th>ud</th>\n    </tr>\n    <tr>\n      <th>date</th>\n      <th></th>\n      <th></th>\n    </tr>\n  </thead>\n  <tbody>\n    <tr>\n      <th>2005-05-12</th>\n      <td>부진/NNG;글로벌/NNG;경기/NNG;둔화/NNG;우려/NNG,소비/NNG;설비/...</td>\n      <td>0.0</td>\n    </tr>\n    <tr>\n      <th>2005-06-09</th>\n      <td>경상/NNG;수지/NNG;적자/NNG;재정/NNG;적자/NNG,국제/NNG;금융시장...</td>\n      <td>1.0</td>\n    </tr>\n    <tr>\n      <th>2005-06-23</th>\n      <td>대출/NNG;촉진/NNG,걸림돌/NNG,개선/NNG</td>\n      <td>0.0</td>\n    </tr>\n    <tr>\n      <th>2005-07-07</th>\n      <td>자산/NNG;가격/NNG;상승/NNG;물가/NNG;상승/NNG,물가/NNG;안정/N...</td>\n      <td>-1.0</td>\n    </tr>\n    <tr>\n      <th>2005-08-11</th>\n      <td>부동산/NNG;가격/NNG;상승/NNG;금리/NNG;인상/NNG,국채/NNG;수익률...</td>\n      <td>1.0</td>\n    </tr>\n    <tr>\n      <th>...</th>\n      <td>...</td>\n      <td>...</td>\n    </tr>\n    <tr>\n      <th>2017-12-31</th>\n      <td>수출/NNG;경쟁력/NNG;약화/NNG;우려/NNG,외환시장/NNG;개입/NNG;자...</td>\n      <td>0.0</td>\n    </tr>\n    <tr>\n      <th>2017-12-31</th>\n      <td>주택담보대출/NNG;금리/NNG;최대/NNG</td>\n      <td>0.0</td>\n    </tr>\n    <tr>\n      <th>2017-12-31</th>\n      <td>가계/NNG;대출/NNG;상환/NNG;부담/NNG,gdp/NNG;성장률/NNG;하락...</td>\n      <td>0.0</td>\n    </tr>\n    <tr>\n      <th>2017-12-31</th>\n      <td>금융시장/NNG;변동성/NNG;크/VV,거시/NNG;건전성/NNG;강화/NNG,통화...</td>\n      <td>0.0</td>\n    </tr>\n    <tr>\n      <th>2017-12-31</th>\n      <td>fed/NNG;금리/NNG;인상/NNG,금리/NNG;인상/NNG;걸림돌/NNG,fe...</td>\n      <td>0.0</td>\n    </tr>\n  </tbody>\n</table>\n<p>243973 rows × 2 columns</p>\n</div>"
     },
     "metadata": {},
     "execution_count": 56
    }
   ],
   "source": [
    "train_data"
   ]
  },
  {
   "cell_type": "code",
   "execution_count": 57,
   "metadata": {},
   "outputs": [],
   "source": [
    "nbc = NBC(train_data)"
   ]
  },
  {
   "cell_type": "code",
   "execution_count": 34,
   "metadata": {},
   "outputs": [
    {
     "output_type": "execute_result",
     "data": {
      "text/plain": "date\n2005-05-12    False\n2005-06-09     True\n2005-06-23    False\n2005-07-07    False\n2005-08-11     True\n              ...  \n2017-12-31    False\n2017-12-31    False\n2017-12-31    False\n2017-12-31    False\n2017-12-31    False\nName: ud, Length: 243973, dtype: bool"
     },
     "metadata": {},
     "execution_count": 34
    }
   ],
   "source": [
    "train_data['ud'] == 1.0"
   ]
  },
  {
   "cell_type": "code",
   "execution_count": 58,
   "metadata": {
    "tags": []
   },
   "outputs": [
    {
     "output_type": "execute_result",
     "data": {
      "text/plain": "                              0.0   1.0  -1.0\nngram                                        \n생산성/NNG;개선/NNG               27.0  16.0  18.0\n채권/NNG;거래/NNG;증가/NNG         11.0   3.0   3.0\n외화차입/NNG;여건/NNG;악화/NNG       15.0  13.0   9.0\n고용/NNG;선순환/NNG                8.0   1.0   0.0\n중소기업/NNG;금리/NNG;인하/NNG       13.0   0.0   5.0\n...                           ...   ...   ...\n경제/NNG;성장/NNG;미약/NNG         15.0   4.0  12.0\n약화/NNG;국채/NNG;가격/NNG;하락/NNG   7.0   5.0   3.0\n높/VA;금융시장/NNG;불안/NNG         10.0   4.0   4.0\n금리/NNG;내리/VV;이자/NNG;부담/NNG    1.0   2.0   0.0\n예상/NNG;많/VA;금리/NNG;인상/NNG     4.0   3.0   0.0\n\n[64729 rows x 3 columns]",
      "text/html": "<div>\n<style scoped>\n    .dataframe tbody tr th:only-of-type {\n        vertical-align: middle;\n    }\n\n    .dataframe tbody tr th {\n        vertical-align: top;\n    }\n\n    .dataframe thead th {\n        text-align: right;\n    }\n</style>\n<table border=\"1\" class=\"dataframe\">\n  <thead>\n    <tr style=\"text-align: right;\">\n      <th></th>\n      <th>0.0</th>\n      <th>1.0</th>\n      <th>-1.0</th>\n    </tr>\n    <tr>\n      <th>ngram</th>\n      <th></th>\n      <th></th>\n      <th></th>\n    </tr>\n  </thead>\n  <tbody>\n    <tr>\n      <th>생산성/NNG;개선/NNG</th>\n      <td>27.0</td>\n      <td>16.0</td>\n      <td>18.0</td>\n    </tr>\n    <tr>\n      <th>채권/NNG;거래/NNG;증가/NNG</th>\n      <td>11.0</td>\n      <td>3.0</td>\n      <td>3.0</td>\n    </tr>\n    <tr>\n      <th>외화차입/NNG;여건/NNG;악화/NNG</th>\n      <td>15.0</td>\n      <td>13.0</td>\n      <td>9.0</td>\n    </tr>\n    <tr>\n      <th>고용/NNG;선순환/NNG</th>\n      <td>8.0</td>\n      <td>1.0</td>\n      <td>0.0</td>\n    </tr>\n    <tr>\n      <th>중소기업/NNG;금리/NNG;인하/NNG</th>\n      <td>13.0</td>\n      <td>0.0</td>\n      <td>5.0</td>\n    </tr>\n    <tr>\n      <th>...</th>\n      <td>...</td>\n      <td>...</td>\n      <td>...</td>\n    </tr>\n    <tr>\n      <th>경제/NNG;성장/NNG;미약/NNG</th>\n      <td>15.0</td>\n      <td>4.0</td>\n      <td>12.0</td>\n    </tr>\n    <tr>\n      <th>약화/NNG;국채/NNG;가격/NNG;하락/NNG</th>\n      <td>7.0</td>\n      <td>5.0</td>\n      <td>3.0</td>\n    </tr>\n    <tr>\n      <th>높/VA;금융시장/NNG;불안/NNG</th>\n      <td>10.0</td>\n      <td>4.0</td>\n      <td>4.0</td>\n    </tr>\n    <tr>\n      <th>금리/NNG;내리/VV;이자/NNG;부담/NNG</th>\n      <td>1.0</td>\n      <td>2.0</td>\n      <td>0.0</td>\n    </tr>\n    <tr>\n      <th>예상/NNG;많/VA;금리/NNG;인상/NNG</th>\n      <td>4.0</td>\n      <td>3.0</td>\n      <td>0.0</td>\n    </tr>\n  </tbody>\n</table>\n<p>64729 rows × 3 columns</p>\n</div>"
     },
     "metadata": {},
     "execution_count": 58
    }
   ],
   "source": [
    "nbc.add_data(train_data)"
   ]
  },
  {
   "cell_type": "code",
   "execution_count": 61,
   "metadata": {},
   "outputs": [],
   "source": [
    "X = np.matrix(nbc.df).T"
   ]
  },
  {
   "cell_type": "code",
   "execution_count": 62,
   "metadata": {},
   "outputs": [],
   "source": [
    "y = np.ones(len(X))"
   ]
  },
  {
   "cell_type": "code",
   "execution_count": 63,
   "metadata": {},
   "outputs": [
    {
     "output_type": "execute_result",
     "data": {
      "text/plain": "MultinomialNB(alpha=1.0, class_prior=None, fit_prior=True)"
     },
     "metadata": {},
     "execution_count": 63
    }
   ],
   "source": [
    "import numpy as np\n",
    "from sklearn.naive_bayes import MultinomialNB\n",
    "clf = MultinomialNB()\n",
    "clf.fit(X, y)\n",
    "MultinomialNB()\n",
    "# print(clf.predict(X[2:3]))\n"
   ]
  },
  {
   "cell_type": "code",
   "execution_count": 68,
   "metadata": {},
   "outputs": [
    {
     "output_type": "execute_result",
     "data": {
      "text/plain": "matrix([[27., 11., 15., ..., 10.,  1.,  4.]])"
     },
     "metadata": {},
     "execution_count": 68
    }
   ],
   "source": []
  },
  {
   "cell_type": "code",
   "execution_count": 67,
   "metadata": {},
   "outputs": [
    {
     "output_type": "execute_result",
     "data": {
      "text/plain": "array([0])"
     },
     "metadata": {},
     "execution_count": 67
    }
   ],
   "source": [
    "clf.predict(X[0])"
   ]
  },
  {
   "cell_type": "markdown",
   "metadata": {},
   "source": [
    "X"
   ]
  },
  {
   "cell_type": "code",
   "execution_count": 7,
   "metadata": {},
   "outputs": [
    {
     "output_type": "execute_result",
     "data": {
      "text/plain": "array([1, 2, 3, 4, 5, 6])"
     },
     "metadata": {},
     "execution_count": 7
    }
   ],
   "source": [
    "y"
   ]
  },
  {
   "cell_type": "code",
   "execution_count": 69,
   "metadata": {
    "tags": []
   },
   "outputs": [
    {
     "output_type": "stream",
     "name": "stdout",
     "text": "[-1]\n"
    }
   ],
   "source": []
  },
  {
   "cell_type": "code",
   "execution_count": 70,
   "metadata": {
    "tags": []
   },
   "outputs": [
    {
     "output_type": "stream",
     "name": "stdout",
     "text": "[3]\n"
    }
   ],
   "source": [
    "import numpy as np\n",
    "rng = np.random.RandomState(1)\n",
    "X = rng.randint(5, size=(6, 100))\n",
    "y = np.array([1, 2, 3, 4, 5, 6])\n",
    "from sklearn.naive_bayes import MultinomialNB\n",
    "clf = MultinomialNB()\n",
    "clf.fit(X, y)\n",
    "MultinomialNB()\n",
    "print(clf.predict(X[2:3]))\n",
    "\n"
   ]
  },
  {
   "cell_type": "code",
   "execution_count": null,
   "metadata": {},
   "outputs": [],
   "source": []
  },
  {
   "cell_type": "code",
   "execution_count": 24,
   "metadata": {},
   "outputs": [],
   "source": [
    "hawkish = nbc.df[nbc.df['score'] >= 1.3].index"
   ]
  },
  {
   "cell_type": "code",
   "execution_count": 26,
   "metadata": {},
   "outputs": [
    {
     "output_type": "execute_result",
     "data": {
      "text/plain": "Index(['주문/NNG;금리/NNG;인상/NNG', '인상/NNG;제약/NNG',\n       '인플레이션/NNG;기대/NNG;확산/NNG;방지/NNG', '예상/NNG;환율/NNG;상승/NNG',\n       '저축성/NNG;예금/NNG;금리/NNG;상승/NNG', '금리/NNG;인하/NNG;아니/VCN;금리/NNG;인하/NNG',\n       '물가/NNG;안정/NNG;경제/NNG;안정/NNG', '둔화/NNG;우려/NNG;아니/VCN',\n       '생산/NNG;지표/NNG;악화/NNG', 'fx스왑/NNG;시장/NNG;마이너스/NNG',\n       ...\n       '거품/NNG;없/VA', '경기/NNG;둔화/NNG;가능성/NNG;크/VV', '하락/NNG;꺾/VV',\n       '금리/NNG;인상/NNG;급하/VA;않/VX', '미/NNG;건설/NNG;지출/NNG;감소/NNG',\n       '활성화/NNG;금리/NNG;인상/NNG', '금리/NNG;하락/NNG;견인력/NNG;약화/NNG',\n       '상향/NNG;힘입/VV;강세/NNG', '물가/NNG;아니/VCN;성장/NNG',\n       '금리/NNG;인상/NNG;불구/NNG;상승/NNG'],\n      dtype='object', name='ngram', length=25243)"
     },
     "metadata": {},
     "execution_count": 26
    }
   ],
   "source": [
    "hawkish"
   ]
  },
  {
   "cell_type": "code",
   "execution_count": 17,
   "metadata": {},
   "outputs": [
    {
     "output_type": "execute_result",
     "data": {
      "text/plain": "1240873.0"
     },
     "metadata": {},
     "execution_count": 17
    }
   ],
   "source": [
    "nbc.df[[1,-1]].sum().sum()"
   ]
  },
  {
   "cell_type": "code",
   "execution_count": 25,
   "metadata": {},
   "outputs": [],
   "source": [
    "dovish = nbc.df[nbc.df['score'] <= 10/13].index"
   ]
  },
  {
   "cell_type": "code",
   "execution_count": 27,
   "metadata": {},
   "outputs": [
    {
     "output_type": "execute_result",
     "data": {
      "text/plain": "Index(['고용시장/NNG;낙관/NNG', '둔화/NNG;강세/NNG', '가계/NNG;금리/NNG;부담/NNG',\n       '금리/NNG;인플레이션/NNG;낮/VA', '인하/NNG;환율/NNG;방어/NNG',\n       '내외/NNG;금리갭/NNG;축소/NNG', '급락/NNG;원화/NNG;약세/NNG', '자산/NNG;듀레이션/NNG;길/VA',\n       '인하/NNG;가계/NNG;부채/NNG;증가/NNG;우려/NNG', '부진/NNG;발목/NNG;잡/VV',\n       ...\n       '해외/NNG;주식펀드/NNG;수익률/NNG;상승/NNG', '글로벌/NNG;유동성/NNG;확대/NNG',\n       'ecb/NNG;금리/NNG;내리/VV;금리/NNG;인하/NNG', '생산/NNG;소비/NNG;둔화/NNG',\n       '위험자산/NNG;부정적/VAX', '회사채/NNG;시장/NNG;충격/NNG', '외국인/NNG;채권투자/NNG;급증/NNG',\n       '금리/NNG;당분간/MAG;인하/NNG', '수익성/NNG;현금흐름/NNG;개선/NNG', '크레딧/NNG;안정/NNG'],\n      dtype='object', name='ngram', length=23563)"
     },
     "metadata": {},
     "execution_count": 27
    }
   ],
   "source": [
    "dovish"
   ]
  },
  {
   "cell_type": "code",
   "execution_count": 21,
   "metadata": {
    "tags": []
   },
   "outputs": [
    {
     "output_type": "stream",
     "name": "stdout",
     "text": "1240873\n"
    },
    {
     "output_type": "execute_result",
     "data": {
      "text/plain": "                           1.0   -1.0       haw       dov     score\nngram                                                              \n거품/NNG                   474.0  386.0  0.000715  0.000668  1.069115\n주문/NNG;금리/NNG;인상/NNG       4.0    0.0  0.000006  0.000000       inf\n산업/NNG;어렵/VA               3.0    3.0  0.000005  0.000005  0.870630\n고용시장/NNG;낙관/NNG            1.0    3.0  0.000002  0.000005  0.290210\n둔화/NNG;강세/NNG              2.0    3.0  0.000003  0.000005  0.580420\n...                        ...    ...       ...       ...       ...\n회사채/NNG;시장/NNG;충격/NNG      0.0    3.0  0.000000  0.000005  0.000000\n외국인/NNG;채권투자/NNG;급증/NNG    3.0    6.0  0.000005  0.000010  0.435315\n금리/NNG;당분간/MAG;인하/NNG      2.0    3.0  0.000003  0.000005  0.580420\n수익성/NNG;현금흐름/NNG;개선/NNG    0.0    1.0  0.000000  0.000002  0.000000\n크레딧/NNG;안정/NNG             1.0   17.0  0.000002  0.000029  0.051214\n\n[58747 rows x 5 columns]",
      "text/html": "<div>\n<style scoped>\n    .dataframe tbody tr th:only-of-type {\n        vertical-align: middle;\n    }\n\n    .dataframe tbody tr th {\n        vertical-align: top;\n    }\n\n    .dataframe thead th {\n        text-align: right;\n    }\n</style>\n<table border=\"1\" class=\"dataframe\">\n  <thead>\n    <tr style=\"text-align: right;\">\n      <th></th>\n      <th>1.0</th>\n      <th>-1.0</th>\n      <th>haw</th>\n      <th>dov</th>\n      <th>score</th>\n    </tr>\n    <tr>\n      <th>ngram</th>\n      <th></th>\n      <th></th>\n      <th></th>\n      <th></th>\n      <th></th>\n    </tr>\n  </thead>\n  <tbody>\n    <tr>\n      <th>거품/NNG</th>\n      <td>474.0</td>\n      <td>386.0</td>\n      <td>0.000715</td>\n      <td>0.000668</td>\n      <td>1.069115</td>\n    </tr>\n    <tr>\n      <th>주문/NNG;금리/NNG;인상/NNG</th>\n      <td>4.0</td>\n      <td>0.0</td>\n      <td>0.000006</td>\n      <td>0.000000</td>\n      <td>inf</td>\n    </tr>\n    <tr>\n      <th>산업/NNG;어렵/VA</th>\n      <td>3.0</td>\n      <td>3.0</td>\n      <td>0.000005</td>\n      <td>0.000005</td>\n      <td>0.870630</td>\n    </tr>\n    <tr>\n      <th>고용시장/NNG;낙관/NNG</th>\n      <td>1.0</td>\n      <td>3.0</td>\n      <td>0.000002</td>\n      <td>0.000005</td>\n      <td>0.290210</td>\n    </tr>\n    <tr>\n      <th>둔화/NNG;강세/NNG</th>\n      <td>2.0</td>\n      <td>3.0</td>\n      <td>0.000003</td>\n      <td>0.000005</td>\n      <td>0.580420</td>\n    </tr>\n    <tr>\n      <th>...</th>\n      <td>...</td>\n      <td>...</td>\n      <td>...</td>\n      <td>...</td>\n      <td>...</td>\n    </tr>\n    <tr>\n      <th>회사채/NNG;시장/NNG;충격/NNG</th>\n      <td>0.0</td>\n      <td>3.0</td>\n      <td>0.000000</td>\n      <td>0.000005</td>\n      <td>0.000000</td>\n    </tr>\n    <tr>\n      <th>외국인/NNG;채권투자/NNG;급증/NNG</th>\n      <td>3.0</td>\n      <td>6.0</td>\n      <td>0.000005</td>\n      <td>0.000010</td>\n      <td>0.435315</td>\n    </tr>\n    <tr>\n      <th>금리/NNG;당분간/MAG;인하/NNG</th>\n      <td>2.0</td>\n      <td>3.0</td>\n      <td>0.000003</td>\n      <td>0.000005</td>\n      <td>0.580420</td>\n    </tr>\n    <tr>\n      <th>수익성/NNG;현금흐름/NNG;개선/NNG</th>\n      <td>0.0</td>\n      <td>1.0</td>\n      <td>0.000000</td>\n      <td>0.000002</td>\n      <td>0.000000</td>\n    </tr>\n    <tr>\n      <th>크레딧/NNG;안정/NNG</th>\n      <td>1.0</td>\n      <td>17.0</td>\n      <td>0.000002</td>\n      <td>0.000029</td>\n      <td>0.051214</td>\n    </tr>\n  </tbody>\n</table>\n<p>58747 rows × 5 columns</p>\n</div>"
     },
     "metadata": {},
     "execution_count": 21
    }
   ],
   "source": [
    "nbc = NBC()\n",
    "nbc.add_data(train_data)\n",
    "nbc.polarity_score()"
   ]
  },
  {
   "cell_type": "code",
   "execution_count": null,
   "metadata": {},
   "outputs": [],
   "source": []
  },
  {
   "cell_type": "code",
   "execution_count": 18,
   "metadata": {},
   "outputs": [],
   "source": [
    "import pandas as pd\n",
    "import numpy as np\n",
    "import itertools\n",
    "import nltk\n",
    "\n",
    "class NBC():\n",
    "    def add_data(self, datas):\n",
    "        word_column = datas.columns[0]\n",
    "        target_column = datas.columns[1]\n",
    "        target_ls = list(set(datas[target_column]))\n",
    "        datas[word_column] = list(map(lambda i : i.split(','), datas[word_column]))\n",
    "\n",
    "        total_ngram = list(itertools.chain(*list(datas[word_column]))) # list로 들어가지 않을 경우\n",
    "        \n",
    "        unique_ngram = list(set(total_ngram))\n",
    "\n",
    "        result_df = pd.DataFrame(unique_ngram, columns = [word_column]).set_index(word_column)\n",
    "\n",
    "        for target in target_ls:\n",
    "            this_ngram = list(itertools.chain(*list(datas[datas[target_column] == target][word_column])))\n",
    "            fdist = nltk.FreqDist(this_ngram)\n",
    "            temp_df = pd.DataFrame(list(zip(fdist.keys(), fdist.values())), columns= [word_column, 'count']).set_index(word_column)\n",
    "            result_df[target] = temp_df['count']\n",
    "        \n",
    "        self.df = result_df.fillna(0)\n",
    "        return self.df\n",
    "\n",
    "    def polarity_score(self):\n",
    "        self.df['haw'] = self.df[1] / sum(self.df[1])\n",
    "        self.df['dov'] = self.df[-1] / sum(self.df[-1])\n",
    "        self.df['score'] = self.df['haw'] / self.df['dov']\n",
    "        return self.df\n",
    "\n",
    "\n"
   ]
  },
  {
   "cell_type": "code",
   "execution_count": null,
   "metadata": {},
   "outputs": [],
   "source": []
  },
  {
   "cell_type": "code",
   "execution_count": null,
   "metadata": {},
   "outputs": [],
   "source": []
  },
  {
   "cell_type": "code",
   "execution_count": null,
   "metadata": {},
   "outputs": [],
   "source": []
  },
  {
   "cell_type": "code",
   "execution_count": null,
   "metadata": {},
   "outputs": [],
   "source": []
  },
  {
   "cell_type": "code",
   "execution_count": null,
   "metadata": {},
   "outputs": [],
   "source": []
  },
  {
   "cell_type": "code",
   "execution_count": null,
   "metadata": {},
   "outputs": [],
   "source": []
  },
  {
   "cell_type": "code",
   "execution_count": null,
   "metadata": {},
   "outputs": [],
   "source": []
  },
  {
   "cell_type": "code",
   "execution_count": null,
   "metadata": {},
   "outputs": [],
   "source": []
  },
  {
   "cell_type": "code",
   "execution_count": null,
   "metadata": {},
   "outputs": [],
   "source": []
  },
  {
   "cell_type": "code",
   "execution_count": 50,
   "metadata": {},
   "outputs": [],
   "source": [
    "import pandas as pd\n",
    "import numpy as np\n",
    "import itertools\n",
    "import nltk\n",
    "from sklearn.model_selection import train_test_split\n",
    "\n",
    "# Input 데이터프레임은 첫 번째 column에 words(split처리 된 list), 두 번째 column에 target\n",
    "# Output 데이터프레임은 인덱스에 단어, 칼럼에 타겟\n",
    "class NBC():\n",
    "    df = pd.DataFrame([])\n",
    "    k = 0.5\n",
    "    \n",
    "    # 최초 모든 feature를 가지는 행렬 필요 initial_data\n",
    "    def __init__(self, datas, **kwargs):\n",
    "        self.raw_data = datas\n",
    "        word_column = datas.columns[0]\n",
    "        total_ngram = list(itertools.chain(*list(map(lambda i : i.split(','), datas[word_column])))) # list로 들어가지 않을 경우\n",
    "        unique_ngram = list(set(total_ngram))\n",
    "        self.init_df = pd.DataFrame(unique_ngram, columns = [word_column]).set_index(word_column)\n",
    "        try:\n",
    "            self.k = kwargs['k']\n",
    "        except:\n",
    "            pass\n",
    "            \n",
    "    # train data 받아서 count 행렬 반환하는 함수 #함수명 변경 \n",
    "    def add_data(self, datas):\n",
    "        word_column = datas.columns[0]\n",
    "        target_column = datas.columns[1]\n",
    "        target_ls = list(set(datas[target_column]))\n",
    "        datas[word_column] = list(map(lambda i : i.split(','), datas[word_column]))\n",
    "        \n",
    "\n",
    "        total_ngram = list(itertools.chain(*list(datas[word_column]))) # list로 들어가지 않을 경우\n",
    "        \n",
    "        unique_ngram = list(set(total_ngram))\n",
    "\n",
    "        result_df = pd.DataFrame(unique_ngram, columns = [word_column]).set_index(word_column)\n",
    "\n",
    "        for target in target_ls:\n",
    "            this_ngram = list(itertools.chain(*list(datas[datas[target_column] == target][word_column])))\n",
    "            fdist = nltk.FreqDist(this_ngram)\n",
    "            temp_df = pd.DataFrame(list(zip(fdist.keys(), fdist.values())), columns= [word_column, 'count']).set_index(word_column)\n",
    "            result_df[target] = temp_df['count']\n",
    "        \n",
    "        self.df = result_df.fillna(0)\n",
    "        return self.df\n",
    "    \n",
    "    # real polarity Score 계산 함수 필요\n",
    "    def polarity(self, df):\n",
    "        c_df = self.add_data(df)\n",
    "        \n",
    "        pola_list = []\n",
    "        # self.initial data set\n",
    "        for i in c_df.index:\n",
    "            try:\n",
    "                pola = self.pol_score(c_df, 1, i) / self.pol_score(c_df, -1, i)\n",
    "            except:\n",
    "                pola = 1\n",
    "            pola_list.append(pola)\n",
    "        \n",
    "        word_column = self.raw_data.columns[0]\n",
    "        temp_df = pd.DataFrame(c_df.index, columns = [word_column])\n",
    "        temp_df.set_index(word_column, inplace=True)\n",
    "        temp_df['x'] = pola_list\n",
    "        \n",
    "        #initial data에 polarity score 추가\n",
    "        self.init_df[len(self.init_df.columns)+1] = temp_df['x']\n",
    "\n",
    "    # 30번 돌리는 것은 ngram feature의 polarity score, 평균내서 hawkish, dovish 구분\n",
    "    # feature의 Polarity Score > 1 이면, hawkish else dovish \n",
    "    # polarity score 계산 시 1.3 이하면 neutral word로 (hawkish, neutral, dovish))\n",
    "\n",
    "    # 최종 ngram 별 hawkish, dovish 사전 구축\n",
    "\n",
    "    # Tone 계산 함수\n",
    "\n",
    "    # for문 돌려서 feature 별 polarity score 계산\n",
    "    # polarity score = pol_score('up') / pol_score('down')\n",
    "\n",
    "    def pol_score(self, datas, target, s):\n",
    "        df = datas\n",
    "        k = self.k\n",
    "\n",
    "        totals = {}\n",
    "        for i in df:\n",
    "            totals[i] = df[i].sum()\n",
    "        \n",
    "        tokens = s.split()\n",
    "        total = np.asarray(list(totals.values())).sum()\n",
    "\n",
    "        logs = {}\n",
    "        for i in df:            \n",
    "            if total == 0:\n",
    "                return None\n",
    "#                 logs[i] = 0\n",
    "            else:\n",
    "                logs[i] = np.log(float(totals[i]) / float(total))\n",
    "        \n",
    "        for token in tokens:\n",
    "            for t in df:\n",
    "                try:\n",
    "                    logs[t] += np.log( (k + df[t][token]) / (2*k +totals[t]) )\n",
    "                except:\n",
    "                    logs[t] += np.log( (k) / (2*k +totals[t]) )\n",
    "\n",
    "        bunmo = 0\n",
    "        for log in logs:\n",
    "            bunmo += np.exp(logs[log])\n",
    "        bunja = np.exp(logs[target])\n",
    "        return bunja / bunmo\n",
    "\n",
    "    def fit_data(self):\n",
    "        datas = self.raw_data\n",
    "        for i in range(30):\n",
    "            train_X, test_X, train_y, test_y = train_test_split(datas['ngram'], datas['ud'], \n",
    "                                                                shuffle=True, test_size=0.1)\n",
    "            train_X = pd.DataFrame(train_X, columns = ['ngram'])\n",
    "            train_X['ud'] = train_y\n",
    "            self.polarity(train_X)\n",
    "        result = pd.DataFrame(self.init_df.index, columns = ['ngram'])\n",
    "        result['pol'] = self.init_df.mean(axis = 1)\n",
    "\n",
    "        return result\n",
    "\n",
    "\n",
    "    def predict(self, test_datas):\n",
    "\n",
    "        return"
   ]
  },
  {
   "cell_type": "code",
   "execution_count": 57,
   "metadata": {},
   "outputs": [],
   "source": [
    "ngram_df = pd.read_json('final_ngram_comma.json')\n",
    "ngram_df['date'] = list(map(lambda i : i.date(), ngram_df['date']))\n",
    "ngram_df.set_index('date', inplace=True)"
   ]
  },
  {
   "cell_type": "code",
   "execution_count": 58,
   "metadata": {},
   "outputs": [],
   "source": [
    "cd_df = pd.read_json('labeled_cd_rate.json')\n",
    "cd_df['date'] = list(map(lambda i : i.date(), cd_df['date']))\n",
    "cd_df.set_index('date', inplace=True)"
   ]
  },
  {
   "cell_type": "code",
   "execution_count": 59,
   "metadata": {},
   "outputs": [],
   "source": [
    "ngram_df['ud'] = cd_df['ud']"
   ]
  },
  {
   "cell_type": "code",
   "execution_count": 92,
   "metadata": {},
   "outputs": [],
   "source": [
    "import pandas as pd\n",
    "import numpy as np\n",
    "import itertools\n",
    "import nltk\n",
    "from sklearn.model_selection import train_test_split\n",
    "from sklearn.naive_bayes import MultinomialNB\n",
    "\n",
    "class BOK():\n",
    "    def __init__(self, k = 0.5):\n",
    "        self.k = k\n",
    "    \n",
    "    def make_matrix(self, datas):\n",
    "        ngrams = list(map(lambda i : i.split(','), datas['ngram']))\n",
    "        total_ngram = list(itertools.chain(*ngrams))\n",
    "        unique_ngram = list(set(total_ngram))\n",
    "        result_df = pd.DataFrame(unique_ngram, columns = ['ngram']).set_index('ngram')\n",
    "\n",
    "        for sample in ngrams:\n",
    "            df = pd.DataFrame(sample, columns = ['ngram'])\n",
    "            df['temp'] = 1\n",
    "            df.set_index('ngram',inplace=True)\n",
    "            try:\n",
    "                result_df['count'] += df['temp']\n",
    "            except:\n",
    "                result_df['count'] = df['temp']\n",
    "        return result_df\n"
   ]
  },
  {
   "cell_type": "code",
   "execution_count": 20,
   "metadata": {},
   "outputs": [],
   "source": [
    "import pandas as pd\n",
    "ngram_df = pd.read_json('final_ngram_comma.json')\n",
    "ngram_df['date'] = list(map(lambda i : i.date(), ngram_df['date']))\n",
    "ngram_df.set_index('date', inplace=True)\n",
    "\n",
    "cd_df = pd.read_json('labeled_cd_rate.json')\n",
    "cd_df['date'] = list(map(lambda i : i.date(), cd_df['date']))\n",
    "cd_df.set_index('date', inplace=True)\n",
    "\n",
    "ngram_df['ud'] = cd_df['ud']\n",
    "\n",
    "import datetime\n",
    "train_data = ngram_df.iloc[(ngram_df.index >= datetime.date(2005,5,1)) & (ngram_df.index <= datetime.date(2017,12,31))]\n",
    "\n",
    "train_data = train_data[train_data['ud']!=0]"
   ]
  },
  {
   "cell_type": "code",
   "execution_count": 94,
   "metadata": {},
   "outputs": [],
   "source": [
    "train_data['ngram'] = list(map(lambda i : ' '.join(i.split(',')), train_data['ngram']))"
   ]
  },
  {
   "cell_type": "code",
   "execution_count": 44,
   "metadata": {},
   "outputs": [
    {
     "output_type": "execute_result",
     "data": {
      "text/plain": "58747"
     },
     "metadata": {},
     "execution_count": 44
    }
   ],
   "source": [
    "import itertools\n",
    "len(set(itertools.chain(*train_data['ngram'])))"
   ]
  },
  {
   "cell_type": "code",
   "execution_count": 83,
   "metadata": {},
   "outputs": [],
   "source": [
    "from sklearn.pipeline import Pipeline\n",
    "from sklearn.feature_extraction.text import CountVectorizer\n",
    "from sklearn.feature_extraction.text import TfidfTransformer\n",
    "from sklearn.naive_bayes import MultinomialNB\n",
    "\n",
    "text_clf = Pipeline([('vect', CountVectorizer(ngram_range=(1,1), token_pattern=' ')),\n",
    "                      ('clf', MultinomialNB()), \n",
    "                      ])\n",
    "\n",
    "text_clf = text_clf.fit(train_data.ngram, train_data.ud)"
   ]
  },
  {
   "cell_type": "code",
   "execution_count": 84,
   "metadata": {},
   "outputs": [
    {
     "output_type": "execute_result",
     "data": {
      "text/plain": "[' ']"
     },
     "metadata": {},
     "execution_count": 84
    }
   ],
   "source": [
    "text_clf['vect'].get_feature_names()"
   ]
  },
  {
   "cell_type": "code",
   "execution_count": 82,
   "metadata": {},
   "outputs": [
    {
     "output_type": "execute_result",
     "data": {
      "text/plain": "CountVectorizer(analyzer='word', binary=False, decode_error='strict',\n                dtype=<class 'numpy.int64'>, encoding='utf-8', input='content',\n                lowercase=True, max_df=1.0, max_features=None, min_df=1,\n                ngram_range=(1, 1), preprocessor=None, stop_words=None,\n                strip_accents=None, token_pattern='(?u)\\\\b\\\\w\\\\w+\\\\b',\n                tokenizer=None, vocabulary=None)"
     },
     "metadata": {},
     "execution_count": 82
    }
   ],
   "source": [
    "text_clf['vect']"
   ]
  },
  {
   "cell_type": "code",
   "execution_count": 70,
   "metadata": {},
   "outputs": [
    {
     "output_type": "error",
     "ename": "AttributeError",
     "evalue": "'MultinomialNB' object has no attribute 'count'",
     "traceback": [
      "\u001b[1;31m---------------------------------------------------------------------------\u001b[0m",
      "\u001b[1;31mAttributeError\u001b[0m                            Traceback (most recent call last)",
      "\u001b[1;32m<ipython-input-70-5aefad548f6c>\u001b[0m in \u001b[0;36m<module>\u001b[1;34m\u001b[0m\n\u001b[1;32m----> 1\u001b[1;33m \u001b[0mtext_clf\u001b[0m\u001b[1;33m[\u001b[0m\u001b[1;34m'clf'\u001b[0m\u001b[1;33m]\u001b[0m\u001b[1;33m.\u001b[0m\u001b[0mcount\u001b[0m\u001b[1;33m\u001b[0m\u001b[1;33m\u001b[0m\u001b[0m\n\u001b[0m",
      "\u001b[1;31mAttributeError\u001b[0m: 'MultinomialNB' object has no attribute 'count'"
     ]
    }
   ],
   "source": [
    "text_clf['clf'].count"
   ]
  },
  {
   "cell_type": "code",
   "execution_count": null,
   "metadata": {},
   "outputs": [],
   "source": []
  },
  {
   "cell_type": "code",
   "execution_count": 96,
   "metadata": {},
   "outputs": [],
   "source": [
    "bok = BOK()"
   ]
  },
  {
   "cell_type": "code",
   "execution_count": 97,
   "metadata": {},
   "outputs": [],
   "source": [
    "result = bok.make_matrix(train_data)"
   ]
  },
  {
   "cell_type": "code",
   "execution_count": 37,
   "metadata": {},
   "outputs": [],
   "source": [
    "result.drop(58748, axis=1, inplace=True)"
   ]
  },
  {
   "cell_type": "code",
   "execution_count": 40,
   "metadata": {},
   "outputs": [],
   "source": [
    "result[len(result.columns)+1] = df['temp']"
   ]
  },
  {
   "cell_type": "code",
   "execution_count": 42,
   "metadata": {},
   "outputs": [
    {
     "output_type": "execute_result",
     "data": {
      "text/plain": "1    58547\ndtype: int64"
     },
     "metadata": {},
     "execution_count": 42
    }
   ],
   "source": [
    "\n",
    "result.isnull().sum()"
   ]
  },
  {
   "cell_type": "code",
   "execution_count": 43,
   "metadata": {},
   "outputs": [
    {
     "output_type": "execute_result",
     "data": {
      "text/plain": "58747"
     },
     "metadata": {},
     "execution_count": 43
    }
   ],
   "source": [
    "\n",
    "len(result)"
   ]
  },
  {
   "cell_type": "code",
   "execution_count": 32,
   "metadata": {},
   "outputs": [],
   "source": [
    "result[len(result)+1] = df['temp']"
   ]
  },
  {
   "cell_type": "code",
   "execution_count": 34,
   "metadata": {},
   "outputs": [
    {
     "output_type": "execute_result",
     "data": {
      "text/plain": "58748    58747\ndtype: int64"
     },
     "metadata": {},
     "execution_count": 34
    }
   ],
   "source": [
    "result.isnull().sum()"
   ]
  },
  {
   "cell_type": "code",
   "execution_count": 10,
   "metadata": {},
   "outputs": [],
   "source": [
    "# result[0]"
   ]
  },
  {
   "cell_type": "code",
   "execution_count": 14,
   "metadata": {},
   "outputs": [],
   "source": [
    "df = pd.DataFrame(result[0], columns = ['ngram'])"
   ]
  },
  {
   "cell_type": "code",
   "execution_count": 17,
   "metadata": {},
   "outputs": [],
   "source": [
    "df['temp'] = 1"
   ]
  },
  {
   "cell_type": "code",
   "execution_count": 35,
   "metadata": {},
   "outputs": [],
   "source": [
    "df.set_index('ngram',inplace=True)"
   ]
  },
  {
   "cell_type": "code",
   "execution_count": 39,
   "metadata": {},
   "outputs": [
    {
     "output_type": "execute_result",
     "data": {
      "text/plain": "                                    temp\nngram                                   \n경상/NNG;수지/NNG;적자/NNG;재정/NNG;적자/NNG     1\n국제/NNG;금융시장/NNG;안전자산/NNG;선호/NNG        1\n중소기업/NNG;대출/NNG;연체율/NNG;상승/NNG         1\n소비자/NNG;물가/NNG;상승률/NNG;안정/NNG          1\n소비자/NNG;물가/NNG;상승률/NNG;둔화/NNG          1\n...                                  ...\n차단/NNG                                 1\n억제/NNG                                 1\n내림/NNG                                 1\n하회/NNG                                 1\n종료/NNG                                 1\n\n[200 rows x 1 columns]",
      "text/html": "<div>\n<style scoped>\n    .dataframe tbody tr th:only-of-type {\n        vertical-align: middle;\n    }\n\n    .dataframe tbody tr th {\n        vertical-align: top;\n    }\n\n    .dataframe thead th {\n        text-align: right;\n    }\n</style>\n<table border=\"1\" class=\"dataframe\">\n  <thead>\n    <tr style=\"text-align: right;\">\n      <th></th>\n      <th>temp</th>\n    </tr>\n    <tr>\n      <th>ngram</th>\n      <th></th>\n    </tr>\n  </thead>\n  <tbody>\n    <tr>\n      <th>경상/NNG;수지/NNG;적자/NNG;재정/NNG;적자/NNG</th>\n      <td>1</td>\n    </tr>\n    <tr>\n      <th>국제/NNG;금융시장/NNG;안전자산/NNG;선호/NNG</th>\n      <td>1</td>\n    </tr>\n    <tr>\n      <th>중소기업/NNG;대출/NNG;연체율/NNG;상승/NNG</th>\n      <td>1</td>\n    </tr>\n    <tr>\n      <th>소비자/NNG;물가/NNG;상승률/NNG;안정/NNG</th>\n      <td>1</td>\n    </tr>\n    <tr>\n      <th>소비자/NNG;물가/NNG;상승률/NNG;둔화/NNG</th>\n      <td>1</td>\n    </tr>\n    <tr>\n      <th>...</th>\n      <td>...</td>\n    </tr>\n    <tr>\n      <th>차단/NNG</th>\n      <td>1</td>\n    </tr>\n    <tr>\n      <th>억제/NNG</th>\n      <td>1</td>\n    </tr>\n    <tr>\n      <th>내림/NNG</th>\n      <td>1</td>\n    </tr>\n    <tr>\n      <th>하회/NNG</th>\n      <td>1</td>\n    </tr>\n    <tr>\n      <th>종료/NNG</th>\n      <td>1</td>\n    </tr>\n  </tbody>\n</table>\n<p>200 rows × 1 columns</p>\n</div>"
     },
     "metadata": {},
     "execution_count": 39
    }
   ],
   "source": [
    "df"
   ]
  },
  {
   "cell_type": "code",
   "execution_count": 19,
   "metadata": {},
   "outputs": [
    {
     "output_type": "error",
     "ename": "NameError",
     "evalue": "name 'train_df' is not defined",
     "traceback": [
      "\u001b[1;31m---------------------------------------------------------------------------\u001b[0m",
      "\u001b[1;31mNameError\u001b[0m                                 Traceback (most recent call last)",
      "\u001b[1;32m<ipython-input-19-ef797c2b3b5b>\u001b[0m in \u001b[0;36m<module>\u001b[1;34m\u001b[0m\n\u001b[1;32m----> 1\u001b[1;33m \u001b[0mtrain_df\u001b[0m\u001b[1;33m\u001b[0m\u001b[1;33m\u001b[0m\u001b[0m\n\u001b[0m",
      "\u001b[1;31mNameError\u001b[0m: name 'train_df' is not defined"
     ]
    }
   ],
   "source": [
    "train_df"
   ]
  },
  {
   "cell_type": "code",
   "execution_count": null,
   "metadata": {},
   "outputs": [],
   "source": []
  }
 ],
 "metadata": {
  "kernelspec": {
   "display_name": "Python 3",
   "language": "python",
   "name": "python3"
  },
  "language_info": {
   "codemirror_mode": {
    "name": "ipython",
    "version": 3
   },
   "file_extension": ".py",
   "mimetype": "text/x-python",
   "name": "python",
   "nbconvert_exporter": "python",
   "pygments_lexer": "ipython3",
   "version": "3.7.6"
  }
 },
 "nbformat": 4,
 "nbformat_minor": 2
}