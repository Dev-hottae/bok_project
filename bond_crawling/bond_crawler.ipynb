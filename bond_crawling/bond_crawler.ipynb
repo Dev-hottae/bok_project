{
 "cells": [
  {
   "cell_type": "code",
   "execution_count": 15,
   "metadata": {
    "scrolled": true
   },
   "outputs": [
    {
     "name": "stdout",
     "output_type": "stream",
     "text": [
      "데이터 크롤링 완료 ! bond_datas.csv에서 확인 가능\n"
     ]
    }
   ],
   "source": [
    "# 채권 분석자료 Crawling\n",
    "\n",
    "import requests\n",
    "from bs4 import BeautifulSoup\n",
    "from tika import parser\n",
    "import pandas as pd\n",
    "from IPython.display import clear_output\n",
    "    \n",
    "start_page = 1\n",
    "current_page = start_page\n",
    "end_page = 126\n",
    "\n",
    "result_df = pd.DataFrame(columns=['date', 'text'])\n",
    "\n",
    "while True:\n",
    "    URL = 'https://finance.naver.com/research/debenture_list.nhn?&page={}'.format(current_page)\n",
    "    r = requests.get(URL)\n",
    "    sp = BeautifulSoup(r.text, 'html.parser')\n",
    "    results = sp.select('table.type_1 td.file')\n",
    "\n",
    "    for i, result in enumerate(results):\n",
    "        pdf_date = sp.select('table.type_1 td.date')[i*2].text\n",
    "        pdf_temp = requests.get(result.select_one('a').attrs['href'])\n",
    "\n",
    "        with open('bond.pdf', 'wb') as f:\n",
    "            f.write(pdf_temp.content)\n",
    "        \n",
    "        parsed = parser.from_file('bond.pdf')\n",
    "        temp_text = str(parsed['content']).strip()\n",
    "        temp_df = pd.DataFrame([{'date':pdf_date, 'text':temp_text}])\n",
    "        result_df = pd.concat([result_df, temp_df]) \n",
    "        \n",
    "    clear_output(wait=True)\n",
    "    print('크롤링 {}% 진행 중...'.format(int((current_page/end_page)*100)))\n",
    "        \n",
    "    if current_page == end_page:\n",
    "        clear_output(wait=True)\n",
    "        print('데이터 크롤링 완료 ! bond_datas.csv에서 확인 가능')\n",
    "        result_df.to_csv('bond_datas.csv')\n",
    "        break\n",
    "    current_page += 1"
   ]
  },
  {
   "cell_type": "code",
   "execution_count": 19,
   "metadata": {
    "scrolled": true
   },
   "outputs": [],
   "source": [
    "# result_df['text'][0]"
   ]
  },
  {
   "cell_type": "code",
   "execution_count": 2,
   "metadata": {},
   "outputs": [],
   "source": [
    "bond_df = pd.read_csv('bond_datas.csv')"
   ]
  }
 ],
 "metadata": {
  "kernelspec": {
   "display_name": "Python 3",
   "language": "python",
   "name": "python3"
  },
  "language_info": {
   "codemirror_mode": {
    "name": "ipython",
    "version": 3
   },
   "file_extension": ".py",
   "mimetype": "text/x-python",
   "name": "python",
   "nbconvert_exporter": "python",
   "pygments_lexer": "ipython3",
   "version": "3.7.6"
  }
 },
 "nbformat": 4,
 "nbformat_minor": 4
}
