{
 "cells": [
  {
   "cell_type": "markdown",
   "metadata": {},
   "source": [
    "# 채권 분석 보고서 크롤링"
   ]
  },
  {
   "cell_type": "code",
   "execution_count": null,
   "metadata": {
    "scrolled": true
   },
   "outputs": [],
   "source": [
    "# 채권 분석자료 Crawling\n",
    "\n",
    "import requests\n",
    "from bs4 import BeautifulSoup\n",
    "from tika import parser\n",
    "import pandas as pd\n",
    "from IPython.display import clear_output\n",
    "    \n",
    "start_page = 1\n",
    "current_page = start_page\n",
    "end_page = 126\n",
    "\n",
    "result_df = pd.DataFrame(columns=['date', 'text'])\n",
    "\n",
    "while True:\n",
    "    URL = 'https://finance.naver.com/research/debenture_list.nhn?&page={}'.format(current_page)\n",
    "    r = requests.get(URL)\n",
    "    sp = BeautifulSoup(r.text, 'html.parser')\n",
    "    results = sp.select('table.type_1 td.file')\n",
    "\n",
    "    for i, result in enumerate(results):\n",
    "        pdf_date = sp.select('table.type_1 td.date')[i*2].text\n",
    "        pdf_temp = requests.get(result.select_one('a').attrs['href'])\n",
    "\n",
    "        with open('bond.pdf', 'wb') as f:\n",
    "            f.write(pdf_temp.content)\n",
    "        \n",
    "        parsed = parser.from_file('bond.pdf')\n",
    "        temp_text = str(parsed['content']).strip()\n",
    "        temp_df = pd.DataFrame([{'date':pdf_date, 'text':temp_text}])\n",
    "        result_df = pd.concat([result_df, temp_df]) \n",
    "        \n",
    "    clear_output(wait=True)\n",
    "    print('크롤링 {}% 진행 중...'.format(int((current_page/end_page)*100)))\n",
    "        \n",
    "    if current_page == end_page:\n",
    "        clear_output(wait=True)\n",
    "        print('데이터 크롤링 완료 ! bond_datas.csv에서 확인 가능')\n",
    "        result_df.to_csv('bond_datas.csv')\n",
    "        break\n",
    "    current_page += 1"
   ]
  },
  {
   "cell_type": "code",
   "execution_count": null,
   "metadata": {
    "scrolled": true
   },
   "outputs": [],
   "source": [
    "# result_df['text'][0]"
   ]
  },
  {
   "cell_type": "markdown",
   "metadata": {},
   "source": [
    "# 데이터 불러오기 (&전처리)"
   ]
  },
  {
   "cell_type": "code",
   "execution_count": 20,
   "metadata": {},
   "outputs": [],
   "source": [
    "import pandas as pd\n",
    "bond_df = pd.read_csv('bond_datas.csv')\n",
    "bond_df = bond_df[['date', 'text']]"
   ]
  },
  {
   "cell_type": "markdown",
   "metadata": {},
   "source": [
    "# 전처리한 것\n",
    "------------------------\n",
    "시작 Microsoft\n",
    "Microsoft[^\\\\]*\n",
    "\n",
    "\n",
    "Compliance Notice\n",
    "(당사는)? ?(동|본) ?(조사|자료).*(없습니다|않습니다|됩니다)\\.\n",
    "\n",
    "마지막 '주: 발표.*'  \n",
    "\n",
    "그림, 표\n",
    "\\<[^\\<\\>]*\\>\n",
    "\n",
    "그림 [0-9]{1,2}\\.\n",
    "표 [0-9]{1,2}\\.\n",
    "\n",
    "------------------------\n",
    "Header .*키움증권 리서치센터 투자전략팀\n",
    ".*팀\n",
    "\n",
    "ㅎㅎㅎ으로 시작\n",
    "\n",
    "\n",
    ".*월간채권투자  [0-9]{1,2}월 - 페이지 나누는 기준\n",
    "Footer 본사·서울시.*\n",
    "\n",
    "Footer\n",
    "성명 직급.*\n",
    "(담당업종 전화 이메일)\n",
    "\n",
    "필요없는 문장 (자료출처)\n",
    "자료: [가-힣a-zA-Z, ]* \n",
    "\n",
    "\n",
    "이메일\n",
    "[a-z0-9A-Z]*\\@[a-z0-9A-Z]*\\.[a-zA-Z]{2,3}\\.?[a-zA-Z]{0,2}\n",
    "\n",
    "---------------------\n",
    "확인 필요\n",
    "[가-힣 ]{3,10}[^가-힣]*[0-9]{3,4}\\-[0-9]{3,4} [a-zA-Z]\n",
    "\n",
    ".*Comment"
   ]
  },
  {
   "cell_type": "code",
   "execution_count": null,
   "metadata": {
    "scrolled": true
   },
   "outputs": [],
   "source": [
    "bond_df.iloc[4].text\n",
    "\n",
    "시작 Microsoft [0-9 \\-\\_ \\\\a-zA-Z\\.]*\n",
    "마지막 'Compliance Notice .*'\n",
    "마지막 주: 발표.*"
   ]
  },
  {
   "cell_type": "code",
   "execution_count": null,
   "metadata": {
    "scrolled": false
   },
   "outputs": [],
   "source": [
    "bond_df.iloc[7].text\n",
    "\n",
    "Header .*키움증권 리서치센터 투자전략팀\n"
   ]
  },
  {
   "cell_type": "code",
   "execution_count": null,
   "metadata": {
    "scrolled": true
   },
   "outputs": [],
   "source": [
    "bond_df.iloc[6].text"
   ]
  },
  {
   "cell_type": "code",
   "execution_count": null,
   "metadata": {},
   "outputs": [],
   "source": [
    "bond_df.iloc[3745].text"
   ]
  },
  {
   "cell_type": "code",
   "execution_count": null,
   "metadata": {},
   "outputs": [],
   "source": [
    "bond_df.iloc[3751].text\n",
    "ㅎㅎㅎ으로 시작\n",
    "\n",
    ".*월간채권투자  [0-9]{1,2}월 - 페이지 나누는 기준\n",
    "# Footer 본사·서울시.*"
   ]
  },
  {
   "cell_type": "code",
   "execution_count": 21,
   "metadata": {},
   "outputs": [
    {
     "output_type": "execute_result",
     "data": {
      "text/plain": "          date                                               text\n0     20.07.15  Microsoft Word - 2020071416393691.docx\\n\\n\\n \\...\n1     20.07.15  2013년 0월 0일\\n\\n\\n \\n\\n \\n\\n \\n\\n \\n\\n \\n\\n \\n\\...\n2     20.07.14  (Microsoft Word - 20200714_Market Inside_\\277\\...\n3     20.07.13  Compliance Notice \\n\\n \\n\\n \\n\\n당사는 동 자료를 기관투...\n4     20.07.10  Microsoft Word - 2020070919412559.docx\\n\\n\\n \\...\n...        ...                                                ...\n3747  08.04.21  Microsoft Word - 920_0421_Fixed Income Weekly....\n3748  08.04.14  Microsoft Word - Fixedincome0414.doc\\n\\n\\n \\n\\...\n3749  08.04.07  Microsoft Word - 0407.doc\\n\\n\\nFixed Income We...\n3750  08.04.07  Microsoft Word - 0407.doc\\n\\n\\nFixed Income We...\n3751  08.04.01  ㅎㅎㅎ\\n\\n\\n2008_04  \\n\\n월간채권투자\\n\\n채 권 시 장 전 망\\n\\...\n\n[3752 rows x 2 columns]",
      "text/html": "<div>\n<style scoped>\n    .dataframe tbody tr th:only-of-type {\n        vertical-align: middle;\n    }\n\n    .dataframe tbody tr th {\n        vertical-align: top;\n    }\n\n    .dataframe thead th {\n        text-align: right;\n    }\n</style>\n<table border=\"1\" class=\"dataframe\">\n  <thead>\n    <tr style=\"text-align: right;\">\n      <th></th>\n      <th>date</th>\n      <th>text</th>\n    </tr>\n  </thead>\n  <tbody>\n    <tr>\n      <th>0</th>\n      <td>20.07.15</td>\n      <td>Microsoft Word - 2020071416393691.docx\\n\\n\\n \\...</td>\n    </tr>\n    <tr>\n      <th>1</th>\n      <td>20.07.15</td>\n      <td>2013년 0월 0일\\n\\n\\n \\n\\n \\n\\n \\n\\n \\n\\n \\n\\n \\n\\...</td>\n    </tr>\n    <tr>\n      <th>2</th>\n      <td>20.07.14</td>\n      <td>(Microsoft Word - 20200714_Market Inside_\\277\\...</td>\n    </tr>\n    <tr>\n      <th>3</th>\n      <td>20.07.13</td>\n      <td>Compliance Notice \\n\\n \\n\\n \\n\\n당사는 동 자료를 기관투...</td>\n    </tr>\n    <tr>\n      <th>4</th>\n      <td>20.07.10</td>\n      <td>Microsoft Word - 2020070919412559.docx\\n\\n\\n \\...</td>\n    </tr>\n    <tr>\n      <th>...</th>\n      <td>...</td>\n      <td>...</td>\n    </tr>\n    <tr>\n      <th>3747</th>\n      <td>08.04.21</td>\n      <td>Microsoft Word - 920_0421_Fixed Income Weekly....</td>\n    </tr>\n    <tr>\n      <th>3748</th>\n      <td>08.04.14</td>\n      <td>Microsoft Word - Fixedincome0414.doc\\n\\n\\n \\n\\...</td>\n    </tr>\n    <tr>\n      <th>3749</th>\n      <td>08.04.07</td>\n      <td>Microsoft Word - 0407.doc\\n\\n\\nFixed Income We...</td>\n    </tr>\n    <tr>\n      <th>3750</th>\n      <td>08.04.07</td>\n      <td>Microsoft Word - 0407.doc\\n\\n\\nFixed Income We...</td>\n    </tr>\n    <tr>\n      <th>3751</th>\n      <td>08.04.01</td>\n      <td>ㅎㅎㅎ\\n\\n\\n2008_04  \\n\\n월간채권투자\\n\\n채 권 시 장 전 망\\n\\...</td>\n    </tr>\n  </tbody>\n</table>\n<p>3752 rows × 2 columns</p>\n</div>"
     },
     "metadata": {},
     "execution_count": 21
    }
   ],
   "source": [
    "bond_df"
   ]
  },
  {
   "cell_type": "code",
   "execution_count": 22,
   "metadata": {},
   "outputs": [
    {
     "output_type": "execute_result",
     "data": {
      "text/plain": "            date                                               text\n0     2020-07-15  Microsoft Word - 2020071416393691.docx\\n\\n\\n \\...\n1     2020-07-15  2013년 0월 0일\\n\\n\\n \\n\\n \\n\\n \\n\\n \\n\\n \\n\\n \\n\\...\n2     2020-07-14  (Microsoft Word - 20200714_Market Inside_\\277\\...\n3     2020-07-13  Compliance Notice \\n\\n \\n\\n \\n\\n당사는 동 자료를 기관투...\n4     2020-07-10  Microsoft Word - 2020070919412559.docx\\n\\n\\n \\...\n...          ...                                                ...\n3747  2008-04-21  Microsoft Word - 920_0421_Fixed Income Weekly....\n3748  2008-04-14  Microsoft Word - Fixedincome0414.doc\\n\\n\\n \\n\\...\n3749  2008-04-07  Microsoft Word - 0407.doc\\n\\n\\nFixed Income We...\n3750  2008-04-07  Microsoft Word - 0407.doc\\n\\n\\nFixed Income We...\n3751  2008-04-01  ㅎㅎㅎ\\n\\n\\n2008_04  \\n\\n월간채권투자\\n\\n채 권 시 장 전 망\\n\\...\n\n[3752 rows x 2 columns]",
      "text/html": "<div>\n<style scoped>\n    .dataframe tbody tr th:only-of-type {\n        vertical-align: middle;\n    }\n\n    .dataframe tbody tr th {\n        vertical-align: top;\n    }\n\n    .dataframe thead th {\n        text-align: right;\n    }\n</style>\n<table border=\"1\" class=\"dataframe\">\n  <thead>\n    <tr style=\"text-align: right;\">\n      <th></th>\n      <th>date</th>\n      <th>text</th>\n    </tr>\n  </thead>\n  <tbody>\n    <tr>\n      <th>0</th>\n      <td>2020-07-15</td>\n      <td>Microsoft Word - 2020071416393691.docx\\n\\n\\n \\...</td>\n    </tr>\n    <tr>\n      <th>1</th>\n      <td>2020-07-15</td>\n      <td>2013년 0월 0일\\n\\n\\n \\n\\n \\n\\n \\n\\n \\n\\n \\n\\n \\n\\...</td>\n    </tr>\n    <tr>\n      <th>2</th>\n      <td>2020-07-14</td>\n      <td>(Microsoft Word - 20200714_Market Inside_\\277\\...</td>\n    </tr>\n    <tr>\n      <th>3</th>\n      <td>2020-07-13</td>\n      <td>Compliance Notice \\n\\n \\n\\n \\n\\n당사는 동 자료를 기관투...</td>\n    </tr>\n    <tr>\n      <th>4</th>\n      <td>2020-07-10</td>\n      <td>Microsoft Word - 2020070919412559.docx\\n\\n\\n \\...</td>\n    </tr>\n    <tr>\n      <th>...</th>\n      <td>...</td>\n      <td>...</td>\n    </tr>\n    <tr>\n      <th>3747</th>\n      <td>2008-04-21</td>\n      <td>Microsoft Word - 920_0421_Fixed Income Weekly....</td>\n    </tr>\n    <tr>\n      <th>3748</th>\n      <td>2008-04-14</td>\n      <td>Microsoft Word - Fixedincome0414.doc\\n\\n\\n \\n\\...</td>\n    </tr>\n    <tr>\n      <th>3749</th>\n      <td>2008-04-07</td>\n      <td>Microsoft Word - 0407.doc\\n\\n\\nFixed Income We...</td>\n    </tr>\n    <tr>\n      <th>3750</th>\n      <td>2008-04-07</td>\n      <td>Microsoft Word - 0407.doc\\n\\n\\nFixed Income We...</td>\n    </tr>\n    <tr>\n      <th>3751</th>\n      <td>2008-04-01</td>\n      <td>ㅎㅎㅎ\\n\\n\\n2008_04  \\n\\n월간채권투자\\n\\n채 권 시 장 전 망\\n\\...</td>\n    </tr>\n  </tbody>\n</table>\n<p>3752 rows × 2 columns</p>\n</div>"
     },
     "metadata": {},
     "execution_count": 22
    }
   ],
   "source": [
    "from datetime import date\n",
    "import datetime\n",
    "bond_df['date'] = list(map(lambda i : datetime.datetime.strptime(i, \"%y.%m.%d\").date(), bond_df['date']))\n",
    "\n",
    "bond_df"
   ]
  },
  {
   "cell_type": "code",
   "execution_count": 24,
   "metadata": {},
   "outputs": [
    {
     "output_type": "error",
     "ename": "KeyboardInterrupt",
     "evalue": "",
     "traceback": [
      "\u001b[1;31m---------------------------------------------------------------------------\u001b[0m",
      "\u001b[1;31mKeyboardInterrupt\u001b[0m                         Traceback (most recent call last)",
      "\u001b[1;32m<ipython-input-24-779b0e31dd1c>\u001b[0m in \u001b[0;36m<module>\u001b[1;34m\u001b[0m\n\u001b[0;32m     18\u001b[0m     \u001b[1;32mreturn\u001b[0m \u001b[0mx\u001b[0m\u001b[1;33m\u001b[0m\u001b[1;33m\u001b[0m\u001b[0m\n\u001b[0;32m     19\u001b[0m \u001b[1;33m\u001b[0m\u001b[0m\n\u001b[1;32m---> 20\u001b[1;33m \u001b[0mbond_df\u001b[0m\u001b[1;33m[\u001b[0m\u001b[1;34m'doc'\u001b[0m\u001b[1;33m]\u001b[0m \u001b[1;33m=\u001b[0m \u001b[0mlist\u001b[0m\u001b[1;33m(\u001b[0m\u001b[0mmap\u001b[0m\u001b[1;33m(\u001b[0m\u001b[0mpp\u001b[0m\u001b[1;33m,\u001b[0m \u001b[0mbond_df\u001b[0m\u001b[1;33m[\u001b[0m\u001b[1;34m'text'\u001b[0m\u001b[1;33m]\u001b[0m\u001b[1;33m)\u001b[0m\u001b[1;33m)\u001b[0m\u001b[1;33m\u001b[0m\u001b[1;33m\u001b[0m\u001b[0m\n\u001b[0m",
      "\u001b[1;32m<ipython-input-24-779b0e31dd1c>\u001b[0m in \u001b[0;36mpp\u001b[1;34m(x)\u001b[0m\n\u001b[0;32m      4\u001b[0m     \u001b[0mx\u001b[0m \u001b[1;33m=\u001b[0m \u001b[0mx\u001b[0m\u001b[1;33m.\u001b[0m\u001b[0mreplace\u001b[0m\u001b[1;33m(\u001b[0m\u001b[1;34m'\\n'\u001b[0m\u001b[1;33m,\u001b[0m\u001b[1;34m'[!n]'\u001b[0m\u001b[1;33m)\u001b[0m\u001b[1;33m\u001b[0m\u001b[1;33m\u001b[0m\u001b[0m\n\u001b[0;32m      5\u001b[0m     \u001b[0mx\u001b[0m \u001b[1;33m=\u001b[0m \u001b[0mre\u001b[0m\u001b[1;33m.\u001b[0m\u001b[0msub\u001b[0m\u001b[1;33m(\u001b[0m\u001b[1;34m'Microsoft[^\\[\\!n\\]]*'\u001b[0m\u001b[1;33m,\u001b[0m \u001b[1;34m''\u001b[0m\u001b[1;33m,\u001b[0m \u001b[0mx\u001b[0m\u001b[1;33m)\u001b[0m \u001b[1;31m# Header 1\u001b[0m\u001b[1;33m\u001b[0m\u001b[1;33m\u001b[0m\u001b[0m\n\u001b[1;32m----> 6\u001b[1;33m     \u001b[0mx\u001b[0m \u001b[1;33m=\u001b[0m \u001b[0mre\u001b[0m\u001b[1;33m.\u001b[0m\u001b[0msub\u001b[0m\u001b[1;33m(\u001b[0m\u001b[1;34m'.*키움증권 리서치센터 투자전략팀'\u001b[0m\u001b[1;33m,\u001b[0m \u001b[1;34m''\u001b[0m\u001b[1;33m,\u001b[0m \u001b[0mx\u001b[0m\u001b[1;33m)\u001b[0m \u001b[1;31m# Header 2 (추가확인필요)\u001b[0m\u001b[1;33m\u001b[0m\u001b[1;33m\u001b[0m\u001b[0m\n\u001b[0m\u001b[0;32m      7\u001b[0m     \u001b[0mx\u001b[0m \u001b[1;33m=\u001b[0m \u001b[0mre\u001b[0m\u001b[1;33m.\u001b[0m\u001b[0msub\u001b[0m\u001b[1;33m(\u001b[0m\u001b[1;34m'본사·서울시.*'\u001b[0m\u001b[1;33m,\u001b[0m \u001b[1;34m''\u001b[0m\u001b[1;33m,\u001b[0m \u001b[0mx\u001b[0m\u001b[1;33m)\u001b[0m \u001b[1;31m# Footer 1\u001b[0m\u001b[1;33m\u001b[0m\u001b[1;33m\u001b[0m\u001b[0m\n\u001b[0;32m      8\u001b[0m     \u001b[0mx\u001b[0m \u001b[1;33m=\u001b[0m \u001b[0mre\u001b[0m\u001b[1;33m.\u001b[0m\u001b[0msub\u001b[0m\u001b[1;33m(\u001b[0m\u001b[1;34m'성명 직급.*'\u001b[0m\u001b[1;33m,\u001b[0m \u001b[1;34m''\u001b[0m\u001b[1;33m,\u001b[0m \u001b[0mx\u001b[0m\u001b[1;33m)\u001b[0m \u001b[1;31m# Footer 2\u001b[0m\u001b[1;33m\u001b[0m\u001b[1;33m\u001b[0m\u001b[0m\n",
      "\u001b[1;31mKeyboardInterrupt\u001b[0m: "
     ]
    }
   ],
   "source": [
    "import re\n",
    "\n",
    "def pp(x):\n",
    "    x = x.replace('\\n','[!n]')\n",
    "    x = re.sub('Microsoft[^\\[\\!n\\]]*', '', x) # Header 1\n",
    "    x = re.sub('.*키움증권 리서치센터 투자전략팀', '', x) # Header 2 (추가확인필요)\n",
    "    x = re.sub('본사·서울시.*', '', x) # Footer 1\n",
    "    x = re.sub('성명 직급.*', '', x) # Footer 2\n",
    "    x = re.sub('Compliance Notice', '', x) # Notice\n",
    "    x = re.sub('(당사는)? ?(동|본) ?(조사|자료).*(없습니다|않습니다|됩니다|바랍니다)\\.?', '', x) # Notice\n",
    "    x = re.sub('\\<[^\\<\\>]*\\>', '', x) # <>사이의 내용\n",
    "    x = re.sub('그림 [0-9]{1,2}\\.', '', x) # 그림\n",
    "    x = re.sub('표 [0-9]{1,2}\\.', '', x) # 표\n",
    "    x = re.sub('월간채권투자  [0-9]{1,2}월.', '', x) # page 나누는 기준\n",
    "    x = re.sub('자료: [가-힣a-zA-Z, ]* ?', '', x) # 자료 출처\n",
    "    x = re.sub('[a-zA-Z0-9\\.]*\\@[a-zA-Z0-9\\.]*', '', x) # 이메일\n",
    "    x = x.replace('[!n]', ' ')\n",
    "    return x\n",
    "\n",
    "bond_df['doc'] = list(map(pp, bond_df['text']))"
   ]
  },
  {
   "cell_type": "code",
   "execution_count": 16,
   "metadata": {},
   "outputs": [
    {
     "output_type": "error",
     "ename": "NameError",
     "evalue": "name 'datetime' is not defined",
     "traceback": [
      "\u001b[1;31m---------------------------------------------------------------------------\u001b[0m",
      "\u001b[1;31mNameError\u001b[0m                                 Traceback (most recent call last)",
      "\u001b[1;32m<ipython-input-16-d2b5ea1e3fc2>\u001b[0m in \u001b[0;36m<module>\u001b[1;34m\u001b[0m\n\u001b[1;32m----> 1\u001b[1;33m \u001b[0mbond_df\u001b[0m\u001b[1;33m[\u001b[0m\u001b[0mbond_df\u001b[0m\u001b[1;33m[\u001b[0m\u001b[1;34m'date'\u001b[0m\u001b[1;33m]\u001b[0m \u001b[1;33m<\u001b[0m \u001b[0mdatetime\u001b[0m\u001b[1;33m.\u001b[0m\u001b[0mdate\u001b[0m\u001b[1;33m(\u001b[0m\u001b[1;36m2018\u001b[0m\u001b[1;33m,\u001b[0m\u001b[1;36m1\u001b[0m\u001b[1;33m,\u001b[0m\u001b[1;36m1\u001b[0m\u001b[1;33m)\u001b[0m\u001b[1;33m]\u001b[0m\u001b[1;33m.\u001b[0m\u001b[0msort_values\u001b[0m\u001b[1;33m(\u001b[0m\u001b[0mby\u001b[0m\u001b[1;33m=\u001b[0m\u001b[1;34m'date'\u001b[0m\u001b[1;33m)\u001b[0m\u001b[1;33m.\u001b[0m\u001b[0mto_json\u001b[0m\u001b[1;33m(\u001b[0m\u001b[1;34m'bond_0517.json'\u001b[0m\u001b[1;33m)\u001b[0m\u001b[1;33m\u001b[0m\u001b[1;33m\u001b[0m\u001b[0m\n\u001b[0m\u001b[0;32m      2\u001b[0m \u001b[0mbond_df\u001b[0m\u001b[1;33m[\u001b[0m\u001b[0mbond_df\u001b[0m\u001b[1;33m[\u001b[0m\u001b[1;34m'date'\u001b[0m\u001b[1;33m]\u001b[0m \u001b[1;33m>\u001b[0m \u001b[0mdatetime\u001b[0m\u001b[1;33m.\u001b[0m\u001b[0mdate\u001b[0m\u001b[1;33m(\u001b[0m\u001b[1;36m2017\u001b[0m\u001b[1;33m,\u001b[0m\u001b[1;36m12\u001b[0m\u001b[1;33m,\u001b[0m\u001b[1;36m31\u001b[0m\u001b[1;33m)\u001b[0m\u001b[1;33m]\u001b[0m\u001b[1;33m.\u001b[0m\u001b[0msort_values\u001b[0m\u001b[1;33m(\u001b[0m\u001b[0mby\u001b[0m\u001b[1;33m=\u001b[0m\u001b[1;34m'date'\u001b[0m\u001b[1;33m)\u001b[0m\u001b[1;33m.\u001b[0m\u001b[0mto_json\u001b[0m\u001b[1;33m(\u001b[0m\u001b[1;34m'bond_1820.json'\u001b[0m\u001b[1;33m)\u001b[0m\u001b[1;33m\u001b[0m\u001b[1;33m\u001b[0m\u001b[0m\n",
      "\u001b[1;31mNameError\u001b[0m: name 'datetime' is not defined"
     ]
    }
   ],
   "source": [
    "bond_df[bond_df['date'] < datetime.date(2018,1,1)].sort_values(by='date').to_json('bond_0517.json')\n",
    "bond_df[bond_df['date'] > datetime.date(2017,12,31)].sort_values(by='date').to_json('bond_1820.json')"
   ]
  },
  {
   "cell_type": "code",
   "execution_count": 30,
   "metadata": {},
   "outputs": [],
   "source": [
    "import pandas as pd\n",
    "bond_df = pd.read_csv('bond_0517dirty.csv')[['date','doc']]"
   ]
  },
  {
   "cell_type": "code",
   "execution_count": 31,
   "metadata": {},
   "outputs": [],
   "source": [
    "bond_df.to_json('bond_0517dirty.json')"
   ]
  },
  {
   "cell_type": "code",
   "execution_count": 25,
   "metadata": {},
   "outputs": [],
   "source": [
    "import re\n",
    "\n",
    "def comma(x):\n",
    "    x = re.sub('([0-9a-zA-Z]{1,100}\\.[0-9a-zA-Z]{0,100}%?)', '', x)\n",
    "    x = re.sub(' [가-힣]{1}\\.', '', x)\n",
    "    return x\n",
    "    \n",
    "bond_df['doc'] = list(map(comma, bond_df['doc']))"
   ]
  },
  {
   "cell_type": "code",
   "execution_count": 26,
   "metadata": {},
   "outputs": [
    {
     "output_type": "execute_result",
     "data": {
      "text/plain": "            date                                                doc\n0     2008-04-01  ㅎㅎㅎ   2008_04    월간채권투자  채 권 시 장 전 망  금 융 시 장 ...\n1     2008-04-07     Fixed Income Weekly       #918   Fixed Inco...\n2     2008-04-07     Fixed Income Weekly       #918   Fixed Inco...\n3     2008-04-14                 4월 금통위는 정부-한은간 policy mix 합의의 반...\n4     2008-04-21  ncome                경기 전망은 비교적 분명… 인플레 명분이 시점...\n...          ...                                                ...\n3092  2017-12-18  (             Credit Report        18         ...\n3093  2017-12-20  Fixed Income        20            11월 금통위 의사록 ...\n3094  2017-12-20  2013년 0월 0일                                 2금...\n3095  2017-12-26  PowerPoint 프레젠테이션   Fixed Income Analyst 김지만  ...\n3096  2017-12-27                                   트럼프노믹스를 극복한 2...\n\n[3097 rows x 2 columns]",
      "text/html": "<div>\n<style scoped>\n    .dataframe tbody tr th:only-of-type {\n        vertical-align: middle;\n    }\n\n    .dataframe tbody tr th {\n        vertical-align: top;\n    }\n\n    .dataframe thead th {\n        text-align: right;\n    }\n</style>\n<table border=\"1\" class=\"dataframe\">\n  <thead>\n    <tr style=\"text-align: right;\">\n      <th></th>\n      <th>date</th>\n      <th>doc</th>\n    </tr>\n  </thead>\n  <tbody>\n    <tr>\n      <th>0</th>\n      <td>2008-04-01</td>\n      <td>ㅎㅎㅎ   2008_04    월간채권투자  채 권 시 장 전 망  금 융 시 장 ...</td>\n    </tr>\n    <tr>\n      <th>1</th>\n      <td>2008-04-07</td>\n      <td>Fixed Income Weekly       #918   Fixed Inco...</td>\n    </tr>\n    <tr>\n      <th>2</th>\n      <td>2008-04-07</td>\n      <td>Fixed Income Weekly       #918   Fixed Inco...</td>\n    </tr>\n    <tr>\n      <th>3</th>\n      <td>2008-04-14</td>\n      <td>4월 금통위는 정부-한은간 policy mix 합의의 반...</td>\n    </tr>\n    <tr>\n      <th>4</th>\n      <td>2008-04-21</td>\n      <td>ncome                경기 전망은 비교적 분명… 인플레 명분이 시점...</td>\n    </tr>\n    <tr>\n      <th>...</th>\n      <td>...</td>\n      <td>...</td>\n    </tr>\n    <tr>\n      <th>3092</th>\n      <td>2017-12-18</td>\n      <td>(             Credit Report        18         ...</td>\n    </tr>\n    <tr>\n      <th>3093</th>\n      <td>2017-12-20</td>\n      <td>Fixed Income        20            11월 금통위 의사록 ...</td>\n    </tr>\n    <tr>\n      <th>3094</th>\n      <td>2017-12-20</td>\n      <td>2013년 0월 0일                                 2금...</td>\n    </tr>\n    <tr>\n      <th>3095</th>\n      <td>2017-12-26</td>\n      <td>PowerPoint 프레젠테이션   Fixed Income Analyst 김지만  ...</td>\n    </tr>\n    <tr>\n      <th>3096</th>\n      <td>2017-12-27</td>\n      <td>트럼프노믹스를 극복한 2...</td>\n    </tr>\n  </tbody>\n</table>\n<p>3097 rows × 2 columns</p>\n</div>"
     },
     "metadata": {},
     "execution_count": 26
    }
   ],
   "source": [
    "bond_df"
   ]
  },
  {
   "cell_type": "code",
   "execution_count": 13,
   "metadata": {},
   "outputs": [],
   "source": [
    "sents = []\n",
    "for data in bond_df.iloc:\n",
    "    temp = data['doc'].split('.')\n",
    "    for s in temp:\n",
    "        s = s.strip()\n",
    "        for i in range(3):\n",
    "            s = s.replace('  ', ' ')\n",
    "        if len(s) < 2:\n",
    "            continue\n",
    "        \n",
    "        sents.append(s)"
   ]
  },
  {
   "cell_type": "code",
   "execution_count": 14,
   "metadata": {},
   "outputs": [
    {
     "output_type": "execute_result",
     "data": {
      "text/plain": "122017"
     },
     "metadata": {},
     "execution_count": 14
    }
   ],
   "source": [
    "len(sents)"
   ]
  },
  {
   "cell_type": "code",
   "execution_count": null,
   "metadata": {},
   "outputs": [],
   "source": [
    "sents"
   ]
  }
 ],
 "metadata": {
  "kernelspec": {
   "display_name": "Python 3",
   "language": "python",
   "name": "python3"
  },
  "language_info": {
   "codemirror_mode": {
    "name": "ipython",
    "version": 3
   },
   "file_extension": ".py",
   "mimetype": "text/x-python",
   "name": "python",
   "nbconvert_exporter": "python",
   "pygments_lexer": "ipython3",
   "version": "3.7.6"
  }
 },
 "nbformat": 4,
 "nbformat_minor": 4
}