{
 "cells": [
  {
   "cell_type": "code",
   "execution_count": null,
   "metadata": {},
   "outputs": [],
   "source": [
    "pip install tika"
   ]
  },
  {
   "cell_type": "code",
   "execution_count": 51,
   "metadata": {},
   "outputs": [],
   "source": [
    "# 의사록 Crawling\n",
    "\n",
    "import requests\n",
    "from bs4 import BeautifulSoup\n",
    "from tika import parser\n",
    "import pandas as pd\n",
    "\n",
    "start_page = 1\n",
    "current_page = start_page\n",
    "end_page = 31\n",
    "\n",
    "# 32페이지는 링크따와서 수작업\n",
    "host = 'http://www.bok.or.kr/'\n",
    "result_df = pd.DataFrame(columns=['date', 'text'])\n",
    "\n",
    "while True:\n",
    "\n",
    "    URL = 'http://www.bok.or.kr/portal/bbs/B0000245/list.do?menuNo=200761&pageIndex={}'.format(current_page)\n",
    "    r = requests.get(URL)\n",
    "    sp = BeautifulSoup(r.text, 'html.parser')\n",
    "    results = sp.select('div.fileGoupBox ul')\n",
    "    \n",
    "    for i, result in enumerate(results):\n",
    "        pdf_date = sp.select('span.date')[i].text[3:]\n",
    "        \n",
    "        pdf_temp = requests.get(host + result.select('li')[1].select('a')[0].attrs['href'])\n",
    "\n",
    "        with open('bok.pdf', 'wb') as f:\n",
    "            f.write(pdf_temp.content)\n",
    "        \n",
    "        parsed = parser.from_file('bok.pdf')\n",
    "        temp_text = str(parsed['content']).strip()\n",
    "        temp_df = pd.DataFrame([{'date':pdf_date, 'text':temp_text}])\n",
    "        result_df = pd.concat([result_df, temp_df])\n",
    "\n",
    "    if current_page == end_page:\n",
    "        result_df.to_csv('datas.csv')\n",
    "        break\n",
    "    current_page += 1\n"
   ]
  },
  {
   "cell_type": "code",
   "execution_count": 113,
   "metadata": {},
   "outputs": [],
   "source": [
    "# 32 페이지 수작업 부분\n",
    "URL = 'http://www.bok.or.kr/portal/bbs/B0000245/list.do?menuNo=200761&pageIndex=32'\n",
    "r = requests.get(URL)\n",
    "sp = BeautifulSoup(r.text, 'html.parser')\n",
    "results = sp.select('div.fileGoupBox ul')\n",
    "\n",
    "for i, result in enumerate(results):\n",
    "    pdf_date = sp.select('span.date')[i].text[3:]\n",
    "\n",
    "    pdf_temp = requests.get(host + result.select('li')[1].select('a')[0].attrs['href'])\n",
    "\n",
    "    with open('bok.pdf', 'wb') as f:\n",
    "        f.write(pdf_temp.content)\n",
    "\n",
    "    parsed = parser.from_file('bok.pdf')\n",
    "    temp_text = str(parsed['content']).strip()\n",
    "    temp_df = pd.DataFrame([{'date':pdf_date, 'text':temp_text}])\n",
    "    test_df = pd.concat([test_df, temp_df])"
   ]
  },
  {
   "cell_type": "code",
   "execution_count": 111,
   "metadata": {},
   "outputs": [],
   "source": [
    "URL = 'http://www.bok.or.kr/portal/bbs/B0000245/list.do?menuNo=200761&pageIndex=32'\n",
    "r = requests.get(URL)\n",
    "sp = BeautifulSoup(r.text, 'html.parser')\n",
    "results = sp.select('div.fileGoupBox ul')"
   ]
  },
  {
   "cell_type": "code",
   "execution_count": 78,
   "metadata": {},
   "outputs": [],
   "source": [
    "results = sp.select('div.fileLink')"
   ]
  },
  {
   "cell_type": "code",
   "execution_count": 88,
   "metadata": {},
   "outputs": [
    {
     "data": {
      "text/plain": [
       "'/portal/cmmn/file/fileDown.do?menuNo=200761&atchFileId=KO_00000000000085858&fileSn=1'"
      ]
     },
     "execution_count": 88,
     "metadata": {},
     "output_type": "execute_result"
    }
   ],
   "source": [
    "results[1].select('a')[0].attrs['href']"
   ]
  },
  {
   "cell_type": "code",
   "execution_count": 74,
   "metadata": {},
   "outputs": [],
   "source": [
    "pdf_date = sp.select('span.date')[7].text[3:]"
   ]
  },
  {
   "cell_type": "code",
   "execution_count": 101,
   "metadata": {},
   "outputs": [],
   "source": [
    "for i, result in enumerate(results):\n",
    "    if i==0:\n",
    "        continue\n",
    "    \n",
    "    pdf_date = sp.select('span.date')[i].text[3:]\n",
    "\n",
    "    pdf_temp = requests.get(host + results[i].select('a')[0].attrs['href'])\n",
    "\n",
    "    with open('bok.hwp', 'wb') as f:\n",
    "        f.write(pdf_temp.content)\n",
    "\n",
    "    parsed = parser.from_file('bok.hwp')\n",
    "    temp_text = str(parsed['content']).strip()\n",
    "    temp_df = pd.DataFrame([{'date':pdf_date, 'text':temp_text}])\n",
    "    test_df = pd.concat([test_df, temp_df])\n",
    "\n"
   ]
  },
  {
   "cell_type": "code",
   "execution_count": 116,
   "metadata": {},
   "outputs": [],
   "source": [
    "test_df.to_csv('bok_data.csv',encoding='utf-8')"
   ]
  },
  {
   "cell_type": "code",
   "execution_count": 2,
   "metadata": {},
   "outputs": [],
   "source": [
    "import pandas as pd\n",
    "bok_df = pd.read_csv('bok_datas.csv')"
   ]
  },
  {
   "cell_type": "code",
   "execution_count": 3,
   "metadata": {},
   "outputs": [],
   "source": [
    "bok_df = bok_df[['date', 'text']]"
   ]
  },
  {
   "cell_type": "code",
   "execution_count": 62,
   "metadata": {},
   "outputs": [
    {
     "data": {
      "text/html": [
       "<div>\n",
       "<style scoped>\n",
       "    .dataframe tbody tr th:only-of-type {\n",
       "        vertical-align: middle;\n",
       "    }\n",
       "\n",
       "    .dataframe tbody tr th {\n",
       "        vertical-align: top;\n",
       "    }\n",
       "\n",
       "    .dataframe thead th {\n",
       "        text-align: right;\n",
       "    }\n",
       "</style>\n",
       "<table border=\"1\" class=\"dataframe\">\n",
       "  <thead>\n",
       "    <tr style=\"text-align: right;\">\n",
       "      <th></th>\n",
       "      <th>date</th>\n",
       "      <th>text</th>\n",
       "    </tr>\n",
       "  </thead>\n",
       "  <tbody>\n",
       "    <tr>\n",
       "      <th>0</th>\n",
       "      <td>2020.07.10</td>\n",
       "      <td>2020년도 제14차\\n\\n금융통화위원회(정기) 의사록\\n\\n한 국 은 행\\n\\n\\...</td>\n",
       "    </tr>\n",
       "    <tr>\n",
       "      <th>1</th>\n",
       "      <td>2020.06.30</td>\n",
       "      <td>2020년도 제13차\\n\\n금융통화위원회(정기) 의사록\\n\\n한 국 은 행\\n\\n\\...</td>\n",
       "    </tr>\n",
       "    <tr>\n",
       "      <th>2</th>\n",
       "      <td>2020.06.16</td>\n",
       "      <td>2020년도 제12차\\n\\n금융통화위원회(정기) 의사록\\n\\n한 국 은 행\\n\\n\\...</td>\n",
       "    </tr>\n",
       "    <tr>\n",
       "      <th>3</th>\n",
       "      <td>2020.06.02</td>\n",
       "      <td>2020년도 제11차\\n\\n금융통화위원회(정기) 의사록\\n\\n한 국 은 행\\n\\n\\...</td>\n",
       "    </tr>\n",
       "    <tr>\n",
       "      <th>4</th>\n",
       "      <td>2020.05.06</td>\n",
       "      <td>2020년도 제9차\\n\\n금융통화위원회(임시) 의사록\\n\\n한 국 은 행\\n\\n\\n...</td>\n",
       "    </tr>\n",
       "    <tr>\n",
       "      <th>5</th>\n",
       "      <td>2020.04.28</td>\n",
       "      <td>2020년도 제8차\\n\\n금융통화위원회(정기) 의사록\\n\\n한 국 은 행\\n\\n\\n...</td>\n",
       "    </tr>\n",
       "    <tr>\n",
       "      <th>6</th>\n",
       "      <td>2020.04.14</td>\n",
       "      <td>2020년도 제7차\\n\\n금융통화위원회(정기) 의사록\\n\\n한 국 은 행\\n\\n\\n...</td>\n",
       "    </tr>\n",
       "    <tr>\n",
       "      <th>7</th>\n",
       "      <td>2020.03.31</td>\n",
       "      <td>2020년도 제6차\\n\\n금융통화위원회(임시) 의사록\\n\\n한 국 은 행\\n\\n\\n...</td>\n",
       "    </tr>\n",
       "    <tr>\n",
       "      <th>8</th>\n",
       "      <td>2020.03.31</td>\n",
       "      <td>2020년도 제5차\\n\\n금융통화위원회(정기) 의사록\\n\\n한 국 은 행\\n\\n\\n...</td>\n",
       "    </tr>\n",
       "    <tr>\n",
       "      <th>9</th>\n",
       "      <td>2020.03.17</td>\n",
       "      <td>2020년도 제4차\\n\\n금융통화위원회(정기) 의사록\\n\\n한 국 은 행\\n\\n\\n...</td>\n",
       "    </tr>\n",
       "  </tbody>\n",
       "</table>\n",
       "</div>"
      ],
      "text/plain": [
       "         date                                               text\n",
       "0  2020.07.10  2020년도 제14차\\n\\n금융통화위원회(정기) 의사록\\n\\n한 국 은 행\\n\\n\\...\n",
       "1  2020.06.30  2020년도 제13차\\n\\n금융통화위원회(정기) 의사록\\n\\n한 국 은 행\\n\\n\\...\n",
       "2  2020.06.16  2020년도 제12차\\n\\n금융통화위원회(정기) 의사록\\n\\n한 국 은 행\\n\\n\\...\n",
       "3  2020.06.02  2020년도 제11차\\n\\n금융통화위원회(정기) 의사록\\n\\n한 국 은 행\\n\\n\\...\n",
       "4  2020.05.06  2020년도 제9차\\n\\n금융통화위원회(임시) 의사록\\n\\n한 국 은 행\\n\\n\\n...\n",
       "5  2020.04.28  2020년도 제8차\\n\\n금융통화위원회(정기) 의사록\\n\\n한 국 은 행\\n\\n\\n...\n",
       "6  2020.04.14  2020년도 제7차\\n\\n금융통화위원회(정기) 의사록\\n\\n한 국 은 행\\n\\n\\n...\n",
       "7  2020.03.31  2020년도 제6차\\n\\n금융통화위원회(임시) 의사록\\n\\n한 국 은 행\\n\\n\\n...\n",
       "8  2020.03.31  2020년도 제5차\\n\\n금융통화위원회(정기) 의사록\\n\\n한 국 은 행\\n\\n\\n...\n",
       "9  2020.03.17  2020년도 제4차\\n\\n금융통화위원회(정기) 의사록\\n\\n한 국 은 행\\n\\n\\n..."
      ]
     },
     "execution_count": 62,
     "metadata": {},
     "output_type": "execute_result"
    }
   ],
   "source": [
    "bok_df.iloc[:10] # 앞부분 다름 index 299 양식 다름 - 여러 개 있음 index 300~ 양식 다름"
   ]
  },
  {
   "cell_type": "code",
   "execution_count": 129,
   "metadata": {},
   "outputs": [],
   "source": [
    "# bok_df.iloc[0]['text']"
   ]
  },
  {
   "cell_type": "code",
   "execution_count": 130,
   "metadata": {},
   "outputs": [],
   "source": [
    "# bok_df.iloc[299]['text']"
   ]
  },
  {
   "cell_type": "code",
   "execution_count": 131,
   "metadata": {},
   "outputs": [],
   "source": [
    "# bok_df.iloc[300]['text']"
   ]
  },
  {
   "cell_type": "code",
   "execution_count": 112,
   "metadata": {},
   "outputs": [
    {
     "ename": "TypeError",
     "evalue": "iteration over a 0-d array",
     "output_type": "error",
     "traceback": [
      "\u001b[1;31m---------------------------------------------------------------------------\u001b[0m",
      "\u001b[1;31mTypeError\u001b[0m                                 Traceback (most recent call last)",
      "\u001b[1;32m<ipython-input-112-4a38dc77a694>\u001b[0m in \u001b[0;36m<module>\u001b[1;34m\u001b[0m\n\u001b[0;32m     15\u001b[0m \u001b[1;33m\u001b[0m\u001b[0m\n\u001b[0;32m     16\u001b[0m \u001b[1;33m\u001b[0m\u001b[0m\n\u001b[1;32m---> 17\u001b[1;33m \u001b[0msection2_split\u001b[0m\u001b[1;33m,\u001b[0m \u001b[0msection3_split\u001b[0m \u001b[1;33m=\u001b[0m \u001b[0mnp\u001b[0m\u001b[1;33m.\u001b[0m\u001b[0masarray\u001b[0m\u001b[1;33m(\u001b[0m\u001b[1;33m(\u001b[0m\u001b[0mmap\u001b[0m\u001b[1;33m(\u001b[0m\u001b[0msection_split\u001b[0m\u001b[1;33m,\u001b[0m \u001b[0mbok_df\u001b[0m\u001b[1;33m[\u001b[0m\u001b[1;34m'text'\u001b[0m\u001b[1;33m]\u001b[0m\u001b[1;33m)\u001b[0m\u001b[1;33m)\u001b[0m\u001b[1;33m)\u001b[0m\u001b[1;33m\u001b[0m\u001b[1;33m\u001b[0m\u001b[0m\n\u001b[0m",
      "\u001b[1;31mTypeError\u001b[0m: iteration over a 0-d array"
     ]
    }
   ],
   "source": [
    "import re\n",
    "import numpy as np\n",
    "def section_split(bok_text):\n",
    "    bok_text = bok_text.replace('\\n', ' ')\n",
    "    s2_ls = []\n",
    "    s3_ls = []\n",
    "    section2 = re.finditer('(?<=원 토의내용)((?!심의결과).)*', bok_text)\n",
    "    for s2 in section2:\n",
    "        s2_ls.append(s2.group())\n",
    "    section3 = re.finditer('(?<=심의결과)[^１]*', bok_text)\n",
    "    for s3 in section3:\n",
    "        s3_ls.append(s3.group())\n",
    "    return ' '.join(s2_ls), ' '.join(s3_ls)\n",
    "\n",
    "\n",
    "split_text = list(map(section_split, bok_df['text']))"
   ]
  },
  {
   "cell_type": "code",
   "execution_count": 117,
   "metadata": {},
   "outputs": [
    {
     "data": {
      "text/plain": [
       "310"
      ]
     },
     "execution_count": 117,
     "metadata": {},
     "output_type": "execute_result"
    }
   ],
   "source": [
    "len(split_text)"
   ]
  },
  {
   "cell_type": "code",
   "execution_count": 118,
   "metadata": {},
   "outputs": [],
   "source": [
    "s2_ls = []\n",
    "s3_ls = []\n",
    "\n",
    "for doc in split_text:\n",
    "    s2_ls.append(doc[0])\n",
    "    s3_ls.append(doc[1])"
   ]
  },
  {
   "cell_type": "code",
   "execution_count": 121,
   "metadata": {},
   "outputs": [],
   "source": [
    "bok_df['section2'] = s2_ls"
   ]
  },
  {
   "cell_type": "code",
   "execution_count": 122,
   "metadata": {},
   "outputs": [],
   "source": [
    "bok_df['section3'] = s3_ls"
   ]
  },
  {
   "cell_type": "code",
   "execution_count": 124,
   "metadata": {},
   "outputs": [],
   "source": [
    "bok_df[['date', 'section2','section3']].to_csv('bok_split_section.csv', encoding='utf-8')"
   ]
  },
  {
   "cell_type": "code",
   "execution_count": 125,
   "metadata": {},
   "outputs": [
    {
     "data": {
      "text/plain": [
       "date        0\n",
       "text        0\n",
       "section2    0\n",
       "section3    0\n",
       "dtype: int64"
      ]
     },
     "execution_count": 125,
     "metadata": {},
     "output_type": "execute_result"
    }
   ],
   "source": [
    "bok_df.isnull().sum()"
   ]
  },
  {
   "cell_type": "code",
   "execution_count": 127,
   "metadata": {},
   "outputs": [
    {
     "data": {
      "text/plain": [
       "''"
      ]
     },
     "execution_count": 127,
     "metadata": {},
     "output_type": "execute_result"
    }
   ],
   "source": [
    "bok_df.iloc[30]['section2']"
   ]
  },
  {
   "cell_type": "code",
   "execution_count": 132,
   "metadata": {},
   "outputs": [
    {
     "data": {
      "text/plain": [
       "'2018년도 제23차\\n\\n금융통화위원회(정기) 의사록\\n\\n한 국 은 행\\n\\n\\n\\n- 1 -\\n\\n1. 일 자 2018년 12월 6일(목)\\n\\n2. 장 소 금융통화위원회 회의실\\n\\n3. 출석위원 이 주 열 의 장(총재)\\n\\n이 일 형 위 원\\n\\n조 동 철 위 원\\n\\n고 승 범 위 원\\n\\n신 인 석 위 원\\n\\n윤 면 식 위 원(부총재)\\n\\n임 지 원 위 원\\n\\n4. 결석위원 없 음\\n\\n5. 참 여 자 장 호 현 감 사 임 형 준 부총재보\\n\\n허 진 호 부총재보 신 호 순 부총재보\\n\\n정 규 일 부총재보 서 봉 국 외자운용원장\\n\\n이 환 석 조사국장 손 욱 경제연구원장\\n\\n신 운 금융안정국장 박 종 석 통화정책국장\\n\\n이 상 형 금융시장국장 이 승 헌 국제국장\\n\\n장 정 석 금융통화위원회실장 김 현 기 공보관\\n\\n성 광 진 의사팀장\\n\\n6. 회의경과\\n\\n<의안 제39호 - 대부업 등의 등록 및 금융이용자 보호에 관한 법률 시행령\\n\\n제9조제3항제1호의 연체이자율에 관한 규정 폐지규정(안)>\\n\\n(１) 담당 부총재보가 대부업 등의 등록 및 금융이용자 보호에 관한 법률 시\\n\\n행령 개정으로 한국은행법 제11조에 따른 금융기관에 대한 연체이자율 상한을\\n\\n금융위원회에서 정하게 됨에 따라 관련 규정을 폐지하고자 한다는 내용의 제안설\\n\\n명을 하였음.\\n\\n(２) 심의결과\\n\\n원안대로 가결\\n\\n\\n\\n- 2 -\\n\\n의결사항\\n\\n대부업 등의 등록 및 금융이용자 보호에 관한 법률 시행령 제9조제3항\\n\\n제1호의 연체이자율에 관한 규정 을 붙임과 같이 폐지한다.\\n\\n<붙임> 대부업 등의 등록 및 금융이용자 보호에 관한 법률 시행령 제9조\\n\\n제3항제1호의 연체이자율에 관한 규정 폐지규정(안)'"
      ]
     },
     "execution_count": 132,
     "metadata": {},
     "output_type": "execute_result"
    }
   ],
   "source": [
    "bok_df.iloc[30]['text']"
   ]
  },
  {
   "cell_type": "code",
   "execution_count": null,
   "metadata": {},
   "outputs": [],
   "source": []
  }
 ],
 "metadata": {
  "kernelspec": {
   "display_name": "Python 3",
   "language": "python",
   "name": "python3"
  },
  "language_info": {
   "codemirror_mode": {
    "name": "ipython",
    "version": 3
   },
   "file_extension": ".py",
   "mimetype": "text/x-python",
   "name": "python",
   "nbconvert_exporter": "python",
   "pygments_lexer": "ipython3",
   "version": "3.7.6"
  }
 },
 "nbformat": 4,
 "nbformat_minor": 4
}
