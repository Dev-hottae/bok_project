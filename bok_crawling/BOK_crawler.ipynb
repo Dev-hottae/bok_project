{
 "cells": [
  {
   "cell_type": "code",
   "execution_count": null,
   "metadata": {},
   "outputs": [],
   "source": [
    "pip install tika"
   ]
  },
  {
   "cell_type": "code",
   "execution_count": 51,
   "metadata": {},
   "outputs": [],
   "source": [
    "# 의사록 Crawling\n",
    "\n",
    "import requests\n",
    "from bs4 import BeautifulSoup\n",
    "from tika import parser\n",
    "import pandas as pd\n",
    "\n",
    "start_page = 1\n",
    "current_page = start_page\n",
    "end_page = 31\n",
    "\n",
    "# 32페이지는 링크따와서 수작업\n",
    "host = 'http://www.bok.or.kr/'\n",
    "result_df = pd.DataFrame(columns=['date', 'text'])\n",
    "\n",
    "while True:\n",
    "\n",
    "    URL = 'http://www.bok.or.kr/portal/bbs/B0000245/list.do?menuNo=200761&pageIndex={}'.format(current_page)\n",
    "    r = requests.get(URL)\n",
    "    sp = BeautifulSoup(r.text, 'html.parser')\n",
    "    results = sp.select('div.fileGoupBox ul')\n",
    "    \n",
    "    for i, result in enumerate(results):\n",
    "        pdf_date = sp.select('span.date')[i].text[3:]\n",
    "        \n",
    "        pdf_temp = requests.get(host + result.select('li')[1].select('a')[0].attrs['href'])\n",
    "\n",
    "        with open('bok.pdf', 'wb') as f:\n",
    "            f.write(pdf_temp.content)\n",
    "        \n",
    "        parsed = parser.from_file('bok.pdf')\n",
    "        temp_text = str(parsed['content']).strip()\n",
    "        temp_df = pd.DataFrame([{'date':pdf_date, 'text':temp_text}])\n",
    "        result_df = pd.concat([result_df, temp_df])\n",
    "\n",
    "    if current_page == end_page:\n",
    "        result_df.to_csv('datas.csv')\n",
    "        break\n",
    "    current_page += 1\n"
   ]
  },
  {
   "cell_type": "code",
   "execution_count": 113,
   "metadata": {},
   "outputs": [],
   "source": [
    "# 32 페이지 수작업 부분\n",
    "URL = 'http://www.bok.or.kr/portal/bbs/B0000245/list.do?menuNo=200761&pageIndex=32'\n",
    "r = requests.get(URL)\n",
    "sp = BeautifulSoup(r.text, 'html.parser')\n",
    "results = sp.select('div.fileGoupBox ul')\n",
    "\n",
    "for i, result in enumerate(results):\n",
    "    pdf_date = sp.select('span.date')[i].text[3:]\n",
    "\n",
    "    pdf_temp = requests.get(host + result.select('li')[1].select('a')[0].attrs['href'])\n",
    "\n",
    "    with open('bok.pdf', 'wb') as f:\n",
    "        f.write(pdf_temp.content)\n",
    "\n",
    "    parsed = parser.from_file('bok.pdf')\n",
    "    temp_text = str(parsed['content']).strip()\n",
    "    temp_df = pd.DataFrame([{'date':pdf_date, 'text':temp_text}])\n",
    "    test_df = pd.concat([test_df, temp_df])"
   ]
  },
  {
   "cell_type": "code",
   "execution_count": 111,
   "metadata": {},
   "outputs": [],
   "source": [
    "URL = 'http://www.bok.or.kr/portal/bbs/B0000245/list.do?menuNo=200761&pageIndex=32'\n",
    "r = requests.get(URL)\n",
    "sp = BeautifulSoup(r.text, 'html.parser')\n",
    "results = sp.select('div.fileGoupBox ul')"
   ]
  },
  {
   "cell_type": "code",
   "execution_count": 78,
   "metadata": {},
   "outputs": [],
   "source": [
    "results = sp.select('div.fileLink')"
   ]
  },
  {
   "cell_type": "code",
   "execution_count": 88,
   "metadata": {},
   "outputs": [
    {
     "data": {
      "text/plain": [
       "'/portal/cmmn/file/fileDown.do?menuNo=200761&atchFileId=KO_00000000000085858&fileSn=1'"
      ]
     },
     "execution_count": 88,
     "metadata": {},
     "output_type": "execute_result"
    }
   ],
   "source": [
    "results[1].select('a')[0].attrs['href']"
   ]
  },
  {
   "cell_type": "code",
   "execution_count": 74,
   "metadata": {},
   "outputs": [],
   "source": [
    "pdf_date = sp.select('span.date')[7].text[3:]"
   ]
  },
  {
   "cell_type": "code",
   "execution_count": 101,
   "metadata": {},
   "outputs": [],
   "source": [
    "for i, result in enumerate(results):\n",
    "    if i==0:\n",
    "        continue\n",
    "    \n",
    "    pdf_date = sp.select('span.date')[i].text[3:]\n",
    "\n",
    "    pdf_temp = requests.get(host + results[i].select('a')[0].attrs['href'])\n",
    "\n",
    "    with open('bok.hwp', 'wb') as f:\n",
    "        f.write(pdf_temp.content)\n",
    "\n",
    "    parsed = parser.from_file('bok.hwp')\n",
    "    temp_text = str(parsed['content']).strip()\n",
    "    temp_df = pd.DataFrame([{'date':pdf_date, 'text':temp_text}])\n",
    "    test_df = pd.concat([test_df, temp_df])\n",
    "\n"
   ]
  },
  {
   "cell_type": "code",
   "execution_count": 116,
   "metadata": {},
   "outputs": [],
   "source": [
    "test_df.to_csv('bok_data.csv',encoding='utf-8')"
   ]
  },
  {
   "cell_type": "code",
   "execution_count": 2,
   "metadata": {},
   "outputs": [],
   "source": [
    "import pandas as pd\n",
    "bok_df = pd.read_csv('bok_datas.csv')"
   ]
  },
  {
   "cell_type": "code",
   "execution_count": 3,
   "metadata": {},
   "outputs": [],
   "source": [
    "bok_df = bok_df[['date', 'text']]"
   ]
  },
  {
   "cell_type": "code",
   "execution_count": 62,
   "metadata": {},
   "outputs": [
    {
     "data": {
      "text/html": [
       "<div>\n",
       "<style scoped>\n",
       "    .dataframe tbody tr th:only-of-type {\n",
       "        vertical-align: middle;\n",
       "    }\n",
       "\n",
       "    .dataframe tbody tr th {\n",
       "        vertical-align: top;\n",
       "    }\n",
       "\n",
       "    .dataframe thead th {\n",
       "        text-align: right;\n",
       "    }\n",
       "</style>\n",
       "<table border=\"1\" class=\"dataframe\">\n",
       "  <thead>\n",
       "    <tr style=\"text-align: right;\">\n",
       "      <th></th>\n",
       "      <th>date</th>\n",
       "      <th>text</th>\n",
       "    </tr>\n",
       "  </thead>\n",
       "  <tbody>\n",
       "    <tr>\n",
       "      <th>0</th>\n",
       "      <td>2020.07.10</td>\n",
       "      <td>2020년도 제14차\\n\\n금융통화위원회(정기) 의사록\\n\\n한 국 은 행\\n\\n\\...</td>\n",
       "    </tr>\n",
       "    <tr>\n",
       "      <th>1</th>\n",
       "      <td>2020.06.30</td>\n",
       "      <td>2020년도 제13차\\n\\n금융통화위원회(정기) 의사록\\n\\n한 국 은 행\\n\\n\\...</td>\n",
       "    </tr>\n",
       "    <tr>\n",
       "      <th>2</th>\n",
       "      <td>2020.06.16</td>\n",
       "      <td>2020년도 제12차\\n\\n금융통화위원회(정기) 의사록\\n\\n한 국 은 행\\n\\n\\...</td>\n",
       "    </tr>\n",
       "    <tr>\n",
       "      <th>3</th>\n",
       "      <td>2020.06.02</td>\n",
       "      <td>2020년도 제11차\\n\\n금융통화위원회(정기) 의사록\\n\\n한 국 은 행\\n\\n\\...</td>\n",
       "    </tr>\n",
       "    <tr>\n",
       "      <th>4</th>\n",
       "      <td>2020.05.06</td>\n",
       "      <td>2020년도 제9차\\n\\n금융통화위원회(임시) 의사록\\n\\n한 국 은 행\\n\\n\\n...</td>\n",
       "    </tr>\n",
       "    <tr>\n",
       "      <th>5</th>\n",
       "      <td>2020.04.28</td>\n",
       "      <td>2020년도 제8차\\n\\n금융통화위원회(정기) 의사록\\n\\n한 국 은 행\\n\\n\\n...</td>\n",
       "    </tr>\n",
       "    <tr>\n",
       "      <th>6</th>\n",
       "      <td>2020.04.14</td>\n",
       "      <td>2020년도 제7차\\n\\n금융통화위원회(정기) 의사록\\n\\n한 국 은 행\\n\\n\\n...</td>\n",
       "    </tr>\n",
       "    <tr>\n",
       "      <th>7</th>\n",
       "      <td>2020.03.31</td>\n",
       "      <td>2020년도 제6차\\n\\n금융통화위원회(임시) 의사록\\n\\n한 국 은 행\\n\\n\\n...</td>\n",
       "    </tr>\n",
       "    <tr>\n",
       "      <th>8</th>\n",
       "      <td>2020.03.31</td>\n",
       "      <td>2020년도 제5차\\n\\n금융통화위원회(정기) 의사록\\n\\n한 국 은 행\\n\\n\\n...</td>\n",
       "    </tr>\n",
       "    <tr>\n",
       "      <th>9</th>\n",
       "      <td>2020.03.17</td>\n",
       "      <td>2020년도 제4차\\n\\n금융통화위원회(정기) 의사록\\n\\n한 국 은 행\\n\\n\\n...</td>\n",
       "    </tr>\n",
       "  </tbody>\n",
       "</table>\n",
       "</div>"
      ],
      "text/plain": [
       "         date                                               text\n",
       "0  2020.07.10  2020년도 제14차\\n\\n금융통화위원회(정기) 의사록\\n\\n한 국 은 행\\n\\n\\...\n",
       "1  2020.06.30  2020년도 제13차\\n\\n금융통화위원회(정기) 의사록\\n\\n한 국 은 행\\n\\n\\...\n",
       "2  2020.06.16  2020년도 제12차\\n\\n금융통화위원회(정기) 의사록\\n\\n한 국 은 행\\n\\n\\...\n",
       "3  2020.06.02  2020년도 제11차\\n\\n금융통화위원회(정기) 의사록\\n\\n한 국 은 행\\n\\n\\...\n",
       "4  2020.05.06  2020년도 제9차\\n\\n금융통화위원회(임시) 의사록\\n\\n한 국 은 행\\n\\n\\n...\n",
       "5  2020.04.28  2020년도 제8차\\n\\n금융통화위원회(정기) 의사록\\n\\n한 국 은 행\\n\\n\\n...\n",
       "6  2020.04.14  2020년도 제7차\\n\\n금융통화위원회(정기) 의사록\\n\\n한 국 은 행\\n\\n\\n...\n",
       "7  2020.03.31  2020년도 제6차\\n\\n금융통화위원회(임시) 의사록\\n\\n한 국 은 행\\n\\n\\n...\n",
       "8  2020.03.31  2020년도 제5차\\n\\n금융통화위원회(정기) 의사록\\n\\n한 국 은 행\\n\\n\\n...\n",
       "9  2020.03.17  2020년도 제4차\\n\\n금융통화위원회(정기) 의사록\\n\\n한 국 은 행\\n\\n\\n..."
      ]
     },
     "execution_count": 62,
     "metadata": {},
     "output_type": "execute_result"
    }
   ],
   "source": [
    "bok_df.iloc[:10] # 앞부분 다름 index 299 양식 다름 - 여러 개 있음 index 300~ 양식 다름"
   ]
  },
  {
   "cell_type": "code",
   "execution_count": 129,
   "metadata": {},
   "outputs": [],
   "source": [
    "# bok_df.iloc[0]['text']"
   ]
  },
  {
   "cell_type": "code",
   "execution_count": 130,
   "metadata": {},
   "outputs": [],
   "source": [
    "# bok_df.iloc[299]['text']"
   ]
  },
  {
   "cell_type": "code",
   "execution_count": 131,
   "metadata": {},
   "outputs": [],
   "source": [
    "# bok_df.iloc[300]['text']"
   ]
  },
  {
   "cell_type": "code",
   "execution_count": 112,
   "metadata": {},
   "outputs": [
    {
     "ename": "TypeError",
     "evalue": "iteration over a 0-d array",
     "output_type": "error",
     "traceback": [
      "\u001b[1;31m---------------------------------------------------------------------------\u001b[0m",
      "\u001b[1;31mTypeError\u001b[0m                                 Traceback (most recent call last)",
      "\u001b[1;32m<ipython-input-112-4a38dc77a694>\u001b[0m in \u001b[0;36m<module>\u001b[1;34m\u001b[0m\n\u001b[0;32m     15\u001b[0m \u001b[1;33m\u001b[0m\u001b[0m\n\u001b[0;32m     16\u001b[0m \u001b[1;33m\u001b[0m\u001b[0m\n\u001b[1;32m---> 17\u001b[1;33m \u001b[0msection2_split\u001b[0m\u001b[1;33m,\u001b[0m \u001b[0msection3_split\u001b[0m \u001b[1;33m=\u001b[0m \u001b[0mnp\u001b[0m\u001b[1;33m.\u001b[0m\u001b[0masarray\u001b[0m\u001b[1;33m(\u001b[0m\u001b[1;33m(\u001b[0m\u001b[0mmap\u001b[0m\u001b[1;33m(\u001b[0m\u001b[0msection_split\u001b[0m\u001b[1;33m,\u001b[0m \u001b[0mbok_df\u001b[0m\u001b[1;33m[\u001b[0m\u001b[1;34m'text'\u001b[0m\u001b[1;33m]\u001b[0m\u001b[1;33m)\u001b[0m\u001b[1;33m)\u001b[0m\u001b[1;33m)\u001b[0m\u001b[1;33m\u001b[0m\u001b[1;33m\u001b[0m\u001b[0m\n\u001b[0m",
      "\u001b[1;31mTypeError\u001b[0m: iteration over a 0-d array"
     ]
    }
   ],
   "source": [
    "import re\n",
    "import numpy as np\n",
    "def section_split(bok_text):\n",
    "    bok_text = bok_text.replace('\\n', ' ')\n",
    "    s2_ls = []\n",
    "    s3_ls = []\n",
    "    section2 = re.finditer('(?<=원 토의내용)((?!심의결과).)*', bok_text)\n",
    "    for s2 in section2:\n",
    "        s2_ls.append(s2.group())\n",
    "    section3 = re.finditer('(?<=심의결과)[^１]*', bok_text)\n",
    "    for s3 in section3:\n",
    "        s3_ls.append(s3.group())\n",
    "    return ' '.join(s2_ls), ' '.join(s3_ls)\n",
    "\n",
    "\n",
    "split_text = list(map(section_split, bok_df['text']))"
   ]
  },
  {
   "cell_type": "code",
   "execution_count": 117,
   "metadata": {},
   "outputs": [
    {
     "data": {
      "text/plain": [
       "310"
      ]
     },
     "execution_count": 117,
     "metadata": {},
     "output_type": "execute_result"
    }
   ],
   "source": [
    "len(split_text)"
   ]
  },
  {
   "cell_type": "code",
   "execution_count": 118,
   "metadata": {},
   "outputs": [],
   "source": [
    "s2_ls = []\n",
    "s3_ls = []\n",
    "\n",
    "for doc in split_text:\n",
    "    s2_ls.append(doc[0])\n",
    "    s3_ls.append(doc[1])"
   ]
  },
  {
   "cell_type": "code",
   "execution_count": 121,
   "metadata": {},
   "outputs": [],
   "source": [
    "bok_df['section2'] = s2_ls"
   ]
  },
  {
   "cell_type": "code",
   "execution_count": 122,
   "metadata": {},
   "outputs": [],
   "source": [
    "bok_df['section3'] = s3_ls"
   ]
  },
  {
   "cell_type": "code",
   "execution_count": 124,
   "metadata": {},
   "outputs": [],
   "source": [
    "bok_df[['date', 'section2','section3']].to_csv('bok_split_section.csv', encoding='utf-8')"
   ]
  },
  {
   "cell_type": "code",
   "execution_count": 125,
   "metadata": {},
   "outputs": [
    {
     "data": {
      "text/plain": [
       "date        0\n",
       "text        0\n",
       "section2    0\n",
       "section3    0\n",
       "dtype: int64"
      ]
     },
     "execution_count": 125,
     "metadata": {},
     "output_type": "execute_result"
    }
   ],
   "source": [
    "bok_df.isnull().sum()"
   ]
  },
  {
   "cell_type": "code",
   "execution_count": 127,
   "metadata": {},
   "outputs": [
    {
     "data": {
      "text/plain": [
       "''"
      ]
     },
     "execution_count": 127,
     "metadata": {},
     "output_type": "execute_result"
    }
   ],
   "source": [
    "bok_df.iloc[30]['section2']"
   ]
  },
  {
   "cell_type": "code",
   "execution_count": 132,
   "metadata": {},
   "outputs": [
    {
     "data": {
      "text/plain": [
       "'2018년도 제23차\\n\\n금융통화위원회(정기) 의사록\\n\\n한 국 은 행\\n\\n\\n\\n- 1 -\\n\\n1. 일 자 2018년 12월 6일(목)\\n\\n2. 장 소 금융통화위원회 회의실\\n\\n3. 출석위원 이 주 열 의 장(총재)\\n\\n이 일 형 위 원\\n\\n조 동 철 위 원\\n\\n고 승 범 위 원\\n\\n신 인 석 위 원\\n\\n윤 면 식 위 원(부총재)\\n\\n임 지 원 위 원\\n\\n4. 결석위원 없 음\\n\\n5. 참 여 자 장 호 현 감 사 임 형 준 부총재보\\n\\n허 진 호 부총재보 신 호 순 부총재보\\n\\n정 규 일 부총재보 서 봉 국 외자운용원장\\n\\n이 환 석 조사국장 손 욱 경제연구원장\\n\\n신 운 금융안정국장 박 종 석 통화정책국장\\n\\n이 상 형 금융시장국장 이 승 헌 국제국장\\n\\n장 정 석 금융통화위원회실장 김 현 기 공보관\\n\\n성 광 진 의사팀장\\n\\n6. 회의경과\\n\\n<의안 제39호 - 대부업 등의 등록 및 금융이용자 보호에 관한 법률 시행령\\n\\n제9조제3항제1호의 연체이자율에 관한 규정 폐지규정(안)>\\n\\n(１) 담당 부총재보가 대부업 등의 등록 및 금융이용자 보호에 관한 법률 시\\n\\n행령 개정으로 한국은행법 제11조에 따른 금융기관에 대한 연체이자율 상한을\\n\\n금융위원회에서 정하게 됨에 따라 관련 규정을 폐지하고자 한다는 내용의 제안설\\n\\n명을 하였음.\\n\\n(２) 심의결과\\n\\n원안대로 가결\\n\\n\\n\\n- 2 -\\n\\n의결사항\\n\\n대부업 등의 등록 및 금융이용자 보호에 관한 법률 시행령 제9조제3항\\n\\n제1호의 연체이자율에 관한 규정 을 붙임과 같이 폐지한다.\\n\\n<붙임> 대부업 등의 등록 및 금융이용자 보호에 관한 법률 시행령 제9조\\n\\n제3항제1호의 연체이자율에 관한 규정 폐지규정(안)'"
      ]
     },
     "execution_count": 132,
     "metadata": {},
     "output_type": "execute_result"
    }
   ],
   "source": [
    "bok_df.iloc[30]['text']"
   ]
  },
  {
   "cell_type": "code",
   "execution_count": 1,
   "metadata": {},
   "outputs": [],
   "source": [
    "import pandas as pd\n",
    "bok_datas = pd.read_csv('bok_split_section.csv',encoding='utf-8')"
   ]
  },
  {
   "cell_type": "code",
   "execution_count": 4,
   "metadata": {},
   "outputs": [],
   "source": [
    "bok_datas = bok_datas[['date', 'section2', 'section3']]"
   ]
  },
  {
   "cell_type": "code",
   "execution_count": 13,
   "metadata": {},
   "outputs": [],
   "source": [
    "test_str = bok_datas['section2'][0]"
   ]
  },
  {
   "cell_type": "code",
   "execution_count": 9,
   "metadata": {},
   "outputs": [
    {
     "data": {
      "text/plain": [
       "'  관련부서는 금번 보고서 작성의 기본방향과 위원협의회에서 논의된 주요 내용      을 다음과 같이 보고하였음.  먼저 금번 보고서에서는 코로나19 확산에 따른 유례없는 금융·실물 충격이 금  융시스템에 미치는 영향을 점검하는 한편, 국내외 정책대응 등의 효과를 고려하  여 금융안정 상황을 종합적으로 평가하였음.  다음으로 6월 11일 위원협의회에서 논의된 내용은 다음과 같음.  여러 위원들은 금번 보고서가 코로나19 확산 이후 금융불안 우려가 높아진  상황에서 금융안정과 관련된 다양한 이슈를 균형있게 다루고 있다고 평가하였음.  일부 위원은 코로나19 확산 이후 금융시장 상황이 빠르게 변하고 있는 점을  감안하여 입수 가능한 통계를 최대한 활용하여 최근의 움직임을 반영할 필요가  있다는 의견을 제시하였음.  다른 일부 위원은 일부 중복되는 부분을 정비하고 보고서의 주요 메시지를  보다 분명하게 나타낼 필요가 있다는 견해를 밝혔음.  일부 위원은 ‘금융안정 상황’ 및 ‘복원력’과 관련하여, 기업신용 상황을 분석하  는 데 이용된 표본기업이 기업경영분석 등에 이용되는 표본기업과 서로 달라 독  자들의 혼동을 야기할 수 있으므로 지표해석 시 유의사항을 좀 더 자세히 기술할  필요가 있다는 의견을 나타내었음.  다른 일부 위원은 기업신용의 증가 원인을 수요와 공급 측면으로 나누어 기  술하는 것이 좋겠다는 견해를 나타내었음.  이와 관련하여 일부 위원은 최근 기업대출 증가와 관련된 위험요인을 언급할  필요가 있다는 의견을 제시하였음.  또한 일부 위원은 기업의 재무건전성 분석이 지난해까지의 통계에 기반하고  있다고 언급하면서, 코로나19 확산 이후의 상황도 함께 기술할 필요가 있다는 견  해를 밝혔음.  아울러 일부 위원은 회사채, CP 등의 순발행 상황, 채권시장 전망 등에 관해  기술한 부분에 당행과 정부의 정책대응 내용을 추가할 필요가 있다는 의견을 제  시하였음.      한편 일부 위원은 부동산금융 익스포저(exposure)의 동향을 좀 더 상세히 설  명할 필요가 있다는 견해를 제시하면서, 앞으로 보다 다양한 분석지표를 추가하  는 등 자산시장 부분의 내용을 더욱 내실화해 나갈 필요가 있다는 의견을 덧붙였  음.  다른 일부 위원은 ‘상업용 부동산시장의 현황 및 평가’와 관련하여 가격 하락  시나리오의 설정 근거를 명확히 할 필요가 있다는 의견을 제시하였음.  이와 관련하여 또 다른 일부 위원은 스트레스 테스트(stress test) 결과에 대한  평가를 추가할 필요가 있다는 견해를 밝혔음.  또한 일부 위원은 대외지급능력 수준의 비교대상 기간을 보다 장기로 변경하  는 것이 좋겠다는 의견을 제시하였음.  일부 위원은 ‘금융안정 현안 분석’과 관련하여, 3건의 현안 분석 간 시나리오  가 상이하여 독자들이 분석결과를 해석하는 데 혼란이 발생할 수 있으므로 각 시  나리오의 설정에 대한 상세한 설명을 추가할 필요가 있다는 의견을 나타내었음.  다른 일부 위원은 ‘향후 금융안정상황 전망 및 주요 리스크’와 관련하여 저금  리 지속에 따른 보험사의 수익성 저하 우려에 대해서도 서술할 필요가 있다는 의  견을 제시하였음.  이와 관련하여 또 다른 일부 위원은 ‘금융안정 현안 분석’ 중 보험사에 대한  스트레스 테스트 결과와 ‘참고 4. 비은행금융기관의 주요 리스크 요인 점검’ 중  보험사의 시장리스크에 대한 평가내용 간에 일관성이 유지되고 있는지 점검할 필  요가 있다는 견해를 나타내었음.  또한 일부 위원은 ‘경기충격에 따른 가계부문의 부실위험 점검’과 관련하여  임금근로 가구 및 자영업 가구에 대한 시나리오를 보다 명료하게 설명할 필요가  있다는 의견을 제시하였음.  이외에도 일부 위원들은 앞으로도 보고서의 가독성을 높이는 동시에 당행의  여타 보고서와의 일관성을 기하는 데 계속 노력해줄 것을 당부하였음.  관련부서에서는 위원들의 의견을 반영하여 동 보고서를 수정･보완한 후 그 결  과를 위원들에게 설명하였음.      이어서 본회의에서 논의된 내용은 다음과 같음.  일부 위원은 코로나 확산 이후 금융안정 관련 이슈가 금융불균형 누증에서 금  융시장 불안정으로 옮겨갔다가, 최근에는 금융시장과 실물경제 간 괴리 이슈 등  금융불균형 쪽으로 다시 관심이 점차 모아지고 있다고 언급하면서, 이러한 상황  에서 새로운 금융안정지수의 편제는 매우 의미있는 작업이라고 평가하였음. 특히  새로운 지수가 주로 구조적인 금융취약성을 측정하는 데 유용하다는 점에서 금융  시장의 불안정성을 잘 반영하는 현재의 금융안정지수와 상호 보완적으로 활용할  경우 금융안정 상황을 종합적으로 판단하는 데 큰 도움이 될 것이라는 견해를 나  타내었음.  ( 3 )    관련부서는 본 안건에 대해 6월 4일 위원협의회에서 논의된 내용을 다음과 같  이 보고하였음.  일부 위원은 금번 제도 개선의 기본 취지가 무엇인지 물었음.  이에 대해 관련부서에서는 핀테크(Fintech) 기업 등 지급결제시장 참여기관의  다양화에 대응하여 지급결제서비스 제공을 희망하는 모든 기관에 공정하고 일관      되게 적용할 수 있는 보다 개방적인 참가 제도를 마련해야 할 필요성이 증대된  상황에서, 그동안 지급결제시스템의 안정성을 유지하기 위해 적용해 온 참가 정  책을 일목요연하게 규정에 명시함으로써 참가 제도의 공정성과 객관성을 제고할  필요가 있어 이번 제도 개선을 추진하게 되었다고 답변하였음.  다른 일부 위원은 핀테크 기업들은 예상되는 비용과 편익을 함께 고려하여 소  액결제시스템에의 직접참가 여부를 결정할 것으로 예상된다고 언급하면서, 이들  기업들이 소액결제망에 직접참가할 의향은 어느 정도인지 물었음.  이에 대해 관련부서에서는 주요 핀테크 기업들을 대상으로 파악한 바에 따르  면, 이들은 오픈뱅킹시스템(open banking system) 등을 통해 지금도 저렴한 수수  료로 지급결제서비스 제공이 가능하기 때문에 비용 측면에서는 소액결제시스템에  직접참가할 유인이 그리 크지 않은 것으로 보이지만, 은행을 경유하지 않고 독자  적인 자금이체 업무를 처리할 수 있는 장점 등 여타 편익까지 종합적으로 고려하  여 참가 여부를 결정할 것으로 보인다고 답변하였음.  또 다른 일부 위원은 핀테크 기업에 소액결제시스템 참가를 허용할 경우 발생  가능한 리스크에 대해 질의하였음.  이에 대해 관련부서에서는 영국 핀테크 업체인 Ipagoo의 파산에 따른 지급결  제시스템 퇴출 사례를 통해 알 수 있듯이 기존 금융기관에 비해 재무건전성이 상  대적으로 낮은 핀테크 기업의 빈번한 진입 및 퇴출이 지급결제시스템에 대한 신  뢰성을 훼손시킬 가능성이 있다고 답변하였음. 또한 차액결제방식이라는 국내 소  액결제시스템의 특성상 이들 핀테크 기업의 결제불이행이 시스템 전체로 파급될  리스크도 배제할 수 없다고 첨언하였음. 따라서 이러한 리스크를 고려하여 시스  템의 개방성을 유지하면서도 안정성을 확보하기 위해「동일업무-동일리스크-동  일규제」원칙을 이번 참가제도 개선의 기본 원칙으로 적용하였다고 덧붙였음.  (３) '"
      ]
     },
     "execution_count": 9,
     "metadata": {},
     "output_type": "execute_result"
    }
   ],
   "source": [
    "# Section 2\n",
    "import re\n",
    "re.sub('- [0-9] -', '', test_str) # 페이지번호 삭제\n",
    "re.sub('\\([３]\\)', '', test_str)\n",
    "\n",
    "# Section 3\n",
    "\n",
    "\\(생략\\)\n",
    "\\<붙임\\>\n",
    "개정\\(안\\)\n",
    "원안대로 가결\n",
    "의결사항\n",
    "test_str.replace('  ', '')\n",
    "# 스페이스바 2개 이상 앞에 .이면 한칸 띄우고\n",
    "# 스페이스바 2개 이상 앞에 . 아니면 합치기\n"
   ]
  },
  {
   "cell_type": "code",
   "execution_count": 12,
   "metadata": {},
   "outputs": [
    {
     "data": {
      "text/plain": [
       "'  원안대로 가결  의결사항  한국은행법 제96조 제1항에 의거 거시 금융안정상황에 대한 평가보고서를  붙임과 같이 작성하여 국회에 제출할 것을 의결한다.  <붙임> 금융안정보고서(2020년 6월)(생략)  <의안 제29호 –「지급결제제도 운영･관리규정」 개정(안)>  (   원안대로 가결  의결사항  ｢지급결제제도 운영‧관리규정｣을 붙임과 같이 개정한다  <붙임> ｢지급결제제도 운영·관리규정｣개정(안)(생략)'"
      ]
     },
     "execution_count": 12,
     "metadata": {},
     "output_type": "execute_result"
    }
   ],
   "source": [
    "test_str"
   ]
  },
  {
   "cell_type": "code",
   "execution_count": 16,
   "metadata": {},
   "outputs": [
    {
     "data": {
      "text/plain": [
       "'관련부서는 금번 보고서 작성의 기본방향과 위원협의회에서 논의된 주요 내용- 2 -을 다음과 같이 보고하였음. 먼저 금번 보고서에서는 코로나19 확산에 따른 유례없는 금융·실물 충격이 금융시스템에 미치는 영향을 점검하는 한편, 국내외 정책대응 등의 효과를 고려하여 금융안정 상황을 종합적으로 평가하였음. 다음으로 6월 11일 위원협의회에서 논의된 내용은 다음과 같음. 여러 위원들은 금번 보고서가 코로나19 확산 이후 금융불안 우려가 높아진상황에서 금융안정과 관련된 다양한 이슈를 균형있게 다루고 있다고 평가하였음. 일부 위원은 코로나19 확산 이후 금융시장 상황이 빠르게 변하고 있는 점을감안하여 입수 가능한 통계를 최대한 활용하여 최근의 움직임을 반영할 필요가있다는 의견을 제시하였음. 다른 일부 위원은 일부 중복되는 부분을 정비하고 보고서의 주요 메시지를보다 분명하게 나타낼 필요가 있다는 견해를 밝혔음. 일부 위원은 ‘금융안정 상황’ 및 ‘복원력’과 관련하여, 기업신용 상황을 분석하는 데 이용된 표본기업이 기업경영분석 등에 이용되는 표본기업과 서로 달라 독자들의 혼동을 야기할 수 있으므로 지표해석 시 유의사항을 좀 더 자세히 기술할필요가 있다는 의견을 나타내었음. 다른 일부 위원은 기업신용의 증가 원인을 수요와 공급 측면으로 나누어 기술하는 것이 좋겠다는 견해를 나타내었음. 이와 관련하여 일부 위원은 최근 기업대출 증가와 관련된 위험요인을 언급할필요가 있다는 의견을 제시하였음. 또한 일부 위원은 기업의 재무건전성 분석이 지난해까지의 통계에 기반하고있다고 언급하면서, 코로나19 확산 이후의 상황도 함께 기술할 필요가 있다는 견해를 밝혔음. 아울러 일부 위원은 회사채, CP 등의 순발행 상황, 채권시장 전망 등에 관해기술한 부분에 당행과 정부의 정책대응 내용을 추가할 필요가 있다는 의견을 제시하였음. - 3 -한편 일부 위원은 부동산금융 익스포저(exposure)의 동향을 좀 더 상세히 설명할 필요가 있다는 견해를 제시하면서, 앞으로 보다 다양한 분석지표를 추가하는 등 자산시장 부분의 내용을 더욱 내실화해 나갈 필요가 있다는 의견을 덧붙였음. 다른 일부 위원은 ‘상업용 부동산시장의 현황 및 평가’와 관련하여 가격 하락시나리오의 설정 근거를 명확히 할 필요가 있다는 의견을 제시하였음. 이와 관련하여 또 다른 일부 위원은 스트레스 테스트(stress test) 결과에 대한평가를 추가할 필요가 있다는 견해를 밝혔음. 또한 일부 위원은 대외지급능력 수준의 비교대상 기간을 보다 장기로 변경하는 것이 좋겠다는 의견을 제시하였음. 일부 위원은 ‘금융안정 현안 분석’과 관련하여, 3건의 현안 분석 간 시나리오가 상이하여 독자들이 분석결과를 해석하는 데 혼란이 발생할 수 있으므로 각 시나리오의 설정에 대한 상세한 설명을 추가할 필요가 있다는 의견을 나타내었음. 다른 일부 위원은 ‘향후 금융안정상황 전망 및 주요 리스크’와 관련하여 저금리 지속에 따른 보험사의 수익성 저하 우려에 대해서도 서술할 필요가 있다는 의견을 제시하였음. 이와 관련하여 또 다른 일부 위원은 ‘금융안정 현안 분석’ 중 보험사에 대한스트레스 테스트 결과와 ‘참고 4.비은행금융기관의 주요 리스크 요인 점검’ 중보험사의 시장리스크에 대한 평가내용 간에 일관성이 유지되고 있는지 점검할 필요가 있다는 견해를 나타내었음. 또한 일부 위원은 ‘경기충격에 따른 가계부문의 부실위험 점검’과 관련하여임금근로 가구 및 자영업 가구에 대한 시나리오를 보다 명료하게 설명할 필요가있다는 의견을 제시하였음. 이외에도 일부 위원들은 앞으로도 보고서의 가독성을 높이는 동시에 당행의여타 보고서와의 일관성을 기하는 데 계속 노력해줄 것을 당부하였음. 관련부서에서는 위원들의 의견을 반영하여 동 보고서를 수정･보완한 후 그 결과를 위원들에게 설명하였음. - 4 -이어서 본회의에서 논의된 내용은 다음과 같음. 일부 위원은 코로나 확산 이후 금융안정 관련 이슈가 금융불균형 누증에서 금융시장 불안정으로 옮겨갔다가, 최근에는 금융시장과 실물경제 간 괴리 이슈 등금융불균형 쪽으로 다시 관심이 점차 모아지고 있다고 언급하면서, 이러한 상황에서 새로운 금융안정지수의 편제는 매우 의미있는 작업이라고 평가하였음.특히새로운 지수가 주로 구조적인 금융취약성을 측정하는 데 유용하다는 점에서 금융시장의 불안정성을 잘 반영하는 현재의 금융안정지수와 상호 보완적으로 활용할경우 금융안정 상황을 종합적으로 판단하는 데 큰 도움이 될 것이라는 견해를 나타내었음. ( 3 )관련부서는 본 안건에 대해 6월 4일 위원협의회에서 논의된 내용을 다음과 같이 보고하였음. 일부 위원은 금번 제도 개선의 기본 취지가 무엇인지 물었음. 이에 대해 관련부서에서는 핀테크(Fintech) 기업 등 지급결제시장 참여기관의다양화에 대응하여 지급결제서비스 제공을 희망하는 모든 기관에 공정하고 일관- 5 -되게 적용할 수 있는 보다 개방적인 참가 제도를 마련해야 할 필요성이 증대된상황에서, 그동안 지급결제시스템의 안정성을 유지하기 위해 적용해 온 참가 정책을 일목요연하게 규정에 명시함으로써 참가 제도의 공정성과 객관성을 제고할필요가 있어 이번 제도 개선을 추진하게 되었다고 답변하였음. 다른 일부 위원은 핀테크 기업들은 예상되는 비용과 편익을 함께 고려하여 소액결제시스템에의 직접참가 여부를 결정할 것으로 예상된다고 언급하면서, 이들기업들이 소액결제망에 직접참가할 의향은 어느 정도인지 물었음. 이에 대해 관련부서에서는 주요 핀테크 기업들을 대상으로 파악한 바에 따르면, 이들은 오픈뱅킹시스템(open banking system) 등을 통해 지금도 저렴한 수수료로 지급결제서비스 제공이 가능하기 때문에 비용 측면에서는 소액결제시스템에직접참가할 유인이 그리 크지 않은 것으로 보이지만, 은행을 경유하지 않고 독자적인 자금이체 업무를 처리할 수 있는 장점 등 여타 편익까지 종합적으로 고려하여 참가 여부를 결정할 것으로 보인다고 답변하였음. 또 다른 일부 위원은 핀테크 기업에 소액결제시스템 참가를 허용할 경우 발생가능한 리스크에 대해 질의하였음. 이에 대해 관련부서에서는 영국 핀테크 업체인 Ipagoo의 파산에 따른 지급결제시스템 퇴출 사례를 통해 알 수 있듯이 기존 금융기관에 비해 재무건전성이 상대적으로 낮은 핀테크 기업의 빈번한 진입 및 퇴출이 지급결제시스템에 대한 신뢰성을 훼손시킬 가능성이 있다고 답변하였음.또한 차액결제방식이라는 국내 소액결제시스템의 특성상 이들 핀테크 기업의 결제불이행이 시스템 전체로 파급될리스크도 배제할 수 없다고 첨언하였음.따라서 이러한 리스크를 고려하여 시스템의 개방성을 유지하면서도 안정성을 확보하기 위해「동일업무-동일리스크-동일규제」원칙을 이번 참가제도 개선의 기본 원칙으로 적용하였다고 덧붙였음. (３) '"
      ]
     },
     "execution_count": 16,
     "metadata": {},
     "output_type": "execute_result"
    }
   ],
   "source": [
    "test_str.replace('.', '. ').replace('  ', '')"
   ]
  },
  {
   "cell_type": "code",
   "execution_count": 18,
   "metadata": {},
   "outputs": [
    {
     "data": {
      "text/plain": [
       "'  관련부서는 금번 보고서 작성의 기본방향과 위원협의회에서 논의된 주요 내용    - 2 -  을 다음과 같이 보고하였음.  먼저 금번 보고서에서는 코로나19 확산에 따른 유례없는 금융·실물 충격이 금  융시스템에 미치는 영향을 점검하는 한편, 국내외 정책대응 등의 효과를 고려하  여 금융안정 상황을 종합적으로 평가하였음.  다음으로 6월 11일 위원협의회에서 논의된 내용은 다음과 같음.  여러 위원들은 금번 보고서가 코로나19 확산 이후 금융불안 우려가 높아진  상황에서 금융안정과 관련된 다양한 이슈를 균형있게 다루고 있다고 평가하였음.  일부 위원은 코로나19 확산 이후 금융시장 상황이 빠르게 변하고 있는 점을  감안하여 입수 가능한 통계를 최대한 활용하여 최근의 움직임을 반영할 필요가  있다는 의견을 제시하였음.  다른 일부 위원은 일부 중복되는 부분을 정비하고 보고서의 주요 메시지를  보다 분명하게 나타낼 필요가 있다는 견해를 밝혔음.  일부 위원은 ‘금융안정 상황’ 및 ‘복원력’과 관련하여, 기업신용 상황을 분석하  는 데 이용된 표본기업이 기업경영분석 등에 이용되는 표본기업과 서로 달라 독  자들의 혼동을 야기할 수 있으므로 지표해석 시 유의사항을 좀 더 자세히 기술할  필요가 있다는 의견을 나타내었음.  다른 일부 위원은 기업신용의 증가 원인을 수요와 공급 측면으로 나누어 기  술하는 것이 좋겠다는 견해를 나타내었음.  이와 관련하여 일부 위원은 최근 기업대출 증가와 관련된 위험요인을 언급할  필요가 있다는 의견을 제시하였음.  또한 일부 위원은 기업의 재무건전성 분석이 지난해까지의 통계에 기반하고  있다고 언급하면서, 코로나19 확산 이후의 상황도 함께 기술할 필요가 있다는 견  해를 밝혔음.  아울러 일부 위원은 회사채, CP 등의 순발행 상황, 채권시장 전망 등에 관해  기술한 부분에 당행과 정부의 정책대응 내용을 추가할 필요가 있다는 의견을 제  시하였음.    - 3 -  한편 일부 위원은 부동산금융 익스포저(exposure)의 동향을 좀 더 상세히 설  명할 필요가 있다는 견해를 제시하면서, 앞으로 보다 다양한 분석지표를 추가하  는 등 자산시장 부분의 내용을 더욱 내실화해 나갈 필요가 있다는 의견을 덧붙였  음.  다른 일부 위원은 ‘상업용 부동산시장의 현황 및 평가’와 관련하여 가격 하락  시나리오의 설정 근거를 명확히 할 필요가 있다는 의견을 제시하였음.  이와 관련하여 또 다른 일부 위원은 스트레스 테스트(stress test) 결과에 대한  평가를 추가할 필요가 있다는 견해를 밝혔음.  또한 일부 위원은 대외지급능력 수준의 비교대상 기간을 보다 장기로 변경하  는 것이 좋겠다는 의견을 제시하였음.  일부 위원은 ‘금융안정 현안 분석’과 관련하여, 3건의 현안 분석 간 시나리오  가 상이하여 독자들이 분석결과를 해석하는 데 혼란이 발생할 수 있으므로 각 시  나리오의 설정에 대한 상세한 설명을 추가할 필요가 있다는 의견을 나타내었음.  다른 일부 위원은 ‘향후 금융안정상황 전망 및 주요 리스크’와 관련하여 저금  리 지속에 따른 보험사의 수익성 저하 우려에 대해서도 서술할 필요가 있다는 의  견을 제시하였음.  이와 관련하여 또 다른 일부 위원은 ‘금융안정 현안 분석’ 중 보험사에 대한  스트레스 테스트 결과와 ‘참고 4. 비은행금융기관의 주요 리스크 요인 점검’ 중  보험사의 시장리스크에 대한 평가내용 간에 일관성이 유지되고 있는지 점검할 필  요가 있다는 견해를 나타내었음.  또한 일부 위원은 ‘경기충격에 따른 가계부문의 부실위험 점검’과 관련하여  임금근로 가구 및 자영업 가구에 대한 시나리오를 보다 명료하게 설명할 필요가  있다는 의견을 제시하였음.  이외에도 일부 위원들은 앞으로도 보고서의 가독성을 높이는 동시에 당행의  여타 보고서와의 일관성을 기하는 데 계속 노력해줄 것을 당부하였음.  관련부서에서는 위원들의 의견을 반영하여 동 보고서를 수정･보완한 후 그 결  과를 위원들에게 설명하였음.    - 4 -  이어서 본회의에서 논의된 내용은 다음과 같음.  일부 위원은 코로나 확산 이후 금융안정 관련 이슈가 금융불균형 누증에서 금  융시장 불안정으로 옮겨갔다가, 최근에는 금융시장과 실물경제 간 괴리 이슈 등  금융불균형 쪽으로 다시 관심이 점차 모아지고 있다고 언급하면서, 이러한 상황  에서 새로운 금융안정지수의 편제는 매우 의미있는 작업이라고 평가하였음. 특히  새로운 지수가 주로 구조적인 금융취약성을 측정하는 데 유용하다는 점에서 금융  시장의 불안정성을 잘 반영하는 현재의 금융안정지수와 상호 보완적으로 활용할  경우 금융안정 상황을 종합적으로 판단하는 데 큰 도움이 될 것이라는 견해를 나  타내었음.  ( 3 )    관련부서는 본 안건에 대해 6월 4일 위원협의회에서 논의된 내용을 다음과 같  이 보고하였음.  일부 위원은 금번 제도 개선의 기본 취지가 무엇인지 물었음.  이에 대해 관련부서에서는 핀테크(Fintech) 기업 등 지급결제시장 참여기관의  다양화에 대응하여 지급결제서비스 제공을 희망하는 모든 기관에 공정하고 일관    - 5 -  되게 적용할 수 있는 보다 개방적인 참가 제도를 마련해야 할 필요성이 증대된  상황에서, 그동안 지급결제시스템의 안정성을 유지하기 위해 적용해 온 참가 정  책을 일목요연하게 규정에 명시함으로써 참가 제도의 공정성과 객관성을 제고할  필요가 있어 이번 제도 개선을 추진하게 되었다고 답변하였음.  다른 일부 위원은 핀테크 기업들은 예상되는 비용과 편익을 함께 고려하여 소  액결제시스템에의 직접참가 여부를 결정할 것으로 예상된다고 언급하면서, 이들  기업들이 소액결제망에 직접참가할 의향은 어느 정도인지 물었음.  이에 대해 관련부서에서는 주요 핀테크 기업들을 대상으로 파악한 바에 따르  면, 이들은 오픈뱅킹시스템(open banking system) 등을 통해 지금도 저렴한 수수  료로 지급결제서비스 제공이 가능하기 때문에 비용 측면에서는 소액결제시스템에  직접참가할 유인이 그리 크지 않은 것으로 보이지만, 은행을 경유하지 않고 독자  적인 자금이체 업무를 처리할 수 있는 장점 등 여타 편익까지 종합적으로 고려하  여 참가 여부를 결정할 것으로 보인다고 답변하였음.  또 다른 일부 위원은 핀테크 기업에 소액결제시스템 참가를 허용할 경우 발생  가능한 리스크에 대해 질의하였음.  이에 대해 관련부서에서는 영국 핀테크 업체인 Ipagoo의 파산에 따른 지급결  제시스템 퇴출 사례를 통해 알 수 있듯이 기존 금융기관에 비해 재무건전성이 상  대적으로 낮은 핀테크 기업의 빈번한 진입 및 퇴출이 지급결제시스템에 대한 신  뢰성을 훼손시킬 가능성이 있다고 답변하였음. 또한 차액결제방식이라는 국내 소  액결제시스템의 특성상 이들 핀테크 기업의 결제불이행이 시스템 전체로 파급될  리스크도 배제할 수 없다고 첨언하였음. 따라서 이러한 리스크를 고려하여 시스  템의 개방성을 유지하면서도 안정성을 확보하기 위해「동일업무-동일리스크-동  일규제」원칙을 이번 참가제도 개선의 기본 원칙으로 적용하였다고 덧붙였음.  (３) '"
      ]
     },
     "execution_count": 18,
     "metadata": {},
     "output_type": "execute_result"
    }
   ],
   "source": [
    "test_str"
   ]
  },
  {
   "cell_type": "code",
   "execution_count": null,
   "metadata": {},
   "outputs": [],
   "source": []
  },
  {
   "cell_type": "code",
   "execution_count": 1,
   "metadata": {},
   "outputs": [
    {
     "output_type": "error",
     "ename": "NameError",
     "evalue": "name 'dflkajsdlfjk' is not defined",
     "traceback": [
      "\u001b[1;31m---------------------------------------------------------------------------\u001b[0m",
      "\u001b[1;31mNameError\u001b[0m                                 Traceback (most recent call last)",
      "\u001b[1;32m<ipython-input-1-3a161c4efa58>\u001b[0m in \u001b[0;36m<module>\u001b[1;34m\u001b[0m\n\u001b[1;32m----> 1\u001b[1;33m \u001b[0mdflkajsdlfjk\u001b[0m\u001b[1;33m\u001b[0m\u001b[1;33m\u001b[0m\u001b[0m\n\u001b[0m",
      "\u001b[1;31mNameError\u001b[0m: name 'dflkajsdlfjk' is not defined"
     ]
    }
   ],
   "source": []
  },
  {
   "cell_type": "code",
   "execution_count": null,
   "metadata": {},
   "outputs": [],
   "source": []
  }
 ],
 "metadata": {
  "kernelspec": {
   "display_name": "Python 3",
   "language": "python",
   "name": "python3"
  },
  "language_info": {
   "codemirror_mode": {
    "name": "ipython",
    "version": 3
   },
   "file_extension": ".py",
   "mimetype": "text/x-python",
   "name": "python",
   "nbconvert_exporter": "python",
   "pygments_lexer": "ipython3",
   "version": "3.7.6"
  }
 },
 "nbformat": 4,
 "nbformat_minor": 4
}