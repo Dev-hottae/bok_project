{
 "cells": [
  {
   "cell_type": "code",
   "execution_count": null,
   "metadata": {},
   "outputs": [],
   "source": [
    "pip install tika"
   ]
  },
  {
   "cell_type": "code",
   "execution_count": 51,
   "metadata": {},
   "outputs": [],
   "source": [
    "# 의사록 Crawling\n",
    "\n",
    "import requests\n",
    "from bs4 import BeautifulSoup\n",
    "from tika import parser\n",
    "import pandas as pd\n",
    "\n",
    "start_page = 1\n",
    "current_page = start_page\n",
    "end_page = 31\n",
    "\n",
    "# 32페이지는 링크따와서 수작업\n",
    "host = 'http://www.bok.or.kr/'\n",
    "result_df = pd.DataFrame(columns=['date', 'text'])\n",
    "\n",
    "while True:\n",
    "\n",
    "    URL = 'http://www.bok.or.kr/portal/bbs/B0000245/list.do?menuNo=200761&pageIndex={}'.format(current_page)\n",
    "    r = requests.get(URL)\n",
    "    sp = BeautifulSoup(r.text, 'html.parser')\n",
    "    results = sp.select('div.fileGoupBox ul')\n",
    "    \n",
    "    for i, result in enumerate(results):\n",
    "        pdf_date = sp.select('span.date')[i].text[3:]\n",
    "        \n",
    "        pdf_temp = requests.get(host + result.select('li')[1].select('a')[0].attrs['href'])\n",
    "\n",
    "        with open('bok.pdf', 'wb') as f:\n",
    "            f.write(pdf_temp.content)\n",
    "        \n",
    "        parsed = parser.from_file('bok.pdf')\n",
    "        temp_text = str(parsed['content']).strip()\n",
    "        temp_df = pd.DataFrame([{'date':pdf_date, 'text':temp_text}])\n",
    "        result_df = pd.concat([result_df, temp_df])\n",
    "\n",
    "    if current_page == end_page:\n",
    "        result_df.to_csv('datas.csv')\n",
    "        break\n",
    "    current_page += 1\n"
   ]
  },
  {
   "cell_type": "code",
   "execution_count": 113,
   "metadata": {},
   "outputs": [],
   "source": [
    "# 32 페이지 수작업 부분\n",
    "URL = 'http://www.bok.or.kr/portal/bbs/B0000245/list.do?menuNo=200761&pageIndex=32'\n",
    "r = requests.get(URL)\n",
    "sp = BeautifulSoup(r.text, 'html.parser')\n",
    "results = sp.select('div.fileGoupBox ul')\n",
    "\n",
    "for i, result in enumerate(results):\n",
    "    pdf_date = sp.select('span.date')[i].text[3:]\n",
    "\n",
    "    pdf_temp = requests.get(host + result.select('li')[1].select('a')[0].attrs['href'])\n",
    "\n",
    "    with open('bok.pdf', 'wb') as f:\n",
    "        f.write(pdf_temp.content)\n",
    "\n",
    "    parsed = parser.from_file('bok.pdf')\n",
    "    temp_text = str(parsed['content']).strip()\n",
    "    temp_df = pd.DataFrame([{'date':pdf_date, 'text':temp_text}])\n",
    "    test_df = pd.concat([test_df, temp_df])"
   ]
  },
  {
   "cell_type": "code",
   "execution_count": 111,
   "metadata": {},
   "outputs": [],
   "source": [
    "URL = 'http://www.bok.or.kr/portal/bbs/B0000245/list.do?menuNo=200761&pageIndex=32'\n",
    "r = requests.get(URL)\n",
    "sp = BeautifulSoup(r.text, 'html.parser')\n",
    "results = sp.select('div.fileGoupBox ul')"
   ]
  },
  {
   "cell_type": "code",
   "execution_count": 78,
   "metadata": {},
   "outputs": [],
   "source": [
    "results = sp.select('div.fileLink')"
   ]
  },
  {
   "cell_type": "code",
   "execution_count": 88,
   "metadata": {},
   "outputs": [
    {
     "data": {
      "text/plain": [
       "'/portal/cmmn/file/fileDown.do?menuNo=200761&atchFileId=KO_00000000000085858&fileSn=1'"
      ]
     },
     "execution_count": 88,
     "metadata": {},
     "output_type": "execute_result"
    }
   ],
   "source": [
    "results[1].select('a')[0].attrs['href']"
   ]
  },
  {
   "cell_type": "code",
   "execution_count": 74,
   "metadata": {},
   "outputs": [],
   "source": [
    "pdf_date = sp.select('span.date')[7].text[3:]"
   ]
  },
  {
   "cell_type": "code",
   "execution_count": 101,
   "metadata": {},
   "outputs": [],
   "source": [
    "for i, result in enumerate(results):\n",
    "    if i==0:\n",
    "        continue\n",
    "    \n",
    "    pdf_date = sp.select('span.date')[i].text[3:]\n",
    "\n",
    "    pdf_temp = requests.get(host + results[i].select('a')[0].attrs['href'])\n",
    "\n",
    "    with open('bok.hwp', 'wb') as f:\n",
    "        f.write(pdf_temp.content)\n",
    "\n",
    "    parsed = parser.from_file('bok.hwp')\n",
    "    temp_text = str(parsed['content']).strip()\n",
    "    temp_df = pd.DataFrame([{'date':pdf_date, 'text':temp_text}])\n",
    "    test_df = pd.concat([test_df, temp_df])\n",
    "\n"
   ]
  },
  {
   "cell_type": "code",
   "execution_count": 106,
   "metadata": {},
   "outputs": [],
   "source": [
    "test_df.to_csv('bok_data.csv',encoding='utf-8')"
   ]
  },
  {
   "cell_type": "code",
   "execution_count": 125,
   "metadata": {},
   "outputs": [],
   "source": [
    "# pd.read_csv('bok_data.csv').iloc[309:]"
   ]
  },
  {
   "cell_type": "code",
   "execution_count": 116,
   "metadata": {},
   "outputs": [],
   "source": [
    "test_df.to_csv('bok_data.csv',encoding='utf-8')"
   ]
  },
  {
   "cell_type": "code",
   "execution_count": 124,
   "metadata": {},
   "outputs": [],
   "source": [
    "# pd.read_csv('bok_data.csv').iloc[319]['text']"
   ]
  },
  {
   "cell_type": "code",
   "execution_count": null,
   "metadata": {},
   "outputs": [],
   "source": []
  }
 ],
 "metadata": {
  "kernelspec": {
   "display_name": "Python 3",
   "language": "python",
   "name": "python3"
  },
  "language_info": {
   "codemirror_mode": {
    "name": "ipython",
    "version": 3
   },
   "file_extension": ".py",
   "mimetype": "text/x-python",
   "name": "python",
   "nbconvert_exporter": "python",
   "pygments_lexer": "ipython3",
   "version": "3.7.6"
  }
 },
 "nbformat": 4,
 "nbformat_minor": 4
}
