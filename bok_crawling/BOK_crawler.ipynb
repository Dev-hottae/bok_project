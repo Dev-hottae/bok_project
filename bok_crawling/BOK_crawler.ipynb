{
 "cells": [
  {
   "cell_type": "markdown",
   "metadata": {},
   "source": [
    "# 의사록 데이터 크롤링"
   ]
  },
  {
   "cell_type": "code",
   "execution_count": 2,
   "metadata": {},
   "outputs": [
    {
     "name": "stdout",
     "output_type": "stream",
     "text": [
      "Collecting tika\n",
      "  Downloading tika-1.24.tar.gz (28 kB)\n",
      "Requirement already satisfied: setuptools in c:\\users\\student\\anaconda3\\lib\\site-packages (from tika) (45.2.0.post20200210)\n",
      "Requirement already satisfied: requests in c:\\users\\student\\anaconda3\\lib\\site-packages (from tika) (2.22.0)\n",
      "Requirement already satisfied: certifi>=2017.4.17 in c:\\users\\student\\anaconda3\\lib\\site-packages (from requests->tika) (2019.11.28)\n",
      "Requirement already satisfied: idna<2.9,>=2.5 in c:\\users\\student\\anaconda3\\lib\\site-packages (from requests->tika) (2.8)\n",
      "Requirement already satisfied: urllib3!=1.25.0,!=1.25.1,<1.26,>=1.21.1 in c:\\users\\student\\anaconda3\\lib\\site-packages (from requests->tika) (1.25.8)\n",
      "Requirement already satisfied: chardet<3.1.0,>=3.0.2 in c:\\users\\student\\anaconda3\\lib\\site-packages (from requests->tika) (3.0.4)\n",
      "Building wheels for collected packages: tika\n",
      "  Building wheel for tika (setup.py): started\n",
      "  Building wheel for tika (setup.py): finished with status 'done'\n",
      "  Created wheel for tika: filename=tika-1.24-py3-none-any.whl size=32888 sha256=b2ad79c85673f8cfcf5cbdd2b62ae02f184e0cc9ab246065c5dc8a31e842ea4c\n",
      "  Stored in directory: c:\\users\\student\\appdata\\local\\pip\\cache\\wheels\\ec\\2b\\38\\58ff05467a742e32f67f5d0de048fa046e764e2fbb25ac93f3\n",
      "Successfully built tika\n",
      "Installing collected packages: tika\n",
      "Successfully installed tika-1.24\n",
      "Note: you may need to restart the kernel to use updated packages.\n"
     ]
    }
   ],
   "source": [
    "pip install tika"
   ]
  },
  {
   "cell_type": "code",
   "execution_count": 12,
   "metadata": {},
   "outputs": [],
   "source": [
    "import requests\n",
    "from bs4 import BeautifulSoup\n",
    "from tika import parser\n",
    "import pandas as pd\n",
    "from IPython.display import clear_output\n",
    "import re"
   ]
  },
  {
   "cell_type": "code",
   "execution_count": 49,
   "metadata": {},
   "outputs": [
    {
     "name": "stdout",
     "output_type": "stream",
     "text": [
      "데이터 크롤링 완료 ! bok_datas.csv에서 확인 가능\n"
     ]
    }
   ],
   "source": [
    "# 의사록 Crawling\n",
    "\n",
    "import requests\n",
    "from bs4 import BeautifulSoup\n",
    "from tika import parser\n",
    "import pandas as pd\n",
    "from IPython.display import clear_output\n",
    "\n",
    "start_page = 1\n",
    "current_page = start_page\n",
    "end_page = 31\n",
    "\n",
    "# 32페이지는 링크따와서 수작업\n",
    "host = 'http://www.bok.or.kr/'\n",
    "result_df = pd.DataFrame(columns=['date', 'text'])\n",
    "\n",
    "while True:\n",
    "    URL = 'http://www.bok.or.kr/portal/bbs/B0000245/list.do?menuNo=200761&pageIndex={}'.format(current_page)\n",
    "    r = requests.get(URL)\n",
    "    sp = BeautifulSoup(r.text, 'html.parser')\n",
    "    results = sp.select('div.fileGoupBox ul')\n",
    "    \n",
    "    for i, result in enumerate(results):\n",
    "        pdf_date = re.search('[0-9]{4}\\.[0-9]{1,2}\\.[0-9]{1,2}', sp.select('span.titlesub')[i].text).group()\n",
    "        \n",
    "        pdf_temp = requests.get(host + result.select('li')[1].select('a')[0].attrs['href'])\n",
    "\n",
    "        with open('bok.pdf', 'wb') as f:\n",
    "            f.write(pdf_temp.content)\n",
    "        \n",
    "        parsed = parser.from_file('bok.pdf')\n",
    "        temp_text = str(parsed['content']).strip()\n",
    "        temp_df = pd.DataFrame([{'date':pdf_date, 'text':temp_text}])\n",
    "        result_df = pd.concat([result_df, temp_df])\n",
    "    \n",
    "    clear_output(wait=True)\n",
    "    print('크롤링 {}% 진행 중...'.format(int((current_page/end_page)*100)))\n",
    "        \n",
    "    if current_page == end_page:\n",
    "        clear_output(wait=True)\n",
    "        print('데이터 크롤링 완료 ! bok_datas.csv에서 확인 가능')\n",
    "        result_df.to_csv('bok_datas.csv')\n",
    "        break\n",
    "    current_page += 1"
   ]
  },
  {
   "cell_type": "code",
   "execution_count": 24,
   "metadata": {},
   "outputs": [],
   "source": [
    "# 32 페이지 수작업 부분\n",
    "URL = 'http://www.bok.or.kr/portal/bbs/B0000245/list.do?menuNo=200761&pageIndex=32'\n",
    "r = requests.get(URL)\n",
    "sp = BeautifulSoup(r.text, 'html.parser')\n",
    "results = sp.select('div.fileGoupBox ul')\n",
    "\n",
    "for i, result in enumerate(results):\n",
    "    pdf_date = re.search('[0-9]{4}\\.[0-9]{1,2}\\.[0-9]{1,2}', sp.select('span.titlesub')[i].text).group()\n",
    "\n",
    "    pdf_temp = requests.get(host + result.select('li')[1].select('a')[0].attrs['href'])\n",
    "\n",
    "    with open('bok.pdf', 'wb') as f:\n",
    "        f.write(pdf_temp.content)\n",
    "\n",
    "    parsed = parser.from_file('bok.pdf')\n",
    "    temp_text = str(parsed['content']).strip()\n",
    "    temp_df = pd.DataFrame([{'date':pdf_date, 'text':temp_text}])"
   ]
  },
  {
   "cell_type": "code",
   "execution_count": 25,
   "metadata": {},
   "outputs": [
    {
     "data": {
      "text/html": [
       "<div>\n",
       "<style scoped>\n",
       "    .dataframe tbody tr th:only-of-type {\n",
       "        vertical-align: middle;\n",
       "    }\n",
       "\n",
       "    .dataframe tbody tr th {\n",
       "        vertical-align: top;\n",
       "    }\n",
       "\n",
       "    .dataframe thead th {\n",
       "        text-align: right;\n",
       "    }\n",
       "</style>\n",
       "<table border=\"1\" class=\"dataframe\">\n",
       "  <thead>\n",
       "    <tr style=\"text-align: right;\">\n",
       "      <th></th>\n",
       "      <th>date</th>\n",
       "      <th>text</th>\n",
       "    </tr>\n",
       "  </thead>\n",
       "  <tbody>\n",
       "    <tr>\n",
       "      <th>0</th>\n",
       "      <td>2005.6.9</td>\n",
       "      <td>130.1.17.56-minute12.hwp\\n\\n\\n- 1 -\\n\\n金融通貨委員會...</td>\n",
       "    </tr>\n",
       "  </tbody>\n",
       "</table>\n",
       "</div>"
      ],
      "text/plain": [
       "       date                                               text\n",
       "0  2005.6.9  130.1.17.56-minute12.hwp\\n\\n\\n- 1 -\\n\\n金融通貨委員會..."
      ]
     },
     "execution_count": 25,
     "metadata": {},
     "output_type": "execute_result"
    }
   ],
   "source": [
    "temp_df"
   ]
  },
  {
   "cell_type": "code",
   "execution_count": 52,
   "metadata": {},
   "outputs": [],
   "source": [
    "result_df = pd.concat([result_df, temp_df])"
   ]
  },
  {
   "cell_type": "code",
   "execution_count": null,
   "metadata": {},
   "outputs": [],
   "source": [
    "result_df"
   ]
  },
  {
   "cell_type": "code",
   "execution_count": 13,
   "metadata": {},
   "outputs": [
    {
     "name": "stderr",
     "output_type": "stream",
     "text": [
      "2020-07-24 16:26:00,934 [MainThread  ] [WARNI]  Failed to see startup log message; retrying...\n"
     ]
    }
   ],
   "source": [
    "# 안돌림\n",
    "for i, result in enumerate(results):\n",
    "    if i==0:\n",
    "        continue\n",
    "    \n",
    "    pdf_date = re.search('[0-9]{4}\\.[0-9]{1,2}\\.[0-9]{1,2}', sp.select('span.titlesub')[i].text).group()\n",
    "\n",
    "    pdf_temp = requests.get('http://www.bok.or.kr/portal/cmmn/file/fileDown.do?menuNo=200761&atchFileId=KO_00000000000085858&fileSn=1')\n",
    "\n",
    "    with open('bok.hwp', 'wb') as f:\n",
    "        f.write(pdf_temp.content)\n",
    "\n",
    "    parsed = parser.from_file('bok.hwp')\n",
    "    temp_text = str(parsed['content']).strip()\n",
    "    temp_df = pd.DataFrame([{'date':pdf_date, 'text':temp_text}])\n",
    "    \n"
   ]
  },
  {
   "cell_type": "code",
   "execution_count": 28,
   "metadata": {
    "scrolled": true
   },
   "outputs": [
    {
     "data": {
      "text/html": [
       "<div>\n",
       "<style scoped>\n",
       "    .dataframe tbody tr th:only-of-type {\n",
       "        vertical-align: middle;\n",
       "    }\n",
       "\n",
       "    .dataframe tbody tr th {\n",
       "        vertical-align: top;\n",
       "    }\n",
       "\n",
       "    .dataframe thead th {\n",
       "        text-align: right;\n",
       "    }\n",
       "</style>\n",
       "<table border=\"1\" class=\"dataframe\">\n",
       "  <thead>\n",
       "    <tr style=\"text-align: right;\">\n",
       "      <th></th>\n",
       "      <th>date</th>\n",
       "      <th>text</th>\n",
       "    </tr>\n",
       "  </thead>\n",
       "  <tbody>\n",
       "    <tr>\n",
       "      <th>0</th>\n",
       "      <td>2005.5.12</td>\n",
       "      <td>6.12.금통위 \\n\\n金融通貨委員會 議事錄 \\n\\n2005년도 제10차 회의 \\n...</td>\n",
       "    </tr>\n",
       "  </tbody>\n",
       "</table>\n",
       "</div>"
      ],
      "text/plain": [
       "        date                                               text\n",
       "0  2005.5.12  6.12.금통위 \\n\\n金融通貨委員會 議事錄 \\n\\n2005년도 제10차 회의 \\n..."
      ]
     },
     "execution_count": 28,
     "metadata": {},
     "output_type": "execute_result"
    }
   ],
   "source": [
    "pdf_temp = requests.get('http://www.bok.or.kr/portal/cmmn/file/fileDown.do?menuNo=200761&atchFileId=KO_00000000000085858&fileSn=1')\n",
    "pdf_date = '2005.5.12'\n",
    "with open('bok.hwp', 'wb') as f:\n",
    "    f.write(pdf_temp.content)\n",
    "\n",
    "parsed = parser.from_file('bok.hwp')\n",
    "temp_text = str(parsed['content']).strip()\n",
    "temp_df = pd.DataFrame([{'date':pdf_date, 'text':temp_text}])\n",
    "temp_df"
   ]
  },
  {
   "cell_type": "code",
   "execution_count": 20,
   "metadata": {},
   "outputs": [],
   "source": [
    "import pandas as pd\n",
    "bok_df = pd.read_csv('bok_datas.csv')"
   ]
  },
  {
   "cell_type": "code",
   "execution_count": 31,
   "metadata": {},
   "outputs": [],
   "source": [
    "bok_df.to_csv('bok_datas.csv')"
   ]
  },
  {
   "cell_type": "code",
   "execution_count": 29,
   "metadata": {},
   "outputs": [],
   "source": [
    "bok_df = pd.concat([bok_df, temp_df])"
   ]
  },
  {
   "cell_type": "code",
   "execution_count": null,
   "metadata": {},
   "outputs": [],
   "source": [
    "result_df.to_csv('bok_datas.csv', encoding='utf-8')"
   ]
  },
  {
   "cell_type": "code",
   "execution_count": 33,
   "metadata": {},
   "outputs": [],
   "source": [
    "import pandas as pd\n",
    "bok_df = pd.read_csv('bok_datas.csv', index_col=0)"
   ]
  },
  {
   "cell_type": "code",
   "execution_count": 35,
   "metadata": {},
   "outputs": [
    {
     "data": {
      "text/html": [
       "<div>\n",
       "<style scoped>\n",
       "    .dataframe tbody tr th:only-of-type {\n",
       "        vertical-align: middle;\n",
       "    }\n",
       "\n",
       "    .dataframe tbody tr th {\n",
       "        vertical-align: top;\n",
       "    }\n",
       "\n",
       "    .dataframe thead th {\n",
       "        text-align: right;\n",
       "    }\n",
       "</style>\n",
       "<table border=\"1\" class=\"dataframe\">\n",
       "  <thead>\n",
       "    <tr style=\"text-align: right;\">\n",
       "      <th></th>\n",
       "      <th>date</th>\n",
       "      <th>text</th>\n",
       "    </tr>\n",
       "  </thead>\n",
       "  <tbody>\n",
       "    <tr>\n",
       "      <th>0</th>\n",
       "      <td>2005.8.11</td>\n",
       "      <td>130.1.17.56-minute17.hwp\\n\\n\\n- 1 -\\n\\n金融通貨委員會...</td>\n",
       "    </tr>\n",
       "    <tr>\n",
       "      <th>0</th>\n",
       "      <td>2005.7.7</td>\n",
       "      <td>130.1.17.56-minute14.hwp\\n\\n\\n- 1 -\\n\\n金融通貨委員會...</td>\n",
       "    </tr>\n",
       "    <tr>\n",
       "      <th>0</th>\n",
       "      <td>2005.6.23</td>\n",
       "      <td>130.1.17.56-minute13.hwp\\n\\n\\n- 1 -\\n\\n金融通貨委員會...</td>\n",
       "    </tr>\n",
       "    <tr>\n",
       "      <th>0</th>\n",
       "      <td>2005.6.9</td>\n",
       "      <td>130.1.17.56-minute12.hwp\\n\\n\\n- 1 -\\n\\n金融通貨委員會...</td>\n",
       "    </tr>\n",
       "    <tr>\n",
       "      <th>0</th>\n",
       "      <td>2005.5.12</td>\n",
       "      <td>6.12.금통위 \\n\\n金融通貨委員會 議事錄 \\n\\n2005년도 제10차 회의 \\n...</td>\n",
       "    </tr>\n",
       "  </tbody>\n",
       "</table>\n",
       "</div>"
      ],
      "text/plain": [
       "        date                                               text\n",
       "0  2005.8.11  130.1.17.56-minute17.hwp\\n\\n\\n- 1 -\\n\\n金融通貨委員會...\n",
       "0   2005.7.7  130.1.17.56-minute14.hwp\\n\\n\\n- 1 -\\n\\n金融通貨委員會...\n",
       "0  2005.6.23  130.1.17.56-minute13.hwp\\n\\n\\n- 1 -\\n\\n金融通貨委員會...\n",
       "0   2005.6.9  130.1.17.56-minute12.hwp\\n\\n\\n- 1 -\\n\\n金融通貨委員會...\n",
       "0  2005.5.12  6.12.금통위 \\n\\n金融通貨委員會 議事錄 \\n\\n2005년도 제10차 회의 \\n..."
      ]
     },
     "execution_count": 35,
     "metadata": {},
     "output_type": "execute_result"
    }
   ],
   "source": [
    "bok_df.tail() # 앞부분 다름 index 299 양식 다름 - 여러 개 있음 index 300~ 양식 다름"
   ]
  },
  {
   "cell_type": "code",
   "execution_count": 34,
   "metadata": {},
   "outputs": [
    {
     "data": {
      "text/html": [
       "<div>\n",
       "<style scoped>\n",
       "    .dataframe tbody tr th:only-of-type {\n",
       "        vertical-align: middle;\n",
       "    }\n",
       "\n",
       "    .dataframe tbody tr th {\n",
       "        vertical-align: top;\n",
       "    }\n",
       "\n",
       "    .dataframe thead th {\n",
       "        text-align: right;\n",
       "    }\n",
       "</style>\n",
       "<table border=\"1\" class=\"dataframe\">\n",
       "  <thead>\n",
       "    <tr style=\"text-align: right;\">\n",
       "      <th></th>\n",
       "      <th>date</th>\n",
       "      <th>text</th>\n",
       "    </tr>\n",
       "  </thead>\n",
       "  <tbody>\n",
       "    <tr>\n",
       "      <th>0</th>\n",
       "      <td>2020.6.24</td>\n",
       "      <td>2020년도 제14차\\n\\n금융통화위원회(정기) 의사록\\n\\n한 국 은 행\\n\\n\\...</td>\n",
       "    </tr>\n",
       "    <tr>\n",
       "      <th>0</th>\n",
       "      <td>2020.6.11</td>\n",
       "      <td>2020년도 제13차\\n\\n금융통화위원회(정기) 의사록\\n\\n한 국 은 행\\n\\n\\...</td>\n",
       "    </tr>\n",
       "    <tr>\n",
       "      <th>0</th>\n",
       "      <td>2020.5.28</td>\n",
       "      <td>2020년도 제12차\\n\\n금융통화위원회(정기) 의사록\\n\\n한 국 은 행\\n\\n\\...</td>\n",
       "    </tr>\n",
       "    <tr>\n",
       "      <th>0</th>\n",
       "      <td>2020.5.14</td>\n",
       "      <td>2020년도 제11차\\n\\n금융통화위원회(정기) 의사록\\n\\n한 국 은 행\\n\\n\\...</td>\n",
       "    </tr>\n",
       "    <tr>\n",
       "      <th>0</th>\n",
       "      <td>2020.4.16</td>\n",
       "      <td>2020년도 제9차\\n\\n금융통화위원회(임시) 의사록\\n\\n한 국 은 행\\n\\n\\n...</td>\n",
       "    </tr>\n",
       "    <tr>\n",
       "      <th>...</th>\n",
       "      <td>...</td>\n",
       "      <td>...</td>\n",
       "    </tr>\n",
       "    <tr>\n",
       "      <th>0</th>\n",
       "      <td>2005.8.11</td>\n",
       "      <td>130.1.17.56-minute17.hwp\\n\\n\\n- 1 -\\n\\n金融通貨委員會...</td>\n",
       "    </tr>\n",
       "    <tr>\n",
       "      <th>0</th>\n",
       "      <td>2005.7.7</td>\n",
       "      <td>130.1.17.56-minute14.hwp\\n\\n\\n- 1 -\\n\\n金融通貨委員會...</td>\n",
       "    </tr>\n",
       "    <tr>\n",
       "      <th>0</th>\n",
       "      <td>2005.6.23</td>\n",
       "      <td>130.1.17.56-minute13.hwp\\n\\n\\n- 1 -\\n\\n金融通貨委員會...</td>\n",
       "    </tr>\n",
       "    <tr>\n",
       "      <th>0</th>\n",
       "      <td>2005.6.9</td>\n",
       "      <td>130.1.17.56-minute12.hwp\\n\\n\\n- 1 -\\n\\n金融通貨委員會...</td>\n",
       "    </tr>\n",
       "    <tr>\n",
       "      <th>0</th>\n",
       "      <td>2005.5.12</td>\n",
       "      <td>6.12.금통위 \\n\\n金融通貨委員會 議事錄 \\n\\n2005년도 제10차 회의 \\n...</td>\n",
       "    </tr>\n",
       "  </tbody>\n",
       "</table>\n",
       "<p>312 rows × 2 columns</p>\n",
       "</div>"
      ],
      "text/plain": [
       "         date                                               text\n",
       "0   2020.6.24  2020년도 제14차\\n\\n금융통화위원회(정기) 의사록\\n\\n한 국 은 행\\n\\n\\...\n",
       "0   2020.6.11  2020년도 제13차\\n\\n금융통화위원회(정기) 의사록\\n\\n한 국 은 행\\n\\n\\...\n",
       "0   2020.5.28  2020년도 제12차\\n\\n금융통화위원회(정기) 의사록\\n\\n한 국 은 행\\n\\n\\...\n",
       "0   2020.5.14  2020년도 제11차\\n\\n금융통화위원회(정기) 의사록\\n\\n한 국 은 행\\n\\n\\...\n",
       "0   2020.4.16  2020년도 제9차\\n\\n금융통화위원회(임시) 의사록\\n\\n한 국 은 행\\n\\n\\n...\n",
       "..        ...                                                ...\n",
       "0   2005.8.11  130.1.17.56-minute17.hwp\\n\\n\\n- 1 -\\n\\n金融通貨委員會...\n",
       "0    2005.7.7  130.1.17.56-minute14.hwp\\n\\n\\n- 1 -\\n\\n金融通貨委員會...\n",
       "0   2005.6.23  130.1.17.56-minute13.hwp\\n\\n\\n- 1 -\\n\\n金融通貨委員會...\n",
       "0    2005.6.9  130.1.17.56-minute12.hwp\\n\\n\\n- 1 -\\n\\n金融通貨委員會...\n",
       "0   2005.5.12  6.12.금통위 \\n\\n金融通貨委員會 議事錄 \\n\\n2005년도 제10차 회의 \\n...\n",
       "\n",
       "[312 rows x 2 columns]"
      ]
     },
     "execution_count": 34,
     "metadata": {},
     "output_type": "execute_result"
    }
   ],
   "source": [
    "bok_df"
   ]
  },
  {
   "cell_type": "markdown",
   "metadata": {},
   "source": [
    "# 의사록 Section 분리"
   ]
  },
  {
   "cell_type": "code",
   "execution_count": 36,
   "metadata": {},
   "outputs": [],
   "source": [
    "import re\n",
    "import numpy as np\n",
    "def section_split(bok_text):\n",
    "    bok_text = bok_text.replace('\\n', ' ')\n",
    "    s2_ls = []\n",
    "    s3_ls = []\n",
    "    section2 = re.finditer('(?<=원 토의내용)((?!심의결과).)*', bok_text)\n",
    "    for s2 in section2:\n",
    "        s2_ls.append(s2.group())\n",
    "    section3 = re.finditer('(?<=심의결과)[^１]*', bok_text)\n",
    "    for s3 in section3:\n",
    "        s3_ls.append(s3.group())\n",
    "    return ' '.join(s2_ls), ' '.join(s3_ls)\n",
    "\n",
    "\n",
    "split_text = list(map(section_split, bok_df['text']))"
   ]
  },
  {
   "cell_type": "code",
   "execution_count": 37,
   "metadata": {},
   "outputs": [
    {
     "data": {
      "text/plain": [
       "312"
      ]
     },
     "execution_count": 37,
     "metadata": {},
     "output_type": "execute_result"
    }
   ],
   "source": [
    "len(split_text)"
   ]
  },
  {
   "cell_type": "code",
   "execution_count": 38,
   "metadata": {},
   "outputs": [],
   "source": [
    "s2_ls = []\n",
    "s3_ls = []\n",
    "\n",
    "for doc in split_text:\n",
    "    s2_ls.append(doc[0])\n",
    "    s3_ls.append(doc[1])"
   ]
  },
  {
   "cell_type": "code",
   "execution_count": 39,
   "metadata": {},
   "outputs": [],
   "source": [
    "bok_df['section2'] = s2_ls"
   ]
  },
  {
   "cell_type": "code",
   "execution_count": 40,
   "metadata": {},
   "outputs": [],
   "source": [
    "bok_df['section3'] = s3_ls"
   ]
  },
  {
   "cell_type": "code",
   "execution_count": 41,
   "metadata": {},
   "outputs": [],
   "source": [
    "bok_df[['date', 'section2','section3']].to_csv('bok_split_section.csv', encoding='utf-8')"
   ]
  },
  {
   "cell_type": "code",
   "execution_count": 42,
   "metadata": {},
   "outputs": [
    {
     "data": {
      "text/plain": [
       "date        0\n",
       "text        0\n",
       "section2    0\n",
       "section3    0\n",
       "dtype: int64"
      ]
     },
     "execution_count": 42,
     "metadata": {},
     "output_type": "execute_result"
    }
   ],
   "source": [
    "bok_df.isnull().sum()"
   ]
  },
  {
   "cell_type": "code",
   "execution_count": 43,
   "metadata": {},
   "outputs": [
    {
     "data": {
      "text/plain": [
       "''"
      ]
     },
     "execution_count": 43,
     "metadata": {},
     "output_type": "execute_result"
    }
   ],
   "source": [
    "bok_df.iloc[30]['section2']"
   ]
  },
  {
   "cell_type": "code",
   "execution_count": 44,
   "metadata": {},
   "outputs": [
    {
     "data": {
      "text/plain": [
       "'2018년도 제23차\\n\\n금융통화위원회(정기) 의사록\\n\\n한 국 은 행\\n\\n\\n\\n- 1 -\\n\\n1. 일 자 2018년 12월 6일(목)\\n\\n2. 장 소 금융통화위원회 회의실\\n\\n3. 출석위원 이 주 열 의 장(총재)\\n\\n이 일 형 위 원\\n\\n조 동 철 위 원\\n\\n고 승 범 위 원\\n\\n신 인 석 위 원\\n\\n윤 면 식 위 원(부총재)\\n\\n임 지 원 위 원\\n\\n4. 결석위원 없 음\\n\\n5. 참 여 자 장 호 현 감 사 임 형 준 부총재보\\n\\n허 진 호 부총재보 신 호 순 부총재보\\n\\n정 규 일 부총재보 서 봉 국 외자운용원장\\n\\n이 환 석 조사국장 손 욱 경제연구원장\\n\\n신 운 금융안정국장 박 종 석 통화정책국장\\n\\n이 상 형 금융시장국장 이 승 헌 국제국장\\n\\n장 정 석 금융통화위원회실장 김 현 기 공보관\\n\\n성 광 진 의사팀장\\n\\n6. 회의경과\\n\\n<의안 제39호 - 대부업 등의 등록 및 금융이용자 보호에 관한 법률 시행령\\n\\n제9조제3항제1호의 연체이자율에 관한 규정 폐지규정(안)>\\n\\n(１) 담당 부총재보가 대부업 등의 등록 및 금융이용자 보호에 관한 법률 시\\n\\n행령 개정으로 한국은행법 제11조에 따른 금융기관에 대한 연체이자율 상한을\\n\\n금융위원회에서 정하게 됨에 따라 관련 규정을 폐지하고자 한다는 내용의 제안설\\n\\n명을 하였음.\\n\\n(２) 심의결과\\n\\n원안대로 가결\\n\\n\\n\\n- 2 -\\n\\n의결사항\\n\\n대부업 등의 등록 및 금융이용자 보호에 관한 법률 시행령 제9조제3항\\n\\n제1호의 연체이자율에 관한 규정 을 붙임과 같이 폐지한다.\\n\\n<붙임> 대부업 등의 등록 및 금융이용자 보호에 관한 법률 시행령 제9조\\n\\n제3항제1호의 연체이자율에 관한 규정 폐지규정(안)'"
      ]
     },
     "execution_count": 44,
     "metadata": {},
     "output_type": "execute_result"
    }
   ],
   "source": [
    "bok_df.iloc[30]['text']"
   ]
  },
  {
   "cell_type": "code",
   "execution_count": 46,
   "metadata": {},
   "outputs": [],
   "source": [
    "import pandas as pd\n",
    "bok_datas = pd.read_csv('bok_split_section.csv',encoding='utf-8', index_col = 0)\n",
    "# bok_datas = bok_datas[['date', 'section2', 'section3']]"
   ]
  },
  {
   "cell_type": "code",
   "execution_count": 35,
   "metadata": {},
   "outputs": [],
   "source": [
    "# 확인용 안 돌림\n",
    "for i in bok_datas.iloc:\n",
    "    if type(i['section2']) != type(np.nan):\n",
    "        if '정부측' in i['section2']:\n",
    "            pass\n",
    "#             print(i['section2'])\n",
    "            \n",
    "    else:\n",
    "        print(i['date'])\n",
    "        print(i['section3'])"
   ]
  },
  {
   "cell_type": "code",
   "execution_count": 36,
   "metadata": {},
   "outputs": [],
   "source": [
    "test_str = bok_datas['section2'][50]"
   ]
  },
  {
   "cell_type": "markdown",
   "metadata": {},
   "source": [
    "# 의사록 데이터 전처리"
   ]
  },
  {
   "cell_type": "code",
   "execution_count": 37,
   "metadata": {
    "scrolled": true
   },
   "outputs": [],
   "source": [
    "import random\n",
    "bok_datas['section3'][random.randint(0,310)]"
   ]
  },
  {
   "cell_type": "code",
   "execution_count": 48,
   "metadata": {},
   "outputs": [],
   "source": [
    "# Section 2\n",
    "\n",
    "import re\n",
    "\n",
    "for se2 in bok_datas.iloc:\n",
    "    if type(se2['section2']) != type(np.nan):\n",
    "        se2.section2 = se2.section2.strip()\n",
    "        se2.section2 = re.sub('- [0-9]{1,2} -', '', se2.section2) # 페이지번호 삭제\n",
    "        se2.section2 = re.sub('\\([３４５６７８９0-9 ]*\\)', '', se2.section2) # Section 분리기준 삭제\n",
    "        se2.section2 = re.sub('\\([가-힣]*\\)', '', se2.section2) #가나다기호 삭제\n",
    "\n",
    "# '토의결론.*' # 맨 끝 제거\n",
    "# '관련부서는 ((?!보고하였음).)* 보고하였음\\.'\n",
    "# '일부 위원은'\n",
    "# se2.replace('  ', '')        \n",
    "\n",
    "# bok_datas"
   ]
  },
  {
   "cell_type": "code",
   "execution_count": 49,
   "metadata": {},
   "outputs": [],
   "source": [
    "# Section 3\n",
    "\n",
    "for se3 in bok_datas.iloc:\n",
    "    if type(se3['section3']) != type(np.nan):\n",
    "        se3.section3 = se3.section3.strip()\n",
    "        se3.section3 = re.sub('\\(생략\\)', '', se3.section3) # 생략기호 삭제\n",
    "        se3.section3 = re.sub('\\<붙임\\>', '', se3.section3) # 붙임기호 삭제\n",
    "        se3.section3 = re.sub('개정\\(안\\)', '', se3.section3) # 무의미 단어 삭제\n",
    "        se3.section3 = re.sub('원안대로 가결', '', se3.section3) # 무의미 단어 삭제\n",
    "        se3.section3 = re.sub('의결문 작성.가결', '', se3.section3) # 무의미 단어 삭제\n",
    "        se3.section3 = re.sub('의결사항', '', se3.section3) # 무의미 단어 삭제\n",
    "        se3.section3 = re.sub('- [0-9]{1,2} -', '', se3.section3) # 페이지번호 삭제\n",
    "        \n",
    "# '앞서의 .* 였음.'\n",
    "\n",
    "# bok_datas"
   ]
  },
  {
   "cell_type": "code",
   "execution_count": 52,
   "metadata": {
    "scrolled": true
   },
   "outputs": [
    {
     "data": {
      "text/html": [
       "<div>\n",
       "<style scoped>\n",
       "    .dataframe tbody tr th:only-of-type {\n",
       "        vertical-align: middle;\n",
       "    }\n",
       "\n",
       "    .dataframe tbody tr th {\n",
       "        vertical-align: top;\n",
       "    }\n",
       "\n",
       "    .dataframe thead th {\n",
       "        text-align: right;\n",
       "    }\n",
       "</style>\n",
       "<table border=\"1\" class=\"dataframe\">\n",
       "  <thead>\n",
       "    <tr style=\"text-align: right;\">\n",
       "      <th></th>\n",
       "      <th>date</th>\n",
       "      <th>section2</th>\n",
       "      <th>section3</th>\n",
       "      <th>doc</th>\n",
       "    </tr>\n",
       "  </thead>\n",
       "  <tbody>\n",
       "    <tr>\n",
       "      <th>0</th>\n",
       "      <td>2020.6.24</td>\n",
       "      <td>관련부서는 금번 보고서 작성의 기본방향과 위원협의회에서 논의된 주요 내용      ...</td>\n",
       "      <td>한국은행법 제96조 제1항에 의거 거시 금융안정상황에 대한 평가보고서를  붙...</td>\n",
       "      <td>관련부서는 금번 보고서 작성의 기본방향과 위원협의회에서 논의된 주요 내용      ...</td>\n",
       "    </tr>\n",
       "    <tr>\n",
       "      <th>0</th>\n",
       "      <td>2020.6.11</td>\n",
       "      <td>관련부서는 본 안건과 관련하여 위원협의회 등에서 논의된 내용을 다음과 같      ...</td>\n",
       "      <td>한국은행법 제96조 제1항에 의거 통화신용정책 수행상황에 대한 보고서를  붙...</td>\n",
       "      <td>관련부서는 본 안건과 관련하여 위원협의회 등에서 논의된 내용을 다음과 같      ...</td>\n",
       "    </tr>\n",
       "    <tr>\n",
       "      <th>0</th>\n",
       "      <td>2020.5.28</td>\n",
       "      <td>전일 개최된 동향보고회의에서는 다음과 같은 토의가 있었음.   경제전망(2020.5...</td>\n",
       "      <td>앞서의 토의결과를 반영하여 다음과 같이 통화정책방향에 대한 의결문을 작  성, 가결...</td>\n",
       "      <td>전일 개최된 동향보고회의에서는 다음과 같은 토의가 있었음.   경제전망(2020.5...</td>\n",
       "    </tr>\n",
       "    <tr>\n",
       "      <th>0</th>\n",
       "      <td>2020.5.14</td>\n",
       "      <td>관련부서는 본 안건과 관련하여 5월 11일 위원협의회에서 논의된 내용을 다  음과 ...</td>\n",
       "      <td>2020년 5월 18일부터 적용할 한국은행의 금융기관에 대한 금융중개지원대출...</td>\n",
       "      <td>관련부서는 본 안건과 관련하여 5월 11일 위원협의회에서 논의된 내용을 다  음과 ...</td>\n",
       "    </tr>\n",
       "    <tr>\n",
       "      <th>0</th>\n",
       "      <td>2020.4.16</td>\n",
       "      <td>제안설명에 이어 관련부서에서는 본 안건에 대해 세 차례(4월 7일, 4월 9일,...</td>\n",
       "      <td>｢금융안정특별대출제도 신설 및 운용방안｣을 붙임과 같이 의결한다.   ｢금융...</td>\n",
       "      <td>제안설명에 이어 관련부서에서는 본 안건에 대해 세 차례(4월 7일, 4월 9일,...</td>\n",
       "    </tr>\n",
       "    <tr>\n",
       "      <th>...</th>\n",
       "      <td>...</td>\n",
       "      <td>...</td>\n",
       "      <td>...</td>\n",
       "      <td>...</td>\n",
       "    </tr>\n",
       "    <tr>\n",
       "      <th>0</th>\n",
       "      <td>2005.8.11</td>\n",
       "      <td>｢국내외 경제동향｣과 관련하여, 일부 위원은 소비, 수출, 건설투자가 견조한   증...</td>\n",
       "      <td>(다만, 김태동 위원은 이에 대해 명백히 반대의사를 표시하고 콜금리 목 ...</td>\n",
       "      <td>｢국내외 경제동향｣과 관련하여, 일부 위원은 소비, 수출, 건설투자가 견조한   증...</td>\n",
       "    </tr>\n",
       "    <tr>\n",
       "      <th>0</th>\n",
       "      <td>2005.7.7</td>\n",
       "      <td>｢국내외 경제동향｣과 관련하여, 일부 위원은 최근 이란의 새 대통령 취임   이후 ...</td>\n",
       "      <td>(다만, 김태동 위원은 이에 대해 명백히 반대의사를 표시하고 ...</td>\n",
       "      <td>｢국내외 경제동향｣과 관련하여, 일부 위원은 최근 이란의 새 대통령 취임   이후 ...</td>\n",
       "    </tr>\n",
       "    <tr>\n",
       "      <th>0</th>\n",
       "      <td>2005.6.23</td>\n",
       "      <td>일부 위원은 3월말 8.3조원이었던 총액한도대출 잔액이 4∼5월중 다소 늘  어 5...</td>\n",
       "      <td>2005년 3/4분기 한국은행의 금융기관에 대한 총액한도...</td>\n",
       "      <td>일부 위원은 3월말 8.3조원이었던 총액한도대출 잔액이 4∼5월중 다소 늘  어 5...</td>\n",
       "    </tr>\n",
       "    <tr>\n",
       "      <th>0</th>\n",
       "      <td>2005.6.9</td>\n",
       "      <td>｢국내외 경제동향｣과 관련하여, 일부 위원은 최근 소비재판매액 증가세가   다소 둔...</td>\n",
       "      <td>｢통화정책방향｣을 다음과 같이 결정한다.  □ 실물경제는 수출...</td>\n",
       "      <td>｢국내외 경제동향｣과 관련하여, 일부 위원은 최근 소비재판매액 증가세가   다소 둔...</td>\n",
       "    </tr>\n",
       "    <tr>\n",
       "      <th>0</th>\n",
       "      <td>2005.5.12</td>\n",
       "      <td>｢국내외 경제동향｣과 관련하여, 일부 위원은 지난해 풍작에 따른 효과와 금년초 담배...</td>\n",
       "      <td>｢통화정책방향｣을 다음과 같이 결정한다.   □ 실물경...</td>\n",
       "      <td>｢국내외 경제동향｣과 관련하여, 일부 위원은 지난해 풍작에 따른 효과와 금년초 담배...</td>\n",
       "    </tr>\n",
       "  </tbody>\n",
       "</table>\n",
       "<p>312 rows × 4 columns</p>\n",
       "</div>"
      ],
      "text/plain": [
       "         date                                           section2  \\\n",
       "0   2020.6.24  관련부서는 금번 보고서 작성의 기본방향과 위원협의회에서 논의된 주요 내용      ...   \n",
       "0   2020.6.11  관련부서는 본 안건과 관련하여 위원협의회 등에서 논의된 내용을 다음과 같      ...   \n",
       "0   2020.5.28  전일 개최된 동향보고회의에서는 다음과 같은 토의가 있었음.   경제전망(2020.5...   \n",
       "0   2020.5.14  관련부서는 본 안건과 관련하여 5월 11일 위원협의회에서 논의된 내용을 다  음과 ...   \n",
       "0   2020.4.16    제안설명에 이어 관련부서에서는 본 안건에 대해 세 차례(4월 7일, 4월 9일,...   \n",
       "..        ...                                                ...   \n",
       "0   2005.8.11  ｢국내외 경제동향｣과 관련하여, 일부 위원은 소비, 수출, 건설투자가 견조한   증...   \n",
       "0    2005.7.7  ｢국내외 경제동향｣과 관련하여, 일부 위원은 최근 이란의 새 대통령 취임   이후 ...   \n",
       "0   2005.6.23  일부 위원은 3월말 8.3조원이었던 총액한도대출 잔액이 4∼5월중 다소 늘  어 5...   \n",
       "0    2005.6.9  ｢국내외 경제동향｣과 관련하여, 일부 위원은 최근 소비재판매액 증가세가   다소 둔...   \n",
       "0   2005.5.12  ｢국내외 경제동향｣과 관련하여, 일부 위원은 지난해 풍작에 따른 효과와 금년초 담배...   \n",
       "\n",
       "                                             section3  \\\n",
       "0       한국은행법 제96조 제1항에 의거 거시 금융안정상황에 대한 평가보고서를  붙...   \n",
       "0       한국은행법 제96조 제1항에 의거 통화신용정책 수행상황에 대한 보고서를  붙...   \n",
       "0   앞서의 토의결과를 반영하여 다음과 같이 통화정책방향에 대한 의결문을 작  성, 가결...   \n",
       "0       2020년 5월 18일부터 적용할 한국은행의 금융기관에 대한 금융중개지원대출...   \n",
       "0       ｢금융안정특별대출제도 신설 및 운용방안｣을 붙임과 같이 의결한다.   ｢금융...   \n",
       "..                                                ...   \n",
       "0         (다만, 김태동 위원은 이에 대해 명백히 반대의사를 표시하고 콜금리 목 ...   \n",
       "0               (다만, 김태동 위원은 이에 대해 명백히 반대의사를 표시하고 ...   \n",
       "0                  2005년 3/4분기 한국은행의 금융기관에 대한 총액한도...   \n",
       "0               ｢통화정책방향｣을 다음과 같이 결정한다.  □ 실물경제는 수출...   \n",
       "0                   ｢통화정책방향｣을 다음과 같이 결정한다.   □ 실물경...   \n",
       "\n",
       "                                                  doc  \n",
       "0   관련부서는 금번 보고서 작성의 기본방향과 위원협의회에서 논의된 주요 내용      ...  \n",
       "0   관련부서는 본 안건과 관련하여 위원협의회 등에서 논의된 내용을 다음과 같      ...  \n",
       "0   전일 개최된 동향보고회의에서는 다음과 같은 토의가 있었음.   경제전망(2020.5...  \n",
       "0   관련부서는 본 안건과 관련하여 5월 11일 위원협의회에서 논의된 내용을 다  음과 ...  \n",
       "0     제안설명에 이어 관련부서에서는 본 안건에 대해 세 차례(4월 7일, 4월 9일,...  \n",
       "..                                                ...  \n",
       "0   ｢국내외 경제동향｣과 관련하여, 일부 위원은 소비, 수출, 건설투자가 견조한   증...  \n",
       "0   ｢국내외 경제동향｣과 관련하여, 일부 위원은 최근 이란의 새 대통령 취임   이후 ...  \n",
       "0   일부 위원은 3월말 8.3조원이었던 총액한도대출 잔액이 4∼5월중 다소 늘  어 5...  \n",
       "0   ｢국내외 경제동향｣과 관련하여, 일부 위원은 최근 소비재판매액 증가세가   다소 둔...  \n",
       "0   ｢국내외 경제동향｣과 관련하여, 일부 위원은 지난해 풍작에 따른 효과와 금년초 담배...  \n",
       "\n",
       "[312 rows x 4 columns]"
      ]
     },
     "execution_count": 52,
     "metadata": {},
     "output_type": "execute_result"
    }
   ],
   "source": [
    "bok_datas"
   ]
  },
  {
   "cell_type": "code",
   "execution_count": 50,
   "metadata": {},
   "outputs": [],
   "source": [
    "# 합치기\n",
    "\n",
    "temp = []\n",
    "\n",
    "for se in bok_datas.iloc:\n",
    "    \n",
    "    if type(se.section2) == type(np.nan):\n",
    "        se.section2 = ''\n",
    "    if type(se.section3) == type(np.nan):\n",
    "        se.section3 = ''\n",
    "        \n",
    "    temp.append(se['section2'] + se['section3'])\n",
    "    \n",
    "bok_datas['doc'] = temp"
   ]
  },
  {
   "cell_type": "code",
   "execution_count": null,
   "metadata": {},
   "outputs": [],
   "source": []
  },
  {
   "cell_type": "code",
   "execution_count": 53,
   "metadata": {},
   "outputs": [],
   "source": [
    "bok_datas[['date', 'doc']].set_index('date').to_csv('bok_final.csv') # 13117 kb\n",
    "bok_datas[['date', 'doc']].set_index('date').to_json('bok_final.json') # 24516 kb"
   ]
  },
  {
   "cell_type": "code",
   "execution_count": 2,
   "metadata": {
    "scrolled": false
   },
   "outputs": [],
   "source": [
    "import pandas as pd\n",
    "datas = pd.read_json('bok_final.json')"
   ]
  },
  {
   "cell_type": "markdown",
   "metadata": {},
   "source": [
    "# 의사록 문장분류"
   ]
  },
  {
   "cell_type": "code",
   "execution_count": 14,
   "metadata": {},
   "outputs": [
    {
     "output_type": "execute_result",
     "data": {
      "text/plain": "312"
     },
     "metadata": {},
     "execution_count": 14
    }
   ],
   "source": [
    "import pandas as pd\n",
    "datas = pd.read_csv('bok_final.csv')\n",
    "len(datas)"
   ]
  },
  {
   "cell_type": "code",
   "execution_count": 15,
   "metadata": {},
   "outputs": [],
   "source": [
    "# datas.iloc[15]['doc']"
   ]
  },
  {
   "cell_type": "code",
   "execution_count": 16,
   "metadata": {},
   "outputs": [],
   "source": [
    "import numpy as np\n",
    "import re\n",
    "for doc in datas.iloc:\n",
    "    if type(doc['doc']) != type(np.nan):\n",
    "        doc['doc'] = re.sub('([0-9a-zA-Z]{1,100}\\.[0-9a-zA-Z]{0,100}%?)', '', doc['doc']) # 소수점 전처리\n",
    "        doc['doc'] = re.sub(' [가-힣]{1}\\.', '', doc['doc']) # 가, 나, 다 기호 전처리"
   ]
  },
  {
   "cell_type": "code",
   "execution_count": 17,
   "metadata": {},
   "outputs": [],
   "source": [
    "sents = []\n",
    "for data in datas.iloc:\n",
    "    temp = data['doc'].split('.')\n",
    "    for s in temp:\n",
    "        s = s.strip()\n",
    "        for i in range(3):\n",
    "            s = s.replace('  ', ' ')\n",
    "        if len(s) < 2:\n",
    "            continue\n",
    "        \n",
    "        sents.append(s)"
   ]
  },
  {
   "cell_type": "code",
   "execution_count": 18,
   "metadata": {},
   "outputs": [
    {
     "output_type": "execute_result",
     "data": {
      "text/plain": "38109"
     },
     "metadata": {},
     "execution_count": 18
    }
   ],
   "source": [
    "len(sents)"
   ]
  },
  {
   "cell_type": "code",
   "execution_count": 20,
   "metadata": {},
   "outputs": [],
   "source": [
    "# sents"
   ]
  },
  {
   "cell_type": "code",
   "execution_count": null,
   "metadata": {},
   "outputs": [],
   "source": []
  }
 ],
 "metadata": {
  "kernelspec": {
   "display_name": "Python 3",
   "language": "python",
   "name": "python3"
  },
  "language_info": {
   "codemirror_mode": {
    "name": "ipython",
    "version": 3
   },
   "file_extension": ".py",
   "mimetype": "text/x-python",
   "name": "python",
   "nbconvert_exporter": "python",
   "pygments_lexer": "ipython3",
   "version": "3.7.6"
  }
 },
 "nbformat": 4,
 "nbformat_minor": 4
}