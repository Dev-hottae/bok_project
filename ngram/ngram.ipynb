{
 "cells": [
  {
   "cell_type": "code",
   "execution_count": 2,
   "metadata": {},
   "outputs": [],
   "source": [
    "import os\n",
    "import pandas as pd\n",
    "from ekonlpy.sentiment import MPCK\n",
    "\n",
    "class ngram():\n",
    "    \n",
    "    file_list = []\n",
    "\n",
    "    # 파일 검색 (폴더명 혹은 전체탐색 시 .)\n",
    "    def search(self, dirname):\n",
    "        filenames = os.listdir(dirname)\n",
    "        file_list = []\n",
    "        for filename in filenames:\n",
    "            if '.json' in filename:\n",
    "                file_list.append(os.path.join(dirname, filename))\n",
    "        \n",
    "        self.file_list = file_list\n",
    "        return file_list\n",
    "\n",
    "    # pandas DataFrame으로 반환\n",
    "    def select_file(self, number)\n",
    "        return pd.read_json(self.file_list[i])\n",
    "    \n",
    "    def make_ngram(self, text):\n",
    "        mpck = MPCK()\n",
    "        ## UTF-8 Encoding 오류 -> 해당 파일로 들어가서 encoding='utf-8' 추가해줄 것\n",
    "        tokens = mpck.tokenize(text) # text 들어갈 곳\n",
    "        ngrams = mpck.ngramize(tokens)\n",
    "        \n",
    "        return ngrams"
   ]
  },
  {
   "cell_type": "code",
   "execution_count": 3,
   "metadata": {},
   "outputs": [
    {
     "data": {
      "text/plain": [
       "['doc\\\\bok_final.json',\n",
       " 'doc\\\\bond_final.json',\n",
       " 'doc\\\\edaily_2005_2017_pp.json',\n",
       " 'doc\\\\edaily_2018_2020_pp.json',\n",
       " 'doc\\\\final_news_infomax_2005_2017.json',\n",
       " 'doc\\\\final_news_infomax_2018_2020.json']"
      ]
     },
     "execution_count": 3,
     "metadata": {},
     "output_type": "execute_result"
    }
   ],
   "source": [
    "# 사용법\n",
    "search(\"doc\") #doc폴더 안의 json 파일 검색\n",
    "search('.') #현재 폴더의 모든 json 파일 검색"
   ]
  },
  {
   "cell_type": "code",
   "execution_count": 5,
   "metadata": {},
   "outputs": [],
   "source": []
  },
  {
   "cell_type": "code",
   "execution_count": 19,
   "metadata": {},
   "outputs": [
    {
     "name": "stdout",
     "output_type": "stream",
     "text": [
      " 재테크 전문가들이 새해 투자 전략 시 고려해야 할 3대 변수로 ‘금리·환율·주가’를 꼽았다. 미국 및 국내 금리 인상에 따른 글로벌 자금과 부동산 시장의 변동에 주목하고 달러당 원화 환율의 움직임에 따른 기업수출, 개인 소비 변화 여부를 살펴봐야 한다는 조언이다. 또 기업이익에 따른 주가 추이도 점검해야 한다고 충고했다. 31일 이데일리가 KB국민·신한·KEB하나·우리은행 등 4대 은행의 대표 PB(프라이빗뱅커) 4명에게 ‘2018년 재테크 전략’에 대해 설문조사한 결과, 민간소비 개선과 정부의 소득증대정책에 힘입어 국내총생산(GDP) 성장률 3% 수준의 성장이 가능할 것으로 전망했다. 다만 한국과 미국의 기준금리 인상 시기와 폭이 변수가 될 것으로 예견했다. 여기에 예루살렘과 중동발(發) 테러, 북한 리스크 등 단기적 금융충격이 예측되므로 이에 대한 대비가 필요하다고 입을 모았다. 중국의 경제정책도 관건인데 중국 국영회사의 연착륙이 중요하다. 박승안 우리은행 투체어스 강남센터장은 금리 인상 시기와 폭을 눈여겨봐야 한다고 조언했다. 박 센터장은 “기업의 탄탄한 실적을 바탕으로 지속적인 성장을 기대할 수 있지만 내수경기의 부진으로 2017년과 같이 그 상승 폭은 제한될 것”이라며 “2018년에는 정부주도의 민간소비 개선을 위한 대대적인 정책적 부양이 예상돼 금리는 제한적으로 상승할 것”이라고 전망했다. 박진석 KEB하나은행 올림픽선수촌 PB센터 팀장도 “미국의 금리 인상은 가장 큰 경제권역의 투자 선호도에 영향을 미친다”며 “한국의 가계부채 문제도 눈여겨볼 경제요인으로 금리 인상에 따른 가계의 대출이자 지급능력 한계와 부동산 시장에 미치는 영향을 주시해야 한다”고 진단했다. 전문가들은 주식과 채권, 부동산 등 투자자산 가운데 신년 유망 자산으로 해외주식 직접투자, 해외펀드 등을 대체로 권유했다. 특히 기업 간 공정거래 감시, 연기금 투자 등 중·소형주(株) 강세를 전망했다. 중소벤처기업부 신설 등 정부의 중소기업 지원 강화 정책에 맞춰 코스닥 시장에서 선별적인 기업에 투자하거나 코스닥 150 ETF(상장지수펀드), 중·소형주 펀드 등으로 투자할 것을 추천했다. 신동일 KB국민은행 도곡스타PB센터 부센터장은 “중·소형주→성장주→가치주→대형주→테마주 순으로 주목해야 한다”며 “올 한해 삼성전자 등 대형주보다 상대적으로 저평가된 중·소형 가치주에 관심을 둬야 한다”고 강조했다. 박승안 센터장은 정기예금 대비 고금리 수취가 가능한 ELS(주가연계증권), ELT(주가연계신탁)를 꼽았다. 박진석 팀장은 ETN(양매도)의 경우 풋·콜 옵션매도를 통한 안정적 수익과 시장의 흔들림에도 장기 성과가 양호한 점을 장점으로 들었다. 박승안 센터장은 “환율하락 시마다 적정부분 분산 매입으로 자산의 10~20% 수준에서 투자할 것”을 추천했다. 신동일 부센터장은 “미(美) 금리 인상과 정부 정책으로 미국 시장에 자금이 유입되면 달러 강세 가능성이 있다”며 “현재는 평균대비 환율이 달러 약세로 자산의 20% 내외에서 외화 자산을 보유할 필요성이 있다”고 설명했다. 이에 따라 달러ELS, 달러자산 해외펀드 투자 등을 추천했다. 신 부센터장은 또 “국내 주식시장이 조정을 받을 때는 상대적으로 해외주가지수를 기초자산으로 한 ELS 상품이 리스크를 낮추면서 5%대 투자수익을 올릴 수 있다”며 “베트남, 인도 등 신흥 유망국가는 투자 매력이 있다고 본다”고 평가했다. 박진석 팀장도 중산층의 인구 비율 늘어나는 국가의 특징에 주목해야 한다는 의견이다. 박 팀장은 KTB중국1등주를 지목했는데 중국 소비주 중 IT에 주목해 높은 성과를 나타내고 있다고 설명했다. 새해에도 시장을 선점한 IT주(텐센트, 알리바바, 바이두 등)의 상승이 기대된다는 것이다. 연 부지점장은 선진국 펀드를 추천했다. 연 부지점장은 피델리티글로벌테크놀로지펀드(선진국 4차 산업혁명 관련 기술주 중심 투자 펀드), 에셋플러스글로벌리치펀드(선진국 고부가가치 산업에 투자하는 펀드), 삼성아세안펀드(점진적 금리 인상 시 성장률 및 기업실적이 증가하는 신흥 아시아국가에 투자) 등을 제시했다. 한편, 부동산 시장에 대해 전문가들은 강남3구와 중·소형 수익형 부동산에 대한 관심을 둘 만하다고 조언했다. 연광희 신한은행 신한PWM잠실센터 부지점장은 “시세 30억~50억원 수준의 상가는 수요가 공급을 초과한다”며 “앞으로 지속적인 가격 상승이 가능한 꼬마상가 빌딩 등에 대한 투자를 권한다”고 말했다. 연 부지점장은 다만 강남3구 중심의 투자 의견은 유효하다고 덧붙였다.\n"
     ]
    },
    {
     "data": {
      "text/plain": [
       "[['금리/NNG;인상/NNG',\n",
       "  '민간/NNG;소비/NNG;개선/NNG',\n",
       "  '소비/NNG;개선/NNG',\n",
       "  '소득/NNG;증대/NNG',\n",
       "  '금리/NNG;인상/NNG',\n",
       "  '금리/NNG;인상/NNG',\n",
       "  '내수/NNG;경기/NNG;부진/NNG',\n",
       "  '경기/NNG;부진/NNG',\n",
       "  '민간/NNG;소비/NNG;개선/NNG',\n",
       "  '소비/NNG;개선/NNG',\n",
       "  '정책/NNG;부양/NNG',\n",
       "  '금리/NNG;제한적/VAX',\n",
       "  '금리/NNG;제한적/VAX;상승/NNG',\n",
       "  '제한적/VAX;상승/NNG',\n",
       "  '금리/NNG;인상/NNG',\n",
       "  '금리/NNG;인상/NNG',\n",
       "  '미/NNG;금리/NNG;인상/NNG',\n",
       "  '미/NNG;금리/NNG;인상/NNG',\n",
       "  '금리/NNG;인상/NNG',\n",
       "  '위험/NNG;낮/VV',\n",
       "  '수익/NNG;오르/VV',\n",
       "  '금리/NNG;인상/NNG',\n",
       "  '기업/NNG;실적/NNG;증가/NNG',\n",
       "  '실적/NNG;증가/NNG',\n",
       "  '가격/NNG;상승/NNG']]"
      ]
     },
     "execution_count": 19,
     "metadata": {},
     "output_type": "execute_result"
    }
   ],
   "source": []
  },
  {
   "cell_type": "code",
   "execution_count": 11,
   "metadata": {},
   "outputs": [],
   "source": []
  },
  {
   "cell_type": "code",
   "execution_count": 12,
   "metadata": {},
   "outputs": [],
   "source": []
  },
  {
   "cell_type": "code",
   "execution_count": null,
   "metadata": {},
   "outputs": [],
   "source": [
    "\n",
    "\n",
    "temp = []\n",
    "for doc in result[3].iloc:\n",
    "    tokens = mpck.tokenize(doc['doc'])\n",
    "    ngrams = mpck.ngramize(tokens, 1)\n",
    "    print(doc[2])\n",
    "    temp.append(ngrams)\n",
    "    \n",
    "    break\n",
    "#     score = mpck.classify(tokens + ngrams, intensity_cutoff=1.5)\n",
    "\n",
    "temp"
   ]
  },
  {
   "cell_type": "code",
   "execution_count": null,
   "metadata": {},
   "outputs": [],
   "source": []
  }
 ],
 "metadata": {
  "kernelspec": {
   "display_name": "Python 3",
   "language": "python",
   "name": "python3"
  },
  "language_info": {
   "codemirror_mode": {
    "name": "ipython",
    "version": 3
   },
   "file_extension": ".py",
   "mimetype": "text/x-python",
   "name": "python",
   "nbconvert_exporter": "python",
   "pygments_lexer": "ipython3",
   "version": "3.7.6"
  }
 },
 "nbformat": 4,
 "nbformat_minor": 4
}
